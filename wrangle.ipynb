{
 "cells": [
  {
   "cell_type": "code",
   "execution_count": 2,
   "metadata": {},
   "outputs": [],
   "source": [
    "from requests import get\n",
    "from bs4 import BeautifulSoup\n",
    "import pandas as pd\n",
    "import re\n",
    "import os\n",
    "import json\n",
    "from typing import Dict, List, Optional, Union, cast\n",
    "import requests\n",
    "\n",
    "from nltk.tokenize.toktok import ToktokTokenizer\n",
    "from nltk import PorterStemmer\n",
    "from nltk import WordNetLemmatizer\n",
    "from nltk.corpus import stopwords\n",
    "import unicodedata\n",
    "import scraper"
   ]
  },
  {
   "cell_type": "code",
   "execution_count": null,
   "metadata": {},
   "outputs": [],
   "source": [
    "scraper.grab_vidz()"
   ]
  },
  {
   "cell_type": "code",
   "execution_count": null,
   "metadata": {},
   "outputs": [],
   "source": [
    "#import individual dataframes\n",
    "ca = pd.read_csv('22.31.10_CA_videos.csv')\n",
    "de = pd.read_csv('22.31.10_DE_videos.csv')\n",
    "fr = pd.read_csv('22.31.10_FR_videos.csv')\n",
    "gb = pd.read_csv('22.31.10_GB_videos.csv')\n",
    "ind = pd.read_csv('22.31.10_IN_videos.csv')\n",
    "jp = pd.read_csv('22.31.10_JP_videos.csv')\n",
    "kr = pd.read_csv('22.31.10_KR_videos.csv')\n",
    "mx = pd.read_csv('22.31.10_MX_videos.csv')\n",
    "ru = pd.read_csv('22.31.10_RU_videos.csv')\n",
    "us = pd.read_csv('youtube_us.csv')\n",
    "\n",
    "df = pd.concat([ca, de, fr, gb, ind, jp, kr, mx, ru, us])\n"
   ]
  },
  {
   "cell_type": "code",
   "execution_count": null,
   "metadata": {},
   "outputs": [],
   "source": [
    "df['rank'] = df.index + 1"
   ]
  }
 ],
 "metadata": {
  "kernelspec": {
   "display_name": "Python 3.9.12 ('base')",
   "language": "python",
   "name": "python3"
  },
  "language_info": {
   "codemirror_mode": {
    "name": "ipython",
    "version": 3
   },
   "file_extension": ".py",
   "mimetype": "text/x-python",
   "name": "python",
   "nbconvert_exporter": "python",
   "pygments_lexer": "ipython3",
   "version": "3.9.12"
  },
  "orig_nbformat": 4,
  "vscode": {
   "interpreter": {
    "hash": "38cca0c38332a56087b24af0bc80247f4fced29cb4f7f437d91dc159adec9c4e"
   }
  }
 },
 "nbformat": 4,
 "nbformat_minor": 2
}
