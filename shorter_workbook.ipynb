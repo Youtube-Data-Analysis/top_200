{
 "cells": [
  {
   "cell_type": "code",
   "execution_count": 74,
   "metadata": {},
   "outputs": [],
   "source": [
    "import pandas as pd\n",
    "import numpy as np\n",
    "import time"
   ]
  },
  {
   "cell_type": "code",
   "execution_count": 75,
   "metadata": {},
   "outputs": [],
   "source": [
    "#read in the list of videos contained in the csv\n",
    "df = pd.read_csv('vidz.csv')"
   ]
  },
  {
   "cell_type": "code",
   "execution_count": 76,
   "metadata": {},
   "outputs": [],
   "source": [
    "#drop columns with redundant information\n",
    "df = df.drop(columns=['comments_disabled', 'ratings_disabled' ,'thumbnail_link'])"
   ]
  },
  {
   "cell_type": "code",
   "execution_count": 78,
   "metadata": {},
   "outputs": [
    {
     "name": "stdout",
     "output_type": "stream",
     "text": [
      "<class 'pandas.core.frame.DataFrame'>\n",
      "RangeIndex: 200 entries, 0 to 199\n",
      "Data columns (total 12 columns):\n",
      " #   Column         Non-Null Count  Dtype  \n",
      "---  ------         --------------  -----  \n",
      " 0   video_id       200 non-null    object \n",
      " 1   title          200 non-null    object \n",
      " 2   publishedAt    200 non-null    object \n",
      " 3   channelTitle   200 non-null    object \n",
      " 4   categoryId     200 non-null    int64  \n",
      " 5   trending_date  200 non-null    object \n",
      " 6   tags           200 non-null    object \n",
      " 7   view_count     200 non-null    int64  \n",
      " 8   likes          200 non-null    int64  \n",
      " 9   comment_count  199 non-null    float64\n",
      " 10  description    200 non-null    object \n",
      " 11  duration       200 non-null    object \n",
      "dtypes: float64(1), int64(3), object(8)\n",
      "memory usage: 18.9+ KB\n"
     ]
    }
   ],
   "source": [
    "df.info()"
   ]
  },
  {
   "cell_type": "markdown",
   "metadata": {},
   "source": [
    "## Convert to datetime --> ppublised at, trending date, duration (timedelta)"
   ]
  },
  {
   "cell_type": "code",
   "execution_count": 79,
   "metadata": {},
   "outputs": [
    {
     "data": {
      "text/plain": [
       "Timestamp('2022-10-26 15:58:27+0000', tz='UTC')"
      ]
     },
     "execution_count": 79,
     "metadata": {},
     "output_type": "execute_result"
    }
   ],
   "source": [
    "#convert publishedAT to datetime column\n",
    "df.publishedAt = pd.to_datetime(df.publishedAt)\n",
    "df.loc[1,'publishedAt']"
   ]
  },
  {
   "cell_type": "code",
   "execution_count": 80,
   "metadata": {},
   "outputs": [
    {
     "data": {
      "text/plain": [
       "0     2022-10-27\n",
       "1     2022-10-27\n",
       "2     2022-10-27\n",
       "3     2022-10-27\n",
       "4     2022-10-27\n",
       "         ...    \n",
       "195   2022-10-27\n",
       "196   2022-10-27\n",
       "197   2022-10-27\n",
       "198   2022-10-27\n",
       "199   2022-10-27\n",
       "Name: trending_date, Length: 200, dtype: datetime64[ns]"
      ]
     },
     "execution_count": 80,
     "metadata": {},
     "output_type": "execute_result"
    }
   ],
   "source": [
    "#convert trending to datetime column\n",
    "df.trending_date = pd.to_datetime(df.trending_date, format='%y.%d.%m')\n",
    "df.trending_date"
   ]
  },
  {
   "cell_type": "code",
   "execution_count": 81,
   "metadata": {},
   "outputs": [
    {
     "data": {
      "text/plain": [
       "Timestamp('2022-10-26 15:58:27')"
      ]
     },
     "execution_count": 81,
     "metadata": {},
     "output_type": "execute_result"
    }
   ],
   "source": [
    "#import tzinfo inorder to strip time zone information from published at. \n",
    "#this makes it a \"naive\" datetime object. may want to change this approach\n",
    "from datetime import tzinfo\n",
    "\n",
    "df.loc[1,'publishedAt'].replace(tzinfo=None)"
   ]
  },
  {
   "cell_type": "code",
   "execution_count": 82,
   "metadata": {},
   "outputs": [],
   "source": [
    "#strips the timezone from each row\n",
    "for n in range(0,200):\n",
    "    df.loc[n,'publishedAt']= df.loc[n,'publishedAt'].replace(tzinfo=None)"
   ]
  },
  {
   "cell_type": "code",
   "execution_count": 83,
   "metadata": {},
   "outputs": [
    {
     "data": {
      "text/plain": [
       "publishedAt    2022-10-27 04:04:06\n",
       "Name: 10, dtype: object"
      ]
     },
     "execution_count": 83,
     "metadata": {},
     "output_type": "execute_result"
    }
   ],
   "source": [
    "df.loc[10, ['publishedAt']]"
   ]
  },
  {
   "cell_type": "code",
   "execution_count": 105,
   "metadata": {},
   "outputs": [
    {
     "name": "stderr",
     "output_type": "stream",
     "text": [
      "/opt/homebrew/anaconda3/lib/python3.9/site-packages/pandas/core/arrays/datetimelike.py:1189: PerformanceWarning: Adding/subtracting object-dtype array to DatetimeArray not vectorized.\n",
      "  warnings.warn(\n"
     ]
    }
   ],
   "source": [
    "#create age column. may want to give timezone info to trending date instead of removing it from pblishedAt\n",
    "df['age']=(df.trending_date - df.publishedAt)"
   ]
  },
  {
   "cell_type": "markdown",
   "metadata": {},
   "source": [
    "# View:Like ratio that can score the video | view:comment ratio\n",
    "\n",
    "Have them all as a weighted ratio\n",
    "\n",
    "views = views - likes - comments\n",
    "\n",
    "engagement = views + (likes * 2) + (comments * 4) --> n==measure of effort. view and click = like ... view, click, type, submit = comment\n"
   ]
  },
  {
   "cell_type": "code",
   "execution_count": 85,
   "metadata": {},
   "outputs": [],
   "source": [
    "#creates engagement metric. not sure how to do weightd columns really\n",
    "df['engagement'] = (df.view_count - df.likes) + (df.likes * 2) + (df.comment_count * 4) "
   ]
  },
  {
   "cell_type": "code",
   "execution_count": 86,
   "metadata": {},
   "outputs": [
    {
     "data": {
      "text/plain": [
       "0        851453.0\n",
       "1       1812843.0\n",
       "2       1057839.0\n",
       "3        514531.0\n",
       "4       1624979.0\n",
       "          ...    \n",
       "195      909446.0\n",
       "196     6407837.0\n",
       "197    13915892.0\n",
       "198     1064503.0\n",
       "199     1990537.0\n",
       "Name: engagement, Length: 200, dtype: float64"
      ]
     },
     "execution_count": 86,
     "metadata": {},
     "output_type": "execute_result"
    }
   ],
   "source": [
    "df.engagement"
   ]
  },
  {
   "cell_type": "markdown",
   "metadata": {},
   "source": [
    "## Is the video sponsored?\n"
   ]
  },
  {
   "cell_type": "code",
   "execution_count": 87,
   "metadata": {},
   "outputs": [],
   "source": [
    "#adds sponsored column based on appearance of word sponsored in the description\n",
    "df['sponsored'] = np.where(df.description.str.contains('sponsor'), 'yes', 'no')\n",
    "df[df.description.str.contains('sponsored')].shape"
   ]
  },
  {
   "cell_type": "markdown",
   "metadata": {},
   "source": [
    "## Video language\n"
   ]
  },
  {
   "cell_type": "markdown",
   "metadata": {},
   "source": [
    "Percent of capital letters in title \n"
   ]
  },
  {
   "cell_type": "markdown",
   "metadata": {},
   "source": [
    "Age restricted\n"
   ]
  },
  {
   "cell_type": "markdown",
   "metadata": {},
   "source": [
    "When we talk about subscribers we can take a look at age of channel\n"
   ]
  },
  {
   "cell_type": "markdown",
   "metadata": {},
   "source": [
    "How to drive up subscribers is a slightly separate question but we can ask it\n"
   ]
  },
  {
   "cell_type": "markdown",
   "metadata": {},
   "source": [
    "At what point does the video view count pass the subscriber view count\n"
   ]
  },
  {
   "cell_type": "markdown",
   "metadata": {},
   "source": [
    "We can target placing videos in/out of the top 25 \n"
   ]
  },
  {
   "cell_type": "markdown",
   "metadata": {},
   "source": [
    "## Let’s think about tags and how many words they have in common with the descriptions\n"
   ]
  },
  {
   "cell_type": "code",
   "execution_count": 97,
   "metadata": {},
   "outputs": [],
   "source": [
    "#countes number of tags given to video BEFORE stripping out extraneous things\n",
    "df['num_of_tags'] = df.tags.str.split('|').str.len()"
   ]
  },
  {
   "cell_type": "code",
   "execution_count": 98,
   "metadata": {},
   "outputs": [
    {
     "name": "stderr",
     "output_type": "stream",
     "text": [
      "/var/folders/x7/9w9mh0fd73zg4jr8l_9v9h840000gn/T/ipykernel_2496/2021686076.py:1: FutureWarning: The default value of regex will change from True to False in a future version. In addition, single character regular expressions will *not* be treated as literal strings when regex=True.\n",
      "  df.tags = df.tags.str.replace('|',\" \")\n"
     ]
    }
   ],
   "source": [
    "#gets rid of separator\n",
    "df.tags = df.tags.str.replace('|',\" \")"
   ]
  },
  {
   "cell_type": "code",
   "execution_count": 99,
   "metadata": {},
   "outputs": [],
   "source": [
    "#Imports spacy\n",
    "import spacy"
   ]
  },
  {
   "cell_type": "code",
   "execution_count": 100,
   "metadata": {},
   "outputs": [],
   "source": [
    "#creates the nlp object that is going to do the heavy lifting\n",
    "nlp = spacy.load(\"en_core_web_sm\")"
   ]
  },
  {
   "cell_type": "code",
   "execution_count": 101,
   "metadata": {},
   "outputs": [],
   "source": [
    "#uses the nlp object to convert the input text into a doc\n",
    "doc = nlp(df.loc[0].tags)"
   ]
  },
  {
   "cell_type": "code",
   "execution_count": 102,
   "metadata": {},
   "outputs": [
    {
     "name": "stdout",
     "output_type": "stream",
     "text": [
      "lil         PROPN     nmod      \n",
      "durk        PROPN     amod      \n",
      "lil         PROPN     nmod      \n",
      "durk        PROPN     compound  \n",
      "music       PROPN     nmod      \n",
      "lil         PROPN     nummod    \n",
      "durk        PROPN     compound  \n",
      "music       NOUN      compound  \n",
      "video       NOUN      nsubj     \n",
      "just        ADV       advmod    \n",
      "cause       VERB      mark      \n",
      "y           PRON      nsubj     \n",
      "all         PRON      appos     \n",
      "waited      VERB      ROOT      \n",
      "2           NUM       nummod    \n",
      "lil         NOUN      compound  \n",
      "durk        PROPN     dobj      \n",
      "2020        NUM       nummod    \n",
      "just        ADV       advmod    \n",
      "cause       VERB      mark      \n",
      "y'          PRON      nsubj     \n",
      "all         PRON      appos     \n",
      "waited      VERB      advcl     \n",
      "2           NUM       nummod    \n",
      "durkio      NOUN      dobj      \n",
      "smurkio     VERB      conj      \n",
      "lil         PROPN     compound  \n",
      "durk        PROPN     amod      \n",
      "official    ADJ       amod      \n",
      "drill       NOUN      dobj      \n",
      "drill       NOUN      compound  \n",
      "music       PROPN     compound  \n",
      "chicago     PROPN     compound  \n",
      "hip         NOUN      compound  \n",
      "hop         NOUN      dobj      \n",
      "only        ADV       advmod    \n",
      "the         DET       det       \n",
      "family      NOUN      compound  \n",
      "OTF         PROPN     appos     \n",
      "lil durk PERSON\n",
      "2 CARDINAL\n",
      "2 CARDINAL\n",
      "chicago GPE\n",
      "OTF ORG\n"
     ]
    }
   ],
   "source": [
    "#goes through tokens (words) in each doc\n",
    "for token in doc:\n",
    "    # Get the token text, part-of-speech tag and dependency label\n",
    "    token_text = token.text\n",
    "    token_pos = token.pos_\n",
    "    token_dep = token.dep_\n",
    "    # This is for formatting only\n",
    "    print(f\"{token_text:<12}{token_pos:<10}{token_dep:<10}\")\n",
    "\n",
    "# Iterate over the predicted entities\n",
    "for ent in doc.ents:\n",
    "    # Print the entity text and its label\n",
    "    print(ent.text, ent.label_)"
   ]
  },
  {
   "cell_type": "code",
   "execution_count": 107,
   "metadata": {},
   "outputs": [
    {
     "name": "stdout",
     "output_type": "stream",
     "text": [
      "{'chicago', \"y'\", 'OTF', '2020', 'video', 'hip', 'official', 'hop', 'drill', 'the', 'waited', 'smurkio', 'lil', 'only', 'music', '2', 'durkio', 'family', 'y', 'just', 'all', 'durk', 'cause'}\n"
     ]
    }
   ],
   "source": [
    "#creates set of unique words in doc \n",
    "tokens = set()\n",
    "for token in doc:\n",
    "    tokens.add(token.text)\n",
    "print(tokens)"
   ]
  },
  {
   "cell_type": "code",
   "execution_count": 135,
   "metadata": {},
   "outputs": [],
   "source": [
    "def clean_text(text):\n",
    "    \"\"\" \n",
    "    Purpose:\n",
    "        to clean text input into function by removing duplicate words, punctuations, and other things\n",
    "    ---\n",
    "    Parameters:\n",
    "        text: a string\n",
    "    ---\n",
    "    Returns:\n",
    "        tokens: a set of words found in the input text\n",
    "    \"\"\"\n",
    "\n",
    "    nlp = spacy.load(\"en_core_web_sm\")\n",
    "    doc = nlp(text)\n",
    "    tokens = set()\n",
    "    \n",
    "    for token in doc:\n",
    "        if token.pos_ not in ['SYM', 'PUNCT', 'DET']:\n",
    "            tokens.add(token.text)\n",
    "\n",
    "    for ent in doc.ents:\n",
    "        tokens.add(ent.text)\n",
    "\n",
    "    return tokens\n",
    "    \n",
    "    "
   ]
  },
  {
   "cell_type": "code",
   "execution_count": 116,
   "metadata": {},
   "outputs": [],
   "source": [
    "docb = nlp(df.loc[4].description)"
   ]
  },
  {
   "cell_type": "code",
   "execution_count": 117,
   "metadata": {},
   "outputs": [
    {
     "name": "stdout",
     "output_type": "stream",
     "text": [
      "The         DET       det       \n",
      "Inside      PROPN     compound  \n",
      "fellas      NOUN      nsubj     \n",
      "break       VERB      ROOT      \n",
      "down        ADP       prt       \n",
      "the         DET       det       \n",
      "Klay        PROPN     compound  \n",
      "-           PUNCT     punct     \n",
      "Dbook       NOUN      compound  \n",
      "interaction NOUN      dobj      \n",
      "and         CCONJ     cc        \n",
      "recap       VERB      conj      \n",
      "Warriors    PROPN     compound  \n",
      "-           PUNCT     punct     \n",
      "Suns        PROPN     dobj      \n",
      "on          ADP       prep      \n",
      "TNT         PROPN     pobj      \n",
      ".           PUNCT     punct     \n",
      "Watch       VERB      ROOT      \n",
      "highlights  NOUN      dobj      \n",
      "from        ADP       prep      \n",
      "Inside      ADP       prep      \n",
      "the         DET       det       \n",
      "NBA         PROPN     pobj      \n",
      "with        ADP       prep      \n",
      "Shaq        PROPN     pobj      \n",
      ",           PUNCT     punct     \n",
      "Charles     PROPN     compound  \n",
      "Barkley     PROPN     conj      \n",
      ",           PUNCT     punct     \n",
      "Kenny       PROPN     compound  \n",
      "Smith       PROPN     conj      \n",
      "and         CCONJ     cc        \n",
      "Ernie       PROPN     compound  \n",
      "Johnson     PROPN     conj      \n",
      "and         CCONJ     cc        \n",
      "more        ADJ       conj      \n",
      "!           PUNCT     punct     \n",
      "Subscribe   VERB      ccomp     \n",
      "now         ADV       advmod    \n",
      "to          PART      aux       \n",
      "be          AUX       auxpass   \n",
      "updated     VERB      relcl     \n",
      "on          ADP       prep      \n",
      "the         DET       det       \n",
      "latest      ADJ       amod      \n",
      "videos      NOUN      pobj      \n",
      ":           PUNCT     punct     \n",
      "https://www.youtube.com/nbaontnt?sub_confirmation=1X         nmod      \n",
      "          SPACE     dep       \n",
      "Connect     PROPN     nsubj     \n",
      "with        ADP       prep      \n",
      "NBA         PROPN     pobj      \n",
      "on          ADP       prep      \n",
      "TNT         PROPN     pobj      \n",
      ":           PUNCT     punct     \n",
      "           SPACE     dep       \n",
      "Follow      VERB      ROOT      \n",
      "NBA         PROPN     dobj      \n",
      "on          ADP       prep      \n",
      "TNT         PROPN     pobj      \n",
      "on          ADP       prep      \n",
      "Twitter     PROPN     pobj      \n",
      ":           PUNCT     punct     \n",
      "https://twitter.com/NBAonTNTNOUN      dobj      \n",
      "           SPACE     dep       \n",
      "Like        ADP       prep      \n",
      "NBA         PROPN     pobj      \n",
      "on          ADP       prep      \n",
      "TNT         PROPN     pobj      \n",
      "on          ADP       prep      \n",
      "Facebook    PROPN     pobj      \n",
      ":           PUNCT     punct     \n",
      "https://www.facebook.com/NBAONTNT/NOUN      dep       \n",
      "           SPACE     dep       \n",
      "Follow      VERB      appos     \n",
      "NBA         PROPN     dobj      \n",
      "on          ADP       prep      \n",
      "TNT         PROPN     pobj      \n",
      "on          ADP       prep      \n",
      "Instagram   PROPN     pobj      \n",
      ":           PUNCT     punct     \n",
      "https://www.instagram.com/nbaontnt/?hl=enX         dep       \n",
      "Warriors-Suns ORG\n",
      "TNT ORG\n",
      "NBA ORG\n",
      "Charles Barkley PERSON\n",
      "Kenny Smith PERSON\n",
      "Ernie Johnson PERSON\n",
      "NBA ORG\n",
      "TNT ORG\n",
      "TNT ORG\n",
      "NBA ORG\n",
      "TNT ORG\n",
      "TNT ORG\n",
      "Instagram ORG\n"
     ]
    }
   ],
   "source": [
    "for token in docb:\n",
    "    # Get the token text, part-of-speech tag and dependency label\n",
    "    token_text = token.text\n",
    "    token_pos = token.pos_\n",
    "    token_dep = token.dep_\n",
    "    # This is for formatting only\n",
    "    print(f\"{token_text:<12}{token_pos:<10}{token_dep:<10}\")\n",
    "\n",
    "# Iterate over the predicted entities\n",
    "for ent in docb.ents:\n",
    "    # Print the entity text and its label\n",
    "    print(ent.text, ent.label_)"
   ]
  },
  {
   "cell_type": "code",
   "execution_count": 134,
   "metadata": {},
   "outputs": [
    {
     "name": "stdout",
     "output_type": "stream",
     "text": [
      "PROPN\n",
      "NOUN\n",
      "VERB\n",
      "ADP\n",
      "PROPN\n",
      "NOUN\n",
      "NOUN\n",
      "CCONJ\n",
      "VERB\n",
      "PROPN\n",
      "PROPN\n",
      "ADP\n",
      "PROPN\n",
      "VERB\n",
      "NOUN\n",
      "ADP\n",
      "ADP\n",
      "PROPN\n",
      "ADP\n",
      "PROPN\n",
      "PROPN\n",
      "PROPN\n",
      "PROPN\n",
      "PROPN\n",
      "CCONJ\n",
      "PROPN\n",
      "PROPN\n",
      "CCONJ\n",
      "ADJ\n",
      "VERB\n",
      "ADV\n",
      "PART\n",
      "AUX\n",
      "VERB\n",
      "ADP\n",
      "ADJ\n",
      "NOUN\n",
      "X\n",
      "SPACE\n",
      "PROPN\n",
      "ADP\n",
      "PROPN\n",
      "ADP\n",
      "PROPN\n",
      "SPACE\n",
      "VERB\n",
      "PROPN\n",
      "ADP\n",
      "PROPN\n",
      "ADP\n",
      "PROPN\n",
      "NOUN\n",
      "SPACE\n",
      "ADP\n",
      "PROPN\n",
      "ADP\n",
      "PROPN\n",
      "ADP\n",
      "PROPN\n",
      "NOUN\n",
      "SPACE\n",
      "VERB\n",
      "PROPN\n",
      "ADP\n",
      "PROPN\n",
      "ADP\n",
      "PROPN\n",
      "X\n",
      "Warriors-Suns ORG\n",
      "TNT ORG\n",
      "NBA ORG\n",
      "Charles Barkley PERSON\n",
      "Kenny Smith PERSON\n",
      "Ernie Johnson PERSON\n",
      "NBA ORG\n",
      "TNT ORG\n",
      "TNT ORG\n",
      "NBA ORG\n",
      "TNT ORG\n",
      "TNT ORG\n",
      "Instagram ORG\n",
      "{'Smith', 'updated', 'Suns', 'Subscribe', 'Twitter', 'Klay', 'on', 'highlights', 'NBA', 'Charles', 'break', 'Facebook', 'to', 'fellas', 'Johnson', 'Connect', 'Warriors', 'recap', 'down', 'TNT', 'Kenny', 'Barkley', 'Shaq', 'Ernie', 'https://twitter.com/NBAonTNT', 'Instagram', 'https://www.youtube.com/nbaontnt?sub_confirmation=1', 'Follow', 'https://www.facebook.com/NBAONTNT/', 'Like', 'Dbook', 'from', 'with', 'more', 'https://www.instagram.com/nbaontnt/?hl=en', 'Watch', 'Inside', 'interaction', 'latest', 'now', '\\r\\r', 'and', '\\r', 'videos', 'be'}\n"
     ]
    }
   ],
   "source": [
    "tokens = set()\n",
    "for token in docb:\n",
    "    if token.pos_ not in ['SYM', 'PUNCT', 'DET']:\n",
    "        print(token.pos_)\n",
    "        tokens.add(token.text)\n",
    "\n",
    "for ent in docb.ents:\n",
    "    print(ent.text, ent.label_)\n",
    "print(tokens)"
   ]
  },
  {
   "cell_type": "code",
   "execution_count": 133,
   "metadata": {},
   "outputs": [
    {
     "name": "stdout",
     "output_type": "stream",
     "text": [
      "Warriors-Suns ORG\n",
      "TNT ORG\n",
      "NBA ORG\n",
      "Charles Barkley PERSON\n",
      "Kenny Smith PERSON\n",
      "Ernie Johnson PERSON\n",
      "NBA ORG\n",
      "TNT ORG\n",
      "TNT ORG\n",
      "NBA ORG\n",
      "TNT ORG\n",
      "TNT ORG\n",
      "Instagram ORG\n"
     ]
    }
   ],
   "source": [
    "for ent in docb.ents:\n",
    "    print(ent.text, ent.label_)"
   ]
  },
  {
   "cell_type": "code",
   "execution_count": 137,
   "metadata": {},
   "outputs": [],
   "source": [
    "df['cleaned_desc'] = df['description'].apply(lambda x: clean_text(x))"
   ]
  },
  {
   "cell_type": "markdown",
   "metadata": {},
   "source": [
    "## Think about combining the countries top 25 lists and control for duplicates. This way we can classify what videos have been a top 25 video \n"
   ]
  }
 ],
 "metadata": {
  "kernelspec": {
   "display_name": "Python 3.9.12 ('base')",
   "language": "python",
   "name": "python3"
  },
  "language_info": {
   "codemirror_mode": {
    "name": "ipython",
    "version": 3
   },
   "file_extension": ".py",
   "mimetype": "text/x-python",
   "name": "python",
   "nbconvert_exporter": "python",
   "pygments_lexer": "ipython3",
   "version": "3.9.12"
  },
  "orig_nbformat": 4,
  "vscode": {
   "interpreter": {
    "hash": "38cca0c38332a56087b24af0bc80247f4fced29cb4f7f437d91dc159adec9c4e"
   }
  }
 },
 "nbformat": 4,
 "nbformat_minor": 2
}
