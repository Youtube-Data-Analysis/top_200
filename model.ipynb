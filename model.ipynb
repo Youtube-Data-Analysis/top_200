{
 "cells": [
  {
   "cell_type": "markdown",
   "metadata": {},
   "source": [
    "# Imports"
   ]
  },
  {
   "cell_type": "code",
   "execution_count": 1,
   "metadata": {},
   "outputs": [],
   "source": [
    "import warnings\n",
    "warnings.filterwarnings('ignore')\n",
    "from pprint import pprint\n",
    "import pandas as pd\n",
    "import numpy as np\n",
    "\n",
    "%matplotlib inline\n",
    "import matplotlib.pyplot as plt\n",
    "import nltk\n",
    "import spacy\n",
    "import re\n",
    "import model\n",
    "import env\n",
    "import os\n",
    "\n",
    "from importlib import reload\n",
    "from itertools import product\n",
    "from math import sqrt\n",
    "from scipy import stats\n",
    "from scipy.stats import pearsonr, spearmanr\n",
    "from statsmodels.formula.api import ols\n",
    "from sklearn.metrics import mean_squared_error, explained_variance_score\n",
    "from sklearn import preprocessing\n",
    "from sklearn.model_selection import train_test_split\n",
    "from sklearn.tree import DecisionTreeClassifier, plot_tree\n",
    "from sklearn import tree\n",
    "from sklearn.ensemble import RandomForestClassifier\n",
    "from sklearn.neighbors import KNeighborsClassifier\n",
    "from sklearn.metrics import classification_report, confusion_matrix, ConfusionMatrixDisplay\n",
    "from sklearn.metrics import accuracy_score, confusion_matrix, precision_score, recall_score, f1_score, precision_recall_curve, auc\n",
    "from sklearn.linear_model import LogisticRegression\n",
    "from sklearn.linear_model import LinearRegression\n",
    "from sklearn.feature_selection import RFE, SelectKBest, f_regression\n",
    "from sklearn.preprocessing import StandardScaler\n",
    "from sklearn.preprocessing import MinMaxScaler, StandardScaler, RobustScaler, QuantileTransformer\n",
    "from sklearn.linear_model import LinearRegression, LassoLars, TweedieRegressor\n",
    "from sklearn.feature_extraction.text import TfidfVectorizer, CountVectorizer\n"
   ]
  },
  {
   "cell_type": "markdown",
   "metadata": {},
   "source": [
    "## Acquire data"
   ]
  },
  {
   "cell_type": "code",
   "execution_count": 2,
   "metadata": {},
   "outputs": [],
   "source": [
    "#reading the list of prepared pickle file contained in the csv file\n",
    "df = pd.read_pickle('prepared.pkl')"
   ]
  },
  {
   "cell_type": "markdown",
   "metadata": {},
   "source": [
    "## Model"
   ]
  },
  {
   "cell_type": "markdown",
   "metadata": {},
   "source": [
    "After analyzing the Top 200 trending Youtube videos, Exploration phase identified arrays of possible drivers of Top 25 trending Youtube videos. In this section, we will create a machine learning algorithm model that better and accurately predicts Top 25 trending Youtube videos and to use our takeaways and recommendations with an eye towards enabling smaller creators to produce in the mode of the top 25.\n",
    "\n",
    "Top_25 is our target variable\n",
    "\n",
    "We will use our training data to train/fit to our model and then tune the model on our validate data.\n",
    "\n",
    "We will pick our best model on accuracy.\n",
    "\n",
    "Four supervised machine learning classifications models were created in this project:\n",
    "\n",
    " - Decision Tree\n",
    " - Randon Forest\n",
    " - K-Nearest Neighbor\n",
    " - Logistic Regression "
   ]
  },
  {
   "cell_type": "markdown",
   "metadata": {},
   "source": [
    "## Split Data\n",
    " - Split data into 3 samples of train (60%), validate(20%) and test(20%)\n",
    " - Our target variable is Top_25"
   ]
  },
  {
   "cell_type": "code",
   "execution_count": 3,
   "metadata": {
    "scrolled": false
   },
   "outputs": [
    {
     "name": "stdout",
     "output_type": "stream",
     "text": [
      "<class 'pandas.core.frame.DataFrame'>\n",
      "RangeIndex: 2019 entries, 0 to 2018\n",
      "Data columns (total 37 columns):\n",
      " #   Column                   Non-Null Count  Dtype              \n",
      "---  ------                   --------------  -----              \n",
      " 0   video_id                 2019 non-null   object             \n",
      " 1   title                    2019 non-null   object             \n",
      " 2   publishedAt              2019 non-null   datetime64[ns, UTC]\n",
      " 3   channelTitle             2019 non-null   object             \n",
      " 4   categoryId               2019 non-null   object             \n",
      " 5   trending_date            2019 non-null   datetime64[ns, UTC]\n",
      " 6   tags                     2019 non-null   object             \n",
      " 7   view_count               2019 non-null   int64              \n",
      " 8   likes                    2019 non-null   int64              \n",
      " 9   comment_count            2019 non-null   int64              \n",
      " 10  thumbnail_link           2019 non-null   object             \n",
      " 11  comments_disabled        2019 non-null   bool               \n",
      " 12  ratings_disabled         2019 non-null   bool               \n",
      " 13  description              2019 non-null   object             \n",
      " 14  duration                 2019 non-null   int64              \n",
      " 15  captions                 2019 non-null   bool               \n",
      " 16  region                   2019 non-null   object             \n",
      " 17  rank                     2019 non-null   int64              \n",
      " 18  top_25                   2019 non-null   int64              \n",
      " 19  channel_age              2019 non-null   int64              \n",
      " 20  subscribers              2019 non-null   int64              \n",
      " 21  video_count              2019 non-null   int64              \n",
      " 22  age                      2019 non-null   float64            \n",
      " 23  engagement               2019 non-null   float64            \n",
      " 24  sponsored                2019 non-null   int64              \n",
      " 25  num_of_tags              2019 non-null   int64              \n",
      " 26  word_bank                2019 non-null   object             \n",
      " 27  cleaned_tags             2019 non-null   object             \n",
      " 28  cleaned_desc             2019 non-null   object             \n",
      " 29  title_in_description     2019 non-null   int64              \n",
      " 30  title_in_tags            2019 non-null   int64              \n",
      " 31  pct_tags_in_description  2019 non-null   float64            \n",
      " 32  title_lengths            2019 non-null   int64              \n",
      " 33  desc_lengths             2019 non-null   int64              \n",
      " 34  tags_length              2019 non-null   int64              \n",
      " 35  content_rate             2019 non-null   float64            \n",
      " 36  views_per_sub            2019 non-null   float64            \n",
      "dtypes: bool(3), datetime64[ns, UTC](2), float64(5), int64(16), object(11)\n",
      "memory usage: 542.3+ KB\n"
     ]
    }
   ],
   "source": [
    "df.info()"
   ]
  },
  {
   "cell_type": "code",
   "execution_count": 4,
   "metadata": {},
   "outputs": [],
   "source": [
    "dummy_df = pd.get_dummies(df[['categoryId','region']], drop_first=True)"
   ]
  },
  {
   "cell_type": "code",
   "execution_count": 5,
   "metadata": {},
   "outputs": [],
   "source": [
    "df = pd.concat([df, dummy_df], axis=1)"
   ]
  },
  {
   "cell_type": "code",
   "execution_count": 6,
   "metadata": {},
   "outputs": [],
   "source": [
    "df_copy = df.copy()"
   ]
  },
  {
   "cell_type": "code",
   "execution_count": 7,
   "metadata": {},
   "outputs": [
    {
     "name": "stdout",
     "output_type": "stream",
     "text": [
      "<class 'pandas.core.frame.DataFrame'>\n",
      "RangeIndex: 2019 entries, 0 to 2018\n",
      "Data columns (total 61 columns):\n",
      " #   Column                          Non-Null Count  Dtype              \n",
      "---  ------                          --------------  -----              \n",
      " 0   video_id                        2019 non-null   object             \n",
      " 1   title                           2019 non-null   object             \n",
      " 2   publishedAt                     2019 non-null   datetime64[ns, UTC]\n",
      " 3   channelTitle                    2019 non-null   object             \n",
      " 4   categoryId                      2019 non-null   object             \n",
      " 5   trending_date                   2019 non-null   datetime64[ns, UTC]\n",
      " 6   tags                            2019 non-null   object             \n",
      " 7   view_count                      2019 non-null   int64              \n",
      " 8   likes                           2019 non-null   int64              \n",
      " 9   comment_count                   2019 non-null   int64              \n",
      " 10  thumbnail_link                  2019 non-null   object             \n",
      " 11  comments_disabled               2019 non-null   bool               \n",
      " 12  ratings_disabled                2019 non-null   bool               \n",
      " 13  description                     2019 non-null   object             \n",
      " 14  duration                        2019 non-null   int64              \n",
      " 15  captions                        2019 non-null   bool               \n",
      " 16  region                          2019 non-null   object             \n",
      " 17  rank                            2019 non-null   int64              \n",
      " 18  top_25                          2019 non-null   int64              \n",
      " 19  channel_age                     2019 non-null   int64              \n",
      " 20  subscribers                     2019 non-null   int64              \n",
      " 21  video_count                     2019 non-null   int64              \n",
      " 22  age                             2019 non-null   float64            \n",
      " 23  engagement                      2019 non-null   float64            \n",
      " 24  sponsored                       2019 non-null   int64              \n",
      " 25  num_of_tags                     2019 non-null   int64              \n",
      " 26  word_bank                       2019 non-null   object             \n",
      " 27  cleaned_tags                    2019 non-null   object             \n",
      " 28  cleaned_desc                    2019 non-null   object             \n",
      " 29  title_in_description            2019 non-null   int64              \n",
      " 30  title_in_tags                   2019 non-null   int64              \n",
      " 31  pct_tags_in_description         2019 non-null   float64            \n",
      " 32  title_lengths                   2019 non-null   int64              \n",
      " 33  desc_lengths                    2019 non-null   int64              \n",
      " 34  tags_length                     2019 non-null   int64              \n",
      " 35  content_rate                    2019 non-null   float64            \n",
      " 36  views_per_sub                   2019 non-null   float64            \n",
      " 37  categoryId_Comedy               2019 non-null   uint8              \n",
      " 38  categoryId_Education            2019 non-null   uint8              \n",
      " 39  categoryId_Entertainment        2019 non-null   uint8              \n",
      " 40  categoryId_Film_Animation       2019 non-null   uint8              \n",
      " 41  categoryId_Gaming               2019 non-null   uint8              \n",
      " 42  categoryId_Howto_Style          2019 non-null   uint8              \n",
      " 43  categoryId_Music                2019 non-null   uint8              \n",
      " 44  categoryId_News_Politics        2019 non-null   uint8              \n",
      " 45  categoryId_Nonprofits_Activism  2019 non-null   uint8              \n",
      " 46  categoryId_People_Blogs         2019 non-null   uint8              \n",
      " 47  categoryId_Pets_Animals         2019 non-null   uint8              \n",
      " 48  categoryId_Science_Technology   2019 non-null   uint8              \n",
      " 49  categoryId_Sports               2019 non-null   uint8              \n",
      " 50  categoryId_Travel_Events        2019 non-null   uint8              \n",
      " 51  region_CA                       2019 non-null   uint8              \n",
      " 52  region_DE                       2019 non-null   uint8              \n",
      " 53  region_FR                       2019 non-null   uint8              \n",
      " 54  region_GB                       2019 non-null   uint8              \n",
      " 55  region_IND                      2019 non-null   uint8              \n",
      " 56  region_JP                       2019 non-null   uint8              \n",
      " 57  region_KR                       2019 non-null   uint8              \n",
      " 58  region_MX                       2019 non-null   uint8              \n",
      " 59  region_RU                       2019 non-null   uint8              \n",
      " 60  region_US                       2019 non-null   uint8              \n",
      "dtypes: bool(3), datetime64[ns, UTC](2), float64(5), int64(16), object(11), uint8(24)\n",
      "memory usage: 589.7+ KB\n"
     ]
    }
   ],
   "source": [
    "df.info()"
   ]
  },
  {
   "cell_type": "code",
   "execution_count": 8,
   "metadata": {},
   "outputs": [
    {
     "data": {
      "text/html": [
       "<div>\n",
       "<style scoped>\n",
       "    .dataframe tbody tr th:only-of-type {\n",
       "        vertical-align: middle;\n",
       "    }\n",
       "\n",
       "    .dataframe tbody tr th {\n",
       "        vertical-align: top;\n",
       "    }\n",
       "\n",
       "    .dataframe thead th {\n",
       "        text-align: right;\n",
       "    }\n",
       "</style>\n",
       "<table border=\"1\" class=\"dataframe\">\n",
       "  <thead>\n",
       "    <tr style=\"text-align: right;\">\n",
       "      <th></th>\n",
       "      <th>view_count</th>\n",
       "      <th>likes</th>\n",
       "      <th>comment_count</th>\n",
       "      <th>duration</th>\n",
       "      <th>top_25</th>\n",
       "      <th>num_of_tags</th>\n",
       "      <th>pct_tags_in_description</th>\n",
       "      <th>title_lengths</th>\n",
       "      <th>desc_lengths</th>\n",
       "      <th>tags_length</th>\n",
       "      <th>...</th>\n",
       "      <th>region_CA</th>\n",
       "      <th>region_DE</th>\n",
       "      <th>region_FR</th>\n",
       "      <th>region_GB</th>\n",
       "      <th>region_IND</th>\n",
       "      <th>region_JP</th>\n",
       "      <th>region_KR</th>\n",
       "      <th>region_MX</th>\n",
       "      <th>region_RU</th>\n",
       "      <th>region_US</th>\n",
       "    </tr>\n",
       "  </thead>\n",
       "  <tbody>\n",
       "    <tr>\n",
       "      <th>0</th>\n",
       "      <td>1098919</td>\n",
       "      <td>19090</td>\n",
       "      <td>861</td>\n",
       "      <td>1281</td>\n",
       "      <td>1</td>\n",
       "      <td>67</td>\n",
       "      <td>0.013889</td>\n",
       "      <td>79</td>\n",
       "      <td>200</td>\n",
       "      <td>325</td>\n",
       "      <td>...</td>\n",
       "      <td>0</td>\n",
       "      <td>0</td>\n",
       "      <td>0</td>\n",
       "      <td>0</td>\n",
       "      <td>0</td>\n",
       "      <td>0</td>\n",
       "      <td>1</td>\n",
       "      <td>0</td>\n",
       "      <td>0</td>\n",
       "      <td>0</td>\n",
       "    </tr>\n",
       "    <tr>\n",
       "      <th>1</th>\n",
       "      <td>2217807</td>\n",
       "      <td>182434</td>\n",
       "      <td>7282</td>\n",
       "      <td>4327</td>\n",
       "      <td>1</td>\n",
       "      <td>15</td>\n",
       "      <td>0.117647</td>\n",
       "      <td>81</td>\n",
       "      <td>2613</td>\n",
       "      <td>96</td>\n",
       "      <td>...</td>\n",
       "      <td>1</td>\n",
       "      <td>0</td>\n",
       "      <td>0</td>\n",
       "      <td>0</td>\n",
       "      <td>0</td>\n",
       "      <td>0</td>\n",
       "      <td>0</td>\n",
       "      <td>0</td>\n",
       "      <td>0</td>\n",
       "      <td>0</td>\n",
       "    </tr>\n",
       "    <tr>\n",
       "      <th>2</th>\n",
       "      <td>2258144</td>\n",
       "      <td>44366</td>\n",
       "      <td>938</td>\n",
       "      <td>24001</td>\n",
       "      <td>1</td>\n",
       "      <td>28</td>\n",
       "      <td>0.289474</td>\n",
       "      <td>62</td>\n",
       "      <td>1874</td>\n",
       "      <td>444</td>\n",
       "      <td>...</td>\n",
       "      <td>0</td>\n",
       "      <td>1</td>\n",
       "      <td>0</td>\n",
       "      <td>0</td>\n",
       "      <td>0</td>\n",
       "      <td>0</td>\n",
       "      <td>0</td>\n",
       "      <td>0</td>\n",
       "      <td>0</td>\n",
       "      <td>0</td>\n",
       "    </tr>\n",
       "    <tr>\n",
       "      <th>3</th>\n",
       "      <td>3262953</td>\n",
       "      <td>312903</td>\n",
       "      <td>14437</td>\n",
       "      <td>1862</td>\n",
       "      <td>1</td>\n",
       "      <td>32</td>\n",
       "      <td>0.447368</td>\n",
       "      <td>63</td>\n",
       "      <td>1132</td>\n",
       "      <td>446</td>\n",
       "      <td>...</td>\n",
       "      <td>0</td>\n",
       "      <td>0</td>\n",
       "      <td>0</td>\n",
       "      <td>0</td>\n",
       "      <td>0</td>\n",
       "      <td>0</td>\n",
       "      <td>0</td>\n",
       "      <td>0</td>\n",
       "      <td>1</td>\n",
       "      <td>0</td>\n",
       "    </tr>\n",
       "    <tr>\n",
       "      <th>4</th>\n",
       "      <td>313545</td>\n",
       "      <td>4899</td>\n",
       "      <td>596</td>\n",
       "      <td>965</td>\n",
       "      <td>1</td>\n",
       "      <td>9</td>\n",
       "      <td>0.000000</td>\n",
       "      <td>63</td>\n",
       "      <td>187</td>\n",
       "      <td>65</td>\n",
       "      <td>...</td>\n",
       "      <td>0</td>\n",
       "      <td>0</td>\n",
       "      <td>0</td>\n",
       "      <td>0</td>\n",
       "      <td>0</td>\n",
       "      <td>1</td>\n",
       "      <td>0</td>\n",
       "      <td>0</td>\n",
       "      <td>0</td>\n",
       "      <td>0</td>\n",
       "    </tr>\n",
       "    <tr>\n",
       "      <th>...</th>\n",
       "      <td>...</td>\n",
       "      <td>...</td>\n",
       "      <td>...</td>\n",
       "      <td>...</td>\n",
       "      <td>...</td>\n",
       "      <td>...</td>\n",
       "      <td>...</td>\n",
       "      <td>...</td>\n",
       "      <td>...</td>\n",
       "      <td>...</td>\n",
       "      <td>...</td>\n",
       "      <td>...</td>\n",
       "      <td>...</td>\n",
       "      <td>...</td>\n",
       "      <td>...</td>\n",
       "      <td>...</td>\n",
       "      <td>...</td>\n",
       "      <td>...</td>\n",
       "      <td>...</td>\n",
       "      <td>...</td>\n",
       "      <td>...</td>\n",
       "    </tr>\n",
       "    <tr>\n",
       "      <th>2014</th>\n",
       "      <td>1902762</td>\n",
       "      <td>78690</td>\n",
       "      <td>1712</td>\n",
       "      <td>1099</td>\n",
       "      <td>0</td>\n",
       "      <td>27</td>\n",
       "      <td>0.068966</td>\n",
       "      <td>86</td>\n",
       "      <td>1313</td>\n",
       "      <td>327</td>\n",
       "      <td>...</td>\n",
       "      <td>0</td>\n",
       "      <td>0</td>\n",
       "      <td>0</td>\n",
       "      <td>0</td>\n",
       "      <td>0</td>\n",
       "      <td>0</td>\n",
       "      <td>0</td>\n",
       "      <td>1</td>\n",
       "      <td>0</td>\n",
       "      <td>0</td>\n",
       "    </tr>\n",
       "    <tr>\n",
       "      <th>2015</th>\n",
       "      <td>1976426</td>\n",
       "      <td>48816</td>\n",
       "      <td>3060</td>\n",
       "      <td>1869</td>\n",
       "      <td>0</td>\n",
       "      <td>1</td>\n",
       "      <td>1.000000</td>\n",
       "      <td>28</td>\n",
       "      <td>1517</td>\n",
       "      <td>6</td>\n",
       "      <td>...</td>\n",
       "      <td>0</td>\n",
       "      <td>0</td>\n",
       "      <td>0</td>\n",
       "      <td>0</td>\n",
       "      <td>0</td>\n",
       "      <td>1</td>\n",
       "      <td>0</td>\n",
       "      <td>0</td>\n",
       "      <td>0</td>\n",
       "      <td>0</td>\n",
       "    </tr>\n",
       "    <tr>\n",
       "      <th>2016</th>\n",
       "      <td>1529830</td>\n",
       "      <td>114260</td>\n",
       "      <td>11625</td>\n",
       "      <td>166</td>\n",
       "      <td>0</td>\n",
       "      <td>1</td>\n",
       "      <td>0.000000</td>\n",
       "      <td>64</td>\n",
       "      <td>352</td>\n",
       "      <td>0</td>\n",
       "      <td>...</td>\n",
       "      <td>0</td>\n",
       "      <td>0</td>\n",
       "      <td>0</td>\n",
       "      <td>0</td>\n",
       "      <td>0</td>\n",
       "      <td>0</td>\n",
       "      <td>0</td>\n",
       "      <td>0</td>\n",
       "      <td>0</td>\n",
       "      <td>0</td>\n",
       "    </tr>\n",
       "    <tr>\n",
       "      <th>2017</th>\n",
       "      <td>1835677</td>\n",
       "      <td>12011</td>\n",
       "      <td>1015</td>\n",
       "      <td>1191</td>\n",
       "      <td>0</td>\n",
       "      <td>1</td>\n",
       "      <td>0.000000</td>\n",
       "      <td>29</td>\n",
       "      <td>54</td>\n",
       "      <td>0</td>\n",
       "      <td>...</td>\n",
       "      <td>0</td>\n",
       "      <td>0</td>\n",
       "      <td>0</td>\n",
       "      <td>0</td>\n",
       "      <td>0</td>\n",
       "      <td>0</td>\n",
       "      <td>1</td>\n",
       "      <td>0</td>\n",
       "      <td>0</td>\n",
       "      <td>0</td>\n",
       "    </tr>\n",
       "    <tr>\n",
       "      <th>2018</th>\n",
       "      <td>430118</td>\n",
       "      <td>37109</td>\n",
       "      <td>1313</td>\n",
       "      <td>482</td>\n",
       "      <td>0</td>\n",
       "      <td>1</td>\n",
       "      <td>0.000000</td>\n",
       "      <td>61</td>\n",
       "      <td>930</td>\n",
       "      <td>0</td>\n",
       "      <td>...</td>\n",
       "      <td>0</td>\n",
       "      <td>0</td>\n",
       "      <td>1</td>\n",
       "      <td>0</td>\n",
       "      <td>0</td>\n",
       "      <td>0</td>\n",
       "      <td>0</td>\n",
       "      <td>0</td>\n",
       "      <td>0</td>\n",
       "      <td>0</td>\n",
       "    </tr>\n",
       "  </tbody>\n",
       "</table>\n",
       "<p>2019 rows × 36 columns</p>\n",
       "</div>"
      ],
      "text/plain": [
       "      view_count   likes  comment_count  duration  top_25  num_of_tags  \\\n",
       "0        1098919   19090            861      1281       1           67   \n",
       "1        2217807  182434           7282      4327       1           15   \n",
       "2        2258144   44366            938     24001       1           28   \n",
       "3        3262953  312903          14437      1862       1           32   \n",
       "4         313545    4899            596       965       1            9   \n",
       "...          ...     ...            ...       ...     ...          ...   \n",
       "2014     1902762   78690           1712      1099       0           27   \n",
       "2015     1976426   48816           3060      1869       0            1   \n",
       "2016     1529830  114260          11625       166       0            1   \n",
       "2017     1835677   12011           1015      1191       0            1   \n",
       "2018      430118   37109           1313       482       0            1   \n",
       "\n",
       "      pct_tags_in_description  title_lengths  desc_lengths  tags_length  ...  \\\n",
       "0                    0.013889             79           200          325  ...   \n",
       "1                    0.117647             81          2613           96  ...   \n",
       "2                    0.289474             62          1874          444  ...   \n",
       "3                    0.447368             63          1132          446  ...   \n",
       "4                    0.000000             63           187           65  ...   \n",
       "...                       ...            ...           ...          ...  ...   \n",
       "2014                 0.068966             86          1313          327  ...   \n",
       "2015                 1.000000             28          1517            6  ...   \n",
       "2016                 0.000000             64           352            0  ...   \n",
       "2017                 0.000000             29            54            0  ...   \n",
       "2018                 0.000000             61           930            0  ...   \n",
       "\n",
       "      region_CA  region_DE  region_FR  region_GB  region_IND  region_JP  \\\n",
       "0             0          0          0          0           0          0   \n",
       "1             1          0          0          0           0          0   \n",
       "2             0          1          0          0           0          0   \n",
       "3             0          0          0          0           0          0   \n",
       "4             0          0          0          0           0          1   \n",
       "...         ...        ...        ...        ...         ...        ...   \n",
       "2014          0          0          0          0           0          0   \n",
       "2015          0          0          0          0           0          1   \n",
       "2016          0          0          0          0           0          0   \n",
       "2017          0          0          0          0           0          0   \n",
       "2018          0          0          1          0           0          0   \n",
       "\n",
       "      region_KR  region_MX  region_RU  region_US  \n",
       "0             1          0          0          0  \n",
       "1             0          0          0          0  \n",
       "2             0          0          0          0  \n",
       "3             0          0          1          0  \n",
       "4             0          0          0          0  \n",
       "...         ...        ...        ...        ...  \n",
       "2014          0          1          0          0  \n",
       "2015          0          0          0          0  \n",
       "2016          0          0          0          0  \n",
       "2017          1          0          0          0  \n",
       "2018          0          0          0          0  \n",
       "\n",
       "[2019 rows x 36 columns]"
      ]
     },
     "execution_count": 8,
     "metadata": {},
     "output_type": "execute_result"
    }
   ],
   "source": [
    "df.drop(columns=['video_id','title','publishedAt','categoryId','trending_date','tags','channelTitle',\n",
    "                           'thumbnail_link','comments_disabled','ratings_disabled','ratings_disabled',\n",
    "                          'ratings_disabled','description','captions','region','channel_age', 'rank',\n",
    "                          'subscribers','video_count','age','engagement','sponsored','word_bank',\n",
    "                           'cleaned_tags','cleaned_desc','title_in_description','title_in_tags'], axis=1, inplace=True)\n",
    "\n",
    "df"
   ]
  },
  {
   "cell_type": "code",
   "execution_count": 9,
   "metadata": {},
   "outputs": [
    {
     "name": "stdout",
     "output_type": "stream",
     "text": [
      "<class 'pandas.core.frame.DataFrame'>\n",
      "RangeIndex: 2019 entries, 0 to 2018\n",
      "Data columns (total 36 columns):\n",
      " #   Column                          Non-Null Count  Dtype  \n",
      "---  ------                          --------------  -----  \n",
      " 0   view_count                      2019 non-null   int64  \n",
      " 1   likes                           2019 non-null   int64  \n",
      " 2   comment_count                   2019 non-null   int64  \n",
      " 3   duration                        2019 non-null   int64  \n",
      " 4   top_25                          2019 non-null   int64  \n",
      " 5   num_of_tags                     2019 non-null   int64  \n",
      " 6   pct_tags_in_description         2019 non-null   float64\n",
      " 7   title_lengths                   2019 non-null   int64  \n",
      " 8   desc_lengths                    2019 non-null   int64  \n",
      " 9   tags_length                     2019 non-null   int64  \n",
      " 10  content_rate                    2019 non-null   float64\n",
      " 11  views_per_sub                   2019 non-null   float64\n",
      " 12  categoryId_Comedy               2019 non-null   uint8  \n",
      " 13  categoryId_Education            2019 non-null   uint8  \n",
      " 14  categoryId_Entertainment        2019 non-null   uint8  \n",
      " 15  categoryId_Film_Animation       2019 non-null   uint8  \n",
      " 16  categoryId_Gaming               2019 non-null   uint8  \n",
      " 17  categoryId_Howto_Style          2019 non-null   uint8  \n",
      " 18  categoryId_Music                2019 non-null   uint8  \n",
      " 19  categoryId_News_Politics        2019 non-null   uint8  \n",
      " 20  categoryId_Nonprofits_Activism  2019 non-null   uint8  \n",
      " 21  categoryId_People_Blogs         2019 non-null   uint8  \n",
      " 22  categoryId_Pets_Animals         2019 non-null   uint8  \n",
      " 23  categoryId_Science_Technology   2019 non-null   uint8  \n",
      " 24  categoryId_Sports               2019 non-null   uint8  \n",
      " 25  categoryId_Travel_Events        2019 non-null   uint8  \n",
      " 26  region_CA                       2019 non-null   uint8  \n",
      " 27  region_DE                       2019 non-null   uint8  \n",
      " 28  region_FR                       2019 non-null   uint8  \n",
      " 29  region_GB                       2019 non-null   uint8  \n",
      " 30  region_IND                      2019 non-null   uint8  \n",
      " 31  region_JP                       2019 non-null   uint8  \n",
      " 32  region_KR                       2019 non-null   uint8  \n",
      " 33  region_MX                       2019 non-null   uint8  \n",
      " 34  region_RU                       2019 non-null   uint8  \n",
      " 35  region_US                       2019 non-null   uint8  \n",
      "dtypes: float64(3), int64(9), uint8(24)\n",
      "memory usage: 236.7 KB\n"
     ]
    }
   ],
   "source": [
    "df.info()"
   ]
  },
  {
   "cell_type": "code",
   "execution_count": 10,
   "metadata": {},
   "outputs": [],
   "source": [
    "train, validate, test = model.my_train_test_split(df, 'top_25')"
   ]
  },
  {
   "cell_type": "code",
   "execution_count": 11,
   "metadata": {},
   "outputs": [
    {
     "data": {
      "text/plain": [
       "((1211, 36), (404, 36), (404, 36))"
      ]
     },
     "execution_count": 11,
     "metadata": {},
     "output_type": "execute_result"
    }
   ],
   "source": [
    "train.shape,validate.shape,test.shape"
   ]
  },
  {
   "cell_type": "markdown",
   "metadata": {},
   "source": [
    "## Scale Data"
   ]
  },
  {
   "cell_type": "code",
   "execution_count": 12,
   "metadata": {},
   "outputs": [],
   "source": [
    "#dummy_df = pd.get_dummies(df[['categoryId','region']],drop_first=True)\n",
    "#dummy_df.head()"
   ]
  },
  {
   "cell_type": "code",
   "execution_count": 13,
   "metadata": {},
   "outputs": [],
   "source": [
    "#pd.get_dummies(df, prefix=['col1', 'col2'])"
   ]
  },
  {
   "cell_type": "code",
   "execution_count": 14,
   "metadata": {},
   "outputs": [],
   "source": [
    "#pd.get_dummies(df, prefix=['categoryId', 'region'])"
   ]
  },
  {
   "cell_type": "code",
   "execution_count": 41,
   "metadata": {},
   "outputs": [
    {
     "name": "stdout",
     "output_type": "stream",
     "text": [
      "<class 'pandas.core.frame.DataFrame'>\n",
      "Int64Index: 1211 entries, 231 to 544\n",
      "Data columns (total 36 columns):\n",
      " #   Column                          Non-Null Count  Dtype  \n",
      "---  ------                          --------------  -----  \n",
      " 0   view_count                      1211 non-null   int64  \n",
      " 1   likes                           1211 non-null   int64  \n",
      " 2   comment_count                   1211 non-null   int64  \n",
      " 3   duration                        1211 non-null   int64  \n",
      " 4   top_25                          1211 non-null   int64  \n",
      " 5   num_of_tags                     1211 non-null   int64  \n",
      " 6   pct_tags_in_description         1211 non-null   float64\n",
      " 7   title_lengths                   1211 non-null   int64  \n",
      " 8   desc_lengths                    1211 non-null   int64  \n",
      " 9   tags_length                     1211 non-null   int64  \n",
      " 10  content_rate                    1211 non-null   float64\n",
      " 11  views_per_sub                   1211 non-null   float64\n",
      " 12  categoryId_Comedy               1211 non-null   uint8  \n",
      " 13  categoryId_Education            1211 non-null   uint8  \n",
      " 14  categoryId_Entertainment        1211 non-null   uint8  \n",
      " 15  categoryId_Film_Animation       1211 non-null   uint8  \n",
      " 16  categoryId_Gaming               1211 non-null   uint8  \n",
      " 17  categoryId_Howto_Style          1211 non-null   uint8  \n",
      " 18  categoryId_Music                1211 non-null   uint8  \n",
      " 19  categoryId_News_Politics        1211 non-null   uint8  \n",
      " 20  categoryId_Nonprofits_Activism  1211 non-null   uint8  \n",
      " 21  categoryId_People_Blogs         1211 non-null   uint8  \n",
      " 22  categoryId_Pets_Animals         1211 non-null   uint8  \n",
      " 23  categoryId_Science_Technology   1211 non-null   uint8  \n",
      " 24  categoryId_Sports               1211 non-null   uint8  \n",
      " 25  categoryId_Travel_Events        1211 non-null   uint8  \n",
      " 26  region_CA                       1211 non-null   uint8  \n",
      " 27  region_DE                       1211 non-null   uint8  \n",
      " 28  region_FR                       1211 non-null   uint8  \n",
      " 29  region_GB                       1211 non-null   uint8  \n",
      " 30  region_IND                      1211 non-null   uint8  \n",
      " 31  region_JP                       1211 non-null   uint8  \n",
      " 32  region_KR                       1211 non-null   uint8  \n",
      " 33  region_MX                       1211 non-null   uint8  \n",
      " 34  region_RU                       1211 non-null   uint8  \n",
      " 35  region_US                       1211 non-null   uint8  \n",
      "dtypes: float64(3), int64(9), uint8(24)\n",
      "memory usage: 151.4 KB\n"
     ]
    }
   ],
   "source": [
    "train.info(0)"
   ]
  },
  {
   "cell_type": "code",
   "execution_count": 15,
   "metadata": {},
   "outputs": [
    {
     "name": "stdout",
     "output_type": "stream",
     "text": [
      "<class 'pandas.core.frame.DataFrame'>\n",
      "RangeIndex: 2019 entries, 0 to 2018\n",
      "Data columns (total 36 columns):\n",
      " #   Column                          Non-Null Count  Dtype  \n",
      "---  ------                          --------------  -----  \n",
      " 0   view_count                      2019 non-null   int64  \n",
      " 1   likes                           2019 non-null   int64  \n",
      " 2   comment_count                   2019 non-null   int64  \n",
      " 3   duration                        2019 non-null   int64  \n",
      " 4   top_25                          2019 non-null   int64  \n",
      " 5   num_of_tags                     2019 non-null   int64  \n",
      " 6   pct_tags_in_description         2019 non-null   float64\n",
      " 7   title_lengths                   2019 non-null   int64  \n",
      " 8   desc_lengths                    2019 non-null   int64  \n",
      " 9   tags_length                     2019 non-null   int64  \n",
      " 10  content_rate                    2019 non-null   float64\n",
      " 11  views_per_sub                   2019 non-null   float64\n",
      " 12  categoryId_Comedy               2019 non-null   uint8  \n",
      " 13  categoryId_Education            2019 non-null   uint8  \n",
      " 14  categoryId_Entertainment        2019 non-null   uint8  \n",
      " 15  categoryId_Film_Animation       2019 non-null   uint8  \n",
      " 16  categoryId_Gaming               2019 non-null   uint8  \n",
      " 17  categoryId_Howto_Style          2019 non-null   uint8  \n",
      " 18  categoryId_Music                2019 non-null   uint8  \n",
      " 19  categoryId_News_Politics        2019 non-null   uint8  \n",
      " 20  categoryId_Nonprofits_Activism  2019 non-null   uint8  \n",
      " 21  categoryId_People_Blogs         2019 non-null   uint8  \n",
      " 22  categoryId_Pets_Animals         2019 non-null   uint8  \n",
      " 23  categoryId_Science_Technology   2019 non-null   uint8  \n",
      " 24  categoryId_Sports               2019 non-null   uint8  \n",
      " 25  categoryId_Travel_Events        2019 non-null   uint8  \n",
      " 26  region_CA                       2019 non-null   uint8  \n",
      " 27  region_DE                       2019 non-null   uint8  \n",
      " 28  region_FR                       2019 non-null   uint8  \n",
      " 29  region_GB                       2019 non-null   uint8  \n",
      " 30  region_IND                      2019 non-null   uint8  \n",
      " 31  region_JP                       2019 non-null   uint8  \n",
      " 32  region_KR                       2019 non-null   uint8  \n",
      " 33  region_MX                       2019 non-null   uint8  \n",
      " 34  region_RU                       2019 non-null   uint8  \n",
      " 35  region_US                       2019 non-null   uint8  \n",
      "dtypes: float64(3), int64(9), uint8(24)\n",
      "memory usage: 236.7 KB\n"
     ]
    }
   ],
   "source": [
    "df.info()"
   ]
  },
  {
   "cell_type": "code",
   "execution_count": 16,
   "metadata": {},
   "outputs": [],
   "source": [
    "from sklearn.preprocessing import MinMaxScaler"
   ]
  },
  {
   "cell_type": "code",
   "execution_count": 17,
   "metadata": {},
   "outputs": [],
   "source": [
    "#selected features to scale into train, validate & test\n",
    "features_to_scale = ['view_count', 'likes', 'comment_count', 'duration', 'num_of_tags', 'pct_tags_in_description',\\\n",
    "'title_lengths','desc_lengths','tags_length','content_rate', 'views_per_sub']"
   ]
  },
  {
   "cell_type": "code",
   "execution_count": 18,
   "metadata": {},
   "outputs": [],
   "source": [
    "train_scaled, validate_scaled, test_scaled = model.scale_data(train, validate, test, features_to_scale)"
   ]
  },
  {
   "cell_type": "markdown",
   "metadata": {},
   "source": [
    "## Feature Selection\n",
    "- Selected 16 best\n",
    "- Uses statistical tests to determine each feature's usefulness in predicting the target variable.\n",
    "- Ranks the features based of highest correlation to engagement."
   ]
  },
  {
   "cell_type": "code",
   "execution_count": 19,
   "metadata": {},
   "outputs": [],
   "source": [
    "#X will be features\n",
    "#y will be our target variable\n",
    "#these features have high correlation to top_25 videos\n",
    "X_train, y_train, X_validate, y_validate, X_test, y_test = model.getting_(train_scaled,validate_scaled,test_scaled)"
   ]
  },
  {
   "cell_type": "markdown",
   "metadata": {},
   "source": [
    "## Baseline Prediction and Accuracy\n",
    "- Baseline prediction is a benchmark. It predicts the most prevelant class in the train data. We compare our model and want it to be better than the baseline prediction."
   ]
  },
  {
   "cell_type": "code",
   "execution_count": 20,
   "metadata": {},
   "outputs": [
    {
     "data": {
      "text/plain": [
       "0    987\n",
       "1    224\n",
       "Name: top_25, dtype: int64"
      ]
     },
     "execution_count": 20,
     "metadata": {},
     "output_type": "execute_result"
    }
   ],
   "source": [
    "# look at values of target variable top_25\n",
    "# baseline prediction: the most prevalent class in training dataset(the mode)\n",
    "y_train.value_counts()"
   ]
  },
  {
   "cell_type": "code",
   "execution_count": 21,
   "metadata": {},
   "outputs": [
    {
     "name": "stdout",
     "output_type": "stream",
     "text": [
      "Top_25 videos baseline accuracy is: 0.815028901734104\n"
     ]
    }
   ],
   "source": [
    "#Formulate baseline accuracy\n",
    "baseline_accuracy = (y_train == 0).mean()\n",
    "print('Top_25 videos baseline accuracy is:', baseline_accuracy)"
   ]
  },
  {
   "cell_type": "markdown",
   "metadata": {},
   "source": [
    "## Model on Train"
   ]
  },
  {
   "cell_type": "markdown",
   "metadata": {},
   "source": [
    "## Decision Tree Classifier"
   ]
  },
  {
   "cell_type": "code",
   "execution_count": 22,
   "metadata": {},
   "outputs": [],
   "source": [
    "dtc_scores = model.run_decision_tree_models(X_train, y_train, X_validate, y_validate)"
   ]
  },
  {
   "cell_type": "code",
   "execution_count": 23,
   "metadata": {},
   "outputs": [
    {
     "data": {
      "text/html": [
       "<div>\n",
       "<style scoped>\n",
       "    .dataframe tbody tr th:only-of-type {\n",
       "        vertical-align: middle;\n",
       "    }\n",
       "\n",
       "    .dataframe tbody tr th {\n",
       "        vertical-align: top;\n",
       "    }\n",
       "\n",
       "    .dataframe thead th {\n",
       "        text-align: right;\n",
       "    }\n",
       "</style>\n",
       "<table border=\"1\" class=\"dataframe\">\n",
       "  <thead>\n",
       "    <tr style=\"text-align: right;\">\n",
       "      <th></th>\n",
       "      <th>i</th>\n",
       "      <th>accuracy_train</th>\n",
       "      <th>accuracy_validate</th>\n",
       "      <th>difference</th>\n",
       "    </tr>\n",
       "  </thead>\n",
       "  <tbody>\n",
       "    <tr>\n",
       "      <th>0</th>\n",
       "      <td>1</td>\n",
       "      <td>0.815029</td>\n",
       "      <td>0.814356</td>\n",
       "      <td>0.000672</td>\n",
       "    </tr>\n",
       "    <tr>\n",
       "      <th>1</th>\n",
       "      <td>2</td>\n",
       "      <td>0.815855</td>\n",
       "      <td>0.811881</td>\n",
       "      <td>0.003973</td>\n",
       "    </tr>\n",
       "    <tr>\n",
       "      <th>2</th>\n",
       "      <td>3</td>\n",
       "      <td>0.819158</td>\n",
       "      <td>0.809406</td>\n",
       "      <td>0.009752</td>\n",
       "    </tr>\n",
       "    <tr>\n",
       "      <th>3</th>\n",
       "      <td>4</td>\n",
       "      <td>0.830718</td>\n",
       "      <td>0.794554</td>\n",
       "      <td>0.036164</td>\n",
       "    </tr>\n",
       "    <tr>\n",
       "      <th>4</th>\n",
       "      <td>5</td>\n",
       "      <td>0.842279</td>\n",
       "      <td>0.801980</td>\n",
       "      <td>0.040299</td>\n",
       "    </tr>\n",
       "    <tr>\n",
       "      <th>5</th>\n",
       "      <td>6</td>\n",
       "      <td>0.857143</td>\n",
       "      <td>0.787129</td>\n",
       "      <td>0.070014</td>\n",
       "    </tr>\n",
       "    <tr>\n",
       "      <th>6</th>\n",
       "      <td>7</td>\n",
       "      <td>0.865400</td>\n",
       "      <td>0.774752</td>\n",
       "      <td>0.090648</td>\n",
       "    </tr>\n",
       "    <tr>\n",
       "      <th>7</th>\n",
       "      <td>8</td>\n",
       "      <td>0.888522</td>\n",
       "      <td>0.740099</td>\n",
       "      <td>0.148423</td>\n",
       "    </tr>\n",
       "    <tr>\n",
       "      <th>8</th>\n",
       "      <td>9</td>\n",
       "      <td>0.905863</td>\n",
       "      <td>0.754950</td>\n",
       "      <td>0.150912</td>\n",
       "    </tr>\n",
       "    <tr>\n",
       "      <th>9</th>\n",
       "      <td>10</td>\n",
       "      <td>0.919901</td>\n",
       "      <td>0.727723</td>\n",
       "      <td>0.192178</td>\n",
       "    </tr>\n",
       "    <tr>\n",
       "      <th>10</th>\n",
       "      <td>11</td>\n",
       "      <td>0.938068</td>\n",
       "      <td>0.715347</td>\n",
       "      <td>0.222721</td>\n",
       "    </tr>\n",
       "  </tbody>\n",
       "</table>\n",
       "</div>"
      ],
      "text/plain": [
       "     i  accuracy_train  accuracy_validate  difference\n",
       "0    1        0.815029           0.814356    0.000672\n",
       "1    2        0.815855           0.811881    0.003973\n",
       "2    3        0.819158           0.809406    0.009752\n",
       "3    4        0.830718           0.794554    0.036164\n",
       "4    5        0.842279           0.801980    0.040299\n",
       "5    6        0.857143           0.787129    0.070014\n",
       "6    7        0.865400           0.774752    0.090648\n",
       "7    8        0.888522           0.740099    0.148423\n",
       "8    9        0.905863           0.754950    0.150912\n",
       "9   10        0.919901           0.727723    0.192178\n",
       "10  11        0.938068           0.715347    0.222721"
      ]
     },
     "execution_count": 23,
     "metadata": {},
     "output_type": "execute_result"
    }
   ],
   "source": [
    "dtc_scores"
   ]
  },
  {
   "cell_type": "code",
   "execution_count": 24,
   "metadata": {},
   "outputs": [],
   "source": [
    "#model with maximun sample leaf 6 @ 85% accuracy on validate is the best"
   ]
  },
  {
   "cell_type": "markdown",
   "metadata": {},
   "source": [
    "## Random Forest"
   ]
  },
  {
   "cell_type": "code",
   "execution_count": 25,
   "metadata": {},
   "outputs": [],
   "source": [
    "from importlib import reload"
   ]
  },
  {
   "cell_type": "code",
   "execution_count": 26,
   "metadata": {},
   "outputs": [
    {
     "data": {
      "text/plain": [
       "<module 'model' from '/Users/patricknash/codeup-data-science/top_200/model.py'>"
      ]
     },
     "execution_count": 26,
     "metadata": {},
     "output_type": "execute_result"
    }
   ],
   "source": [
    "reload(model)"
   ]
  },
  {
   "cell_type": "code",
   "execution_count": 27,
   "metadata": {},
   "outputs": [],
   "source": [
    "rf_scores = model.run_random_forest_models(X_train, y_train, X_validate, y_validate)"
   ]
  },
  {
   "cell_type": "code",
   "execution_count": 28,
   "metadata": {},
   "outputs": [
    {
     "data": {
      "text/html": [
       "<div>\n",
       "<style scoped>\n",
       "    .dataframe tbody tr th:only-of-type {\n",
       "        vertical-align: middle;\n",
       "    }\n",
       "\n",
       "    .dataframe tbody tr th {\n",
       "        vertical-align: top;\n",
       "    }\n",
       "\n",
       "    .dataframe thead th {\n",
       "        text-align: right;\n",
       "    }\n",
       "</style>\n",
       "<table border=\"1\" class=\"dataframe\">\n",
       "  <thead>\n",
       "    <tr style=\"text-align: right;\">\n",
       "      <th></th>\n",
       "      <th>max_depth</th>\n",
       "      <th>accuracy_train</th>\n",
       "      <th>accuracy_validate</th>\n",
       "      <th>difference</th>\n",
       "    </tr>\n",
       "  </thead>\n",
       "  <tbody>\n",
       "    <tr>\n",
       "      <th>0</th>\n",
       "      <td>5</td>\n",
       "      <td>0.819983</td>\n",
       "      <td>0.816832</td>\n",
       "      <td>0.003152</td>\n",
       "    </tr>\n",
       "    <tr>\n",
       "      <th>1</th>\n",
       "      <td>6</td>\n",
       "      <td>0.820809</td>\n",
       "      <td>0.816832</td>\n",
       "      <td>0.003978</td>\n",
       "    </tr>\n",
       "    <tr>\n",
       "      <th>2</th>\n",
       "      <td>7</td>\n",
       "      <td>0.827415</td>\n",
       "      <td>0.816832</td>\n",
       "      <td>0.010584</td>\n",
       "    </tr>\n",
       "    <tr>\n",
       "      <th>3</th>\n",
       "      <td>8</td>\n",
       "      <td>0.827415</td>\n",
       "      <td>0.816832</td>\n",
       "      <td>0.010584</td>\n",
       "    </tr>\n",
       "    <tr>\n",
       "      <th>4</th>\n",
       "      <td>9</td>\n",
       "      <td>0.849711</td>\n",
       "      <td>0.814356</td>\n",
       "      <td>0.035355</td>\n",
       "    </tr>\n",
       "    <tr>\n",
       "      <th>5</th>\n",
       "      <td>10</td>\n",
       "      <td>0.867878</td>\n",
       "      <td>0.816832</td>\n",
       "      <td>0.051046</td>\n",
       "    </tr>\n",
       "    <tr>\n",
       "      <th>6</th>\n",
       "      <td>11</td>\n",
       "      <td>0.890999</td>\n",
       "      <td>0.816832</td>\n",
       "      <td>0.074167</td>\n",
       "    </tr>\n",
       "    <tr>\n",
       "      <th>7</th>\n",
       "      <td>12</td>\n",
       "      <td>0.904211</td>\n",
       "      <td>0.816832</td>\n",
       "      <td>0.087380</td>\n",
       "    </tr>\n",
       "    <tr>\n",
       "      <th>8</th>\n",
       "      <td>13</td>\n",
       "      <td>0.925681</td>\n",
       "      <td>0.816832</td>\n",
       "      <td>0.108850</td>\n",
       "    </tr>\n",
       "    <tr>\n",
       "      <th>9</th>\n",
       "      <td>14</td>\n",
       "      <td>0.938068</td>\n",
       "      <td>0.816832</td>\n",
       "      <td>0.121236</td>\n",
       "    </tr>\n",
       "    <tr>\n",
       "      <th>10</th>\n",
       "      <td>15</td>\n",
       "      <td>0.950454</td>\n",
       "      <td>0.816832</td>\n",
       "      <td>0.133622</td>\n",
       "    </tr>\n",
       "    <tr>\n",
       "      <th>11</th>\n",
       "      <td>16</td>\n",
       "      <td>0.954583</td>\n",
       "      <td>0.819307</td>\n",
       "      <td>0.135276</td>\n",
       "    </tr>\n",
       "    <tr>\n",
       "      <th>12</th>\n",
       "      <td>17</td>\n",
       "      <td>0.967795</td>\n",
       "      <td>0.819307</td>\n",
       "      <td>0.148488</td>\n",
       "    </tr>\n",
       "    <tr>\n",
       "      <th>13</th>\n",
       "      <td>18</td>\n",
       "      <td>0.973576</td>\n",
       "      <td>0.816832</td>\n",
       "      <td>0.156744</td>\n",
       "    </tr>\n",
       "    <tr>\n",
       "      <th>14</th>\n",
       "      <td>19</td>\n",
       "      <td>0.974401</td>\n",
       "      <td>0.816832</td>\n",
       "      <td>0.157570</td>\n",
       "    </tr>\n",
       "  </tbody>\n",
       "</table>\n",
       "</div>"
      ],
      "text/plain": [
       "    max_depth  accuracy_train  accuracy_validate  difference\n",
       "0           5        0.819983           0.816832    0.003152\n",
       "1           6        0.820809           0.816832    0.003978\n",
       "2           7        0.827415           0.816832    0.010584\n",
       "3           8        0.827415           0.816832    0.010584\n",
       "4           9        0.849711           0.814356    0.035355\n",
       "5          10        0.867878           0.816832    0.051046\n",
       "6          11        0.890999           0.816832    0.074167\n",
       "7          12        0.904211           0.816832    0.087380\n",
       "8          13        0.925681           0.816832    0.108850\n",
       "9          14        0.938068           0.816832    0.121236\n",
       "10         15        0.950454           0.816832    0.133622\n",
       "11         16        0.954583           0.819307    0.135276\n",
       "12         17        0.967795           0.819307    0.148488\n",
       "13         18        0.973576           0.816832    0.156744\n",
       "14         19        0.974401           0.816832    0.157570"
      ]
     },
     "execution_count": 28,
     "metadata": {},
     "output_type": "execute_result"
    }
   ],
   "source": [
    "rf_scores"
   ]
  },
  {
   "cell_type": "code",
   "execution_count": 29,
   "metadata": {},
   "outputs": [],
   "source": [
    "#model with maximun sample leaf 10 @ 84% accuracy on validate is the best"
   ]
  },
  {
   "cell_type": "markdown",
   "metadata": {},
   "source": [
    "## KNeighborsClassifier"
   ]
  },
  {
   "cell_type": "code",
   "execution_count": 30,
   "metadata": {},
   "outputs": [
    {
     "data": {
      "text/plain": [
       "<module 'model' from '/Users/patricknash/codeup-data-science/top_200/model.py'>"
      ]
     },
     "execution_count": 30,
     "metadata": {},
     "output_type": "execute_result"
    }
   ],
   "source": [
    "reload(model)"
   ]
  },
  {
   "cell_type": "code",
   "execution_count": 31,
   "metadata": {},
   "outputs": [],
   "source": [
    "knn_scores = model.run_kneighbors_models(X_train, y_train, X_validate, y_validate)"
   ]
  },
  {
   "cell_type": "code",
   "execution_count": 32,
   "metadata": {},
   "outputs": [
    {
     "data": {
      "text/html": [
       "<div>\n",
       "<style scoped>\n",
       "    .dataframe tbody tr th:only-of-type {\n",
       "        vertical-align: middle;\n",
       "    }\n",
       "\n",
       "    .dataframe tbody tr th {\n",
       "        vertical-align: top;\n",
       "    }\n",
       "\n",
       "    .dataframe thead th {\n",
       "        text-align: right;\n",
       "    }\n",
       "</style>\n",
       "<table border=\"1\" class=\"dataframe\">\n",
       "  <thead>\n",
       "    <tr style=\"text-align: right;\">\n",
       "      <th></th>\n",
       "      <th>k</th>\n",
       "      <th>accuracy_train</th>\n",
       "      <th>accuracy_validate</th>\n",
       "      <th>difference</th>\n",
       "    </tr>\n",
       "  </thead>\n",
       "  <tbody>\n",
       "    <tr>\n",
       "      <th>0</th>\n",
       "      <td>1</td>\n",
       "      <td>1.000000</td>\n",
       "      <td>0.695545</td>\n",
       "      <td>0.304455</td>\n",
       "    </tr>\n",
       "    <tr>\n",
       "      <th>1</th>\n",
       "      <td>2</td>\n",
       "      <td>0.853014</td>\n",
       "      <td>0.789604</td>\n",
       "      <td>0.063410</td>\n",
       "    </tr>\n",
       "    <tr>\n",
       "      <th>2</th>\n",
       "      <td>3</td>\n",
       "      <td>0.852188</td>\n",
       "      <td>0.769802</td>\n",
       "      <td>0.082386</td>\n",
       "    </tr>\n",
       "    <tr>\n",
       "      <th>3</th>\n",
       "      <td>4</td>\n",
       "      <td>0.831544</td>\n",
       "      <td>0.799505</td>\n",
       "      <td>0.032039</td>\n",
       "    </tr>\n",
       "    <tr>\n",
       "      <th>4</th>\n",
       "      <td>5</td>\n",
       "      <td>0.830718</td>\n",
       "      <td>0.797030</td>\n",
       "      <td>0.033689</td>\n",
       "    </tr>\n",
       "    <tr>\n",
       "      <th>5</th>\n",
       "      <td>6</td>\n",
       "      <td>0.818332</td>\n",
       "      <td>0.806931</td>\n",
       "      <td>0.011401</td>\n",
       "    </tr>\n",
       "    <tr>\n",
       "      <th>6</th>\n",
       "      <td>7</td>\n",
       "      <td>0.816680</td>\n",
       "      <td>0.804455</td>\n",
       "      <td>0.012225</td>\n",
       "    </tr>\n",
       "    <tr>\n",
       "      <th>7</th>\n",
       "      <td>8</td>\n",
       "      <td>0.818332</td>\n",
       "      <td>0.811881</td>\n",
       "      <td>0.006451</td>\n",
       "    </tr>\n",
       "    <tr>\n",
       "      <th>8</th>\n",
       "      <td>9</td>\n",
       "      <td>0.819983</td>\n",
       "      <td>0.804455</td>\n",
       "      <td>0.015528</td>\n",
       "    </tr>\n",
       "  </tbody>\n",
       "</table>\n",
       "</div>"
      ],
      "text/plain": [
       "   k  accuracy_train  accuracy_validate  difference\n",
       "0  1        1.000000           0.695545    0.304455\n",
       "1  2        0.853014           0.789604    0.063410\n",
       "2  3        0.852188           0.769802    0.082386\n",
       "3  4        0.831544           0.799505    0.032039\n",
       "4  5        0.830718           0.797030    0.033689\n",
       "5  6        0.818332           0.806931    0.011401\n",
       "6  7        0.816680           0.804455    0.012225\n",
       "7  8        0.818332           0.811881    0.006451\n",
       "8  9        0.819983           0.804455    0.015528"
      ]
     },
     "execution_count": 32,
     "metadata": {},
     "output_type": "execute_result"
    }
   ],
   "source": [
    "knn_scores"
   ]
  },
  {
   "cell_type": "code",
   "execution_count": 33,
   "metadata": {},
   "outputs": [],
   "source": [
    "#KNN model with minimun sample leaf 9 @ 80% accuracy on validate is the best"
   ]
  },
  {
   "cell_type": "markdown",
   "metadata": {},
   "source": [
    "## Logistic Regression"
   ]
  },
  {
   "cell_type": "code",
   "execution_count": 34,
   "metadata": {},
   "outputs": [
    {
     "data": {
      "text/plain": [
       "<module 'model' from '/Users/patricknash/codeup-data-science/top_200/model.py'>"
      ]
     },
     "execution_count": 34,
     "metadata": {},
     "output_type": "execute_result"
    }
   ],
   "source": [
    "reload(model)"
   ]
  },
  {
   "cell_type": "code",
   "execution_count": 35,
   "metadata": {},
   "outputs": [],
   "source": [
    "lr_scores = model.run_logistic_reg_models(X_train, y_train, X_validate, y_validate)"
   ]
  },
  {
   "cell_type": "code",
   "execution_count": 36,
   "metadata": {},
   "outputs": [
    {
     "data": {
      "text/plain": [
       "{'accuracy_train': 0.8142031379025598,\n",
       " 'accuracy_validate': 0.8118811881188119,\n",
       " 'difference': 0.0023219497837478897}"
      ]
     },
     "execution_count": 36,
     "metadata": {},
     "output_type": "execute_result"
    }
   ],
   "source": [
    "lr_scores"
   ]
  },
  {
   "cell_type": "code",
   "execution_count": 37,
   "metadata": {},
   "outputs": [],
   "source": [
    "#Logistic Regression has 81% accuracy on validate"
   ]
  },
  {
   "cell_type": "markdown",
   "metadata": {},
   "source": [
    "## Test Model"
   ]
  },
  {
   "cell_type": "code",
   "execution_count": 38,
   "metadata": {},
   "outputs": [],
   "source": [
    "def run__on_test(X_train, y_train, X_test, y_test):\n",
    "    #create, fit, use, model information to model_features dfram\n",
    "    model = DecisionTreeClassifier(max_depth=6, random_state=123)\n",
    "    #features to be used\n",
    "\n",
    "    scaled_features = ['age','duration','num_of_tags','engagement','sponsored', 'title_in_description', \n",
    "        'title_in_tags','pct_tags_in_description', 'title_lengths', 'desc_lengths','tags_length',\n",
    "                     'channel_age','subscribers','video_count','content_rate','views_per_sub']\n",
    "    #fit model\n",
    "    model.fit(X_train, y_train)\n",
    "    #score model to add to model description dataframe\n",
    "    score = model.score(X_test, y_test).round(3)\n",
    "    \n",
    "    return score"
   ]
  },
  {
   "cell_type": "code",
   "execution_count": 39,
   "metadata": {},
   "outputs": [
    {
     "data": {
      "text/plain": [
       "0.772"
      ]
     },
     "execution_count": 39,
     "metadata": {},
     "output_type": "execute_result"
    }
   ],
   "source": [
    "run__on_test(X_train, y_train, X_test, y_test)"
   ]
  },
  {
   "cell_type": "code",
   "execution_count": 40,
   "metadata": {},
   "outputs": [
    {
     "data": {
      "text/plain": [
       "0.772"
      ]
     },
     "execution_count": 40,
     "metadata": {},
     "output_type": "execute_result"
    }
   ],
   "source": [
    "model.run__on_test(X_train, y_train, X_test, y_test)"
   ]
  },
  {
   "cell_type": "markdown",
   "metadata": {},
   "source": [
    "## Test Takeaways"
   ]
  },
  {
   "cell_type": "markdown",
   "metadata": {},
   "source": [
    "- Decision Tree Classifier model performed best on validate data with 94% accuracy, so we will use it on test data"
   ]
  },
  {
   "cell_type": "markdown",
   "metadata": {},
   "source": [
    "## Modeling Takeaways"
   ]
  },
  {
   "cell_type": "markdown",
   "metadata": {},
   "source": [
    "- All models had roughly almost the same accuracy for train and validate sets.\n",
    "- Logistic Regression model performed the worst on out-of-sample data.\n",
    "- The best performing model is Decision Tree Classifier.\n",
    "- However, from the above model analysis we can see that the highest accuracy is achieved by Decision Tree. It performs better than baseline by about 7%.\n",
    "\n",
    "- While this is an improvement there is still room for improvement in future iterations"
   ]
  }
 ],
 "metadata": {
  "kernelspec": {
   "display_name": "Python 3 (ipykernel)",
   "language": "python",
   "name": "python3"
  },
  "language_info": {
   "codemirror_mode": {
    "name": "ipython",
    "version": 3
   },
   "file_extension": ".py",
   "mimetype": "text/x-python",
   "name": "python",
   "nbconvert_exporter": "python",
   "pygments_lexer": "ipython3",
   "version": "3.9.12"
  },
  "vscode": {
   "interpreter": {
    "hash": "38cca0c38332a56087b24af0bc80247f4fced29cb4f7f437d91dc159adec9c4e"
   }
  }
 },
 "nbformat": 4,
 "nbformat_minor": 2
}
