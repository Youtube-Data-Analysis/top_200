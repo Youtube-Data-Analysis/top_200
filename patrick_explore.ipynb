{
 "cells": [
  {
   "cell_type": "code",
   "execution_count": 1,
   "metadata": {},
   "outputs": [],
   "source": [
    "import pandas as pd\n",
    "import numpy as np\n",
    "import time\n",
    "\n",
    "import seaborn as sns\n",
    "import matplotlib.pyplot as plt\n",
    "\n",
    "from wordcloud import WordCloud\n",
    "from bs4 import BeautifulSoup\n",
    "from wordcloud import WordCloud"
   ]
  },
  {
   "cell_type": "markdown",
   "metadata": {},
   "source": [
    "# Acquire"
   ]
  },
  {
   "cell_type": "code",
   "execution_count": 2,
   "metadata": {},
   "outputs": [],
   "source": [
    "#reading the list of videos contained in the csv file\n",
    "#df = pd.read_csv('vidz.csv')\n",
    "df = pd.read_pickle('prepared.pkl 3')\n",
    "#df.age = (df.age.dt.days * 24) + (df.age.dt.seconds/3600)\n",
    "#df.head()"
   ]
  },
  {
   "cell_type": "code",
   "execution_count": 3,
   "metadata": {},
   "outputs": [
    {
     "data": {
      "text/html": [
       "<div>\n",
       "<style scoped>\n",
       "    .dataframe tbody tr th:only-of-type {\n",
       "        vertical-align: middle;\n",
       "    }\n",
       "\n",
       "    .dataframe tbody tr th {\n",
       "        vertical-align: top;\n",
       "    }\n",
       "\n",
       "    .dataframe thead th {\n",
       "        text-align: right;\n",
       "    }\n",
       "</style>\n",
       "<table border=\"1\" class=\"dataframe\">\n",
       "  <thead>\n",
       "    <tr style=\"text-align: right;\">\n",
       "      <th></th>\n",
       "      <th>view_count</th>\n",
       "      <th>likes</th>\n",
       "      <th>comment_count</th>\n",
       "      <th>duration</th>\n",
       "      <th>rank</th>\n",
       "      <th>top_25</th>\n",
       "      <th>age</th>\n",
       "      <th>engagement</th>\n",
       "      <th>sponsored</th>\n",
       "      <th>num_of_tags</th>\n",
       "      <th>title_in_description</th>\n",
       "      <th>title_in_tags</th>\n",
       "      <th>pct_tags_in_description</th>\n",
       "      <th>title_lengths</th>\n",
       "      <th>desc_lengths</th>\n",
       "      <th>tags_length</th>\n",
       "    </tr>\n",
       "  </thead>\n",
       "  <tbody>\n",
       "    <tr>\n",
       "      <th>count</th>\n",
       "      <td>9.536000e+03</td>\n",
       "      <td>9.536000e+03</td>\n",
       "      <td>9536.000000</td>\n",
       "      <td>9536.000000</td>\n",
       "      <td>9536.000000</td>\n",
       "      <td>9536.000000</td>\n",
       "      <td>9536.000000</td>\n",
       "      <td>9536.000000</td>\n",
       "      <td>9536.000000</td>\n",
       "      <td>9536.000000</td>\n",
       "      <td>9536.000000</td>\n",
       "      <td>9536.0</td>\n",
       "      <td>9536.000000</td>\n",
       "      <td>9536.000000</td>\n",
       "      <td>9536.000000</td>\n",
       "      <td>9536.000000</td>\n",
       "    </tr>\n",
       "    <tr>\n",
       "      <th>mean</th>\n",
       "      <td>1.779124e+06</td>\n",
       "      <td>9.925498e+04</td>\n",
       "      <td>6683.649958</td>\n",
       "      <td>1820.269820</td>\n",
       "      <td>98.176174</td>\n",
       "      <td>0.128461</td>\n",
       "      <td>102.612389</td>\n",
       "      <td>0.065251</td>\n",
       "      <td>0.036808</td>\n",
       "      <td>16.321204</td>\n",
       "      <td>0.121959</td>\n",
       "      <td>0.0</td>\n",
       "      <td>0.147613</td>\n",
       "      <td>53.846791</td>\n",
       "      <td>983.890835</td>\n",
       "      <td>201.027580</td>\n",
       "    </tr>\n",
       "    <tr>\n",
       "      <th>std</th>\n",
       "      <td>4.587557e+06</td>\n",
       "      <td>3.483588e+05</td>\n",
       "      <td>35350.140816</td>\n",
       "      <td>4504.838662</td>\n",
       "      <td>56.767043</td>\n",
       "      <td>0.334619</td>\n",
       "      <td>82.934613</td>\n",
       "      <td>0.048237</td>\n",
       "      <td>0.188300</td>\n",
       "      <td>13.563358</td>\n",
       "      <td>0.327255</td>\n",
       "      <td>0.0</td>\n",
       "      <td>0.180294</td>\n",
       "      <td>22.725800</td>\n",
       "      <td>891.168218</td>\n",
       "      <td>167.614606</td>\n",
       "    </tr>\n",
       "    <tr>\n",
       "      <th>min</th>\n",
       "      <td>2.398700e+04</td>\n",
       "      <td>0.000000e+00</td>\n",
       "      <td>0.000000</td>\n",
       "      <td>60.000000</td>\n",
       "      <td>1.000000</td>\n",
       "      <td>0.000000</td>\n",
       "      <td>-9.007222</td>\n",
       "      <td>0.000000</td>\n",
       "      <td>0.000000</td>\n",
       "      <td>1.000000</td>\n",
       "      <td>0.000000</td>\n",
       "      <td>0.0</td>\n",
       "      <td>0.000000</td>\n",
       "      <td>2.000000</td>\n",
       "      <td>1.000000</td>\n",
       "      <td>0.000000</td>\n",
       "    </tr>\n",
       "    <tr>\n",
       "      <th>25%</th>\n",
       "      <td>2.516395e+05</td>\n",
       "      <td>8.224250e+03</td>\n",
       "      <td>447.750000</td>\n",
       "      <td>258.000000</td>\n",
       "      <td>49.000000</td>\n",
       "      <td>0.000000</td>\n",
       "      <td>43.011667</td>\n",
       "      <td>0.026920</td>\n",
       "      <td>0.000000</td>\n",
       "      <td>5.000000</td>\n",
       "      <td>0.000000</td>\n",
       "      <td>0.0</td>\n",
       "      <td>0.000000</td>\n",
       "      <td>37.000000</td>\n",
       "      <td>381.000000</td>\n",
       "      <td>46.000000</td>\n",
       "    </tr>\n",
       "    <tr>\n",
       "      <th>50%</th>\n",
       "      <td>6.102620e+05</td>\n",
       "      <td>2.167200e+04</td>\n",
       "      <td>1265.000000</td>\n",
       "      <td>752.000000</td>\n",
       "      <td>98.000000</td>\n",
       "      <td>0.000000</td>\n",
       "      <td>85.998333</td>\n",
       "      <td>0.056084</td>\n",
       "      <td>0.000000</td>\n",
       "      <td>14.000000</td>\n",
       "      <td>0.000000</td>\n",
       "      <td>0.0</td>\n",
       "      <td>0.083333</td>\n",
       "      <td>51.000000</td>\n",
       "      <td>686.000000</td>\n",
       "      <td>163.000000</td>\n",
       "    </tr>\n",
       "    <tr>\n",
       "      <th>75%</th>\n",
       "      <td>1.469658e+06</td>\n",
       "      <td>6.241200e+04</td>\n",
       "      <td>3203.750000</td>\n",
       "      <td>1335.000000</td>\n",
       "      <td>146.000000</td>\n",
       "      <td>0.000000</td>\n",
       "      <td>131.181111</td>\n",
       "      <td>0.087857</td>\n",
       "      <td>0.000000</td>\n",
       "      <td>24.000000</td>\n",
       "      <td>0.000000</td>\n",
       "      <td>0.0</td>\n",
       "      <td>0.230769</td>\n",
       "      <td>69.000000</td>\n",
       "      <td>1318.000000</td>\n",
       "      <td>375.000000</td>\n",
       "    </tr>\n",
       "    <tr>\n",
       "      <th>max</th>\n",
       "      <td>9.585492e+07</td>\n",
       "      <td>4.383754e+06</td>\n",
       "      <td>506826.000000</td>\n",
       "      <td>39938.000000</td>\n",
       "      <td>200.000000</td>\n",
       "      <td>1.000000</td>\n",
       "      <td>713.496667</td>\n",
       "      <td>0.416443</td>\n",
       "      <td>1.000000</td>\n",
       "      <td>119.000000</td>\n",
       "      <td>1.000000</td>\n",
       "      <td>0.0</td>\n",
       "      <td>1.000000</td>\n",
       "      <td>100.000000</td>\n",
       "      <td>4919.000000</td>\n",
       "      <td>499.000000</td>\n",
       "    </tr>\n",
       "  </tbody>\n",
       "</table>\n",
       "</div>"
      ],
      "text/plain": [
       "         view_count         likes  comment_count      duration         rank  \\\n",
       "count  9.536000e+03  9.536000e+03    9536.000000   9536.000000  9536.000000   \n",
       "mean   1.779124e+06  9.925498e+04    6683.649958   1820.269820    98.176174   \n",
       "std    4.587557e+06  3.483588e+05   35350.140816   4504.838662    56.767043   \n",
       "min    2.398700e+04  0.000000e+00       0.000000     60.000000     1.000000   \n",
       "25%    2.516395e+05  8.224250e+03     447.750000    258.000000    49.000000   \n",
       "50%    6.102620e+05  2.167200e+04    1265.000000    752.000000    98.000000   \n",
       "75%    1.469658e+06  6.241200e+04    3203.750000   1335.000000   146.000000   \n",
       "max    9.585492e+07  4.383754e+06  506826.000000  39938.000000   200.000000   \n",
       "\n",
       "            top_25          age   engagement    sponsored  num_of_tags  \\\n",
       "count  9536.000000  9536.000000  9536.000000  9536.000000  9536.000000   \n",
       "mean      0.128461   102.612389     0.065251     0.036808    16.321204   \n",
       "std       0.334619    82.934613     0.048237     0.188300    13.563358   \n",
       "min       0.000000    -9.007222     0.000000     0.000000     1.000000   \n",
       "25%       0.000000    43.011667     0.026920     0.000000     5.000000   \n",
       "50%       0.000000    85.998333     0.056084     0.000000    14.000000   \n",
       "75%       0.000000   131.181111     0.087857     0.000000    24.000000   \n",
       "max       1.000000   713.496667     0.416443     1.000000   119.000000   \n",
       "\n",
       "       title_in_description  title_in_tags  pct_tags_in_description  \\\n",
       "count           9536.000000         9536.0              9536.000000   \n",
       "mean               0.121959            0.0                 0.147613   \n",
       "std                0.327255            0.0                 0.180294   \n",
       "min                0.000000            0.0                 0.000000   \n",
       "25%                0.000000            0.0                 0.000000   \n",
       "50%                0.000000            0.0                 0.083333   \n",
       "75%                0.000000            0.0                 0.230769   \n",
       "max                1.000000            0.0                 1.000000   \n",
       "\n",
       "       title_lengths  desc_lengths  tags_length  \n",
       "count    9536.000000   9536.000000  9536.000000  \n",
       "mean       53.846791    983.890835   201.027580  \n",
       "std        22.725800    891.168218   167.614606  \n",
       "min         2.000000      1.000000     0.000000  \n",
       "25%        37.000000    381.000000    46.000000  \n",
       "50%        51.000000    686.000000   163.000000  \n",
       "75%        69.000000   1318.000000   375.000000  \n",
       "max       100.000000   4919.000000   499.000000  "
      ]
     },
     "execution_count": 3,
     "metadata": {},
     "output_type": "execute_result"
    }
   ],
   "source": [
    "# \".describe()\" shows the basic statistical description for each \n",
    "#column that is calculable\n",
    "df.describe()"
   ]
  },
  {
   "cell_type": "code",
   "execution_count": 4,
   "metadata": {},
   "outputs": [
    {
     "data": {
      "text/plain": [
       "Index(['video_id', 'title', 'publishedAt', 'channelTitle', 'categoryId',\n",
       "       'trending_date', 'tags', 'view_count', 'likes', 'comment_count',\n",
       "       'thumbnail_link', 'comments_disabled', 'ratings_disabled',\n",
       "       'description', 'duration', 'captions', 'region', 'rank', 'top_25',\n",
       "       'age', 'engagement', 'sponsored', 'num_of_tags', 'word_bank',\n",
       "       'cleaned_tags', 'cleaned_desc', 'title_in_description', 'title_in_tags',\n",
       "       'pct_tags_in_description', 'title_lengths', 'desc_lengths',\n",
       "       'tags_length'],\n",
       "      dtype='object')"
      ]
     },
     "execution_count": 4,
     "metadata": {},
     "output_type": "execute_result"
    }
   ],
   "source": [
    "df.columns"
   ]
  },
  {
   "cell_type": "code",
   "execution_count": 5,
   "metadata": {},
   "outputs": [
    {
     "data": {
      "text/plain": [
       "video_id                                object\n",
       "title                                   object\n",
       "publishedAt                datetime64[ns, UTC]\n",
       "channelTitle                            object\n",
       "categoryId                              object\n",
       "trending_date              datetime64[ns, UTC]\n",
       "tags                                    object\n",
       "view_count                               int64\n",
       "likes                                    int64\n",
       "comment_count                            int64\n",
       "thumbnail_link                          object\n",
       "comments_disabled                         bool\n",
       "ratings_disabled                          bool\n",
       "description                             object\n",
       "duration                                 int64\n",
       "captions                                  bool\n",
       "region                                  object\n",
       "rank                                     int64\n",
       "top_25                                   int64\n",
       "age                                    float64\n",
       "engagement                             float64\n",
       "sponsored                                int64\n",
       "num_of_tags                              int64\n",
       "word_bank                               object\n",
       "cleaned_tags                            object\n",
       "cleaned_desc                            object\n",
       "title_in_description                     int64\n",
       "title_in_tags                            int64\n",
       "pct_tags_in_description                float64\n",
       "title_lengths                            int64\n",
       "desc_lengths                             int64\n",
       "tags_length                              int64\n",
       "dtype: object"
      ]
     },
     "execution_count": 5,
     "metadata": {},
     "output_type": "execute_result"
    }
   ],
   "source": [
    "#check data type\n",
    "df.dtypes"
   ]
  },
  {
   "cell_type": "code",
   "execution_count": 6,
   "metadata": {},
   "outputs": [
    {
     "data": {
      "text/html": [
       "<div>\n",
       "<style scoped>\n",
       "    .dataframe tbody tr th:only-of-type {\n",
       "        vertical-align: middle;\n",
       "    }\n",
       "\n",
       "    .dataframe tbody tr th {\n",
       "        vertical-align: top;\n",
       "    }\n",
       "\n",
       "    .dataframe thead th {\n",
       "        text-align: right;\n",
       "    }\n",
       "</style>\n",
       "<table border=\"1\" class=\"dataframe\">\n",
       "  <thead>\n",
       "    <tr style=\"text-align: right;\">\n",
       "      <th></th>\n",
       "      <th>video_id</th>\n",
       "      <th>title</th>\n",
       "      <th>publishedAt</th>\n",
       "      <th>channelTitle</th>\n",
       "      <th>categoryId</th>\n",
       "      <th>trending_date</th>\n",
       "      <th>tags</th>\n",
       "      <th>view_count</th>\n",
       "      <th>likes</th>\n",
       "      <th>comment_count</th>\n",
       "      <th>...</th>\n",
       "      <th>num_of_tags</th>\n",
       "      <th>word_bank</th>\n",
       "      <th>cleaned_tags</th>\n",
       "      <th>cleaned_desc</th>\n",
       "      <th>title_in_description</th>\n",
       "      <th>title_in_tags</th>\n",
       "      <th>pct_tags_in_description</th>\n",
       "      <th>title_lengths</th>\n",
       "      <th>desc_lengths</th>\n",
       "      <th>tags_length</th>\n",
       "    </tr>\n",
       "  </thead>\n",
       "  <tbody>\n",
       "    <tr>\n",
       "      <th>0</th>\n",
       "      <td>sWwHWK7OYJ8</td>\n",
       "      <td>[ENG][아형✪하이라이트] (여자)아이들 완전체 떴다↗ 멋짐 폭발♥ 5인 5색 토...</td>\n",
       "      <td>2022-10-29 13:26:44+00:00</td>\n",
       "      <td>아는형님 Knowingbros</td>\n",
       "      <td>Entertainment</td>\n",
       "      <td>2022-11-02 00:00:00+00:00</td>\n",
       "      <td>아는 형님 형님 형님 학교 미연 민니 소연 우기 슈화 아이들 여자아이들 강호동 이수...</td>\n",
       "      <td>1098919</td>\n",
       "      <td>19090</td>\n",
       "      <td>861</td>\n",
       "      <td>...</td>\n",
       "      <td>67</td>\n",
       "      <td>[[, 아형, ✪, 하이라이트, 여자)아이들, 완전체, 떴다, ↗, 멋짐, 폭발, ...</td>\n",
       "      <td>{변태는너야, 외국인, 민니아는형님, 사랑, Nxde, 언니, 거울, 슈화아는형님,...</td>\n",
       "      <td>{공홈에서, 50분, 5색, 저녁, 하이라이트, 아형, 토크하이라이트, 본, #, ...</td>\n",
       "      <td>0</td>\n",
       "      <td>0</td>\n",
       "      <td>0.013889</td>\n",
       "      <td>79</td>\n",
       "      <td>200</td>\n",
       "      <td>325</td>\n",
       "    </tr>\n",
       "    <tr>\n",
       "      <th>1</th>\n",
       "      <td>1_VsbIFIh8U</td>\n",
       "      <td>10 Things Jin (진) of BTS (방탄소년단) Can't Live Wi...</td>\n",
       "      <td>2022-10-31 16:00:16+00:00</td>\n",
       "      <td>GQ</td>\n",
       "      <td>Entertainment</td>\n",
       "      <td>2022-11-02 00:00:00+00:00</td>\n",
       "      <td>(방탄소년단) (방탄소년단) gq 10 essentials 10 essentials...</td>\n",
       "      <td>1670293</td>\n",
       "      <td>231953</td>\n",
       "      <td>6345</td>\n",
       "      <td>...</td>\n",
       "      <td>35</td>\n",
       "      <td>[There, are, few, things, Jin, 진, of, BTS, ca,...</td>\n",
       "      <td>{buyers, gq10essentials, interview, style, 방탄소...</td>\n",
       "      <td>{limited, bag, https://bit.ly/2xNBH3i\\rJoin th...</td>\n",
       "      <td>0</td>\n",
       "      <td>0</td>\n",
       "      <td>0.371429</td>\n",
       "      <td>56</td>\n",
       "      <td>983</td>\n",
       "      <td>380</td>\n",
       "    </tr>\n",
       "    <tr>\n",
       "      <th>2</th>\n",
       "      <td>SFVzIrEYQKU</td>\n",
       "      <td>[#편스토랑] 박수홍 신혼집 대공개❤ 애정 가득한 인테리어에 깨소금 냄새!!|KBS...</td>\n",
       "      <td>2022-10-29 09:30:05+00:00</td>\n",
       "      <td>KBS 한국방송</td>\n",
       "      <td>Entertainment</td>\n",
       "      <td>2022-11-02 00:00:00+00:00</td>\n",
       "      <td>KBS 한국방송공사 mylovekbs 예고 티저 김나영 붐 나영 수홍 박수홍엄마 유...</td>\n",
       "      <td>841292</td>\n",
       "      <td>12902</td>\n",
       "      <td>1378</td>\n",
       "      <td>...</td>\n",
       "      <td>26</td>\n",
       "      <td>[박수홍, 신혼집, 대공개, ❤, 애정, 가득한, 인테리어에, 깨소금, 냄새!!0:...</td>\n",
       "      <td>{박수홍엄마, 편스, 차예련, 대접요리, 편의점, 붐, 신혼집, KBS, 티저, m...</td>\n",
       "      <td>{냄새!!0:56, 따개비, 선물6:47 따개비, 신혼집, 빠금장, 지인분들의, 방...</td>\n",
       "      <td>0</td>\n",
       "      <td>0</td>\n",
       "      <td>0.111111</td>\n",
       "      <td>56</td>\n",
       "      <td>147</td>\n",
       "      <td>115</td>\n",
       "    </tr>\n",
       "    <tr>\n",
       "      <th>3</th>\n",
       "      <td>c6ASQOwKkhk</td>\n",
       "      <td>진 (Jin) 'The Astronaut' Official MV</td>\n",
       "      <td>2022-10-28 04:00:01+00:00</td>\n",
       "      <td>HYBE LABELS</td>\n",
       "      <td>Music</td>\n",
       "      <td>2022-11-02 00:00:00+00:00</td>\n",
       "      <td>HYBE HYBE LABELS 하이브 하이브레이블즈</td>\n",
       "      <td>30998614</td>\n",
       "      <td>4340713</td>\n",
       "      <td>501383</td>\n",
       "      <td>...</td>\n",
       "      <td>4</td>\n",
       "      <td>[진, Jin, Astronaut, ', Official, MVCredits,  ,...</td>\n",
       "      <td>{HYBE, 하이브, 하이브레이블즈, HYBE HYBE, LABELS}</td>\n",
       "      <td>{DeverianProduction, video, Kim Kyeong SeokLig...</td>\n",
       "      <td>1</td>\n",
       "      <td>0</td>\n",
       "      <td>0.000000</td>\n",
       "      <td>35</td>\n",
       "      <td>2816</td>\n",
       "      <td>28</td>\n",
       "    </tr>\n",
       "    <tr>\n",
       "      <th>4</th>\n",
       "      <td>CYn8OlO7cbg</td>\n",
       "      <td>솔의눈 슬러시가 최약체인 키친마이야르 시즌3 신메뉴 제작기</td>\n",
       "      <td>2022-10-31 11:15:01+00:00</td>\n",
       "      <td>승우아빠</td>\n",
       "      <td>Entertainment</td>\n",
       "      <td>2022-11-02 00:00:00+00:00</td>\n",
       "      <td>승우아빠 키친마이야르 시즌3메뉴 신메뉴 키친마이야르 신메뉴 솔의눈 솔의눈 슬러시 키...</td>\n",
       "      <td>343269</td>\n",
       "      <td>5389</td>\n",
       "      <td>581</td>\n",
       "      <td>...</td>\n",
       "      <td>11</td>\n",
       "      <td>[승우아빠, 키친마이야르, #, 시즌3오늘은, 키친마이야르, 시즌3의, 신, 메뉴,...</td>\n",
       "      <td>{승우아빠, 키친마이야르, 솔의눈, 시즌3메뉴, 내꺼내먹, 슬러시, 신메뉴}</td>\n",
       "      <td>{목진화, 문의, 강남구, 서울시, 리뷰는, 생방송 https://www.twitc...</td>\n",
       "      <td>0</td>\n",
       "      <td>0</td>\n",
       "      <td>0.285714</td>\n",
       "      <td>32</td>\n",
       "      <td>235</td>\n",
       "      <td>84</td>\n",
       "    </tr>\n",
       "  </tbody>\n",
       "</table>\n",
       "<p>5 rows × 32 columns</p>\n",
       "</div>"
      ],
      "text/plain": [
       "      video_id                                              title  \\\n",
       "0  sWwHWK7OYJ8  [ENG][아형✪하이라이트] (여자)아이들 완전체 떴다↗ 멋짐 폭발♥ 5인 5색 토...   \n",
       "1  1_VsbIFIh8U  10 Things Jin (진) of BTS (방탄소년단) Can't Live Wi...   \n",
       "2  SFVzIrEYQKU  [#편스토랑] 박수홍 신혼집 대공개❤ 애정 가득한 인테리어에 깨소금 냄새!!|KBS...   \n",
       "3  c6ASQOwKkhk                진 (Jin) 'The Astronaut' Official MV   \n",
       "4  CYn8OlO7cbg                   솔의눈 슬러시가 최약체인 키친마이야르 시즌3 신메뉴 제작기   \n",
       "\n",
       "                publishedAt      channelTitle     categoryId  \\\n",
       "0 2022-10-29 13:26:44+00:00  아는형님 Knowingbros  Entertainment   \n",
       "1 2022-10-31 16:00:16+00:00                GQ  Entertainment   \n",
       "2 2022-10-29 09:30:05+00:00          KBS 한국방송  Entertainment   \n",
       "3 2022-10-28 04:00:01+00:00       HYBE LABELS          Music   \n",
       "4 2022-10-31 11:15:01+00:00              승우아빠  Entertainment   \n",
       "\n",
       "              trending_date  \\\n",
       "0 2022-11-02 00:00:00+00:00   \n",
       "1 2022-11-02 00:00:00+00:00   \n",
       "2 2022-11-02 00:00:00+00:00   \n",
       "3 2022-11-02 00:00:00+00:00   \n",
       "4 2022-11-02 00:00:00+00:00   \n",
       "\n",
       "                                                tags  view_count    likes  \\\n",
       "0  아는 형님 형님 형님 학교 미연 민니 소연 우기 슈화 아이들 여자아이들 강호동 이수...     1098919    19090   \n",
       "1  (방탄소년단) (방탄소년단) gq 10 essentials 10 essentials...     1670293   231953   \n",
       "2  KBS 한국방송공사 mylovekbs 예고 티저 김나영 붐 나영 수홍 박수홍엄마 유...      841292    12902   \n",
       "3                       HYBE HYBE LABELS 하이브 하이브레이블즈    30998614  4340713   \n",
       "4  승우아빠 키친마이야르 시즌3메뉴 신메뉴 키친마이야르 신메뉴 솔의눈 솔의눈 슬러시 키...      343269     5389   \n",
       "\n",
       "   comment_count  ... num_of_tags  \\\n",
       "0            861  ...          67   \n",
       "1           6345  ...          35   \n",
       "2           1378  ...          26   \n",
       "3         501383  ...           4   \n",
       "4            581  ...          11   \n",
       "\n",
       "                                           word_bank  \\\n",
       "0  [[, 아형, ✪, 하이라이트, 여자)아이들, 완전체, 떴다, ↗, 멋짐, 폭발, ...   \n",
       "1  [There, are, few, things, Jin, 진, of, BTS, ca,...   \n",
       "2  [박수홍, 신혼집, 대공개, ❤, 애정, 가득한, 인테리어에, 깨소금, 냄새!!0:...   \n",
       "3  [진, Jin, Astronaut, ', Official, MVCredits,  ,...   \n",
       "4  [승우아빠, 키친마이야르, #, 시즌3오늘은, 키친마이야르, 시즌3의, 신, 메뉴,...   \n",
       "\n",
       "                                        cleaned_tags  \\\n",
       "0  {변태는너야, 외국인, 민니아는형님, 사랑, Nxde, 언니, 거울, 슈화아는형님,...   \n",
       "1  {buyers, gq10essentials, interview, style, 방탄소...   \n",
       "2  {박수홍엄마, 편스, 차예련, 대접요리, 편의점, 붐, 신혼집, KBS, 티저, m...   \n",
       "3            {HYBE, 하이브, 하이브레이블즈, HYBE HYBE, LABELS}   \n",
       "4         {승우아빠, 키친마이야르, 솔의눈, 시즌3메뉴, 내꺼내먹, 슬러시, 신메뉴}   \n",
       "\n",
       "                                        cleaned_desc  title_in_description  \\\n",
       "0  {공홈에서, 50분, 5색, 저녁, 하이라이트, 아형, 토크하이라이트, 본, #, ...                     0   \n",
       "1  {limited, bag, https://bit.ly/2xNBH3i\\rJoin th...                     0   \n",
       "2  {냄새!!0:56, 따개비, 선물6:47 따개비, 신혼집, 빠금장, 지인분들의, 방...                     0   \n",
       "3  {DeverianProduction, video, Kim Kyeong SeokLig...                     1   \n",
       "4  {목진화, 문의, 강남구, 서울시, 리뷰는, 생방송 https://www.twitc...                     0   \n",
       "\n",
       "   title_in_tags pct_tags_in_description  title_lengths  desc_lengths  \\\n",
       "0              0                0.013889             79           200   \n",
       "1              0                0.371429             56           983   \n",
       "2              0                0.111111             56           147   \n",
       "3              0                0.000000             35          2816   \n",
       "4              0                0.285714             32           235   \n",
       "\n",
       "   tags_length  \n",
       "0          325  \n",
       "1          380  \n",
       "2          115  \n",
       "3           28  \n",
       "4           84  \n",
       "\n",
       "[5 rows x 32 columns]"
      ]
     },
     "execution_count": 6,
     "metadata": {},
     "output_type": "execute_result"
    }
   ],
   "source": [
    "#check \n",
    "# \".head\" after the data name shows 5 rows of the uploaded dataset\n",
    "df.head()"
   ]
  },
  {
   "cell_type": "markdown",
   "metadata": {},
   "source": [
    "## Prepare"
   ]
  },
  {
   "cell_type": "markdown",
   "metadata": {},
   "source": [
    "## Convert to datetime --> ppublised at, trending date, duration (timedelta)"
   ]
  },
  {
   "cell_type": "code",
   "execution_count": 7,
   "metadata": {},
   "outputs": [
    {
     "data": {
      "text/plain": [
       "789    -9.007222\n",
       "787    -8.000278\n",
       "4081   -6.067778\n",
       "762    -6.067778\n",
       "798    -6.003056\n",
       "6052   -6.003056\n",
       "600    -5.521944\n",
       "3921   -5.521944\n",
       "654    -5.502500\n",
       "3975   -5.502500\n",
       "Name: age, dtype: float64"
      ]
     },
     "execution_count": 7,
     "metadata": {},
     "output_type": "execute_result"
    }
   ],
   "source": [
    "df.age.sort_values().head(10)"
   ]
  },
  {
   "cell_type": "code",
   "execution_count": 8,
   "metadata": {},
   "outputs": [
    {
     "data": {
      "text/plain": [
       "0       0.020506\n",
       "1       0.154065\n",
       "2       0.021888\n",
       "3       0.204727\n",
       "4       0.022469\n",
       "          ...   \n",
       "9531    0.015714\n",
       "9532    0.037060\n",
       "9533    0.082704\n",
       "9534    0.066036\n",
       "9535    0.064973\n",
       "Name: engagement, Length: 9536, dtype: float64"
      ]
     },
     "execution_count": 8,
     "metadata": {},
     "output_type": "execute_result"
    }
   ],
   "source": [
    "df.engagement"
   ]
  },
  {
   "cell_type": "code",
   "execution_count": 9,
   "metadata": {},
   "outputs": [],
   "source": [
    "#Imports spacy\n",
    "import spacy"
   ]
  },
  {
   "cell_type": "code",
   "execution_count": 10,
   "metadata": {},
   "outputs": [],
   "source": [
    "#creates the nlp object that is going to do the heavy lifting\n",
    "nlp = spacy.load(\"en_core_web_sm\")"
   ]
  },
  {
   "cell_type": "markdown",
   "metadata": {},
   "source": [
    "## Think about combining the countries top 25 lists and control for duplicates. \n",
    "* This way we can classify what videos have been a top 25 video \n"
   ]
  },
  {
   "cell_type": "markdown",
   "metadata": {},
   "source": [
    "## We can target placing videos in/out of the top 25 \n"
   ]
  },
  {
   "cell_type": "code",
   "execution_count": 11,
   "metadata": {},
   "outputs": [],
   "source": [
    "#create rank and top 25 categories"
   ]
  },
  {
   "cell_type": "code",
   "execution_count": 12,
   "metadata": {},
   "outputs": [
    {
     "data": {
      "text/plain": [
       "0       1\n",
       "1       1\n",
       "2       1\n",
       "3       1\n",
       "4       1\n",
       "       ..\n",
       "9531    0\n",
       "9532    0\n",
       "9533    0\n",
       "9534    0\n",
       "9535    0\n",
       "Name: top_25, Length: 9536, dtype: int64"
      ]
     },
     "execution_count": 12,
     "metadata": {},
     "output_type": "execute_result"
    }
   ],
   "source": [
    "df.top_25"
   ]
  },
  {
   "cell_type": "markdown",
   "metadata": {},
   "source": [
    "## Convert Duration"
   ]
  },
  {
   "cell_type": "code",
   "execution_count": 13,
   "metadata": {},
   "outputs": [
    {
     "data": {
      "text/plain": [
       "0     1281\n",
       "1      489\n",
       "2      788\n",
       "3      320\n",
       "4      989\n",
       "5      675\n",
       "6      946\n",
       "7      341\n",
       "8      663\n",
       "9      721\n",
       "10     563\n",
       "11     519\n",
       "12     564\n",
       "13    2001\n",
       "14    1147\n",
       "15    1139\n",
       "16     208\n",
       "17     863\n",
       "18     729\n",
       "19    1206\n",
       "Name: duration, dtype: int64"
      ]
     },
     "execution_count": 13,
     "metadata": {},
     "output_type": "execute_result"
    }
   ],
   "source": [
    "df.duration.head(20)"
   ]
  },
  {
   "cell_type": "code",
   "execution_count": 14,
   "metadata": {},
   "outputs": [
    {
     "data": {
      "text/plain": [
       "0       1281\n",
       "1        489\n",
       "2        788\n",
       "3        320\n",
       "4        989\n",
       "        ... \n",
       "9531    2758\n",
       "9532    1209\n",
       "9533     986\n",
       "9534     708\n",
       "9535     962\n",
       "Name: duration, Length: 9536, dtype: int64"
      ]
     },
     "execution_count": 14,
     "metadata": {},
     "output_type": "execute_result"
    }
   ],
   "source": [
    "df['duration']"
   ]
  },
  {
   "cell_type": "code",
   "execution_count": 15,
   "metadata": {},
   "outputs": [
    {
     "name": "stdout",
     "output_type": "stream",
     "text": [
      "<class 'pandas.core.frame.DataFrame'>\n",
      "RangeIndex: 9536 entries, 0 to 9535\n",
      "Data columns (total 32 columns):\n",
      " #   Column                   Non-Null Count  Dtype              \n",
      "---  ------                   --------------  -----              \n",
      " 0   video_id                 9536 non-null   object             \n",
      " 1   title                    9536 non-null   object             \n",
      " 2   publishedAt              9536 non-null   datetime64[ns, UTC]\n",
      " 3   channelTitle             9536 non-null   object             \n",
      " 4   categoryId               9536 non-null   object             \n",
      " 5   trending_date            9536 non-null   datetime64[ns, UTC]\n",
      " 6   tags                     9536 non-null   object             \n",
      " 7   view_count               9536 non-null   int64              \n",
      " 8   likes                    9536 non-null   int64              \n",
      " 9   comment_count            9536 non-null   int64              \n",
      " 10  thumbnail_link           9536 non-null   object             \n",
      " 11  comments_disabled        9536 non-null   bool               \n",
      " 12  ratings_disabled         9536 non-null   bool               \n",
      " 13  description              9536 non-null   object             \n",
      " 14  duration                 9536 non-null   int64              \n",
      " 15  captions                 9536 non-null   bool               \n",
      " 16  region                   9536 non-null   object             \n",
      " 17  rank                     9536 non-null   int64              \n",
      " 18  top_25                   9536 non-null   int64              \n",
      " 19  age                      9536 non-null   float64            \n",
      " 20  engagement               9536 non-null   float64            \n",
      " 21  sponsored                9536 non-null   int64              \n",
      " 22  num_of_tags              9536 non-null   int64              \n",
      " 23  word_bank                9536 non-null   object             \n",
      " 24  cleaned_tags             9536 non-null   object             \n",
      " 25  cleaned_desc             9536 non-null   object             \n",
      " 26  title_in_description     9536 non-null   int64              \n",
      " 27  title_in_tags            9536 non-null   int64              \n",
      " 28  pct_tags_in_description  9536 non-null   float64            \n",
      " 29  title_lengths            9536 non-null   int64              \n",
      " 30  desc_lengths             9536 non-null   int64              \n",
      " 31  tags_length              9536 non-null   int64              \n",
      "dtypes: bool(3), datetime64[ns, UTC](2), float64(3), int64(13), object(11)\n",
      "memory usage: 2.1+ MB\n"
     ]
    }
   ],
   "source": [
    "df.info()"
   ]
  },
  {
   "cell_type": "code",
   "execution_count": 16,
   "metadata": {},
   "outputs": [
    {
     "data": {
      "text/plain": [
       "video_id                   0\n",
       "title                      0\n",
       "publishedAt                0\n",
       "channelTitle               0\n",
       "categoryId                 0\n",
       "trending_date              0\n",
       "tags                       0\n",
       "view_count                 0\n",
       "likes                      0\n",
       "comment_count              0\n",
       "thumbnail_link             0\n",
       "comments_disabled          0\n",
       "ratings_disabled           0\n",
       "description                0\n",
       "duration                   0\n",
       "captions                   0\n",
       "region                     0\n",
       "rank                       0\n",
       "top_25                     0\n",
       "age                        0\n",
       "engagement                 0\n",
       "sponsored                  0\n",
       "num_of_tags                0\n",
       "word_bank                  0\n",
       "cleaned_tags               0\n",
       "cleaned_desc               0\n",
       "title_in_description       0\n",
       "title_in_tags              0\n",
       "pct_tags_in_description    0\n",
       "title_lengths              0\n",
       "desc_lengths               0\n",
       "tags_length                0\n",
       "dtype: int64"
      ]
     },
     "execution_count": 16,
     "metadata": {},
     "output_type": "execute_result"
    }
   ],
   "source": [
    "df.isna().sum()"
   ]
  },
  {
   "cell_type": "code",
   "execution_count": 17,
   "metadata": {},
   "outputs": [],
   "source": [
    "#Remove NA Values\n",
    "df.dropna(inplace = True)"
   ]
  },
  {
   "cell_type": "code",
   "execution_count": 18,
   "metadata": {},
   "outputs": [
    {
     "data": {
      "text/plain": [
       "video_id                   0\n",
       "title                      0\n",
       "publishedAt                0\n",
       "channelTitle               0\n",
       "categoryId                 0\n",
       "trending_date              0\n",
       "tags                       0\n",
       "view_count                 0\n",
       "likes                      0\n",
       "comment_count              0\n",
       "thumbnail_link             0\n",
       "comments_disabled          0\n",
       "ratings_disabled           0\n",
       "description                0\n",
       "duration                   0\n",
       "captions                   0\n",
       "region                     0\n",
       "rank                       0\n",
       "top_25                     0\n",
       "age                        0\n",
       "engagement                 0\n",
       "sponsored                  0\n",
       "num_of_tags                0\n",
       "word_bank                  0\n",
       "cleaned_tags               0\n",
       "cleaned_desc               0\n",
       "title_in_description       0\n",
       "title_in_tags              0\n",
       "pct_tags_in_description    0\n",
       "title_lengths              0\n",
       "desc_lengths               0\n",
       "tags_length                0\n",
       "dtype: int64"
      ]
     },
     "execution_count": 18,
     "metadata": {},
     "output_type": "execute_result"
    }
   ],
   "source": [
    "df.isna().sum()"
   ]
  },
  {
   "cell_type": "markdown",
   "metadata": {},
   "source": [
    "# Exploration"
   ]
  },
  {
   "cell_type": "code",
   "execution_count": 19,
   "metadata": {},
   "outputs": [],
   "source": [
    "def prepare_youtube(df):\n",
    "    df.categoryId = df.categoryId.astype('object')\n",
    "    df.publishedAt = pd.to_datetime(df.publishedAt, utc=True)\n",
    "    df.trending_date = pd.to_datetime(df.trending_date, format='%y.%d.%m', utc=True)\n",
    "    df.trending_date = '22.31.10'\n",
    "    df['age']=(df.trending_date - df.publishedAt)\n",
    "    df['engagement'] = (df.likes + df.comment_count * 4 )/df.view_count\n",
    "    df['sponsored'] = np.where(df.description.str.contains('sponsor'), 1, 0)\n",
    "    df['duration'] = df['duration'].apply(lambda x:clean_duration(x))\n",
    "    #making categorid into actual category titles\n",
    "    #all categoryId optain from youtube website\n",
    "    df.categoryId = df.categoryId.map({1: 'Film_Animation', 2: 'Autos_Vehicles',10:'Music',15: 'Pets_Animals'\n",
    "                                       ,17:'Sports',18:'Short_Movies',19:'Travel_Events',20:'Gaming',21:'Videoblogging',\n",
    "                                       22:'People_Blogs',23:'Comedy',24:'Entertainment',25:'News_Politics',\n",
    "                                       26:'Howto_Style',27: 'Education',28: 'Science_Technology', \n",
    "                                       29:'Nonprofits_Activism',30:'Movies',31:'Anime/Animation',32:'Action/Adventure',\n",
    "                                       33:'Classics',34:'Comedy',35:'Documentary',36:'Drama',37:'Family',38:'Foreign',\n",
    "                                       39:'Horror',40: 'Sci-Fi/Fantasy', 41: 'Thriller', 42:'Shorts',43:'Shows',44:'Trailers'})\n",
    "    return df"
   ]
  },
  {
   "cell_type": "code",
   "execution_count": 20,
   "metadata": {},
   "outputs": [
    {
     "data": {
      "image/png": "[encoded data removed]",
      "text/plain": [
       "<Figure size 432x288 with 1 Axes>"
      ]
     },
     "metadata": {
      "needs_background": "light"
     },
     "output_type": "display_data"
    }
   ],
   "source": [
    "#This sets the box plot by the axes and dataframe :\n",
    "sns.boxplot(x=\"categoryId\", y=\"view_count\", data= df, showfliers=False) .set(title=\"img. 1 Categories by Views\") \n",
    "plt.xlabel(\"YouTube Video Categories\")                 \n",
    "plt.ylabel(\"Amount of Views\")\n",
    "plt.xticks(rotation= 90)\n",
    "plt.show()"
   ]
  },
  {
   "cell_type": "code",
   "execution_count": 21,
   "metadata": {},
   "outputs": [
    {
     "data": {
      "image/png": "[encoded data removed]",
      "text/plain": [
       "<Figure size 432x288 with 1 Axes>"
      ]
     },
     "metadata": {
      "needs_background": "light"
     },
     "output_type": "display_data"
    }
   ],
   "source": [
    "#Create a box plot showing the amount of likes for each category of videos\n",
    "sns.boxplot(x=\"categoryId\", y=\"likes\", data= df, showfliers=False, color=\"blue\") .set(title=\"img 2. Categories by Likes\") \n",
    "plt.xlabel(\"YouTube Video Categories\")              \n",
    "plt.ylabel(\"Amount of Likes\")\n",
    "plt.xticks(rotation= 90)\n",
    "plt.show()"
   ]
  },
  {
   "cell_type": "code",
   "execution_count": 22,
   "metadata": {},
   "outputs": [
    {
     "data": {
      "image/png": "[encoded data removed]",
      "text/plain": [
       "<Figure size 432x288 with 1 Axes>"
      ]
     },
     "metadata": {
      "needs_background": "light"
     },
     "output_type": "display_data"
    }
   ],
   "source": [
    "#Create a box plot showing the amount of dislikes for each category of videos\n",
    "sns.boxplot(x=\"categoryId\", y=\"engagement\", data= df, showfliers=False, color=\"blue\") .set(title=\"img 3. Categories by Engagement\") \n",
    "plt.xlabel(\"YouTube Video Categories\")                \n",
    "plt.ylabel(\"Amount of Engagement\")\n",
    "plt.xticks(rotation= 90)\n",
    "plt.show()"
   ]
  },
  {
   "cell_type": "code",
   "execution_count": 23,
   "metadata": {},
   "outputs": [],
   "source": [
    "#sns.lineplot( data= yt, x=\"category_name\", y=\"trending_date\",hue=\"categoryId\").set(title=\"Youtube Videos Categories\") #THis sets the histogram by the axes and dataframe\n",
    "#sns.lineplot(data= df, x=\"trending_date\", y=\"view_count\",hue=\"categoryId\").set(title=\" img 4. Youtube Videos Categories Trending date\")\n",
    "#plt.xlabel(\"Trending Date\")                 \n",
    "#plt.ylabel(\"Views\")\n",
    "#plt.show()"
   ]
  },
  {
   "cell_type": "code",
   "execution_count": 24,
   "metadata": {},
   "outputs": [],
   "source": [
    "#Create a box plot showing the amount of sponsored for each category of videos\n",
    "#sns.boxplot(x=\"categoryId\", y=\"sponsored\", data= df, showfliers=False, color=\"blue\") .set(title=\"img 5. Categories by Sponsored\") \n",
    "#plt.xlabel(\"YouTube Video Categories\")                \n",
    "#plt.ylabel(\"Amount of Sponsored\")\n",
    "#plt.xticks(rotation= 90)\n",
    "#plt.show()"
   ]
  },
  {
   "cell_type": "code",
   "execution_count": 25,
   "metadata": {},
   "outputs": [
    {
     "data": {
      "image/png": "[encoded data removed]",
      "text/plain": [
       "<Figure size 432x288 with 1 Axes>"
      ]
     },
     "metadata": {
      "needs_background": "light"
     },
     "output_type": "display_data"
    }
   ],
   "source": [
    "#Create a box plot showing the amount of sponsored for each category of videos\n",
    "sns.boxplot(x=\"categoryId\", y=\"rank\", data= df, showfliers=False, color=\"blue\") .set(title=\"img 6. Categories by Rank\") \n",
    "plt.xlabel(\"YouTube Video Categories\")                \n",
    "plt.ylabel(\"Amount of Rank\")\n",
    "plt.xticks(rotation= 90)\n",
    "plt.show()"
   ]
  },
  {
   "cell_type": "code",
   "execution_count": 26,
   "metadata": {},
   "outputs": [],
   "source": [
    "#Create a box plot showing the amount of sponsored for each category of videos\n",
    "#sns.boxplot(x=\"categoryId\", y=\"duration\", data= df, showfliers=False, color=\"blue\") .set(title=\"img 7. Categories by Duration\") \n",
    "#plt.xlabel(\"YouTube Video Categories\")                \n",
    "#plt.ylabel(\"Amount of Duration\")\n",
    "#plt.xticks(rotation= 90)\n",
    "#plt.show()"
   ]
  },
  {
   "cell_type": "code",
   "execution_count": 27,
   "metadata": {},
   "outputs": [],
   "source": [
    "import numpy as np\n",
    "import pandas as pd\n",
    "import matplotlib.pyplot as plt\n",
    "import plotly.express as px\n",
    "import plotly.graph_objects as go\n",
    "#from textblob import TextBlob\n",
    "from plotly.offline import iplot\n",
    "#import emoji\n",
    "import re\n",
    "from wordcloud import WordCloud,STOPWORDS\n",
    "import seaborn as sns"
   ]
  },
  {
   "cell_type": "code",
   "execution_count": 28,
   "metadata": {},
   "outputs": [],
   "source": [
    "import matplotlib.pyplot as plt\n",
    "import seaborn as sns\n",
    "import re\n",
    "import unicodedata\n",
    "import pandas as pd\n",
    "import nltk\n",
    "from nltk.corpus import stopwords"
   ]
  },
  {
   "cell_type": "code",
   "execution_count": 29,
   "metadata": {},
   "outputs": [],
   "source": [
    "def basic_clean(article0):\n",
    "    #lower cases\n",
    "    if isinstance(article0, float):\n",
    "        article = str(article0).lower()\n",
    "    else:\n",
    "        article = article0.lower()\n",
    "    ## decodes to change to \"normal\" characters after encoding to ascii from a unicode normalize\n",
    "    article = unicodedata.normalize(\"NFKD\",article).encode(\"ascii\",\"ignore\").decode(\"utf-8\")\n",
    "    # removes anything not lowercase, number, single quote, or a space\n",
    "    article = re.sub(r'[^a-z0-9\\'\\s]','',article)\n",
    "    return article"
   ]
  },
  {
   "cell_type": "code",
   "execution_count": 30,
   "metadata": {},
   "outputs": [],
   "source": [
    "def tokenize(article0):\n",
    "    #create the tokenizer\n",
    "    tokenize = nltk.tokenize.ToktokTokenizer()\n",
    "    #use the tokenizer\n",
    "    article = tokenize.tokenize(article0,return_str=True)\n",
    "    return article\n"
   ]
  },
  {
   "cell_type": "code",
   "execution_count": 31,
   "metadata": {},
   "outputs": [],
   "source": [
    "def stem(article):\n",
    "    #create porter stemmer\n",
    "    ps = nltk.porter.PorterStemmer()\n",
    "    stems = [ps.stem(word) for word in article.split()]\n",
    "    #join words back together\n",
    "    article_stemmed = \" \".join(stems)\n",
    "    return article_stemmed"
   ]
  },
  {
   "cell_type": "code",
   "execution_count": 32,
   "metadata": {},
   "outputs": [],
   "source": [
    "def lemmatize(article):\n",
    "    #create the lemmatizer\n",
    "    wnl = nltk.stem.WordNetLemmatizer()\n",
    "    #use lemmatizer\n",
    "    lemmatized = [wnl.lemmatize(word) for word in article.split()]\n",
    "    #join words back together\n",
    "    article_lemmatized = \" \".join(lemmatized)\n",
    "    return article_lemmatized"
   ]
  },
  {
   "cell_type": "code",
   "execution_count": 33,
   "metadata": {},
   "outputs": [],
   "source": [
    "def remove_stopwords(article_processed,words_to_add=[],words_to_remove=[]):\n",
    "    #save stopword \n",
    "    stopwords_list = stopwords.words(\"english\")\n",
    "    #modify stopword list\n",
    "    [stopwords_list.append(word) for word in words_to_add]\n",
    "    [stopwords_list.remove(word) for word in words_to_remove]\n",
    "    #remove using stopword list\n",
    "    words = article_processed.split()\n",
    "    filtered_words = [w for w in words if w not in stopwords_list]\n",
    "    #join words back together\n",
    "    article_without_stopwords = \" \".join(filtered_words)\n",
    "    return article_without_stopwords\n"
   ]
  },
  {
   "cell_type": "code",
   "execution_count": 34,
   "metadata": {},
   "outputs": [],
   "source": [
    "# cleaning the data for world cloud\n",
    "df = df[df.description.isna()==False]\n",
    "df[\"clean\"] = [remove_stopwords(tokenize(basic_clean(each))) for each in df.description]\n",
    "df[\"stemmed\"] = df.clean.apply(stem)\n",
    "df[\"lemmatized\"] = df.clean.apply(lemmatize)"
   ]
  },
  {
   "cell_type": "code",
   "execution_count": 35,
   "metadata": {},
   "outputs": [
    {
     "data": {
      "text/html": [
       "<div>\n",
       "<style scoped>\n",
       "    .dataframe tbody tr th:only-of-type {\n",
       "        vertical-align: middle;\n",
       "    }\n",
       "\n",
       "    .dataframe tbody tr th {\n",
       "        vertical-align: top;\n",
       "    }\n",
       "\n",
       "    .dataframe thead th {\n",
       "        text-align: right;\n",
       "    }\n",
       "</style>\n",
       "<table border=\"1\" class=\"dataframe\">\n",
       "  <thead>\n",
       "    <tr style=\"text-align: right;\">\n",
       "      <th></th>\n",
       "      <th>video_id</th>\n",
       "      <th>title</th>\n",
       "      <th>publishedAt</th>\n",
       "      <th>channelTitle</th>\n",
       "      <th>categoryId</th>\n",
       "      <th>trending_date</th>\n",
       "      <th>tags</th>\n",
       "      <th>view_count</th>\n",
       "      <th>likes</th>\n",
       "      <th>comment_count</th>\n",
       "      <th>...</th>\n",
       "      <th>cleaned_desc</th>\n",
       "      <th>title_in_description</th>\n",
       "      <th>title_in_tags</th>\n",
       "      <th>pct_tags_in_description</th>\n",
       "      <th>title_lengths</th>\n",
       "      <th>desc_lengths</th>\n",
       "      <th>tags_length</th>\n",
       "      <th>clean</th>\n",
       "      <th>stemmed</th>\n",
       "      <th>lemmatized</th>\n",
       "    </tr>\n",
       "  </thead>\n",
       "  <tbody>\n",
       "    <tr>\n",
       "      <th>0</th>\n",
       "      <td>sWwHWK7OYJ8</td>\n",
       "      <td>[ENG][아형✪하이라이트] (여자)아이들 완전체 떴다↗ 멋짐 폭발♥ 5인 5색 토...</td>\n",
       "      <td>2022-10-29 13:26:44+00:00</td>\n",
       "      <td>아는형님 Knowingbros</td>\n",
       "      <td>Entertainment</td>\n",
       "      <td>2022-11-02 00:00:00+00:00</td>\n",
       "      <td>아는 형님 형님 형님 학교 미연 민니 소연 우기 슈화 아이들 여자아이들 강호동 이수...</td>\n",
       "      <td>1098919</td>\n",
       "      <td>19090</td>\n",
       "      <td>861</td>\n",
       "      <td>...</td>\n",
       "      <td>{공홈에서, 50분, 5색, 저녁, 하이라이트, 아형, 토크하이라이트, 본, #, ...</td>\n",
       "      <td>0</td>\n",
       "      <td>0</td>\n",
       "      <td>0.013889</td>\n",
       "      <td>79</td>\n",
       "      <td>200</td>\n",
       "      <td>325</td>\n",
       "      <td>5 5 zip httpstvjtbccokrjtbcbros httpstvingonel...</td>\n",
       "      <td>5 5 zip httpstvjtbccokrjtbcbro httpstvingoneli...</td>\n",
       "      <td>5 5 zip httpstvjtbccokrjtbcbros httpstvingonel...</td>\n",
       "    </tr>\n",
       "    <tr>\n",
       "      <th>1</th>\n",
       "      <td>1_VsbIFIh8U</td>\n",
       "      <td>10 Things Jin (진) of BTS (방탄소년단) Can't Live Wi...</td>\n",
       "      <td>2022-10-31 16:00:16+00:00</td>\n",
       "      <td>GQ</td>\n",
       "      <td>Entertainment</td>\n",
       "      <td>2022-11-02 00:00:00+00:00</td>\n",
       "      <td>(방탄소년단) (방탄소년단) gq 10 essentials 10 essentials...</td>\n",
       "      <td>1670293</td>\n",
       "      <td>231953</td>\n",
       "      <td>6345</td>\n",
       "      <td>...</td>\n",
       "      <td>{limited, bag, https://bit.ly/2xNBH3i\\rJoin th...</td>\n",
       "      <td>0</td>\n",
       "      <td>0</td>\n",
       "      <td>0.371429</td>\n",
       "      <td>56</td>\n",
       "      <td>983</td>\n",
       "      <td>380</td>\n",
       "      <td>things jin bts ' live without limited edition ...</td>\n",
       "      <td>thing jin bt ' live without limit edit minion ...</td>\n",
       "      <td>thing jin bts ' live without limited edition m...</td>\n",
       "    </tr>\n",
       "    <tr>\n",
       "      <th>2</th>\n",
       "      <td>SFVzIrEYQKU</td>\n",
       "      <td>[#편스토랑] 박수홍 신혼집 대공개❤ 애정 가득한 인테리어에 깨소금 냄새!!|KBS...</td>\n",
       "      <td>2022-10-29 09:30:05+00:00</td>\n",
       "      <td>KBS 한국방송</td>\n",
       "      <td>Entertainment</td>\n",
       "      <td>2022-11-02 00:00:00+00:00</td>\n",
       "      <td>KBS 한국방송공사 mylovekbs 예고 티저 김나영 붐 나영 수홍 박수홍엄마 유...</td>\n",
       "      <td>841292</td>\n",
       "      <td>12902</td>\n",
       "      <td>1378</td>\n",
       "      <td>...</td>\n",
       "      <td>{냄새!!0:56, 따개비, 선물6:47 따개비, 신혼집, 빠금장, 지인분들의, 방...</td>\n",
       "      <td>0</td>\n",
       "      <td>0</td>\n",
       "      <td>0.111111</td>\n",
       "      <td>56</td>\n",
       "      <td>147</td>\n",
       "      <td>115</td>\n",
       "      <td>056 343 647 1200</td>\n",
       "      <td>056 343 647 1200</td>\n",
       "      <td>056 343 647 1200</td>\n",
       "    </tr>\n",
       "    <tr>\n",
       "      <th>3</th>\n",
       "      <td>c6ASQOwKkhk</td>\n",
       "      <td>진 (Jin) 'The Astronaut' Official MV</td>\n",
       "      <td>2022-10-28 04:00:01+00:00</td>\n",
       "      <td>HYBE LABELS</td>\n",
       "      <td>Music</td>\n",
       "      <td>2022-11-02 00:00:00+00:00</td>\n",
       "      <td>HYBE HYBE LABELS 하이브 하이브레이블즈</td>\n",
       "      <td>30998614</td>\n",
       "      <td>4340713</td>\n",
       "      <td>501383</td>\n",
       "      <td>...</td>\n",
       "      <td>{DeverianProduction, video, Kim Kyeong SeokLig...</td>\n",
       "      <td>1</td>\n",
       "      <td>0</td>\n",
       "      <td>0.000000</td>\n",
       "      <td>35</td>\n",
       "      <td>2816</td>\n",
       "      <td>28</td>\n",
       "      <td>jin ' astronaut ' official mvcredits director ...</td>\n",
       "      <td>jin ' astronaut ' offici mvcredit director yon...</td>\n",
       "      <td>jin ' astronaut ' official mvcredits director ...</td>\n",
       "    </tr>\n",
       "    <tr>\n",
       "      <th>4</th>\n",
       "      <td>CYn8OlO7cbg</td>\n",
       "      <td>솔의눈 슬러시가 최약체인 키친마이야르 시즌3 신메뉴 제작기</td>\n",
       "      <td>2022-10-31 11:15:01+00:00</td>\n",
       "      <td>승우아빠</td>\n",
       "      <td>Entertainment</td>\n",
       "      <td>2022-11-02 00:00:00+00:00</td>\n",
       "      <td>승우아빠 키친마이야르 시즌3메뉴 신메뉴 키친마이야르 신메뉴 솔의눈 솔의눈 슬러시 키...</td>\n",
       "      <td>343269</td>\n",
       "      <td>5389</td>\n",
       "      <td>581</td>\n",
       "      <td>...</td>\n",
       "      <td>{목진화, 문의, 강남구, 서울시, 리뷰는, 생방송 https://www.twitc...</td>\n",
       "      <td>0</td>\n",
       "      <td>0</td>\n",
       "      <td>0.285714</td>\n",
       "      <td>32</td>\n",
       "      <td>235</td>\n",
       "      <td>84</td>\n",
       "      <td>3 3 businesssandboxsquarenet httpswwwtwitchtvs...</td>\n",
       "      <td>3 3 businesssandboxsquarenet httpswwwtwitchtvs...</td>\n",
       "      <td>3 3 businesssandboxsquarenet httpswwwtwitchtvs...</td>\n",
       "    </tr>\n",
       "  </tbody>\n",
       "</table>\n",
       "<p>5 rows × 35 columns</p>\n",
       "</div>"
      ],
      "text/plain": [
       "      video_id                                              title  \\\n",
       "0  sWwHWK7OYJ8  [ENG][아형✪하이라이트] (여자)아이들 완전체 떴다↗ 멋짐 폭발♥ 5인 5색 토...   \n",
       "1  1_VsbIFIh8U  10 Things Jin (진) of BTS (방탄소년단) Can't Live Wi...   \n",
       "2  SFVzIrEYQKU  [#편스토랑] 박수홍 신혼집 대공개❤ 애정 가득한 인테리어에 깨소금 냄새!!|KBS...   \n",
       "3  c6ASQOwKkhk                진 (Jin) 'The Astronaut' Official MV   \n",
       "4  CYn8OlO7cbg                   솔의눈 슬러시가 최약체인 키친마이야르 시즌3 신메뉴 제작기   \n",
       "\n",
       "                publishedAt      channelTitle     categoryId  \\\n",
       "0 2022-10-29 13:26:44+00:00  아는형님 Knowingbros  Entertainment   \n",
       "1 2022-10-31 16:00:16+00:00                GQ  Entertainment   \n",
       "2 2022-10-29 09:30:05+00:00          KBS 한국방송  Entertainment   \n",
       "3 2022-10-28 04:00:01+00:00       HYBE LABELS          Music   \n",
       "4 2022-10-31 11:15:01+00:00              승우아빠  Entertainment   \n",
       "\n",
       "              trending_date  \\\n",
       "0 2022-11-02 00:00:00+00:00   \n",
       "1 2022-11-02 00:00:00+00:00   \n",
       "2 2022-11-02 00:00:00+00:00   \n",
       "3 2022-11-02 00:00:00+00:00   \n",
       "4 2022-11-02 00:00:00+00:00   \n",
       "\n",
       "                                                tags  view_count    likes  \\\n",
       "0  아는 형님 형님 형님 학교 미연 민니 소연 우기 슈화 아이들 여자아이들 강호동 이수...     1098919    19090   \n",
       "1  (방탄소년단) (방탄소년단) gq 10 essentials 10 essentials...     1670293   231953   \n",
       "2  KBS 한국방송공사 mylovekbs 예고 티저 김나영 붐 나영 수홍 박수홍엄마 유...      841292    12902   \n",
       "3                       HYBE HYBE LABELS 하이브 하이브레이블즈    30998614  4340713   \n",
       "4  승우아빠 키친마이야르 시즌3메뉴 신메뉴 키친마이야르 신메뉴 솔의눈 솔의눈 슬러시 키...      343269     5389   \n",
       "\n",
       "   comment_count  ...                                       cleaned_desc  \\\n",
       "0            861  ...  {공홈에서, 50분, 5색, 저녁, 하이라이트, 아형, 토크하이라이트, 본, #, ...   \n",
       "1           6345  ...  {limited, bag, https://bit.ly/2xNBH3i\\rJoin th...   \n",
       "2           1378  ...  {냄새!!0:56, 따개비, 선물6:47 따개비, 신혼집, 빠금장, 지인분들의, 방...   \n",
       "3         501383  ...  {DeverianProduction, video, Kim Kyeong SeokLig...   \n",
       "4            581  ...  {목진화, 문의, 강남구, 서울시, 리뷰는, 생방송 https://www.twitc...   \n",
       "\n",
       "   title_in_description  title_in_tags pct_tags_in_description  title_lengths  \\\n",
       "0                     0              0                0.013889             79   \n",
       "1                     0              0                0.371429             56   \n",
       "2                     0              0                0.111111             56   \n",
       "3                     1              0                0.000000             35   \n",
       "4                     0              0                0.285714             32   \n",
       "\n",
       "   desc_lengths tags_length  \\\n",
       "0           200         325   \n",
       "1           983         380   \n",
       "2           147         115   \n",
       "3          2816          28   \n",
       "4           235          84   \n",
       "\n",
       "                                               clean  \\\n",
       "0  5 5 zip httpstvjtbccokrjtbcbros httpstvingonel...   \n",
       "1  things jin bts ' live without limited edition ...   \n",
       "2                                   056 343 647 1200   \n",
       "3  jin ' astronaut ' official mvcredits director ...   \n",
       "4  3 3 businesssandboxsquarenet httpswwwtwitchtvs...   \n",
       "\n",
       "                                             stemmed  \\\n",
       "0  5 5 zip httpstvjtbccokrjtbcbro httpstvingoneli...   \n",
       "1  thing jin bt ' live without limit edit minion ...   \n",
       "2                                   056 343 647 1200   \n",
       "3  jin ' astronaut ' offici mvcredit director yon...   \n",
       "4  3 3 businesssandboxsquarenet httpswwwtwitchtvs...   \n",
       "\n",
       "                                          lemmatized  \n",
       "0  5 5 zip httpstvjtbccokrjtbcbros httpstvingonel...  \n",
       "1  thing jin bts ' live without limited edition m...  \n",
       "2                                   056 343 647 1200  \n",
       "3  jin ' astronaut ' official mvcredits director ...  \n",
       "4  3 3 businesssandboxsquarenet httpswwwtwitchtvs...  \n",
       "\n",
       "[5 rows x 35 columns]"
      ]
     },
     "execution_count": 35,
     "metadata": {},
     "output_type": "execute_result"
    }
   ],
   "source": [
    "df.head()"
   ]
  },
  {
   "cell_type": "markdown",
   "metadata": {},
   "source": [
    "## Bigrams"
   ]
  },
  {
   "cell_type": "code",
   "execution_count": 36,
   "metadata": {},
   "outputs": [
    {
     "data": {
      "image/png": "[encoded data removed]",
      "text/plain": [
       "<Figure size 432x288 with 1 Axes>"
      ]
     },
     "metadata": {
      "needs_background": "light"
     },
     "output_type": "display_data"
    }
   ],
   "source": [
    "Gaming = ' '.join(df[df.categoryId == 'Gaming'].lemmatized).split()\n",
    "top_20_ham_bigrams = (pd.Series(nltk.ngrams(Gaming, 2))\n",
    "                      .value_counts()\n",
    "                      .head(25))\n",
    "top_20_ham_bigrams.sort_values(ascending = True).plot.barh(), \n",
    "plt.title('25 Most frequently occuring gaming bigrams')\n",
    "plt.ylabel('Bigram')\n",
    "plt.xlabel('# Occurances')\n",
    "\n",
    "    # make the labels pretty\n",
    "ticks, _ = plt.yticks()\n",
    "labels = top_20_ham_bigrams.reset_index()['index'].apply(lambda t: t[0] + ' ' + t[1])\n",
    "_ = plt.yticks(ticks, labels)"
   ]
  },
  {
   "cell_type": "code",
   "execution_count": 37,
   "metadata": {},
   "outputs": [
    {
     "data": {
      "image/png": "[encoded data removed]",
      "text/plain": [
       "<Figure size 432x288 with 1 Axes>"
      ]
     },
     "metadata": {
      "needs_background": "light"
     },
     "output_type": "display_data"
    }
   ],
   "source": [
    "Ruby = ' '.join(df[df.categoryId == 'Entertainment'].lemmatized).split()\n",
    "top_20_ham_bigrams = (pd.Series(nltk.ngrams(Ruby, 2))\n",
    "                      .value_counts()\n",
    "                      .head(25))\n",
    "top_20_ham_bigrams.sort_values(ascending = True).plot.barh(),\n",
    "\n",
    "plt.title('25 Most frequently occuring Entertainment bigrams')\n",
    "plt.ylabel('Bigram')\n",
    "plt.xlabel('# Occurances')\n",
    "\n",
    "    # make the labels pretty\n",
    "ticks, _ = plt.yticks()\n",
    "labels = top_20_ham_bigrams.reset_index()['index'].apply(lambda t: t[0] + ' ' + t[1])\n",
    "_ = plt.yticks(ticks, labels)"
   ]
  },
  {
   "cell_type": "markdown",
   "metadata": {},
   "source": [
    "## Wordcloud"
   ]
  },
  {
   "cell_type": "code",
   "execution_count": 38,
   "metadata": {},
   "outputs": [
    {
     "data": {
      "image/png": "[encoded data removed]",
      "text/plain": [
       "<Figure size 432x288 with 5 Axes>"
      ]
     },
     "metadata": {
      "needs_background": "light"
     },
     "output_type": "display_data"
    }
   ],
   "source": [
    "# We can supply our own values to be used to determine how big the words (or\n",
    "# phrases) should be through the `generate_from_frequencies` method. The\n",
    "# supplied values must be in the form of a dictionary where the keys are the\n",
    "# words (phrases), and the values are numbers that correspond to the sizes.\n",
    "#\n",
    "# We'll convert our series to a dictionary, and convert the tuples that make up\n",
    "# the index into a single string that holds each phrase.\n",
    "\n",
    "data = {k[0] + ' ' + k[1]: v for k, v in top_20_ham_bigrams.to_dict().items()}\n",
    "img = WordCloud(background_color='white', width=800, height=400).generate_from_frequencies(data)\n",
    "\n",
    "axs = [plt.axes([0, 0, 1, 1]), plt.axes([0, 1, 1, 1]), plt.axes([0, 2, 1, 1])\n",
    "      , plt.axes([0, 3, 1, 1]), plt.axes([0, 4, 1, 1])]\n",
    "\n",
    "axs[4].imshow(img)\n",
    "\n",
    "for ax in axs: ax.axis('off')\n",
    "plt.show()"
   ]
  },
  {
   "cell_type": "code",
   "execution_count": 39,
   "metadata": {},
   "outputs": [
    {
     "data": {
      "text/plain": [
       "0        1098919.0\n",
       "1        1670293.0\n",
       "2         841292.0\n",
       "3       30998614.0\n",
       "4         343269.0\n",
       "           ...    \n",
       "9531      929198.0\n",
       "9532      459905.0\n",
       "9533      197112.0\n",
       "9534      395480.0\n",
       "9535     5853663.0\n",
       "Name: view_count, Length: 9536, dtype: float64"
      ]
     },
     "execution_count": 39,
     "metadata": {},
     "output_type": "execute_result"
    }
   ],
   "source": [
    "df.view_count = df.view_count.astype(float)\n",
    "df.view_count"
   ]
  },
  {
   "cell_type": "code",
   "execution_count": 40,
   "metadata": {},
   "outputs": [
    {
     "data": {
      "text/plain": [
       "<AxesSubplot:ylabel='Frequency'>"
      ]
     },
     "execution_count": 40,
     "metadata": {},
     "output_type": "execute_result"
    },
    {
     "data": {
      "image/png": "[encoded data removed]",
      "text/plain": [
       "<Figure size 432x288 with 1 Axes>"
      ]
     },
     "metadata": {
      "needs_background": "light"
     },
     "output_type": "display_data"
    }
   ],
   "source": [
    "df.view_count.plot.hist()"
   ]
  },
  {
   "cell_type": "code",
   "execution_count": null,
   "metadata": {},
   "outputs": [],
   "source": []
  },
  {
   "cell_type": "markdown",
   "metadata": {},
   "source": [
    "## Model Practice"
   ]
  },
  {
   "cell_type": "markdown",
   "metadata": {},
   "source": [
    "## Modeling - Take 1"
   ]
  },
  {
   "cell_type": "code",
   "execution_count": 41,
   "metadata": {},
   "outputs": [],
   "source": [
    "\n",
    "# Modeling Imports\n",
    "from sklearn.preprocessing import MinMaxScaler\n",
    "from sklearn.model_selection import train_test_split\n",
    "from sklearn.linear_model import LinearRegression, LassoLars, TweedieRegressor\n",
    "from sklearn.metrics import mean_squared_error, r2_score, explained_variance_score\n",
    "from sklearn.feature_selection import f_regression \n",
    "from sklearn.metrics import mean_squared_error\n",
    "from sklearn.preprocessing import PolynomialFeatures\n",
    "from sklearn.feature_selection import SelectKBest, f_regression, RFE\n",
    "import sklearn.preprocessing\n",
    "import statsmodels.api as sm\n",
    "from sklearn.cluster import DBSCAN\n",
    "from sklearn.feature_extraction.text import TfidfVectorizer\n",
    "from sklearn.linear_model import LogisticRegression\n",
    "from sklearn.metrics import classification_report, accuracy_score\n",
    "\n",
    "# NLP Imports\n",
    "import unicodedata\n",
    "import re\n",
    "import json\n",
    "import requests\n",
    "from bs4 import BeautifulSoup\n",
    "import nltk\n",
    "from nltk.tokenize.toktok import ToktokTokenizer\n",
    "from nltk.corpus import stopwords\n",
    "\n",
    "# To get rid of those blocks of red warnings\n",
    "import warnings\n",
    "warnings.filterwarnings(\"ignore\")\n"
   ]
  },
  {
   "cell_type": "code",
   "execution_count": 42,
   "metadata": {},
   "outputs": [
    {
     "data": {
      "text/plain": [
       "0       5 5 zip httpstvjtbccokrjtbcbros httpstvingonel...\n",
       "1       thing jin bts ' live without limited edition m...\n",
       "2                                        056 343 647 1200\n",
       "3       jin ' astronaut ' official mvcredits director ...\n",
       "4       3 3 businesssandboxsquarenet httpswwwtwitchtvs...\n",
       "                              ...                        \n",
       "9531    cash telugushow etvwin sumakanakala santhoshsh...\n",
       "9532    indulge vilvahs collection organic skin hair c...\n",
       "9533    download india ' 1 audio book platform httpsku...\n",
       "9534    follow instagram httpswwwinstagramcomjsfilmsin...\n",
       "9535    vlog 261gaurav ' instagram httpswwwinstagramco...\n",
       "Name: lemmatized, Length: 9536, dtype: object"
      ]
     },
     "execution_count": 42,
     "metadata": {},
     "output_type": "execute_result"
    }
   ],
   "source": [
    "df.lemmatized"
   ]
  },
  {
   "cell_type": "code",
   "execution_count": 43,
   "metadata": {},
   "outputs": [
    {
     "data": {
      "text/plain": [
       "<9536x47250 sparse matrix of type '<class 'numpy.float64'>'\n",
       "\twith 539637 stored elements in Compressed Sparse Row format>"
      ]
     },
     "execution_count": 43,
     "metadata": {},
     "output_type": "execute_result"
    }
   ],
   "source": [
    "tfidf = TfidfVectorizer()\n",
    "tfidfs = tfidf.fit_transform(df.lemmatized)\n",
    "tfidfs"
   ]
  },
  {
   "cell_type": "code",
   "execution_count": 44,
   "metadata": {},
   "outputs": [
    {
     "data": {
      "text/html": [
       "<div>\n",
       "<style scoped>\n",
       "    .dataframe tbody tr th:only-of-type {\n",
       "        vertical-align: middle;\n",
       "    }\n",
       "\n",
       "    .dataframe tbody tr th {\n",
       "        vertical-align: top;\n",
       "    }\n",
       "\n",
       "    .dataframe thead th {\n",
       "        text-align: right;\n",
       "    }\n",
       "</style>\n",
       "<table border=\"1\" class=\"dataframe\">\n",
       "  <thead>\n",
       "    <tr style=\"text-align: right;\">\n",
       "      <th></th>\n",
       "      <th>00</th>\n",
       "      <th>000</th>\n",
       "      <th>0000</th>\n",
       "      <th>000000</th>\n",
       "      <th>00000011</th>\n",
       "      <th>000000inicio</th>\n",
       "      <th>000013</th>\n",
       "      <th>0000ho</th>\n",
       "      <th>000415</th>\n",
       "      <th>000430inicio</th>\n",
       "      <th>...</th>\n",
       "      <th>zwiebel12</th>\n",
       "      <th>zwiebelsalz</th>\n",
       "      <th>zwischen</th>\n",
       "      <th>zwischendurch</th>\n",
       "      <th>zwischenmenschliche</th>\n",
       "      <th>zwischenzeit</th>\n",
       "      <th>zxcv34276gmailcom</th>\n",
       "      <th>zyada</th>\n",
       "      <th>zyzx</th>\n",
       "      <th>zzzzziiiizzzzzme</th>\n",
       "    </tr>\n",
       "  </thead>\n",
       "  <tbody>\n",
       "    <tr>\n",
       "      <th>0</th>\n",
       "      <td>0.0</td>\n",
       "      <td>0.0</td>\n",
       "      <td>0.0</td>\n",
       "      <td>0.0</td>\n",
       "      <td>0.0</td>\n",
       "      <td>0.0</td>\n",
       "      <td>0.0</td>\n",
       "      <td>0.0</td>\n",
       "      <td>0.0</td>\n",
       "      <td>0.0</td>\n",
       "      <td>...</td>\n",
       "      <td>0.0</td>\n",
       "      <td>0.0</td>\n",
       "      <td>0.0</td>\n",
       "      <td>0.0</td>\n",
       "      <td>0.0</td>\n",
       "      <td>0.0</td>\n",
       "      <td>0.0</td>\n",
       "      <td>0.0</td>\n",
       "      <td>0.0</td>\n",
       "      <td>0.0</td>\n",
       "    </tr>\n",
       "    <tr>\n",
       "      <th>1</th>\n",
       "      <td>0.0</td>\n",
       "      <td>0.0</td>\n",
       "      <td>0.0</td>\n",
       "      <td>0.0</td>\n",
       "      <td>0.0</td>\n",
       "      <td>0.0</td>\n",
       "      <td>0.0</td>\n",
       "      <td>0.0</td>\n",
       "      <td>0.0</td>\n",
       "      <td>0.0</td>\n",
       "      <td>...</td>\n",
       "      <td>0.0</td>\n",
       "      <td>0.0</td>\n",
       "      <td>0.0</td>\n",
       "      <td>0.0</td>\n",
       "      <td>0.0</td>\n",
       "      <td>0.0</td>\n",
       "      <td>0.0</td>\n",
       "      <td>0.0</td>\n",
       "      <td>0.0</td>\n",
       "      <td>0.0</td>\n",
       "    </tr>\n",
       "    <tr>\n",
       "      <th>2</th>\n",
       "      <td>0.0</td>\n",
       "      <td>0.0</td>\n",
       "      <td>0.0</td>\n",
       "      <td>0.0</td>\n",
       "      <td>0.0</td>\n",
       "      <td>0.0</td>\n",
       "      <td>0.0</td>\n",
       "      <td>0.0</td>\n",
       "      <td>0.0</td>\n",
       "      <td>0.0</td>\n",
       "      <td>...</td>\n",
       "      <td>0.0</td>\n",
       "      <td>0.0</td>\n",
       "      <td>0.0</td>\n",
       "      <td>0.0</td>\n",
       "      <td>0.0</td>\n",
       "      <td>0.0</td>\n",
       "      <td>0.0</td>\n",
       "      <td>0.0</td>\n",
       "      <td>0.0</td>\n",
       "      <td>0.0</td>\n",
       "    </tr>\n",
       "    <tr>\n",
       "      <th>3</th>\n",
       "      <td>0.0</td>\n",
       "      <td>0.0</td>\n",
       "      <td>0.0</td>\n",
       "      <td>0.0</td>\n",
       "      <td>0.0</td>\n",
       "      <td>0.0</td>\n",
       "      <td>0.0</td>\n",
       "      <td>0.0</td>\n",
       "      <td>0.0</td>\n",
       "      <td>0.0</td>\n",
       "      <td>...</td>\n",
       "      <td>0.0</td>\n",
       "      <td>0.0</td>\n",
       "      <td>0.0</td>\n",
       "      <td>0.0</td>\n",
       "      <td>0.0</td>\n",
       "      <td>0.0</td>\n",
       "      <td>0.0</td>\n",
       "      <td>0.0</td>\n",
       "      <td>0.0</td>\n",
       "      <td>0.0</td>\n",
       "    </tr>\n",
       "    <tr>\n",
       "      <th>4</th>\n",
       "      <td>0.0</td>\n",
       "      <td>0.0</td>\n",
       "      <td>0.0</td>\n",
       "      <td>0.0</td>\n",
       "      <td>0.0</td>\n",
       "      <td>0.0</td>\n",
       "      <td>0.0</td>\n",
       "      <td>0.0</td>\n",
       "      <td>0.0</td>\n",
       "      <td>0.0</td>\n",
       "      <td>...</td>\n",
       "      <td>0.0</td>\n",
       "      <td>0.0</td>\n",
       "      <td>0.0</td>\n",
       "      <td>0.0</td>\n",
       "      <td>0.0</td>\n",
       "      <td>0.0</td>\n",
       "      <td>0.0</td>\n",
       "      <td>0.0</td>\n",
       "      <td>0.0</td>\n",
       "      <td>0.0</td>\n",
       "    </tr>\n",
       "    <tr>\n",
       "      <th>...</th>\n",
       "      <td>...</td>\n",
       "      <td>...</td>\n",
       "      <td>...</td>\n",
       "      <td>...</td>\n",
       "      <td>...</td>\n",
       "      <td>...</td>\n",
       "      <td>...</td>\n",
       "      <td>...</td>\n",
       "      <td>...</td>\n",
       "      <td>...</td>\n",
       "      <td>...</td>\n",
       "      <td>...</td>\n",
       "      <td>...</td>\n",
       "      <td>...</td>\n",
       "      <td>...</td>\n",
       "      <td>...</td>\n",
       "      <td>...</td>\n",
       "      <td>...</td>\n",
       "      <td>...</td>\n",
       "      <td>...</td>\n",
       "      <td>...</td>\n",
       "    </tr>\n",
       "    <tr>\n",
       "      <th>9531</th>\n",
       "      <td>0.0</td>\n",
       "      <td>0.0</td>\n",
       "      <td>0.0</td>\n",
       "      <td>0.0</td>\n",
       "      <td>0.0</td>\n",
       "      <td>0.0</td>\n",
       "      <td>0.0</td>\n",
       "      <td>0.0</td>\n",
       "      <td>0.0</td>\n",
       "      <td>0.0</td>\n",
       "      <td>...</td>\n",
       "      <td>0.0</td>\n",
       "      <td>0.0</td>\n",
       "      <td>0.0</td>\n",
       "      <td>0.0</td>\n",
       "      <td>0.0</td>\n",
       "      <td>0.0</td>\n",
       "      <td>0.0</td>\n",
       "      <td>0.0</td>\n",
       "      <td>0.0</td>\n",
       "      <td>0.0</td>\n",
       "    </tr>\n",
       "    <tr>\n",
       "      <th>9532</th>\n",
       "      <td>0.0</td>\n",
       "      <td>0.0</td>\n",
       "      <td>0.0</td>\n",
       "      <td>0.0</td>\n",
       "      <td>0.0</td>\n",
       "      <td>0.0</td>\n",
       "      <td>0.0</td>\n",
       "      <td>0.0</td>\n",
       "      <td>0.0</td>\n",
       "      <td>0.0</td>\n",
       "      <td>...</td>\n",
       "      <td>0.0</td>\n",
       "      <td>0.0</td>\n",
       "      <td>0.0</td>\n",
       "      <td>0.0</td>\n",
       "      <td>0.0</td>\n",
       "      <td>0.0</td>\n",
       "      <td>0.0</td>\n",
       "      <td>0.0</td>\n",
       "      <td>0.0</td>\n",
       "      <td>0.0</td>\n",
       "    </tr>\n",
       "    <tr>\n",
       "      <th>9533</th>\n",
       "      <td>0.0</td>\n",
       "      <td>0.0</td>\n",
       "      <td>0.0</td>\n",
       "      <td>0.0</td>\n",
       "      <td>0.0</td>\n",
       "      <td>0.0</td>\n",
       "      <td>0.0</td>\n",
       "      <td>0.0</td>\n",
       "      <td>0.0</td>\n",
       "      <td>0.0</td>\n",
       "      <td>...</td>\n",
       "      <td>0.0</td>\n",
       "      <td>0.0</td>\n",
       "      <td>0.0</td>\n",
       "      <td>0.0</td>\n",
       "      <td>0.0</td>\n",
       "      <td>0.0</td>\n",
       "      <td>0.0</td>\n",
       "      <td>0.0</td>\n",
       "      <td>0.0</td>\n",
       "      <td>0.0</td>\n",
       "    </tr>\n",
       "    <tr>\n",
       "      <th>9534</th>\n",
       "      <td>0.0</td>\n",
       "      <td>0.0</td>\n",
       "      <td>0.0</td>\n",
       "      <td>0.0</td>\n",
       "      <td>0.0</td>\n",
       "      <td>0.0</td>\n",
       "      <td>0.0</td>\n",
       "      <td>0.0</td>\n",
       "      <td>0.0</td>\n",
       "      <td>0.0</td>\n",
       "      <td>...</td>\n",
       "      <td>0.0</td>\n",
       "      <td>0.0</td>\n",
       "      <td>0.0</td>\n",
       "      <td>0.0</td>\n",
       "      <td>0.0</td>\n",
       "      <td>0.0</td>\n",
       "      <td>0.0</td>\n",
       "      <td>0.0</td>\n",
       "      <td>0.0</td>\n",
       "      <td>0.0</td>\n",
       "    </tr>\n",
       "    <tr>\n",
       "      <th>9535</th>\n",
       "      <td>0.0</td>\n",
       "      <td>0.0</td>\n",
       "      <td>0.0</td>\n",
       "      <td>0.0</td>\n",
       "      <td>0.0</td>\n",
       "      <td>0.0</td>\n",
       "      <td>0.0</td>\n",
       "      <td>0.0</td>\n",
       "      <td>0.0</td>\n",
       "      <td>0.0</td>\n",
       "      <td>...</td>\n",
       "      <td>0.0</td>\n",
       "      <td>0.0</td>\n",
       "      <td>0.0</td>\n",
       "      <td>0.0</td>\n",
       "      <td>0.0</td>\n",
       "      <td>0.0</td>\n",
       "      <td>0.0</td>\n",
       "      <td>0.0</td>\n",
       "      <td>0.0</td>\n",
       "      <td>0.0</td>\n",
       "    </tr>\n",
       "  </tbody>\n",
       "</table>\n",
       "<p>9536 rows × 47250 columns</p>\n",
       "</div>"
      ],
      "text/plain": [
       "       00  000  0000  000000  00000011  000000inicio  000013  0000ho  000415  \\\n",
       "0     0.0  0.0   0.0     0.0       0.0           0.0     0.0     0.0     0.0   \n",
       "1     0.0  0.0   0.0     0.0       0.0           0.0     0.0     0.0     0.0   \n",
       "2     0.0  0.0   0.0     0.0       0.0           0.0     0.0     0.0     0.0   \n",
       "3     0.0  0.0   0.0     0.0       0.0           0.0     0.0     0.0     0.0   \n",
       "4     0.0  0.0   0.0     0.0       0.0           0.0     0.0     0.0     0.0   \n",
       "...   ...  ...   ...     ...       ...           ...     ...     ...     ...   \n",
       "9531  0.0  0.0   0.0     0.0       0.0           0.0     0.0     0.0     0.0   \n",
       "9532  0.0  0.0   0.0     0.0       0.0           0.0     0.0     0.0     0.0   \n",
       "9533  0.0  0.0   0.0     0.0       0.0           0.0     0.0     0.0     0.0   \n",
       "9534  0.0  0.0   0.0     0.0       0.0           0.0     0.0     0.0     0.0   \n",
       "9535  0.0  0.0   0.0     0.0       0.0           0.0     0.0     0.0     0.0   \n",
       "\n",
       "      000430inicio  ...  zwiebel12  zwiebelsalz  zwischen  zwischendurch  \\\n",
       "0              0.0  ...        0.0          0.0       0.0            0.0   \n",
       "1              0.0  ...        0.0          0.0       0.0            0.0   \n",
       "2              0.0  ...        0.0          0.0       0.0            0.0   \n",
       "3              0.0  ...        0.0          0.0       0.0            0.0   \n",
       "4              0.0  ...        0.0          0.0       0.0            0.0   \n",
       "...            ...  ...        ...          ...       ...            ...   \n",
       "9531           0.0  ...        0.0          0.0       0.0            0.0   \n",
       "9532           0.0  ...        0.0          0.0       0.0            0.0   \n",
       "9533           0.0  ...        0.0          0.0       0.0            0.0   \n",
       "9534           0.0  ...        0.0          0.0       0.0            0.0   \n",
       "9535           0.0  ...        0.0          0.0       0.0            0.0   \n",
       "\n",
       "      zwischenmenschliche  zwischenzeit  zxcv34276gmailcom  zyada  zyzx  \\\n",
       "0                     0.0           0.0                0.0    0.0   0.0   \n",
       "1                     0.0           0.0                0.0    0.0   0.0   \n",
       "2                     0.0           0.0                0.0    0.0   0.0   \n",
       "3                     0.0           0.0                0.0    0.0   0.0   \n",
       "4                     0.0           0.0                0.0    0.0   0.0   \n",
       "...                   ...           ...                ...    ...   ...   \n",
       "9531                  0.0           0.0                0.0    0.0   0.0   \n",
       "9532                  0.0           0.0                0.0    0.0   0.0   \n",
       "9533                  0.0           0.0                0.0    0.0   0.0   \n",
       "9534                  0.0           0.0                0.0    0.0   0.0   \n",
       "9535                  0.0           0.0                0.0    0.0   0.0   \n",
       "\n",
       "      zzzzziiiizzzzzme  \n",
       "0                  0.0  \n",
       "1                  0.0  \n",
       "2                  0.0  \n",
       "3                  0.0  \n",
       "4                  0.0  \n",
       "...                ...  \n",
       "9531               0.0  \n",
       "9532               0.0  \n",
       "9533               0.0  \n",
       "9534               0.0  \n",
       "9535               0.0  \n",
       "\n",
       "[9536 rows x 47250 columns]"
      ]
     },
     "execution_count": 44,
     "metadata": {},
     "output_type": "execute_result"
    }
   ],
   "source": [
    "pd.DataFrame(tfidfs.todense(), columns=tfidf.get_feature_names())"
   ]
  },
  {
   "cell_type": "code",
   "execution_count": 45,
   "metadata": {},
   "outputs": [
    {
     "data": {
      "text/plain": [
       "0"
      ]
     },
     "execution_count": 45,
     "metadata": {},
     "output_type": "execute_result"
    }
   ],
   "source": [
    "df.lemmatized.str.contains('zxingcppzxingcpphttpsgithubcomzxingcppzxingcpp').sum()"
   ]
  },
  {
   "cell_type": "code",
   "execution_count": 46,
   "metadata": {},
   "outputs": [],
   "source": [
    "tfidf = TfidfVectorizer()\n",
    "X = tfidf.fit_transform(df.lemmatized)\n",
    "y = df.top_25\n",
    "\n",
    "X_train_val, X_test, y_train_val, y_test = train_test_split(X, y, stratify=y, test_size=.2, random_state=123)\n",
    "\n",
    "X_train, X_validate, y_train, y_validate = train_test_split(X_train_val, y_train_val, stratify=y_train_val, test_size=.25, random_state=123)\n",
    "\n",
    "train = pd.DataFrame(dict(actual=y_train))\n",
    "validate = pd.DataFrame(dict(actual=y_validate))\n",
    "\n",
    "lm = LogisticRegression().fit(X_train, y_train)\n",
    "\n",
    "train['predicted_lm'] = lm.predict(X_train)\n",
    "validate['predicted_lm'] = lm.predict(X_validate)"
   ]
  },
  {
   "cell_type": "code",
   "execution_count": 47,
   "metadata": {},
   "outputs": [
    {
     "data": {
      "text/plain": [
       "(1908, 47250)"
      ]
     },
     "execution_count": 47,
     "metadata": {},
     "output_type": "execute_result"
    }
   ],
   "source": [
    "X_test.shape"
   ]
  },
  {
   "cell_type": "code",
   "execution_count": 48,
   "metadata": {},
   "outputs": [
    {
     "data": {
      "text/plain": [
       "(1907, 47250)"
      ]
     },
     "execution_count": 48,
     "metadata": {},
     "output_type": "execute_result"
    }
   ],
   "source": [
    "X_validate.shape"
   ]
  },
  {
   "cell_type": "code",
   "execution_count": 49,
   "metadata": {},
   "outputs": [
    {
     "data": {
      "text/plain": [
       "(5721, 47250)"
      ]
     },
     "execution_count": 49,
     "metadata": {},
     "output_type": "execute_result"
    }
   ],
   "source": [
    "X_train.shape"
   ]
  },
  {
   "cell_type": "code",
   "execution_count": null,
   "metadata": {},
   "outputs": [],
   "source": []
  },
  {
   "cell_type": "code",
   "execution_count": 50,
   "metadata": {},
   "outputs": [
    {
     "name": "stdout",
     "output_type": "stream",
     "text": [
      "Accuracy: 89.18%\n",
      "---\n",
      "actual           0    1\n",
      "predicted_lm           \n",
      "0             4973  606\n",
      "1               13  129\n",
      "---\n",
      "              precision    recall  f1-score   support\n",
      "\n",
      "           0       0.89      1.00      0.94      4986\n",
      "           1       0.91      0.18      0.29       735\n",
      "\n",
      "    accuracy                           0.89      5721\n",
      "   macro avg       0.90      0.59      0.62      5721\n",
      "weighted avg       0.89      0.89      0.86      5721\n",
      "\n"
     ]
    }
   ],
   "source": [
    "print('Accuracy: {:.2%}'.format(accuracy_score(train.actual, train.predicted_lm)))\n",
    "print('---')\n",
    "\n",
    "print(pd.crosstab(train.predicted_lm, train.actual))\n",
    "print('---')\n",
    "print(classification_report(train.actual, train.predicted_lm))"
   ]
  },
  {
   "cell_type": "code",
   "execution_count": 51,
   "metadata": {},
   "outputs": [
    {
     "name": "stdout",
     "output_type": "stream",
     "text": [
      "Accuracy: 88.20%\n",
      "---\n",
      "actual           0    1\n",
      "predicted_lm           \n",
      "0             1656  219\n",
      "1                6   26\n",
      "---\n",
      "              precision    recall  f1-score   support\n",
      "\n",
      "           0       0.88      1.00      0.94      1662\n",
      "           1       0.81      0.11      0.19       245\n",
      "\n",
      "    accuracy                           0.88      1907\n",
      "   macro avg       0.85      0.55      0.56      1907\n",
      "weighted avg       0.87      0.88      0.84      1907\n",
      "\n"
     ]
    }
   ],
   "source": [
    "print('Accuracy: {:.2%}'.format(accuracy_score(validate.actual, validate.predicted_lm)))\n",
    "print('---')\n",
    "\n",
    "print(pd.crosstab(validate.predicted_lm, validate.actual))\n",
    "print('---')\n",
    "print(classification_report(validate.actual, validate.predicted_lm))"
   ]
  },
  {
   "cell_type": "code",
   "execution_count": 52,
   "metadata": {},
   "outputs": [
    {
     "data": {
      "text/plain": [
       "MultinomialNB()"
      ]
     },
     "execution_count": 52,
     "metadata": {},
     "output_type": "execute_result"
    }
   ],
   "source": [
    "from sklearn.naive_bayes import MultinomialNB\n",
    "MNBclf = MultinomialNB()\n",
    "MNBclf.fit(X_train, y_train)"
   ]
  },
  {
   "cell_type": "code",
   "execution_count": 53,
   "metadata": {},
   "outputs": [],
   "source": [
    "train = pd.DataFrame(dict(actual=y_train))\n",
    "validate = pd.DataFrame(dict(actual=y_validate))\n",
    "\n",
    "MNBclf = MultinomialNB()\n",
    "MNBclf.fit(X_train, y_train)\n",
    "\n",
    "train['predicted_MNBclf'] = MNBclf.predict(X_train)\n",
    "validate['predicted_MNBclf'] = MNBclf.predict(X_validate)"
   ]
  },
  {
   "cell_type": "code",
   "execution_count": 54,
   "metadata": {},
   "outputs": [
    {
     "name": "stdout",
     "output_type": "stream",
     "text": [
      "Accuracy: 90.25%\n",
      "---\n",
      "actual               0    1\n",
      "predicted_MNBclf           \n",
      "0                 4973  545\n",
      "1                   13  190\n",
      "---\n",
      "              precision    recall  f1-score   support\n",
      "\n",
      "           0       0.90      1.00      0.95      4986\n",
      "           1       0.94      0.26      0.41       735\n",
      "\n",
      "    accuracy                           0.90      5721\n",
      "   macro avg       0.92      0.63      0.68      5721\n",
      "weighted avg       0.91      0.90      0.88      5721\n",
      "\n"
     ]
    }
   ],
   "source": [
    "print('Accuracy: {:.2%}'.format(accuracy_score(train.actual, train.predicted_MNBclf)))\n",
    "print('---')\n",
    "\n",
    "print(pd.crosstab(train.predicted_MNBclf, train.actual))\n",
    "print('---')\n",
    "print(classification_report(train.actual, train.predicted_MNBclf))"
   ]
  },
  {
   "cell_type": "code",
   "execution_count": 55,
   "metadata": {},
   "outputs": [
    {
     "name": "stdout",
     "output_type": "stream",
     "text": [
      "Accuracy: 88.31%\n",
      "---\n",
      "actual               0    1\n",
      "predicted_MNBclf           \n",
      "0                 1657  218\n",
      "1                    5   27\n",
      "---\n",
      "              precision    recall  f1-score   support\n",
      "\n",
      "           0       0.88      1.00      0.94      1662\n",
      "           1       0.84      0.11      0.19       245\n",
      "\n",
      "    accuracy                           0.88      1907\n",
      "   macro avg       0.86      0.55      0.57      1907\n",
      "weighted avg       0.88      0.88      0.84      1907\n",
      "\n"
     ]
    }
   ],
   "source": [
    "print('Accuracy: {:.2%}'.format(accuracy_score(validate.actual, validate.predicted_MNBclf)))\n",
    "print('---')\n",
    "\n",
    "print(pd.crosstab(validate.predicted_MNBclf, validate.actual))\n",
    "print('---')\n",
    "print(classification_report(validate.actual, validate.predicted_MNBclf))"
   ]
  },
  {
   "cell_type": "code",
   "execution_count": 56,
   "metadata": {},
   "outputs": [
    {
     "data": {
      "text/html": [
       "<div>\n",
       "<style scoped>\n",
       "    .dataframe tbody tr th:only-of-type {\n",
       "        vertical-align: middle;\n",
       "    }\n",
       "\n",
       "    .dataframe tbody tr th {\n",
       "        vertical-align: top;\n",
       "    }\n",
       "\n",
       "    .dataframe thead th {\n",
       "        text-align: right;\n",
       "    }\n",
       "</style>\n",
       "<table border=\"1\" class=\"dataframe\">\n",
       "  <thead>\n",
       "    <tr style=\"text-align: right;\">\n",
       "      <th></th>\n",
       "      <th>00</th>\n",
       "      <th>000</th>\n",
       "      <th>0000</th>\n",
       "      <th>000000</th>\n",
       "      <th>00000011</th>\n",
       "      <th>000000inicio</th>\n",
       "      <th>000013</th>\n",
       "      <th>0000ho</th>\n",
       "      <th>000415</th>\n",
       "      <th>000430inicio</th>\n",
       "      <th>...</th>\n",
       "      <th>zwiebel12</th>\n",
       "      <th>zwiebelsalz</th>\n",
       "      <th>zwischen</th>\n",
       "      <th>zwischendurch</th>\n",
       "      <th>zwischenmenschliche</th>\n",
       "      <th>zwischenzeit</th>\n",
       "      <th>zxcv34276gmailcom</th>\n",
       "      <th>zyada</th>\n",
       "      <th>zyzx</th>\n",
       "      <th>zzzzziiiizzzzzme</th>\n",
       "    </tr>\n",
       "  </thead>\n",
       "  <tbody>\n",
       "    <tr>\n",
       "      <th>0</th>\n",
       "      <td>0</td>\n",
       "      <td>0</td>\n",
       "      <td>0</td>\n",
       "      <td>0</td>\n",
       "      <td>0</td>\n",
       "      <td>0</td>\n",
       "      <td>0</td>\n",
       "      <td>0</td>\n",
       "      <td>0</td>\n",
       "      <td>0</td>\n",
       "      <td>...</td>\n",
       "      <td>0</td>\n",
       "      <td>0</td>\n",
       "      <td>0</td>\n",
       "      <td>0</td>\n",
       "      <td>0</td>\n",
       "      <td>0</td>\n",
       "      <td>0</td>\n",
       "      <td>0</td>\n",
       "      <td>0</td>\n",
       "      <td>0</td>\n",
       "    </tr>\n",
       "    <tr>\n",
       "      <th>1</th>\n",
       "      <td>0</td>\n",
       "      <td>0</td>\n",
       "      <td>0</td>\n",
       "      <td>0</td>\n",
       "      <td>0</td>\n",
       "      <td>0</td>\n",
       "      <td>0</td>\n",
       "      <td>0</td>\n",
       "      <td>0</td>\n",
       "      <td>0</td>\n",
       "      <td>...</td>\n",
       "      <td>0</td>\n",
       "      <td>0</td>\n",
       "      <td>0</td>\n",
       "      <td>0</td>\n",
       "      <td>0</td>\n",
       "      <td>0</td>\n",
       "      <td>0</td>\n",
       "      <td>0</td>\n",
       "      <td>0</td>\n",
       "      <td>0</td>\n",
       "    </tr>\n",
       "    <tr>\n",
       "      <th>2</th>\n",
       "      <td>0</td>\n",
       "      <td>0</td>\n",
       "      <td>0</td>\n",
       "      <td>0</td>\n",
       "      <td>0</td>\n",
       "      <td>0</td>\n",
       "      <td>0</td>\n",
       "      <td>0</td>\n",
       "      <td>0</td>\n",
       "      <td>0</td>\n",
       "      <td>...</td>\n",
       "      <td>0</td>\n",
       "      <td>0</td>\n",
       "      <td>0</td>\n",
       "      <td>0</td>\n",
       "      <td>0</td>\n",
       "      <td>0</td>\n",
       "      <td>0</td>\n",
       "      <td>0</td>\n",
       "      <td>0</td>\n",
       "      <td>0</td>\n",
       "    </tr>\n",
       "    <tr>\n",
       "      <th>3</th>\n",
       "      <td>0</td>\n",
       "      <td>0</td>\n",
       "      <td>0</td>\n",
       "      <td>0</td>\n",
       "      <td>0</td>\n",
       "      <td>0</td>\n",
       "      <td>0</td>\n",
       "      <td>0</td>\n",
       "      <td>0</td>\n",
       "      <td>0</td>\n",
       "      <td>...</td>\n",
       "      <td>0</td>\n",
       "      <td>0</td>\n",
       "      <td>0</td>\n",
       "      <td>0</td>\n",
       "      <td>0</td>\n",
       "      <td>0</td>\n",
       "      <td>0</td>\n",
       "      <td>0</td>\n",
       "      <td>0</td>\n",
       "      <td>0</td>\n",
       "    </tr>\n",
       "    <tr>\n",
       "      <th>4</th>\n",
       "      <td>0</td>\n",
       "      <td>0</td>\n",
       "      <td>0</td>\n",
       "      <td>0</td>\n",
       "      <td>0</td>\n",
       "      <td>0</td>\n",
       "      <td>0</td>\n",
       "      <td>0</td>\n",
       "      <td>0</td>\n",
       "      <td>0</td>\n",
       "      <td>...</td>\n",
       "      <td>0</td>\n",
       "      <td>0</td>\n",
       "      <td>0</td>\n",
       "      <td>0</td>\n",
       "      <td>0</td>\n",
       "      <td>0</td>\n",
       "      <td>0</td>\n",
       "      <td>0</td>\n",
       "      <td>0</td>\n",
       "      <td>0</td>\n",
       "    </tr>\n",
       "  </tbody>\n",
       "</table>\n",
       "<p>5 rows × 47250 columns</p>\n",
       "</div>"
      ],
      "text/plain": [
       "   00  000  0000  000000  00000011  000000inicio  000013  0000ho  000415  \\\n",
       "0   0    0     0       0         0             0       0       0       0   \n",
       "1   0    0     0       0         0             0       0       0       0   \n",
       "2   0    0     0       0         0             0       0       0       0   \n",
       "3   0    0     0       0         0             0       0       0       0   \n",
       "4   0    0     0       0         0             0       0       0       0   \n",
       "\n",
       "   000430inicio  ...  zwiebel12  zwiebelsalz  zwischen  zwischendurch  \\\n",
       "0             0  ...          0            0         0              0   \n",
       "1             0  ...          0            0         0              0   \n",
       "2             0  ...          0            0         0              0   \n",
       "3             0  ...          0            0         0              0   \n",
       "4             0  ...          0            0         0              0   \n",
       "\n",
       "   zwischenmenschliche  zwischenzeit  zxcv34276gmailcom  zyada  zyzx  \\\n",
       "0                    0             0                  0      0     0   \n",
       "1                    0             0                  0      0     0   \n",
       "2                    0             0                  0      0     0   \n",
       "3                    0             0                  0      0     0   \n",
       "4                    0             0                  0      0     0   \n",
       "\n",
       "   zzzzziiiizzzzzme  \n",
       "0                 0  \n",
       "1                 0  \n",
       "2                 0  \n",
       "3                 0  \n",
       "4                 0  \n",
       "\n",
       "[5 rows x 47250 columns]"
      ]
     },
     "execution_count": 56,
     "metadata": {},
     "output_type": "execute_result"
    }
   ],
   "source": [
    "from sklearn.feature_extraction.text import CountVectorizer\n",
    "vectorizer = CountVectorizer()\n",
    "X = vectorizer.fit_transform(df.lemmatized)\n",
    "df_bow_sklearn = pd.DataFrame(X.toarray(),columns=vectorizer.get_feature_names())\n",
    "df_bow_sklearn.head()"
   ]
  },
  {
   "cell_type": "code",
   "execution_count": 57,
   "metadata": {},
   "outputs": [],
   "source": [
    "X_train_val, X_test, y_train_val, y_test = train_test_split(X, y, stratify=y, test_size=.2, random_state=123)\n",
    "\n",
    "X_train, X_validate, y_train, y_validate = train_test_split(X_train_val, y_train_val, stratify=y_train_val, test_size=.25, random_state=123)\n",
    "\n",
    "train = pd.DataFrame(dict(actual=y_train))\n",
    "validate = pd.DataFrame(dict(actual=y_validate))\n",
    "\n",
    "lm = LogisticRegression().fit(X_train, y_train)\n",
    "\n",
    "train['predicted_lm'] = lm.predict(X_train)\n",
    "validate['predicted_lm'] = lm.predict(X_validate)"
   ]
  },
  {
   "cell_type": "code",
   "execution_count": 58,
   "metadata": {},
   "outputs": [
    {
     "name": "stdout",
     "output_type": "stream",
     "text": [
      "Accuracy: 95.09%\n",
      "---\n",
      "actual           0    1\n",
      "predicted_lm           \n",
      "0             4919  214\n",
      "1               67  521\n",
      "---\n",
      "              precision    recall  f1-score   support\n",
      "\n",
      "           0       0.96      0.99      0.97      4986\n",
      "           1       0.89      0.71      0.79       735\n",
      "\n",
      "    accuracy                           0.95      5721\n",
      "   macro avg       0.92      0.85      0.88      5721\n",
      "weighted avg       0.95      0.95      0.95      5721\n",
      "\n"
     ]
    }
   ],
   "source": [
    "print('Accuracy: {:.2%}'.format(accuracy_score(train.actual, train.predicted_lm)))\n",
    "print('---')\n",
    "\n",
    "print(pd.crosstab(train.predicted_lm, train.actual))\n",
    "print('---')\n",
    "print(classification_report(train.actual, train.predicted_lm))"
   ]
  },
  {
   "cell_type": "code",
   "execution_count": 59,
   "metadata": {},
   "outputs": [
    {
     "name": "stdout",
     "output_type": "stream",
     "text": [
      "Accuracy: 92.13%\n",
      "---\n",
      "actual           0    1\n",
      "predicted_lm           \n",
      "0             1620  108\n",
      "1               42  137\n",
      "---\n",
      "              precision    recall  f1-score   support\n",
      "\n",
      "           0       0.94      0.97      0.96      1662\n",
      "           1       0.77      0.56      0.65       245\n",
      "\n",
      "    accuracy                           0.92      1907\n",
      "   macro avg       0.85      0.77      0.80      1907\n",
      "weighted avg       0.92      0.92      0.92      1907\n",
      "\n"
     ]
    }
   ],
   "source": [
    "print('Accuracy: {:.2%}'.format(accuracy_score(validate.actual, validate.predicted_lm)))\n",
    "print('---')\n",
    "\n",
    "print(pd.crosstab(validate.predicted_lm, validate.actual))\n",
    "print('---')\n",
    "print(classification_report(validate.actual, validate.predicted_lm))"
   ]
  },
  {
   "cell_type": "code",
   "execution_count": 60,
   "metadata": {},
   "outputs": [
    {
     "data": {
      "text/html": [
       "<div>\n",
       "<style scoped>\n",
       "    .dataframe tbody tr th:only-of-type {\n",
       "        vertical-align: middle;\n",
       "    }\n",
       "\n",
       "    .dataframe tbody tr th {\n",
       "        vertical-align: top;\n",
       "    }\n",
       "\n",
       "    .dataframe thead th {\n",
       "        text-align: right;\n",
       "    }\n",
       "</style>\n",
       "<table border=\"1\" class=\"dataframe\">\n",
       "  <thead>\n",
       "    <tr style=\"text-align: right;\">\n",
       "      <th></th>\n",
       "      <th>00</th>\n",
       "      <th>00 1028321</th>\n",
       "      <th>00 16</th>\n",
       "      <th>00 wenige</th>\n",
       "      <th>000</th>\n",
       "      <th>000 0135</th>\n",
       "      <th>000 042</th>\n",
       "      <th>000 108</th>\n",
       "      <th>000 125</th>\n",
       "      <th>000 15minute</th>\n",
       "      <th>...</th>\n",
       "      <th>zwischenzeit</th>\n",
       "      <th>zwischenzeit fur</th>\n",
       "      <th>zxcv34276gmailcom</th>\n",
       "      <th>zxcv34276gmailcom hxxax</th>\n",
       "      <th>zyada</th>\n",
       "      <th>zyada der</th>\n",
       "      <th>zyzx</th>\n",
       "      <th>zyzx httpswwwtwitchtvzyzxbluto2u2</th>\n",
       "      <th>zzzzziiiizzzzzme</th>\n",
       "      <th>zzzzziiiizzzzzme suivre</th>\n",
       "    </tr>\n",
       "  </thead>\n",
       "  <tbody>\n",
       "    <tr>\n",
       "      <th>0</th>\n",
       "      <td>0</td>\n",
       "      <td>0</td>\n",
       "      <td>0</td>\n",
       "      <td>0</td>\n",
       "      <td>0</td>\n",
       "      <td>0</td>\n",
       "      <td>0</td>\n",
       "      <td>0</td>\n",
       "      <td>0</td>\n",
       "      <td>0</td>\n",
       "      <td>...</td>\n",
       "      <td>0</td>\n",
       "      <td>0</td>\n",
       "      <td>0</td>\n",
       "      <td>0</td>\n",
       "      <td>0</td>\n",
       "      <td>0</td>\n",
       "      <td>0</td>\n",
       "      <td>0</td>\n",
       "      <td>0</td>\n",
       "      <td>0</td>\n",
       "    </tr>\n",
       "    <tr>\n",
       "      <th>1</th>\n",
       "      <td>0</td>\n",
       "      <td>0</td>\n",
       "      <td>0</td>\n",
       "      <td>0</td>\n",
       "      <td>0</td>\n",
       "      <td>0</td>\n",
       "      <td>0</td>\n",
       "      <td>0</td>\n",
       "      <td>0</td>\n",
       "      <td>0</td>\n",
       "      <td>...</td>\n",
       "      <td>0</td>\n",
       "      <td>0</td>\n",
       "      <td>0</td>\n",
       "      <td>0</td>\n",
       "      <td>0</td>\n",
       "      <td>0</td>\n",
       "      <td>0</td>\n",
       "      <td>0</td>\n",
       "      <td>0</td>\n",
       "      <td>0</td>\n",
       "    </tr>\n",
       "    <tr>\n",
       "      <th>2</th>\n",
       "      <td>0</td>\n",
       "      <td>0</td>\n",
       "      <td>0</td>\n",
       "      <td>0</td>\n",
       "      <td>0</td>\n",
       "      <td>0</td>\n",
       "      <td>0</td>\n",
       "      <td>0</td>\n",
       "      <td>0</td>\n",
       "      <td>0</td>\n",
       "      <td>...</td>\n",
       "      <td>0</td>\n",
       "      <td>0</td>\n",
       "      <td>0</td>\n",
       "      <td>0</td>\n",
       "      <td>0</td>\n",
       "      <td>0</td>\n",
       "      <td>0</td>\n",
       "      <td>0</td>\n",
       "      <td>0</td>\n",
       "      <td>0</td>\n",
       "    </tr>\n",
       "    <tr>\n",
       "      <th>3</th>\n",
       "      <td>0</td>\n",
       "      <td>0</td>\n",
       "      <td>0</td>\n",
       "      <td>0</td>\n",
       "      <td>0</td>\n",
       "      <td>0</td>\n",
       "      <td>0</td>\n",
       "      <td>0</td>\n",
       "      <td>0</td>\n",
       "      <td>0</td>\n",
       "      <td>...</td>\n",
       "      <td>0</td>\n",
       "      <td>0</td>\n",
       "      <td>0</td>\n",
       "      <td>0</td>\n",
       "      <td>0</td>\n",
       "      <td>0</td>\n",
       "      <td>0</td>\n",
       "      <td>0</td>\n",
       "      <td>0</td>\n",
       "      <td>0</td>\n",
       "    </tr>\n",
       "    <tr>\n",
       "      <th>4</th>\n",
       "      <td>0</td>\n",
       "      <td>0</td>\n",
       "      <td>0</td>\n",
       "      <td>0</td>\n",
       "      <td>0</td>\n",
       "      <td>0</td>\n",
       "      <td>0</td>\n",
       "      <td>0</td>\n",
       "      <td>0</td>\n",
       "      <td>0</td>\n",
       "      <td>...</td>\n",
       "      <td>0</td>\n",
       "      <td>0</td>\n",
       "      <td>0</td>\n",
       "      <td>0</td>\n",
       "      <td>0</td>\n",
       "      <td>0</td>\n",
       "      <td>0</td>\n",
       "      <td>0</td>\n",
       "      <td>0</td>\n",
       "      <td>0</td>\n",
       "    </tr>\n",
       "  </tbody>\n",
       "</table>\n",
       "<p>5 rows × 146839 columns</p>\n",
       "</div>"
      ],
      "text/plain": [
       "   00  00 1028321  00 16  00 wenige  000  000 0135  000 042  000 108  000 125  \\\n",
       "0   0           0      0          0    0         0        0        0        0   \n",
       "1   0           0      0          0    0         0        0        0        0   \n",
       "2   0           0      0          0    0         0        0        0        0   \n",
       "3   0           0      0          0    0         0        0        0        0   \n",
       "4   0           0      0          0    0         0        0        0        0   \n",
       "\n",
       "   000 15minute  ...  zwischenzeit  zwischenzeit fur  zxcv34276gmailcom  \\\n",
       "0             0  ...             0                 0                  0   \n",
       "1             0  ...             0                 0                  0   \n",
       "2             0  ...             0                 0                  0   \n",
       "3             0  ...             0                 0                  0   \n",
       "4             0  ...             0                 0                  0   \n",
       "\n",
       "   zxcv34276gmailcom hxxax  zyada  zyada der  zyzx  \\\n",
       "0                        0      0          0     0   \n",
       "1                        0      0          0     0   \n",
       "2                        0      0          0     0   \n",
       "3                        0      0          0     0   \n",
       "4                        0      0          0     0   \n",
       "\n",
       "   zyzx httpswwwtwitchtvzyzxbluto2u2  zzzzziiiizzzzzme  \\\n",
       "0                                  0                 0   \n",
       "1                                  0                 0   \n",
       "2                                  0                 0   \n",
       "3                                  0                 0   \n",
       "4                                  0                 0   \n",
       "\n",
       "   zzzzziiiizzzzzme suivre  \n",
       "0                        0  \n",
       "1                        0  \n",
       "2                        0  \n",
       "3                        0  \n",
       "4                        0  \n",
       "\n",
       "[5 rows x 146839 columns]"
      ]
     },
     "execution_count": 60,
     "metadata": {},
     "output_type": "execute_result"
    }
   ],
   "source": [
    "vectorizer = CountVectorizer(ngram_range=(1, 2))\n",
    "X = vectorizer.fit_transform(df.lemmatized)\n",
    "df_bow_sklearn = pd.DataFrame(X.toarray(),columns=vectorizer.get_feature_names())\n",
    "df_bow_sklearn.head()"
   ]
  },
  {
   "cell_type": "code",
   "execution_count": 61,
   "metadata": {},
   "outputs": [],
   "source": [
    "X_train_val, X_test, y_train_val, y_test = train_test_split(X, y, stratify=y, test_size=.2, random_state=123)\n",
    "\n",
    "X_train, X_validate, y_train, y_validate = train_test_split(X_train_val, y_train_val, stratify=y_train_val, test_size=.25, random_state=123)\n",
    "\n",
    "train = pd.DataFrame(dict(actual=y_train))\n",
    "validate = pd.DataFrame(dict(actual=y_validate))\n",
    "\n",
    "lm = LogisticRegression().fit(X_train, y_train)\n",
    "\n",
    "train['predicted_lm'] = lm.predict(X_train)\n",
    "validate['predicted_lm'] = lm.predict(X_validate)"
   ]
  },
  {
   "cell_type": "code",
   "execution_count": 62,
   "metadata": {},
   "outputs": [
    {
     "name": "stdout",
     "output_type": "stream",
     "text": [
      "Accuracy: 95.33%\n",
      "---\n",
      "actual           0    1\n",
      "predicted_lm           \n",
      "0             4921  202\n",
      "1               65  533\n",
      "---\n",
      "              precision    recall  f1-score   support\n",
      "\n",
      "           0       0.96      0.99      0.97      4986\n",
      "           1       0.89      0.73      0.80       735\n",
      "\n",
      "    accuracy                           0.95      5721\n",
      "   macro avg       0.93      0.86      0.89      5721\n",
      "weighted avg       0.95      0.95      0.95      5721\n",
      "\n"
     ]
    }
   ],
   "source": [
    "print('Accuracy: {:.2%}'.format(accuracy_score(train.actual, train.predicted_lm)))\n",
    "print('---')\n",
    "\n",
    "print(pd.crosstab(train.predicted_lm, train.actual))\n",
    "print('---')\n",
    "print(classification_report(train.actual, train.predicted_lm))"
   ]
  },
  {
   "cell_type": "code",
   "execution_count": 63,
   "metadata": {},
   "outputs": [
    {
     "name": "stdout",
     "output_type": "stream",
     "text": [
      "Accuracy: 92.50%\n",
      "---\n",
      "actual           0    1\n",
      "predicted_lm           \n",
      "0             1625  106\n",
      "1               37  139\n",
      "---\n",
      "              precision    recall  f1-score   support\n",
      "\n",
      "           0       0.94      0.98      0.96      1662\n",
      "           1       0.79      0.57      0.66       245\n",
      "\n",
      "    accuracy                           0.93      1907\n",
      "   macro avg       0.86      0.77      0.81      1907\n",
      "weighted avg       0.92      0.93      0.92      1907\n",
      "\n"
     ]
    }
   ],
   "source": [
    "print('Accuracy: {:.2%}'.format(accuracy_score(validate.actual, validate.predicted_lm)))\n",
    "print('---')\n",
    "\n",
    "print(pd.crosstab(validate.predicted_lm, validate.actual))\n",
    "print('---')\n",
    "print(classification_report(validate.actual, validate.predicted_lm))"
   ]
  },
  {
   "cell_type": "code",
   "execution_count": null,
   "metadata": {},
   "outputs": [],
   "source": []
  },
  {
   "cell_type": "markdown",
   "metadata": {},
   "source": [
    "## Modeling - Take 2"
   ]
  },
  {
   "cell_type": "markdown",
   "metadata": {},
   "source": [
    "## Practice work"
   ]
  },
  {
   "cell_type": "code",
   "execution_count": 64,
   "metadata": {},
   "outputs": [],
   "source": [
    "#model imports\n",
    "\n",
    "from math import sqrt\n",
    "from scipy import stats\n",
    "from scipy.stats import pearsonr, spearmanr\n",
    "from statsmodels.formula.api import ols\n",
    "from sklearn.metrics import mean_squared_error, explained_variance_score\n",
    "from sklearn.linear_model import LinearRegression\n",
    "from sklearn.feature_selection import RFE, SelectKBest, f_regression\n",
    "from sklearn.preprocessing import StandardScaler\n",
    "from sklearn.model_selection import train_test_split\n",
    "from sklearn.neighbors import KNeighborsClassifier\n",
    "from sklearn.preprocessing import MinMaxScaler, StandardScaler, RobustScaler, QuantileTransformer\n",
    "\n",
    "# from linear_model: LinearRegression (OLS), LassoLars, TweedieRegressor (Generalized Linear Model)\n",
    "from sklearn.linear_model import LinearRegression, LassoLars, TweedieRegressor\n"
   ]
  },
  {
   "cell_type": "code",
   "execution_count": 65,
   "metadata": {},
   "outputs": [],
   "source": [
    "def my_train_test_split(df, target):\n",
    "    \n",
    "    train, test = train_test_split(df, test_size=.2, random_state=123, stratify=df[target])\n",
    "    train, validate = train_test_split(train, test_size=.25, random_state=123, stratify=train[target])\n",
    "    \n",
    "    return train, validate, test"
   ]
  },
  {
   "cell_type": "code",
   "execution_count": 66,
   "metadata": {},
   "outputs": [],
   "source": [
    "train, validate, test = my_train_test_split(df, 'top_25')"
   ]
  },
  {
   "cell_type": "code",
   "execution_count": 67,
   "metadata": {},
   "outputs": [
    {
     "data": {
      "text/plain": [
       "((5721, 35), (1907, 35), (1908, 35))"
      ]
     },
     "execution_count": 67,
     "metadata": {},
     "output_type": "execute_result"
    }
   ],
   "source": [
    "train.shape,validate.shape,test.shape"
   ]
  },
  {
   "cell_type": "markdown",
   "metadata": {},
   "source": [
    "# Modeling & Evaluate\n",
    "## Scaling"
   ]
  },
  {
   "cell_type": "code",
   "execution_count": 68,
   "metadata": {},
   "outputs": [],
   "source": [
    "from sklearn.preprocessing import MinMaxScaler"
   ]
  },
  {
   "cell_type": "code",
   "execution_count": 69,
   "metadata": {},
   "outputs": [],
   "source": [
    "#Write function to scale data for zillow data\n",
    "def scale_data(train, validate, test, features_to_scale):\n",
    "    \"\"\"Scales the 3 data splits using MinMax Scaler. \n",
    "    Takes in train, validate, and test data splits as well as a list of the features to scale. \n",
    "    Returns dataframe with scaled counterparts on as columns\"\"\"\n",
    "    \n",
    "    \n",
    "    # Make the thing to train data only\n",
    "    scaler = MinMaxScaler()\n",
    "    scaler.fit(train[features_to_scale])\n",
    "    \n",
    "    # Fit the thing with new column names with _scaled added on\n",
    "    scaled_columns = [col+\"_scaled\" for col in features_to_scale]\n",
    "    \n",
    "    # Transform the separate datasets using the scaler learned from train\n",
    "    scaled_train = scaler.transform(train[features_to_scale])\n",
    "    scaled_validate = scaler.transform(validate[features_to_scale])\n",
    "    scaled_test = scaler.transform(test[features_to_scale])\n",
    "    \n",
    "    # Apply the scaled data to the original unscaled data\n",
    "    #train_scaled = pd.get_dummies(train_scaled)\n",
    "    #validate_scaled = pd.get_dummies(validate_scaled)\n",
    "    #test_scaled = pd.get_dummies(test_scaled)\n",
    "    \n",
    "    \n",
    "    train_scaled = pd.concat([train, pd.DataFrame(scaled_train,index=train.index, columns = scaled_columns)],axis=1)\n",
    "    validate_scaled = pd.concat([validate, pd.DataFrame(scaled_validate,index=validate.index, columns = scaled_columns)],axis=1)\n",
    "    test_scaled = pd.concat([test, pd.DataFrame(scaled_test,index=test.index, columns = scaled_columns)],axis=1)\n",
    "\n",
    "    return train_scaled, validate_scaled, test_scaled"
   ]
  },
  {
   "cell_type": "code",
   "execution_count": 70,
   "metadata": {},
   "outputs": [],
   "source": [
    "features_to_scale = ['age','num_of_tags','duration','num_of_tags','engagement','sponsored', 'title_in_description', \n",
    "        'title_in_tags','pct_tags_in_description', 'title_lengths', 'desc_lengths','tags_length']\n",
    "train_scaled, validate_scaled, test_scaled = scale_data(train, validate, test, features_to_scale)"
   ]
  },
  {
   "cell_type": "code",
   "execution_count": 71,
   "metadata": {},
   "outputs": [
    {
     "data": {
      "text/plain": [
       "Index(['video_id', 'title', 'publishedAt', 'channelTitle', 'categoryId',\n",
       "       'trending_date', 'tags', 'view_count', 'likes', 'comment_count',\n",
       "       'thumbnail_link', 'comments_disabled', 'ratings_disabled',\n",
       "       'description', 'duration', 'captions', 'region', 'rank', 'top_25',\n",
       "       'age', 'engagement', 'sponsored', 'num_of_tags', 'word_bank',\n",
       "       'cleaned_tags', 'cleaned_desc', 'title_in_description', 'title_in_tags',\n",
       "       'pct_tags_in_description', 'title_lengths', 'desc_lengths',\n",
       "       'tags_length', 'clean', 'stemmed', 'lemmatized', 'age_scaled',\n",
       "       'num_of_tags_scaled', 'duration_scaled', 'num_of_tags_scaled',\n",
       "       'engagement_scaled', 'sponsored_scaled', 'title_in_description_scaled',\n",
       "       'title_in_tags_scaled', 'pct_tags_in_description_scaled',\n",
       "       'title_lengths_scaled', 'desc_lengths_scaled', 'tags_length_scaled'],\n",
       "      dtype='object')"
      ]
     },
     "execution_count": 71,
     "metadata": {},
     "output_type": "execute_result"
    }
   ],
   "source": [
    "train_scaled.columns"
   ]
  },
  {
   "cell_type": "code",
   "execution_count": 72,
   "metadata": {},
   "outputs": [],
   "source": [
    "#X will be features\n",
    "#y will be our target variable\n",
    "#these features have high correlation to top_25 videos\n",
    "\n",
    "scaled_features = ['age_scaled', 'num_of_tags_scaled','duration_scaled', 'num_of_tags_scaled',\n",
    "       'engagement_scaled', 'sponsored_scaled', 'title_in_description', 'title_in_tags',\n",
    "       'pct_tags_in_description', 'title_lengths', 'desc_lengths',\n",
    "    'tags_length']\n",
    "X_train = train_scaled[scaled_features]\n",
    "y_train = train_scaled.top_25\n",
    "X_validate = validate_scaled[scaled_features]\n",
    "y_validate = validate_scaled.top_25\n",
    "X_test = test_scaled[scaled_features]\n",
    "y_test= test_scaled.top_25"
   ]
  },
  {
   "cell_type": "markdown",
   "metadata": {},
   "source": [
    "## Baseline"
   ]
  },
  {
   "cell_type": "code",
   "execution_count": 73,
   "metadata": {},
   "outputs": [
    {
     "data": {
      "text/plain": [
       "0    4986\n",
       "1     735\n",
       "Name: top_25, dtype: int64"
      ]
     },
     "execution_count": 73,
     "metadata": {},
     "output_type": "execute_result"
    }
   ],
   "source": [
    "#baseline prediction:baseline is the mode value\n",
    "y_train.value_counts()"
   ]
  },
  {
   "cell_type": "code",
   "execution_count": 74,
   "metadata": {},
   "outputs": [
    {
     "name": "stdout",
     "output_type": "stream",
     "text": [
      " Baseline Accuracy: 100.00%\n",
      "---\n",
      "Confusion Matrix\n",
      "top_25     0    1\n",
      "top_25           \n",
      "0       4986    0\n",
      "1          0  735\n",
      "---\n",
      "              precision    recall  f1-score   support\n",
      "\n",
      "           0       1.00      1.00      1.00      4986\n",
      "           1       1.00      1.00      1.00       735\n",
      "\n",
      "    accuracy                           1.00      5721\n",
      "   macro avg       1.00      1.00      1.00      5721\n",
      "weighted avg       1.00      1.00      1.00      5721\n",
      "\n"
     ]
    }
   ],
   "source": [
    "# calculate accuracy of baseline\n",
    "baseline_accuracy = accuracy_score(y_train, y_train)\n",
    "print(' Baseline Accuracy: {:.2%}'.format(accuracy_score(y_train, y_train)))\n",
    "print('---')\n",
    "print('Confusion Matrix')\n",
    "print(pd.crosstab(y_train, y_train))\n",
    "print('---')\n",
    "print(classification_report(y_train, y_train))"
   ]
  },
  {
   "cell_type": "code",
   "execution_count": 75,
   "metadata": {},
   "outputs": [
    {
     "name": "stdout",
     "output_type": "stream",
     "text": [
      "Top_25 baseline accuracy is: 0.8715259570005244\n"
     ]
    }
   ],
   "source": [
    "baseline_accuracy = (y_train == 0).mean()\n",
    "print('Top_25 baseline accuracy is:', baseline_accuracy)"
   ]
  },
  {
   "cell_type": "code",
   "execution_count": 104,
   "metadata": {},
   "outputs": [],
   "source": [
    "import warnings\n",
    "warnings.filterwarnings('ignore')\n",
    "import pandas as pd\n",
    "import numpy as np\n",
    "from sklearn import preprocessing\n",
    "from sklearn.metrics import accuracy_score, confusion_matrix, precision_score, recall_score, f1_score, precision_recall_curve, auc\n",
    "import matplotlib.pyplot as plt\n",
    "from sklearn.decomposition import PCA\n",
    "import seaborn as sns\n",
    "\n",
    "from math import sqrt\n",
    "from scipy import stats\n",
    "from scipy.stats import pearsonr, spearmanr\n",
    "from statsmodels.formula.api import ols\n",
    "from sklearn.metrics import mean_squared_error, explained_variance_score\n",
    "from sklearn.metrics import classification_report, confusion_matrix, ConfusionMatrixDisplay\n",
    "from sklearn.feature_selection import RFE, SelectKBest, f_regression\n",
    "from sklearn.preprocessing import StandardScaler\n",
    "from sklearn.model_selection import train_test_split\n",
    "from sklearn.neighbors import KNeighborsClassifier\n",
    "from sklearn.preprocessing import MinMaxScaler, StandardScaler, RobustScaler, QuantileTransformer\n",
    "from sklearn.linear_model import LinearRegression, LassoLars, TweedieRegressor\n",
    "from sklearn.tree import DecisionTreeClassifier, plot_tree, export_text\n",
    "from sklearn import tree\n",
    "from sklearn.ensemble import RandomForestClassifier\n",
    "from sklearn.neighbors import KNeighborsClassifier\n",
    "from sklearn.linear_model import LogisticRegression\n",
    "from sklearn.model_selection import cross_val_score\n"
   ]
  },
  {
   "cell_type": "markdown",
   "metadata": {},
   "source": [
    "## Baseline"
   ]
  },
  {
   "cell_type": "code",
   "execution_count": 105,
   "metadata": {},
   "outputs": [
    {
     "name": "stdout",
     "output_type": "stream",
     "text": [
      "Top_25 videos baseline accuracy is: 0.8715259570005244\n"
     ]
    }
   ],
   "source": [
    "#Formulate baseline accuracy\n",
    "baseline_accuracy = (y_train == 0).mean()\n",
    "print('Top_25 videos baseline accuracy is:', baseline_accuracy)"
   ]
  },
  {
   "cell_type": "code",
   "execution_count": 109,
   "metadata": {},
   "outputs": [],
   "source": [
    "model_descriptions = pd.DataFrame({'Model': 'Baseline', \\\n",
    "    'Accuracy(Score)': baseline_accuracy,\n",
    "    'Type': 'Basic Baseline',\n",
    "    'Features Used': 'Baseline Prediction',\n",
    "    }, index=[0])"
   ]
  },
  {
   "cell_type": "code",
   "execution_count": 112,
   "metadata": {},
   "outputs": [],
   "source": [
    "#creates data frame that will hold comparison metrics for the various models\n",
    "#comparison_chart = model.create_comp_chart()"
   ]
  },
  {
   "cell_type": "markdown",
   "metadata": {},
   "source": [
    "## Option 1"
   ]
  },
  {
   "cell_type": "markdown",
   "metadata": {},
   "source": [
    "## Decision Tree Classifier"
   ]
  },
  {
   "cell_type": "code",
   "execution_count": 77,
   "metadata": {},
   "outputs": [
    {
     "data": {
      "text/html": [
       "<div>\n",
       "<style scoped>\n",
       "    .dataframe tbody tr th:only-of-type {\n",
       "        vertical-align: middle;\n",
       "    }\n",
       "\n",
       "    .dataframe tbody tr th {\n",
       "        vertical-align: top;\n",
       "    }\n",
       "\n",
       "    .dataframe thead th {\n",
       "        text-align: right;\n",
       "    }\n",
       "</style>\n",
       "<table border=\"1\" class=\"dataframe\">\n",
       "  <thead>\n",
       "    <tr style=\"text-align: right;\">\n",
       "      <th></th>\n",
       "      <th>i</th>\n",
       "      <th>accuracy_train</th>\n",
       "      <th>accuracy_validate</th>\n",
       "      <th>difference</th>\n",
       "    </tr>\n",
       "  </thead>\n",
       "  <tbody>\n",
       "    <tr>\n",
       "      <th>0</th>\n",
       "      <td>1</td>\n",
       "      <td>0.871526</td>\n",
       "      <td>0.871526</td>\n",
       "      <td>0.000000</td>\n",
       "    </tr>\n",
       "    <tr>\n",
       "      <th>1</th>\n",
       "      <td>2</td>\n",
       "      <td>0.889879</td>\n",
       "      <td>0.883062</td>\n",
       "      <td>0.006817</td>\n",
       "    </tr>\n",
       "    <tr>\n",
       "      <th>2</th>\n",
       "      <td>3</td>\n",
       "      <td>0.891802</td>\n",
       "      <td>0.889879</td>\n",
       "      <td>0.001923</td>\n",
       "    </tr>\n",
       "    <tr>\n",
       "      <th>3</th>\n",
       "      <td>4</td>\n",
       "      <td>0.906485</td>\n",
       "      <td>0.896696</td>\n",
       "      <td>0.009788</td>\n",
       "    </tr>\n",
       "    <tr>\n",
       "      <th>4</th>\n",
       "      <td>5</td>\n",
       "      <td>0.916973</td>\n",
       "      <td>0.909806</td>\n",
       "      <td>0.007167</td>\n",
       "    </tr>\n",
       "    <tr>\n",
       "      <th>5</th>\n",
       "      <td>6</td>\n",
       "      <td>0.933228</td>\n",
       "      <td>0.918721</td>\n",
       "      <td>0.014508</td>\n",
       "    </tr>\n",
       "    <tr>\n",
       "      <th>6</th>\n",
       "      <td>7</td>\n",
       "      <td>0.946163</td>\n",
       "      <td>0.930781</td>\n",
       "      <td>0.015382</td>\n",
       "    </tr>\n",
       "    <tr>\n",
       "      <th>7</th>\n",
       "      <td>8</td>\n",
       "      <td>0.956301</td>\n",
       "      <td>0.930781</td>\n",
       "      <td>0.025520</td>\n",
       "    </tr>\n",
       "    <tr>\n",
       "      <th>8</th>\n",
       "      <td>9</td>\n",
       "      <td>0.969761</td>\n",
       "      <td>0.939696</td>\n",
       "      <td>0.030065</td>\n",
       "    </tr>\n",
       "  </tbody>\n",
       "</table>\n",
       "</div>"
      ],
      "text/plain": [
       "   i  accuracy_train  accuracy_validate  difference\n",
       "0  1        0.871526           0.871526    0.000000\n",
       "1  2        0.889879           0.883062    0.006817\n",
       "2  3        0.891802           0.889879    0.001923\n",
       "3  4        0.906485           0.896696    0.009788\n",
       "4  5        0.916973           0.909806    0.007167\n",
       "5  6        0.933228           0.918721    0.014508\n",
       "6  7        0.946163           0.930781    0.015382\n",
       "7  8        0.956301           0.930781    0.025520\n",
       "8  9        0.969761           0.939696    0.030065"
      ]
     },
     "execution_count": 77,
     "metadata": {},
     "output_type": "execute_result"
    }
   ],
   "source": [
    "#loop the model with changing max depth only\n",
    "model_scores = []\n",
    "for i in range(1,10):\n",
    "    model = DecisionTreeClassifier(max_depth=i, random_state =123)\n",
    "    model.fit(X_train, y_train)\n",
    "    y_pred = model.predict(X_train)\n",
    "    accuracy_train = model.score(X_train,y_train)\n",
    "    accuracy_validate = model.score(X_validate,y_validate)\n",
    "    difference = accuracy_train-accuracy_validate\n",
    "    output = {\"i\":i, \"accuracy_train\":accuracy_train,\"accuracy_validate\":accuracy_validate,\"difference\":difference}\n",
    "    model_scores.append(output)\n",
    "df = pd.DataFrame(model_scores)\n",
    "df"
   ]
  },
  {
   "cell_type": "markdown",
   "metadata": {},
   "source": [
    "## Random Forest"
   ]
  },
  {
   "cell_type": "code",
   "execution_count": 78,
   "metadata": {},
   "outputs": [
    {
     "data": {
      "text/html": [
       "<div>\n",
       "<style scoped>\n",
       "    .dataframe tbody tr th:only-of-type {\n",
       "        vertical-align: middle;\n",
       "    }\n",
       "\n",
       "    .dataframe tbody tr th {\n",
       "        vertical-align: top;\n",
       "    }\n",
       "\n",
       "    .dataframe thead th {\n",
       "        text-align: right;\n",
       "    }\n",
       "</style>\n",
       "<table border=\"1\" class=\"dataframe\">\n",
       "  <thead>\n",
       "    <tr style=\"text-align: right;\">\n",
       "      <th></th>\n",
       "      <th>min_sample_leaf</th>\n",
       "      <th>accuracy_train</th>\n",
       "      <th>accuracy_validate</th>\n",
       "      <th>difference</th>\n",
       "    </tr>\n",
       "  </thead>\n",
       "  <tbody>\n",
       "    <tr>\n",
       "      <th>0</th>\n",
       "      <td>1</td>\n",
       "      <td>0.999650</td>\n",
       "      <td>0.944415</td>\n",
       "      <td>0.055235</td>\n",
       "    </tr>\n",
       "    <tr>\n",
       "      <th>1</th>\n",
       "      <td>2</td>\n",
       "      <td>0.985842</td>\n",
       "      <td>0.937598</td>\n",
       "      <td>0.048243</td>\n",
       "    </tr>\n",
       "    <tr>\n",
       "      <th>2</th>\n",
       "      <td>3</td>\n",
       "      <td>0.977451</td>\n",
       "      <td>0.931306</td>\n",
       "      <td>0.046146</td>\n",
       "    </tr>\n",
       "    <tr>\n",
       "      <th>3</th>\n",
       "      <td>4</td>\n",
       "      <td>0.971159</td>\n",
       "      <td>0.930257</td>\n",
       "      <td>0.040902</td>\n",
       "    </tr>\n",
       "    <tr>\n",
       "      <th>4</th>\n",
       "      <td>5</td>\n",
       "      <td>0.965391</td>\n",
       "      <td>0.928684</td>\n",
       "      <td>0.036707</td>\n",
       "    </tr>\n",
       "    <tr>\n",
       "      <th>5</th>\n",
       "      <td>6</td>\n",
       "      <td>0.959622</td>\n",
       "      <td>0.924489</td>\n",
       "      <td>0.035134</td>\n",
       "    </tr>\n",
       "    <tr>\n",
       "      <th>6</th>\n",
       "      <td>7</td>\n",
       "      <td>0.957001</td>\n",
       "      <td>0.921867</td>\n",
       "      <td>0.035134</td>\n",
       "    </tr>\n",
       "    <tr>\n",
       "      <th>7</th>\n",
       "      <td>8</td>\n",
       "      <td>0.950358</td>\n",
       "      <td>0.920818</td>\n",
       "      <td>0.029540</td>\n",
       "    </tr>\n",
       "    <tr>\n",
       "      <th>8</th>\n",
       "      <td>9</td>\n",
       "      <td>0.947736</td>\n",
       "      <td>0.918196</td>\n",
       "      <td>0.029540</td>\n",
       "    </tr>\n",
       "  </tbody>\n",
       "</table>\n",
       "</div>"
      ],
      "text/plain": [
       "   min_sample_leaf  accuracy_train  accuracy_validate  difference\n",
       "0                1        0.999650           0.944415    0.055235\n",
       "1                2        0.985842           0.937598    0.048243\n",
       "2                3        0.977451           0.931306    0.046146\n",
       "3                4        0.971159           0.930257    0.040902\n",
       "4                5        0.965391           0.928684    0.036707\n",
       "5                6        0.959622           0.924489    0.035134\n",
       "6                7        0.957001           0.921867    0.035134\n",
       "7                8        0.950358           0.920818    0.029540\n",
       "8                9        0.947736           0.918196    0.029540"
      ]
     },
     "execution_count": 78,
     "metadata": {},
     "output_type": "execute_result"
    }
   ],
   "source": [
    "#model with tuning min sample leaf only\n",
    "model_scores = []\n",
    "\n",
    "for i in range(1,10):\n",
    "\n",
    "    model = RandomForestClassifier(min_samples_leaf= i,random_state=123)\n",
    "    model.fit(X_train, y_train)\n",
    "    y_pred = model.predict(X_train)\n",
    "    accuracy_train = model.score(X_train,y_train)\n",
    "    accuracy_validate = model.score(X_validate,y_validate)\n",
    "    difference = accuracy_train-accuracy_validate\n",
    "    output = {\"min_sample_leaf\":i, \"accuracy_train\":accuracy_train,\"accuracy_validate\":accuracy_validate,\"difference\":difference}\n",
    "    model_scores.append(output)\n",
    "df = pd.DataFrame(model_scores)\n",
    "df"
   ]
  },
  {
   "cell_type": "markdown",
   "metadata": {},
   "source": [
    "## KNN"
   ]
  },
  {
   "cell_type": "code",
   "execution_count": 79,
   "metadata": {},
   "outputs": [
    {
     "data": {
      "text/html": [
       "<div>\n",
       "<style scoped>\n",
       "    .dataframe tbody tr th:only-of-type {\n",
       "        vertical-align: middle;\n",
       "    }\n",
       "\n",
       "    .dataframe tbody tr th {\n",
       "        vertical-align: top;\n",
       "    }\n",
       "\n",
       "    .dataframe thead th {\n",
       "        text-align: right;\n",
       "    }\n",
       "</style>\n",
       "<table border=\"1\" class=\"dataframe\">\n",
       "  <thead>\n",
       "    <tr style=\"text-align: right;\">\n",
       "      <th></th>\n",
       "      <th>k</th>\n",
       "      <th>accuracy_train</th>\n",
       "      <th>accuracy_validate</th>\n",
       "      <th>difference</th>\n",
       "    </tr>\n",
       "  </thead>\n",
       "  <tbody>\n",
       "    <tr>\n",
       "      <th>0</th>\n",
       "      <td>1</td>\n",
       "      <td>0.999650</td>\n",
       "      <td>0.930257</td>\n",
       "      <td>0.069393</td>\n",
       "    </tr>\n",
       "    <tr>\n",
       "      <th>1</th>\n",
       "      <td>2</td>\n",
       "      <td>0.967313</td>\n",
       "      <td>0.901940</td>\n",
       "      <td>0.065373</td>\n",
       "    </tr>\n",
       "    <tr>\n",
       "      <th>2</th>\n",
       "      <td>3</td>\n",
       "      <td>0.957874</td>\n",
       "      <td>0.878867</td>\n",
       "      <td>0.079007</td>\n",
       "    </tr>\n",
       "    <tr>\n",
       "      <th>3</th>\n",
       "      <td>4</td>\n",
       "      <td>0.931481</td>\n",
       "      <td>0.888831</td>\n",
       "      <td>0.042650</td>\n",
       "    </tr>\n",
       "    <tr>\n",
       "      <th>4</th>\n",
       "      <td>5</td>\n",
       "      <td>0.923615</td>\n",
       "      <td>0.879392</td>\n",
       "      <td>0.044223</td>\n",
       "    </tr>\n",
       "    <tr>\n",
       "      <th>5</th>\n",
       "      <td>6</td>\n",
       "      <td>0.911729</td>\n",
       "      <td>0.878343</td>\n",
       "      <td>0.033386</td>\n",
       "    </tr>\n",
       "    <tr>\n",
       "      <th>6</th>\n",
       "      <td>7</td>\n",
       "      <td>0.908058</td>\n",
       "      <td>0.869428</td>\n",
       "      <td>0.038630</td>\n",
       "    </tr>\n",
       "    <tr>\n",
       "      <th>7</th>\n",
       "      <td>8</td>\n",
       "      <td>0.897396</td>\n",
       "      <td>0.874148</td>\n",
       "      <td>0.023248</td>\n",
       "    </tr>\n",
       "    <tr>\n",
       "      <th>8</th>\n",
       "      <td>9</td>\n",
       "      <td>0.894948</td>\n",
       "      <td>0.868380</td>\n",
       "      <td>0.026569</td>\n",
       "    </tr>\n",
       "    <tr>\n",
       "      <th>9</th>\n",
       "      <td>10</td>\n",
       "      <td>0.890928</td>\n",
       "      <td>0.871002</td>\n",
       "      <td>0.019927</td>\n",
       "    </tr>\n",
       "    <tr>\n",
       "      <th>10</th>\n",
       "      <td>11</td>\n",
       "      <td>0.889355</td>\n",
       "      <td>0.868380</td>\n",
       "      <td>0.020975</td>\n",
       "    </tr>\n",
       "    <tr>\n",
       "      <th>11</th>\n",
       "      <td>12</td>\n",
       "      <td>0.886034</td>\n",
       "      <td>0.877294</td>\n",
       "      <td>0.008740</td>\n",
       "    </tr>\n",
       "    <tr>\n",
       "      <th>12</th>\n",
       "      <td>13</td>\n",
       "      <td>0.886558</td>\n",
       "      <td>0.875197</td>\n",
       "      <td>0.011362</td>\n",
       "    </tr>\n",
       "    <tr>\n",
       "      <th>13</th>\n",
       "      <td>14</td>\n",
       "      <td>0.883762</td>\n",
       "      <td>0.876770</td>\n",
       "      <td>0.006992</td>\n",
       "    </tr>\n",
       "    <tr>\n",
       "      <th>14</th>\n",
       "      <td>15</td>\n",
       "      <td>0.881489</td>\n",
       "      <td>0.873623</td>\n",
       "      <td>0.007866</td>\n",
       "    </tr>\n",
       "    <tr>\n",
       "      <th>15</th>\n",
       "      <td>16</td>\n",
       "      <td>0.879042</td>\n",
       "      <td>0.876770</td>\n",
       "      <td>0.002272</td>\n",
       "    </tr>\n",
       "    <tr>\n",
       "      <th>16</th>\n",
       "      <td>17</td>\n",
       "      <td>0.878343</td>\n",
       "      <td>0.873099</td>\n",
       "      <td>0.005244</td>\n",
       "    </tr>\n",
       "    <tr>\n",
       "      <th>17</th>\n",
       "      <td>18</td>\n",
       "      <td>0.878168</td>\n",
       "      <td>0.870477</td>\n",
       "      <td>0.007691</td>\n",
       "    </tr>\n",
       "    <tr>\n",
       "      <th>18</th>\n",
       "      <td>19</td>\n",
       "      <td>0.875721</td>\n",
       "      <td>0.867855</td>\n",
       "      <td>0.007866</td>\n",
       "    </tr>\n",
       "  </tbody>\n",
       "</table>\n",
       "</div>"
      ],
      "text/plain": [
       "     k  accuracy_train  accuracy_validate  difference\n",
       "0    1        0.999650           0.930257    0.069393\n",
       "1    2        0.967313           0.901940    0.065373\n",
       "2    3        0.957874           0.878867    0.079007\n",
       "3    4        0.931481           0.888831    0.042650\n",
       "4    5        0.923615           0.879392    0.044223\n",
       "5    6        0.911729           0.878343    0.033386\n",
       "6    7        0.908058           0.869428    0.038630\n",
       "7    8        0.897396           0.874148    0.023248\n",
       "8    9        0.894948           0.868380    0.026569\n",
       "9   10        0.890928           0.871002    0.019927\n",
       "10  11        0.889355           0.868380    0.020975\n",
       "11  12        0.886034           0.877294    0.008740\n",
       "12  13        0.886558           0.875197    0.011362\n",
       "13  14        0.883762           0.876770    0.006992\n",
       "14  15        0.881489           0.873623    0.007866\n",
       "15  16        0.879042           0.876770    0.002272\n",
       "16  17        0.878343           0.873099    0.005244\n",
       "17  18        0.878168           0.870477    0.007691\n",
       "18  19        0.875721           0.867855    0.007866"
      ]
     },
     "execution_count": 79,
     "metadata": {},
     "output_type": "execute_result"
    }
   ],
   "source": [
    "#For lopp for KNN \n",
    "empty_model = []\n",
    "for k in range(1,20):\n",
    "    model = KNeighborsClassifier(n_neighbors = k, weights = \"uniform\")\n",
    "    model=model.fit(X_train,y_train)\n",
    "    y_pred = model.predict(X_train)\n",
    "    accuracy_train = model.score(X_train,y_train)\n",
    "    accuracy_validate = model.score(X_validate,y_validate)\n",
    "    difference = accuracy_train-accuracy_validate\n",
    "    output = {\"k\":k, \"accuracy_train\":accuracy_train,\"accuracy_validate\":accuracy_validate,\"difference\":difference}\n",
    "    \n",
    "    \n",
    "    empty_model.append(output)\n",
    "\n",
    "df = pd.DataFrame(empty_model)\n",
    "df"
   ]
  },
  {
   "cell_type": "markdown",
   "metadata": {},
   "source": [
    "## Logistic Regression"
   ]
  },
  {
   "cell_type": "code",
   "execution_count": 80,
   "metadata": {},
   "outputs": [
    {
     "data": {
      "text/plain": [
       "{'accuracy_train': 0.8711763677678728,\n",
       " 'accuracy_validate': 0.8715259570005244,\n",
       " 'difference': -0.0003495892326516037}"
      ]
     },
     "execution_count": 80,
     "metadata": {},
     "output_type": "execute_result"
    }
   ],
   "source": [
    "model = LogisticRegression(C = .1, random_state=123)\n",
    "model=model.fit(X_train,y_train)\n",
    "y_pred = model.predict(X_train)\n",
    "accuracy_train = model.score(X_train,y_train)\n",
    "accuracy_validate = model.score(X_validate,y_validate)\n",
    "difference = accuracy_train-accuracy_validate\n",
    "output = { \"accuracy_train\":accuracy_train,\"accuracy_validate\":accuracy_validate,\"difference\":difference}\n",
    "    \n",
    "output  "
   ]
  },
  {
   "cell_type": "code",
   "execution_count": null,
   "metadata": {},
   "outputs": [],
   "source": []
  },
  {
   "cell_type": "markdown",
   "metadata": {},
   "source": [
    "## Option 2"
   ]
  },
  {
   "cell_type": "markdown",
   "metadata": {},
   "source": [
    "## Build a Model to Test Multiple Types of Models as MVPs\n",
    "### Create a model.\n",
    "### Fit to train.\n",
    "### Score model."
   ]
  },
  {
   "cell_type": "code",
   "execution_count": 81,
   "metadata": {},
   "outputs": [],
   "source": [
    "def score_models(X_train, y_train, X_validate, y_validate):\n",
    "    '''\n",
    "    Score multiple models on train and validate datasets.\n",
    "    Print classification reports to decide on a model to test.\n",
    "    Return each trained model, so I can choose one to test.\n",
    "    models = dt_model1, rf_model, knn1_model.\n",
    "    '''\n",
    "    dt_model1 = DecisionTreeClassifier(max_depth = 8, random_state = 123)\n",
    "    rf_model = RandomForestClassifier(min_samples_leaf = 1, max_depth = 10)\n",
    "    knn1_model = KNeighborsClassifier()\n",
    "    models = [dt_model1, rf_model, knn1_model]\n",
    "    for model in models:\n",
    "        model.fit(X_train, y_train)\n",
    "        actual_train = y_train\n",
    "        predicted_train = model.predict(X_train)\n",
    "        actual_validate = y_validate\n",
    "        predicted_validate = model.predict(X_validate)\n",
    "        print(model)\n",
    "        print('')\n",
    "        print('train score: ')\n",
    "        print(classification_report(actual_train, predicted_train))\n",
    "        print('validate score: ')\n",
    "        print(classification_report(actual_validate, predicted_validate))\n",
    "        print('________________________')\n",
    "        print('')\n",
    "    return dt_model1, rf_model, knn1_model\n"
   ]
  },
  {
   "cell_type": "code",
   "execution_count": 82,
   "metadata": {},
   "outputs": [
    {
     "name": "stdout",
     "output_type": "stream",
     "text": [
      "DecisionTreeClassifier(max_depth=8, random_state=123)\n",
      "\n",
      "train score: \n",
      "              precision    recall  f1-score   support\n",
      "\n",
      "           0       0.96      0.99      0.98      4986\n",
      "           1       0.95      0.69      0.80       735\n",
      "\n",
      "    accuracy                           0.96      5721\n",
      "   macro avg       0.95      0.84      0.89      5721\n",
      "weighted avg       0.96      0.96      0.95      5721\n",
      "\n",
      "validate score: \n",
      "              precision    recall  f1-score   support\n",
      "\n",
      "           0       0.94      0.98      0.96      1662\n",
      "           1       0.82      0.59      0.69       245\n",
      "\n",
      "    accuracy                           0.93      1907\n",
      "   macro avg       0.88      0.78      0.82      1907\n",
      "weighted avg       0.93      0.93      0.93      1907\n",
      "\n",
      "________________________\n",
      "\n",
      "RandomForestClassifier(max_depth=10)\n",
      "\n",
      "train score: \n",
      "              precision    recall  f1-score   support\n",
      "\n",
      "           0       0.96      1.00      0.98      4986\n",
      "           1       0.98      0.74      0.84       735\n",
      "\n",
      "    accuracy                           0.96      5721\n",
      "   macro avg       0.97      0.87      0.91      5721\n",
      "weighted avg       0.97      0.96      0.96      5721\n",
      "\n",
      "validate score: \n",
      "              precision    recall  f1-score   support\n",
      "\n",
      "           0       0.93      0.99      0.96      1662\n",
      "           1       0.89      0.48      0.62       245\n",
      "\n",
      "    accuracy                           0.93      1907\n",
      "   macro avg       0.91      0.73      0.79      1907\n",
      "weighted avg       0.92      0.93      0.92      1907\n",
      "\n",
      "________________________\n",
      "\n",
      "KNeighborsClassifier()\n",
      "\n",
      "train score: \n",
      "              precision    recall  f1-score   support\n",
      "\n",
      "           0       0.94      0.97      0.96      4986\n",
      "           1       0.76      0.59      0.67       735\n",
      "\n",
      "    accuracy                           0.92      5721\n",
      "   macro avg       0.85      0.78      0.81      5721\n",
      "weighted avg       0.92      0.92      0.92      5721\n",
      "\n",
      "validate score: \n",
      "              precision    recall  f1-score   support\n",
      "\n",
      "           0       0.91      0.96      0.93      1662\n",
      "           1       0.55      0.36      0.43       245\n",
      "\n",
      "    accuracy                           0.88      1907\n",
      "   macro avg       0.73      0.66      0.68      1907\n",
      "weighted avg       0.86      0.88      0.87      1907\n",
      "\n",
      "________________________\n",
      "\n"
     ]
    }
   ],
   "source": [
    "dt_model1, rf_model, knn1_model = score_models(X_train, y_train, X_validate, y_validate)"
   ]
  },
  {
   "cell_type": "code",
   "execution_count": null,
   "metadata": {},
   "outputs": [],
   "source": []
  },
  {
   "cell_type": "markdown",
   "metadata": {},
   "source": [
    "## Option 3"
   ]
  },
  {
   "cell_type": "markdown",
   "metadata": {},
   "source": [
    "## Decision Tree"
   ]
  },
  {
   "cell_type": "code",
   "execution_count": 83,
   "metadata": {},
   "outputs": [
    {
     "name": "stdout",
     "output_type": "stream",
     "text": [
      "Accuracy of train: 89.18%\n",
      "Accuracy of validate: 88.99%\n"
     ]
    }
   ],
   "source": [
    "# make the thing\n",
    "clf = tree.DecisionTreeClassifier(max_depth = 3, random_state = 123)\n",
    "# fit the thing\n",
    "clf.fit(X_train, y_train)\n",
    "# use the thing\n",
    "pred = clf.predict(X_train)\n",
    "accuracy_train = clf.score(X_train, y_train)\n",
    "accuracy_validate = clf.score(X_validate, y_validate)\n",
    "print(\"Accuracy of train:\", '{:.2%}'.format(accuracy_train))\n",
    "print(\"Accuracy of validate:\", '{:.2%}'.format(accuracy_validate))\n",
    "cf_matrix = confusion_matrix(pred, y_train)\n",
    "\n",
    "group_names = ['True Negative','False Positive','False Negative','True Positive']\n",
    "group_counts = [\"{0:0.0f}\".format(value) for value in\n",
    "                cf_matrix.flatten()]\n",
    "group_percentages = ['{0:.2%}'.format(value) for value in\n",
    "                     cf_matrix.flatten()/np.sum(cf_matrix)]\n",
    "labels = [f'{v1}\\n{v2}\\n{v3}' for v1, v2, v3 in\n",
    "          zip(group_names,group_counts,group_percentages)]\n",
    "labels = np.asarray(labels).reshape(2,2)\n",
    "#sns.heatmap(cf_matrix, annot = labels, fmt = '', cmap = 'Purples')\n",
    "#plt.show()"
   ]
  },
  {
   "cell_type": "markdown",
   "metadata": {},
   "source": [
    "## Random Forest"
   ]
  },
  {
   "cell_type": "code",
   "execution_count": 84,
   "metadata": {},
   "outputs": [
    {
     "name": "stdout",
     "output_type": "stream",
     "text": [
      "Accuracy of train: 87.19%\n",
      "Accuracy of validate: 87.15%\n"
     ]
    }
   ],
   "source": [
    "# make the thing \n",
    "rf = RandomForestClassifier(min_samples_leaf = 6, max_depth = 3)\n",
    "# fit the thing\n",
    "rf.fit(X_train, y_train)\n",
    "# use the thing\n",
    "pred = rf.predict(X_train)\n",
    "accuracy_train = rf.score(X_train, y_train)\n",
    "accuracy_validate = rf.score(X_validate, y_validate)\n",
    "print(\"Accuracy of train:\", '{:.2%}'.format(accuracy_train))\n",
    "print(\"Accuracy of validate:\", '{:.2%}'.format(accuracy_validate))\n",
    "\n",
    "cf_matrix = confusion_matrix(pred, y_train)\n",
    "\n",
    "group_names = ['True Negative','False Positive','False Negative','True Positive']\n",
    "group_counts = [\"{0:0.0f}\".format(value) for value in\n",
    "                cf_matrix.flatten()]\n",
    "group_percentages = ['{0:.2%}'.format(value) for value in\n",
    "                     cf_matrix.flatten()/np.sum(cf_matrix)]\n",
    "labels = [f'{v1}\\n{v2}\\n{v3}' for v1, v2, v3 in\n",
    "          zip(group_names,group_counts,group_percentages)]\n",
    "labels = np.asarray(labels).reshape(2,2)\n",
    "#sns.heatmap(cf_matrix, annot = labels, fmt = '', cmap = 'Purples')\n",
    "#plt.show()"
   ]
  },
  {
   "cell_type": "markdown",
   "metadata": {},
   "source": [
    "## Logistic Regression"
   ]
  },
  {
   "cell_type": "code",
   "execution_count": 85,
   "metadata": {},
   "outputs": [
    {
     "name": "stdout",
     "output_type": "stream",
     "text": [
      "Accuracy of train: 87.45%\n",
      "Accuracy of validate: 86.89%\n"
     ]
    }
   ],
   "source": [
    "# make the thing \n",
    "logit = LogisticRegression() \n",
    "# fit the thing\n",
    "logit.fit(X_train, y_train)\n",
    "# use the thing\n",
    "pred = logit.predict(X_train)\n",
    "\n",
    "accuracy_train = logit.score(X_train, y_train)\n",
    "accuracy_validate = logit.score(X_validate, y_validate)\n",
    "print(\"Accuracy of train:\", '{:.2%}'.format(accuracy_train))\n",
    "print(\"Accuracy of validate:\", '{:.2%}'.format(accuracy_validate))\n",
    "\n",
    "\n",
    "cf_matrix = confusion_matrix(pred, y_train)\n",
    "\n",
    "group_names = ['True Negative','False Positive','False Negative','True Positive']\n",
    "group_counts = [\"{0:0.0f}\".format(value) for value in\n",
    "                cf_matrix.flatten()]\n",
    "group_percentages = ['{0:.2%}'.format(value) for value in\n",
    "                     cf_matrix.flatten()/np.sum(cf_matrix)]\n",
    "labels = [f'{v1}\\n{v2}\\n{v3}' for v1, v2, v3 in\n",
    "          zip(group_names,group_counts,group_percentages)]\n",
    "labels = np.asarray(labels).reshape(2,2)\n",
    "#sns.heatmap(cf_matrix, annot = labels, fmt = '', cmap = 'Purples')\n",
    "#plt.show()"
   ]
  },
  {
   "cell_type": "markdown",
   "metadata": {},
   "source": [
    "## Option 4"
   ]
  },
  {
   "cell_type": "markdown",
   "metadata": {},
   "source": [
    "## Decision Tree"
   ]
  },
  {
   "cell_type": "code",
   "execution_count": 88,
   "metadata": {},
   "outputs": [
    {
     "name": "stdout",
     "output_type": "stream",
     "text": [
      "Baseline is 0.8715\n",
      "----------------\n",
      "Accuracy of Decision Tree classifier on scaled_features (max_depth = 9): 0.9696\n"
     ]
    }
   ],
   "source": [
    "# create Decision Tree model (specifying max_depth argument and combo_feats)\n",
    "dt = DecisionTreeClassifier(max_depth=9, random_state=123)\n",
    "\n",
    "# fit model on combo_feats\n",
    "dt.fit(X_train[scaled_features], y_train)\n",
    "\n",
    "# get predictions from model\n",
    "y_pred = dt.predict(X_train[scaled_features])\n",
    "\n",
    "# compute accuracy\n",
    "dt_train_accuracy = round(dt.score(X_train[scaled_features], y_train), 4)\n",
    "\n",
    "# compare to baseline\n",
    "print(\"Baseline is\", round(baseline_accuracy, 4))\n",
    "print(\"----------------\")\n",
    "print('Accuracy of Decision Tree classifier on scaled_features (max_depth = 9): {:.4f}'\n",
    "     .format(dt.score(X_train[scaled_features], y_train)))\n"
   ]
  },
  {
   "cell_type": "markdown",
   "metadata": {},
   "source": [
    "## Random Forest"
   ]
  },
  {
   "cell_type": "code",
   "execution_count": 91,
   "metadata": {},
   "outputs": [
    {
     "name": "stdout",
     "output_type": "stream",
     "text": [
      "Baseline is 0.8715\n",
      "----------------\n",
      "Accuracy of Random Forest classifier on scaled_features (max_depth = 5, min_samples_leaf = 3): 0.8997\n"
     ]
    }
   ],
   "source": [
    "# create Random Forest model (specifying max_depth/min_samples_leaf arguments and combo_feats)\n",
    "rf = RandomForestClassifier(max_depth=5, min_samples_leaf=3, random_state=123)\n",
    "\n",
    "# fit model on combo_feats\n",
    "rf.fit(X_train[scaled_features], y_train)\n",
    "\n",
    "# get predictions from model\n",
    "y_pred = rf.predict(X_train[scaled_features])\n",
    "\n",
    "# compute accuracy\n",
    "rf_train_acc = round(rf.score(X_train[scaled_features], y_train), 4)\n",
    "\n",
    "# compare to baseline\n",
    "print(\"Baseline is\", round(baseline_accuracy, 4))\n",
    "print(\"----------------\")\n",
    "print('Accuracy of Random Forest classifier on scaled_features (max_depth = 5, min_samples_leaf = 3): {:.4f}'\n",
    "     .format(rf.score(X_train[scaled_features], y_train)))"
   ]
  },
  {
   "cell_type": "markdown",
   "metadata": {},
   "source": [
    "## KNN"
   ]
  },
  {
   "cell_type": "code",
   "execution_count": 93,
   "metadata": {},
   "outputs": [
    {
     "name": "stdout",
     "output_type": "stream",
     "text": [
      "Baseline is 0.8715\n",
      "----------------\n",
      "Accuracy of KNN classifier on scaled_features (n_neighbors = 20): 0.8755\n"
     ]
    }
   ],
   "source": [
    "# create KNN model (specifying n_neighbors argument and combo_feats)\n",
    "knn = KNeighborsClassifier(n_neighbors=20)\n",
    "\n",
    "# fit model on combo_feats\n",
    "knn.fit(X_train[scaled_features], y_train)\n",
    "\n",
    "# get predictions from model\n",
    "y_pred = knn.predict(X_train[scaled_features])\n",
    "\n",
    "# compute accuracy\n",
    "knn_train_accuracy = round(knn.score(X_train[scaled_features], y_train), 4)\n",
    "\n",
    "# compare to baseline\n",
    "print(\"Baseline is\", round(baseline_accuracy, 4))\n",
    "print(\"----------------\")\n",
    "print('Accuracy of KNN classifier on scaled_features (n_neighbors = 20): {:.4f}'\n",
    "     .format(knn.score(X_train[scaled_features], y_train)))"
   ]
  },
  {
   "cell_type": "markdown",
   "metadata": {},
   "source": [
    "## Log Regression"
   ]
  },
  {
   "cell_type": "code",
   "execution_count": 94,
   "metadata": {},
   "outputs": [
    {
     "name": "stdout",
     "output_type": "stream",
     "text": [
      "Baseline is 0.8715\n",
      "----------------\n",
      "Accuracy of Logistic Regression classifier on scaled_features (default parameters): 0.8750\n"
     ]
    }
   ],
   "source": [
    "# create Logistic Regression model (default parameters, specifying combo_feats)\n",
    "logit = LogisticRegression(random_state=123)\n",
    "\n",
    "# fit model on combo_feats\n",
    "logit.fit(X_train[scaled_features], y_train)\n",
    "\n",
    "# get predictions from model\n",
    "y_pred = logit.predict(X_train[scaled_features])\n",
    "\n",
    "# compute accuracy\n",
    "logit_train_acc = round(logit.score(X_train[scaled_features], y_train), 4)\n",
    "\n",
    "# compare to baseline\n",
    "print(\"Baseline is\", round(baseline_accuracy, 4))\n",
    "print(\"----------------\")\n",
    "print('Accuracy of Logistic Regression classifier on scaled_features (default parameters): {:.4f}'\n",
    "     .format(logit.score(X_train[scaled_features], y_train)))"
   ]
  },
  {
   "cell_type": "markdown",
   "metadata": {},
   "source": [
    "## Model on Validate"
   ]
  },
  {
   "cell_type": "code",
   "execution_count": 95,
   "metadata": {},
   "outputs": [
    {
     "name": "stdout",
     "output_type": "stream",
     "text": [
      "Accuracy of Decision Tree classifier on train set: 0.9696\n",
      "--------------------------------------------------------------\n",
      "Decision Tree classifier on validate set:\n",
      "              precision    recall  f1-score   support\n",
      "\n",
      "           0       0.96      0.97      0.97      1662\n",
      "           1       0.79      0.74      0.77       245\n",
      "\n",
      "    accuracy                           0.94      1907\n",
      "   macro avg       0.88      0.86      0.87      1907\n",
      "weighted avg       0.94      0.94      0.94      1907\n",
      "\n"
     ]
    }
   ],
   "source": [
    "# dt's metrics on validate\n",
    "\n",
    "# evaluate on validate sample\n",
    "y_pred = dt.predict(X_validate[scaled_features])\n",
    "\n",
    "# compute accuracy\n",
    "dt_val_accuracy = round(dt.score(X_validate[scaled_features], y_validate), 4)\n",
    "\n",
    "# compare train to validate\n",
    "print('Accuracy of Decision Tree classifier on train set: {:.4f}'\n",
    "     .format(dt.score(X_train[scaled_features], y_train)))\n",
    "print(\"--------------------------------------------------------------\")\n",
    "print(\"Decision Tree classifier on validate set:\")\n",
    "print(classification_report(y_validate, y_pred))"
   ]
  },
  {
   "cell_type": "code",
   "execution_count": null,
   "metadata": {},
   "outputs": [],
   "source": []
  },
  {
   "cell_type": "code",
   "execution_count": 86,
   "metadata": {},
   "outputs": [],
   "source": [
    "### just testing"
   ]
  },
  {
   "cell_type": "markdown",
   "metadata": {},
   "source": [
    "## TEST Models"
   ]
  },
  {
   "cell_type": "code",
   "execution_count": 87,
   "metadata": {},
   "outputs": [
    {
     "name": "stdout",
     "output_type": "stream",
     "text": [
      "Accuracy of Decision Tree Classifier on test set: 0.89\n"
     ]
    }
   ],
   "source": [
    "# Decision Tree model has the best accuracy of 80.43%, let's do a test on it\n",
    "print('Accuracy of Decision Tree Classifier on test set: {:.2f}'\n",
    "        .format(clf.score(X_test, y_test)))"
   ]
  },
  {
   "cell_type": "code",
   "execution_count": null,
   "metadata": {},
   "outputs": [],
   "source": []
  }
 ],
 "metadata": {
  "kernelspec": {
   "display_name": "Python 3 (ipykernel)",
   "language": "python",
   "name": "python3"
  },
  "language_info": {
   "codemirror_mode": {
    "name": "ipython",
    "version": 3
   },
   "file_extension": ".py",
   "mimetype": "text/x-python",
   "name": "python",
   "nbconvert_exporter": "python",
   "pygments_lexer": "ipython3",
   "version": "3.9.12"
  },
  "vscode": {
   "interpreter": {
    "hash": "38cca0c38332a56087b24af0bc80247f4fced29cb4f7f437d91dc159adec9c4e"
   }
  }
 },
 "nbformat": 4,
 "nbformat_minor": 2
}
