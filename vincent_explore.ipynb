{
 "cells": [
  {
   "cell_type": "code",
   "execution_count": 1,
   "metadata": {},
   "outputs": [],
   "source": [
    "import pandas as pd\n",
    "import numpy as np\n",
    "import time"
   ]
  },
  {
   "cell_type": "code",
   "execution_count": 2,
   "metadata": {},
   "outputs": [
    {
     "ename": "FileNotFoundError",
     "evalue": "[Errno 2] No such file or directory: 'vidz.csv'",
     "output_type": "error",
     "traceback": [
      "\u001b[0;31m---------------------------------------------------------------------------\u001b[0m",
      "\u001b[0;31mFileNotFoundError\u001b[0m                         Traceback (most recent call last)",
      "\u001b[1;32m/Users/vincentbanuelos/codeup-data-science/top_200/vincent_explore.ipynb Cell 2\u001b[0m in \u001b[0;36m<cell line: 2>\u001b[0;34m()\u001b[0m\n\u001b[1;32m      <a href='vscode-notebook-cell:/Users/vincentbanuelos/codeup-data-science/top_200/vincent_explore.ipynb#W1sZmlsZQ%3D%3D?line=0'>1</a>\u001b[0m \u001b[39m#read in the list of videos contained in the csv\u001b[39;00m\n\u001b[0;32m----> <a href='vscode-notebook-cell:/Users/vincentbanuelos/codeup-data-science/top_200/vincent_explore.ipynb#W1sZmlsZQ%3D%3D?line=1'>2</a>\u001b[0m df \u001b[39m=\u001b[39m pd\u001b[39m.\u001b[39;49mread_csv(\u001b[39m'\u001b[39;49m\u001b[39mvidz.csv\u001b[39;49m\u001b[39m'\u001b[39;49m)\n",
      "File \u001b[0;32m/opt/homebrew/anaconda3/lib/python3.9/site-packages/pandas/util/_decorators.py:211\u001b[0m, in \u001b[0;36mdeprecate_kwarg.<locals>._deprecate_kwarg.<locals>.wrapper\u001b[0;34m(*args, **kwargs)\u001b[0m\n\u001b[1;32m    209\u001b[0m     \u001b[39melse\u001b[39;00m:\n\u001b[1;32m    210\u001b[0m         kwargs[new_arg_name] \u001b[39m=\u001b[39m new_arg_value\n\u001b[0;32m--> 211\u001b[0m \u001b[39mreturn\u001b[39;00m func(\u001b[39m*\u001b[39;49margs, \u001b[39m*\u001b[39;49m\u001b[39m*\u001b[39;49mkwargs)\n",
      "File \u001b[0;32m/opt/homebrew/anaconda3/lib/python3.9/site-packages/pandas/util/_decorators.py:317\u001b[0m, in \u001b[0;36mdeprecate_nonkeyword_arguments.<locals>.decorate.<locals>.wrapper\u001b[0;34m(*args, **kwargs)\u001b[0m\n\u001b[1;32m    311\u001b[0m \u001b[39mif\u001b[39;00m \u001b[39mlen\u001b[39m(args) \u001b[39m>\u001b[39m num_allow_args:\n\u001b[1;32m    312\u001b[0m     warnings\u001b[39m.\u001b[39mwarn(\n\u001b[1;32m    313\u001b[0m         msg\u001b[39m.\u001b[39mformat(arguments\u001b[39m=\u001b[39marguments),\n\u001b[1;32m    314\u001b[0m         \u001b[39mFutureWarning\u001b[39;00m,\n\u001b[1;32m    315\u001b[0m         stacklevel\u001b[39m=\u001b[39mfind_stack_level(inspect\u001b[39m.\u001b[39mcurrentframe()),\n\u001b[1;32m    316\u001b[0m     )\n\u001b[0;32m--> 317\u001b[0m \u001b[39mreturn\u001b[39;00m func(\u001b[39m*\u001b[39;49margs, \u001b[39m*\u001b[39;49m\u001b[39m*\u001b[39;49mkwargs)\n",
      "File \u001b[0;32m/opt/homebrew/anaconda3/lib/python3.9/site-packages/pandas/io/parsers/readers.py:950\u001b[0m, in \u001b[0;36mread_csv\u001b[0;34m(filepath_or_buffer, sep, delimiter, header, names, index_col, usecols, squeeze, prefix, mangle_dupe_cols, dtype, engine, converters, true_values, false_values, skipinitialspace, skiprows, skipfooter, nrows, na_values, keep_default_na, na_filter, verbose, skip_blank_lines, parse_dates, infer_datetime_format, keep_date_col, date_parser, dayfirst, cache_dates, iterator, chunksize, compression, thousands, decimal, lineterminator, quotechar, quoting, doublequote, escapechar, comment, encoding, encoding_errors, dialect, error_bad_lines, warn_bad_lines, on_bad_lines, delim_whitespace, low_memory, memory_map, float_precision, storage_options)\u001b[0m\n\u001b[1;32m    935\u001b[0m kwds_defaults \u001b[39m=\u001b[39m _refine_defaults_read(\n\u001b[1;32m    936\u001b[0m     dialect,\n\u001b[1;32m    937\u001b[0m     delimiter,\n\u001b[0;32m   (...)\u001b[0m\n\u001b[1;32m    946\u001b[0m     defaults\u001b[39m=\u001b[39m{\u001b[39m\"\u001b[39m\u001b[39mdelimiter\u001b[39m\u001b[39m\"\u001b[39m: \u001b[39m\"\u001b[39m\u001b[39m,\u001b[39m\u001b[39m\"\u001b[39m},\n\u001b[1;32m    947\u001b[0m )\n\u001b[1;32m    948\u001b[0m kwds\u001b[39m.\u001b[39mupdate(kwds_defaults)\n\u001b[0;32m--> 950\u001b[0m \u001b[39mreturn\u001b[39;00m _read(filepath_or_buffer, kwds)\n",
      "File \u001b[0;32m/opt/homebrew/anaconda3/lib/python3.9/site-packages/pandas/io/parsers/readers.py:605\u001b[0m, in \u001b[0;36m_read\u001b[0;34m(filepath_or_buffer, kwds)\u001b[0m\n\u001b[1;32m    602\u001b[0m _validate_names(kwds\u001b[39m.\u001b[39mget(\u001b[39m\"\u001b[39m\u001b[39mnames\u001b[39m\u001b[39m\"\u001b[39m, \u001b[39mNone\u001b[39;00m))\n\u001b[1;32m    604\u001b[0m \u001b[39m# Create the parser.\u001b[39;00m\n\u001b[0;32m--> 605\u001b[0m parser \u001b[39m=\u001b[39m TextFileReader(filepath_or_buffer, \u001b[39m*\u001b[39;49m\u001b[39m*\u001b[39;49mkwds)\n\u001b[1;32m    607\u001b[0m \u001b[39mif\u001b[39;00m chunksize \u001b[39mor\u001b[39;00m iterator:\n\u001b[1;32m    608\u001b[0m     \u001b[39mreturn\u001b[39;00m parser\n",
      "File \u001b[0;32m/opt/homebrew/anaconda3/lib/python3.9/site-packages/pandas/io/parsers/readers.py:1442\u001b[0m, in \u001b[0;36mTextFileReader.__init__\u001b[0;34m(self, f, engine, **kwds)\u001b[0m\n\u001b[1;32m   1439\u001b[0m     \u001b[39mself\u001b[39m\u001b[39m.\u001b[39moptions[\u001b[39m\"\u001b[39m\u001b[39mhas_index_names\u001b[39m\u001b[39m\"\u001b[39m] \u001b[39m=\u001b[39m kwds[\u001b[39m\"\u001b[39m\u001b[39mhas_index_names\u001b[39m\u001b[39m\"\u001b[39m]\n\u001b[1;32m   1441\u001b[0m \u001b[39mself\u001b[39m\u001b[39m.\u001b[39mhandles: IOHandles \u001b[39m|\u001b[39m \u001b[39mNone\u001b[39;00m \u001b[39m=\u001b[39m \u001b[39mNone\u001b[39;00m\n\u001b[0;32m-> 1442\u001b[0m \u001b[39mself\u001b[39m\u001b[39m.\u001b[39m_engine \u001b[39m=\u001b[39m \u001b[39mself\u001b[39;49m\u001b[39m.\u001b[39;49m_make_engine(f, \u001b[39mself\u001b[39;49m\u001b[39m.\u001b[39;49mengine)\n",
      "File \u001b[0;32m/opt/homebrew/anaconda3/lib/python3.9/site-packages/pandas/io/parsers/readers.py:1729\u001b[0m, in \u001b[0;36mTextFileReader._make_engine\u001b[0;34m(self, f, engine)\u001b[0m\n\u001b[1;32m   1727\u001b[0m     is_text \u001b[39m=\u001b[39m \u001b[39mFalse\u001b[39;00m\n\u001b[1;32m   1728\u001b[0m     mode \u001b[39m=\u001b[39m \u001b[39m\"\u001b[39m\u001b[39mrb\u001b[39m\u001b[39m\"\u001b[39m\n\u001b[0;32m-> 1729\u001b[0m \u001b[39mself\u001b[39m\u001b[39m.\u001b[39mhandles \u001b[39m=\u001b[39m get_handle(\n\u001b[1;32m   1730\u001b[0m     f,\n\u001b[1;32m   1731\u001b[0m     mode,\n\u001b[1;32m   1732\u001b[0m     encoding\u001b[39m=\u001b[39;49m\u001b[39mself\u001b[39;49m\u001b[39m.\u001b[39;49moptions\u001b[39m.\u001b[39;49mget(\u001b[39m\"\u001b[39;49m\u001b[39mencoding\u001b[39;49m\u001b[39m\"\u001b[39;49m, \u001b[39mNone\u001b[39;49;00m),\n\u001b[1;32m   1733\u001b[0m     compression\u001b[39m=\u001b[39;49m\u001b[39mself\u001b[39;49m\u001b[39m.\u001b[39;49moptions\u001b[39m.\u001b[39;49mget(\u001b[39m\"\u001b[39;49m\u001b[39mcompression\u001b[39;49m\u001b[39m\"\u001b[39;49m, \u001b[39mNone\u001b[39;49;00m),\n\u001b[1;32m   1734\u001b[0m     memory_map\u001b[39m=\u001b[39;49m\u001b[39mself\u001b[39;49m\u001b[39m.\u001b[39;49moptions\u001b[39m.\u001b[39;49mget(\u001b[39m\"\u001b[39;49m\u001b[39mmemory_map\u001b[39;49m\u001b[39m\"\u001b[39;49m, \u001b[39mFalse\u001b[39;49;00m),\n\u001b[1;32m   1735\u001b[0m     is_text\u001b[39m=\u001b[39;49mis_text,\n\u001b[1;32m   1736\u001b[0m     errors\u001b[39m=\u001b[39;49m\u001b[39mself\u001b[39;49m\u001b[39m.\u001b[39;49moptions\u001b[39m.\u001b[39;49mget(\u001b[39m\"\u001b[39;49m\u001b[39mencoding_errors\u001b[39;49m\u001b[39m\"\u001b[39;49m, \u001b[39m\"\u001b[39;49m\u001b[39mstrict\u001b[39;49m\u001b[39m\"\u001b[39;49m),\n\u001b[1;32m   1737\u001b[0m     storage_options\u001b[39m=\u001b[39;49m\u001b[39mself\u001b[39;49m\u001b[39m.\u001b[39;49moptions\u001b[39m.\u001b[39;49mget(\u001b[39m\"\u001b[39;49m\u001b[39mstorage_options\u001b[39;49m\u001b[39m\"\u001b[39;49m, \u001b[39mNone\u001b[39;49;00m),\n\u001b[1;32m   1738\u001b[0m )\n\u001b[1;32m   1739\u001b[0m \u001b[39massert\u001b[39;00m \u001b[39mself\u001b[39m\u001b[39m.\u001b[39mhandles \u001b[39mis\u001b[39;00m \u001b[39mnot\u001b[39;00m \u001b[39mNone\u001b[39;00m\n\u001b[1;32m   1740\u001b[0m f \u001b[39m=\u001b[39m \u001b[39mself\u001b[39m\u001b[39m.\u001b[39mhandles\u001b[39m.\u001b[39mhandle\n",
      "File \u001b[0;32m/opt/homebrew/anaconda3/lib/python3.9/site-packages/pandas/io/common.py:857\u001b[0m, in \u001b[0;36mget_handle\u001b[0;34m(path_or_buf, mode, encoding, compression, memory_map, is_text, errors, storage_options)\u001b[0m\n\u001b[1;32m    852\u001b[0m \u001b[39melif\u001b[39;00m \u001b[39misinstance\u001b[39m(handle, \u001b[39mstr\u001b[39m):\n\u001b[1;32m    853\u001b[0m     \u001b[39m# Check whether the filename is to be opened in binary mode.\u001b[39;00m\n\u001b[1;32m    854\u001b[0m     \u001b[39m# Binary mode does not support 'encoding' and 'newline'.\u001b[39;00m\n\u001b[1;32m    855\u001b[0m     \u001b[39mif\u001b[39;00m ioargs\u001b[39m.\u001b[39mencoding \u001b[39mand\u001b[39;00m \u001b[39m\"\u001b[39m\u001b[39mb\u001b[39m\u001b[39m\"\u001b[39m \u001b[39mnot\u001b[39;00m \u001b[39min\u001b[39;00m ioargs\u001b[39m.\u001b[39mmode:\n\u001b[1;32m    856\u001b[0m         \u001b[39m# Encoding\u001b[39;00m\n\u001b[0;32m--> 857\u001b[0m         handle \u001b[39m=\u001b[39m \u001b[39mopen\u001b[39;49m(\n\u001b[1;32m    858\u001b[0m             handle,\n\u001b[1;32m    859\u001b[0m             ioargs\u001b[39m.\u001b[39;49mmode,\n\u001b[1;32m    860\u001b[0m             encoding\u001b[39m=\u001b[39;49mioargs\u001b[39m.\u001b[39;49mencoding,\n\u001b[1;32m    861\u001b[0m             errors\u001b[39m=\u001b[39;49merrors,\n\u001b[1;32m    862\u001b[0m             newline\u001b[39m=\u001b[39;49m\u001b[39m\"\u001b[39;49m\u001b[39m\"\u001b[39;49m,\n\u001b[1;32m    863\u001b[0m         )\n\u001b[1;32m    864\u001b[0m     \u001b[39melse\u001b[39;00m:\n\u001b[1;32m    865\u001b[0m         \u001b[39m# Binary mode\u001b[39;00m\n\u001b[1;32m    866\u001b[0m         handle \u001b[39m=\u001b[39m \u001b[39mopen\u001b[39m(handle, ioargs\u001b[39m.\u001b[39mmode)\n",
      "\u001b[0;31mFileNotFoundError\u001b[0m: [Errno 2] No such file or directory: 'vidz.csv'"
     ]
    }
   ],
   "source": [
    "#read in the list of videos contained in the csv\n",
    "df = pd.read_csv('vidz.csv')"
   ]
  },
  {
   "cell_type": "code",
   "execution_count": null,
   "metadata": {},
   "outputs": [],
   "source": [
    "#drop columns with redundant information\n",
    "df = df.drop(columns=['comments_disabled', 'ratings_disabled' ,'thumbnail_link'])"
   ]
  },
  {
   "cell_type": "code",
   "execution_count": null,
   "metadata": {},
   "outputs": [],
   "source": [
    "df.categoryId = df.categoryId.astype('object')"
   ]
  },
  {
   "cell_type": "code",
   "execution_count": null,
   "metadata": {},
   "outputs": [
    {
     "name": "stdout",
     "output_type": "stream",
     "text": [
      "<class 'pandas.core.frame.DataFrame'>\n",
      "RangeIndex: 200 entries, 0 to 199\n",
      "Data columns (total 12 columns):\n",
      " #   Column         Non-Null Count  Dtype  \n",
      "---  ------         --------------  -----  \n",
      " 0   video_id       200 non-null    object \n",
      " 1   title          200 non-null    object \n",
      " 2   publishedAt    200 non-null    object \n",
      " 3   channelTitle   200 non-null    object \n",
      " 4   categoryId     200 non-null    object \n",
      " 5   trending_date  200 non-null    object \n",
      " 6   tags           200 non-null    object \n",
      " 7   view_count     200 non-null    int64  \n",
      " 8   likes          200 non-null    int64  \n",
      " 9   comment_count  199 non-null    float64\n",
      " 10  description    200 non-null    object \n",
      " 11  duration       200 non-null    object \n",
      "dtypes: float64(1), int64(2), object(9)\n",
      "memory usage: 18.9+ KB\n"
     ]
    }
   ],
   "source": [
    "df.info()"
   ]
  },
  {
   "cell_type": "markdown",
   "metadata": {},
   "source": [
    "## Convert to datetime --> ppublised at, trending date, duration (timedelta)"
   ]
  },
  {
   "cell_type": "code",
   "execution_count": null,
   "metadata": {},
   "outputs": [
    {
     "data": {
      "text/plain": [
       "0     2022-10-26 22:00:09+00:00\n",
       "1     2022-10-26 15:58:27+00:00\n",
       "2     2022-10-27 00:18:46+00:00\n",
       "3     2022-10-27 00:00:09+00:00\n",
       "4     2022-10-26 05:06:26+00:00\n",
       "                 ...           \n",
       "195   2022-10-21 20:48:29+00:00\n",
       "196   2022-10-20 20:00:01+00:00\n",
       "197   2022-10-21 04:01:22+00:00\n",
       "198   2022-10-23 16:00:08+00:00\n",
       "199   2022-10-20 09:43:11+00:00\n",
       "Name: publishedAt, Length: 200, dtype: datetime64[ns, UTC]"
      ]
     },
     "execution_count": 6,
     "metadata": {},
     "output_type": "execute_result"
    }
   ],
   "source": [
    "#convert publishedAT to datetime column\n",
    "df.publishedAt = pd.to_datetime(df.publishedAt, utc=True)\n",
    "df.publishedAt"
   ]
  },
  {
   "cell_type": "code",
   "execution_count": null,
   "metadata": {},
   "outputs": [],
   "source": [
    "#set date to next day in order to capture videos released at different times in different time zones\n",
    "df.trending_date = '22.28.10'"
   ]
  },
  {
   "cell_type": "code",
   "execution_count": null,
   "metadata": {},
   "outputs": [
    {
     "data": {
      "text/plain": [
       "0     2022-10-28 00:00:00+00:00\n",
       "1     2022-10-28 00:00:00+00:00\n",
       "2     2022-10-28 00:00:00+00:00\n",
       "3     2022-10-28 00:00:00+00:00\n",
       "4     2022-10-28 00:00:00+00:00\n",
       "                 ...           \n",
       "195   2022-10-28 00:00:00+00:00\n",
       "196   2022-10-28 00:00:00+00:00\n",
       "197   2022-10-28 00:00:00+00:00\n",
       "198   2022-10-28 00:00:00+00:00\n",
       "199   2022-10-28 00:00:00+00:00\n",
       "Name: trending_date, Length: 200, dtype: datetime64[ns, UTC]"
      ]
     },
     "execution_count": 8,
     "metadata": {},
     "output_type": "execute_result"
    }
   ],
   "source": [
    "#convert trending to datetime column\n",
    "df.trending_date = pd.to_datetime(df.trending_date, format='%y.%d.%m', utc=True)\n",
    "df.trending_date"
   ]
  },
  {
   "cell_type": "code",
   "execution_count": null,
   "metadata": {},
   "outputs": [],
   "source": [
    "#import tzinfo inorder to strip time zone information from published at. \n",
    "#this makes it a \"naive\" datetime object. may want to change this approach\n",
    "# from datetime import tzinfo\n",
    "\n",
    "# df.loc[1,'publishedAt'].replace(tzinfo=None)\n",
    "#strips the timezone from each row\n",
    "# for n in range(0,200):\n",
    "#     df.loc[n,'publishedAt']= df.loc[n,'publishedAt'].replace(tzinfo=None)\n",
    "# df.loc[10, ['publishedAt']]"
   ]
  },
  {
   "cell_type": "code",
   "execution_count": null,
   "metadata": {},
   "outputs": [],
   "source": [
    "#create age column. may want to give timezone info to trending date instead of removing it from pblishedAt\n",
    "df['age']=(df.trending_date - df.publishedAt)"
   ]
  },
  {
   "cell_type": "code",
   "execution_count": null,
   "metadata": {},
   "outputs": [
    {
     "data": {
      "text/plain": [
       "10   0 days 19:55:54\n",
       "18   0 days 19:59:53\n",
       "15   0 days 21:59:50\n",
       "11   0 days 23:40:21\n",
       "2    0 days 23:41:14\n",
       "3    0 days 23:59:51\n",
       "21   0 days 23:59:52\n",
       "6    1 days 01:48:57\n",
       "0    1 days 01:59:51\n",
       "8    1 days 02:59:52\n",
       "Name: age, dtype: timedelta64[ns]"
      ]
     },
     "execution_count": 11,
     "metadata": {},
     "output_type": "execute_result"
    }
   ],
   "source": [
    "df.age.sort_values().head(10)"
   ]
  },
  {
   "cell_type": "markdown",
   "metadata": {},
   "source": [
    "## View:Like ratio that can score the video | view:comment ratio\n",
    "\n",
    "Have them all as a weighted ratio\n",
    "\n",
    "df['engagement'] = (df.likes + df.comment_count * 4 )/df.view_count"
   ]
  },
  {
   "cell_type": "code",
   "execution_count": null,
   "metadata": {},
   "outputs": [],
   "source": [
    "#creates engagement metric. not sure how to do weightd columns really\n",
    "#df['engagement'] = (df.view_count - df.likes) + (df.likes * 2) + (df.comment_count * 4) \n",
    "df['engagement'] = (df.likes + df.comment_count * 4 )/df.view_count"
   ]
  },
  {
   "cell_type": "code",
   "execution_count": null,
   "metadata": {},
   "outputs": [
    {
     "data": {
      "text/plain": [
       "0      0.137897\n",
       "1      0.040702\n",
       "2      0.100914\n",
       "3      0.099933\n",
       "4      0.016842\n",
       "         ...   \n",
       "195    0.085803\n",
       "196    0.041752\n",
       "197    0.094759\n",
       "198    0.081997\n",
       "199    0.040904\n",
       "Name: engagement, Length: 200, dtype: float64"
      ]
     },
     "execution_count": 13,
     "metadata": {},
     "output_type": "execute_result"
    }
   ],
   "source": [
    "df.engagement"
   ]
  },
  {
   "cell_type": "markdown",
   "metadata": {},
   "source": [
    "## Is the video sponsored?\n"
   ]
  },
  {
   "cell_type": "code",
   "execution_count": null,
   "metadata": {},
   "outputs": [
    {
     "data": {
      "text/plain": [
       "(6, 15)"
      ]
     },
     "execution_count": 14,
     "metadata": {},
     "output_type": "execute_result"
    }
   ],
   "source": [
    "#adds sponsored column based on appearance of word sponsored in the description\n",
    "df['sponsored'] = np.where(df.description.str.contains('sponsor'), 1, 0)\n",
    "df[df.description.str.contains('sponsored')].shape"
   ]
  },
  {
   "cell_type": "markdown",
   "metadata": {},
   "source": [
    "## Video language\n"
   ]
  },
  {
   "cell_type": "markdown",
   "metadata": {},
   "source": [
    "## Percent of capital letters in title \n"
   ]
  },
  {
   "cell_type": "markdown",
   "metadata": {},
   "source": [
    "## Age restricted\n"
   ]
  },
  {
   "cell_type": "markdown",
   "metadata": {},
   "source": [
    "## When we talk about subscribers we can take a look at age of channel\n"
   ]
  },
  {
   "cell_type": "markdown",
   "metadata": {},
   "source": [
    "## How to drive up subscribers is a slightly separate question but we can ask it\n"
   ]
  },
  {
   "cell_type": "markdown",
   "metadata": {},
   "source": [
    "## At what point does the video view count pass the subscriber view count\n"
   ]
  },
  {
   "cell_type": "markdown",
   "metadata": {},
   "source": [
    "## Let’s think about tags and how many words they have in common with the descriptions\n"
   ]
  },
  {
   "cell_type": "code",
   "execution_count": null,
   "metadata": {},
   "outputs": [],
   "source": [
    "#countes number of tags given to video BEFORE stripping out extraneous things\n",
    "df['num_of_tags'] = df.tags.str.split('|').str.len()"
   ]
  },
  {
   "cell_type": "code",
   "execution_count": null,
   "metadata": {},
   "outputs": [
    {
     "name": "stderr",
     "output_type": "stream",
     "text": [
      "/var/folders/x7/9w9mh0fd73zg4jr8l_9v9h840000gn/T/ipykernel_11953/1604276903.py:2: FutureWarning: The default value of regex will change from True to False in a future version. In addition, single character regular expressions will *not* be treated as literal strings when regex=True.\n",
      "  df.tags = df.tags.str.replace('|',\" \")\n"
     ]
    }
   ],
   "source": [
    "#gets rid of separator\n",
    "df.tags = df.tags.str.replace('|',\" \")"
   ]
  },
  {
   "cell_type": "code",
   "execution_count": null,
   "metadata": {},
   "outputs": [],
   "source": [
    "#Imports spacy\n",
    "import spacy"
   ]
  },
  {
   "cell_type": "code",
   "execution_count": null,
   "metadata": {},
   "outputs": [],
   "source": [
    "#creates the nlp object that is going to do the heavy lifting\n",
    "nlp = spacy.load(\"en_core_web_sm\")"
   ]
  },
  {
   "cell_type": "code",
   "execution_count": null,
   "metadata": {},
   "outputs": [],
   "source": [
    "#uses the nlp object to convert the input text into a doc\n",
    "doc = nlp(df.loc[0].tags)"
   ]
  },
  {
   "cell_type": "code",
   "execution_count": null,
   "metadata": {},
   "outputs": [
    {
     "name": "stdout",
     "output_type": "stream",
     "text": [
      "lil         PROPN     nmod      \n",
      "durk        PROPN     amod      \n",
      "lil         PROPN     nmod      \n",
      "durk        PROPN     compound  \n",
      "music       PROPN     nmod      \n",
      "lil         PROPN     nummod    \n",
      "durk        PROPN     compound  \n",
      "music       NOUN      compound  \n",
      "video       NOUN      nsubj     \n",
      "just        ADV       advmod    \n",
      "cause       VERB      mark      \n",
      "y           PRON      nsubj     \n",
      "all         PRON      appos     \n",
      "waited      VERB      ROOT      \n",
      "2           NUM       nummod    \n",
      "lil         NOUN      compound  \n",
      "durk        PROPN     dobj      \n",
      "2020        NUM       nummod    \n",
      "just        ADV       advmod    \n",
      "cause       VERB      mark      \n",
      "y'          PRON      nsubj     \n",
      "all         PRON      appos     \n",
      "waited      VERB      advcl     \n",
      "2           NUM       nummod    \n",
      "durkio      NOUN      dobj      \n",
      "smurkio     VERB      conj      \n",
      "lil         PROPN     compound  \n",
      "durk        PROPN     amod      \n",
      "official    ADJ       amod      \n",
      "drill       NOUN      dobj      \n",
      "drill       NOUN      compound  \n",
      "music       PROPN     compound  \n",
      "chicago     PROPN     compound  \n",
      "hip         NOUN      compound  \n",
      "hop         NOUN      dobj      \n",
      "only        ADV       advmod    \n",
      "the         DET       det       \n",
      "family      NOUN      compound  \n",
      "OTF         PROPN     appos     \n",
      "lil durk PERSON\n",
      "2 CARDINAL\n",
      "2 CARDINAL\n",
      "chicago GPE\n",
      "OTF ORG\n"
     ]
    }
   ],
   "source": [
    "#goes through tokens (words) in each doc\n",
    "for token in doc:\n",
    "    # Get the token text, part-of-speech tag and dependency label\n",
    "    token_text = token.text\n",
    "    token_pos = token.pos_\n",
    "    token_dep = token.dep_\n",
    "    # This is for formatting only\n",
    "    print(f\"{token_text:<12}{token_pos:<10}{token_dep:<10}\")\n",
    "\n",
    "# Iterate over the predicted entities\n",
    "for ent in doc.ents:\n",
    "    # Print the entity text and its label\n",
    "    print(ent.text, ent.label_)"
   ]
  },
  {
   "cell_type": "code",
   "execution_count": null,
   "metadata": {},
   "outputs": [
    {
     "name": "stdout",
     "output_type": "stream",
     "text": [
      "{'2020', 'smurkio', 'music', 'video', 'durkio', 'OTF', 'cause', 'just', '2', 'hop', 'family', \"y'\", 'lil', 'chicago', 'hip', 'official', 'y', 'only', 'durk', 'the', 'drill', 'waited', 'all'}\n"
     ]
    }
   ],
   "source": [
    "#creates set of unique words in doc \n",
    "tokens = set()\n",
    "for token in doc:\n",
    "    tokens.add(token.text)\n",
    "print(tokens)"
   ]
  },
  {
   "cell_type": "code",
   "execution_count": null,
   "metadata": {},
   "outputs": [],
   "source": [
    "docb = nlp(df.loc[4].description)"
   ]
  },
  {
   "cell_type": "code",
   "execution_count": null,
   "metadata": {},
   "outputs": [
    {
     "name": "stdout",
     "output_type": "stream",
     "text": [
      "The         DET       det       \n",
      "Inside      PROPN     compound  \n",
      "fellas      NOUN      nsubj     \n",
      "break       VERB      ROOT      \n",
      "down        ADP       prt       \n",
      "the         DET       det       \n",
      "Klay        PROPN     compound  \n",
      "-           PUNCT     punct     \n",
      "Dbook       NOUN      compound  \n",
      "interaction NOUN      dobj      \n",
      "and         CCONJ     cc        \n",
      "recap       VERB      conj      \n",
      "Warriors    PROPN     compound  \n",
      "-           PUNCT     punct     \n",
      "Suns        PROPN     dobj      \n",
      "on          ADP       prep      \n",
      "TNT         PROPN     pobj      \n",
      ".           PUNCT     punct     \n",
      "Watch       VERB      ROOT      \n",
      "highlights  NOUN      dobj      \n",
      "from        ADP       prep      \n",
      "Inside      ADP       prep      \n",
      "the         DET       det       \n",
      "NBA         PROPN     pobj      \n",
      "with        ADP       prep      \n",
      "Shaq        PROPN     pobj      \n",
      ",           PUNCT     punct     \n",
      "Charles     PROPN     compound  \n",
      "Barkley     PROPN     conj      \n",
      ",           PUNCT     punct     \n",
      "Kenny       PROPN     compound  \n",
      "Smith       PROPN     conj      \n",
      "and         CCONJ     cc        \n",
      "Ernie       PROPN     compound  \n",
      "Johnson     PROPN     conj      \n",
      "and         CCONJ     cc        \n",
      "more        ADJ       conj      \n",
      "!           PUNCT     punct     \n",
      "Subscribe   VERB      ccomp     \n",
      "now         ADV       advmod    \n",
      "to          PART      aux       \n",
      "be          AUX       auxpass   \n",
      "updated     VERB      relcl     \n",
      "on          ADP       prep      \n",
      "the         DET       det       \n",
      "latest      ADJ       amod      \n",
      "videos      NOUN      pobj      \n",
      ":           PUNCT     punct     \n",
      "https://www.youtube.com/nbaontnt?sub_confirmation=1X         nmod      \n",
      "          SPACE     dep       \n",
      "Connect     PROPN     nsubj     \n",
      "with        ADP       prep      \n",
      "NBA         PROPN     pobj      \n",
      "on          ADP       prep      \n",
      "TNT         PROPN     pobj      \n",
      ":           PUNCT     punct     \n",
      "           SPACE     dep       \n",
      "Follow      VERB      ROOT      \n",
      "NBA         PROPN     dobj      \n",
      "on          ADP       prep      \n",
      "TNT         PROPN     pobj      \n",
      "on          ADP       prep      \n",
      "Twitter     PROPN     pobj      \n",
      ":           PUNCT     punct     \n",
      "https://twitter.com/NBAonTNTNOUN      dobj      \n",
      "           SPACE     dep       \n",
      "Like        ADP       prep      \n",
      "NBA         PROPN     pobj      \n",
      "on          ADP       prep      \n",
      "TNT         PROPN     pobj      \n",
      "on          ADP       prep      \n",
      "Facebook    PROPN     pobj      \n",
      ":           PUNCT     punct     \n",
      "https://www.facebook.com/NBAONTNT/NOUN      dep       \n",
      "           SPACE     dep       \n",
      "Follow      VERB      appos     \n",
      "NBA         PROPN     dobj      \n",
      "on          ADP       prep      \n",
      "TNT         PROPN     pobj      \n",
      "on          ADP       prep      \n",
      "Instagram   PROPN     pobj      \n",
      ":           PUNCT     punct     \n",
      "https://www.instagram.com/nbaontnt/?hl=enX         dep       \n",
      "Warriors-Suns ORG\n",
      "TNT ORG\n",
      "NBA ORG\n",
      "Charles Barkley PERSON\n",
      "Kenny Smith PERSON\n",
      "Ernie Johnson PERSON\n",
      "NBA ORG\n",
      "TNT ORG\n",
      "TNT ORG\n",
      "NBA ORG\n",
      "TNT ORG\n",
      "TNT ORG\n",
      "Instagram ORG\n"
     ]
    }
   ],
   "source": [
    "for token in docb:\n",
    "    # Get the token text, part-of-speech tag and dependency label\n",
    "    token_text = token.text\n",
    "    token_pos = token.pos_\n",
    "    token_dep = token.dep_\n",
    "    # This is for formatting only\n",
    "    print(f\"{token_text:<12}{token_pos:<10}{token_dep:<10}\")\n",
    "\n",
    "# Iterate over the predicted entities\n",
    "for ent in docb.ents:\n",
    "    # Print the entity text and its label\n",
    "    print(ent.text, ent.label_)"
   ]
  },
  {
   "cell_type": "code",
   "execution_count": null,
   "metadata": {},
   "outputs": [
    {
     "name": "stdout",
     "output_type": "stream",
     "text": [
      "PROPN\n",
      "NOUN\n",
      "VERB\n",
      "ADP\n",
      "PROPN\n",
      "NOUN\n",
      "NOUN\n",
      "CCONJ\n",
      "VERB\n",
      "PROPN\n",
      "PROPN\n",
      "ADP\n",
      "PROPN\n",
      "VERB\n",
      "NOUN\n",
      "ADP\n",
      "ADP\n",
      "PROPN\n",
      "ADP\n",
      "PROPN\n",
      "PROPN\n",
      "PROPN\n",
      "PROPN\n",
      "PROPN\n",
      "CCONJ\n",
      "PROPN\n",
      "PROPN\n",
      "CCONJ\n",
      "ADJ\n",
      "VERB\n",
      "ADV\n",
      "PART\n",
      "AUX\n",
      "VERB\n",
      "ADP\n",
      "ADJ\n",
      "NOUN\n",
      "X\n",
      "SPACE\n",
      "PROPN\n",
      "ADP\n",
      "PROPN\n",
      "ADP\n",
      "PROPN\n",
      "SPACE\n",
      "VERB\n",
      "PROPN\n",
      "ADP\n",
      "PROPN\n",
      "ADP\n",
      "PROPN\n",
      "NOUN\n",
      "SPACE\n",
      "ADP\n",
      "PROPN\n",
      "ADP\n",
      "PROPN\n",
      "ADP\n",
      "PROPN\n",
      "NOUN\n",
      "SPACE\n",
      "VERB\n",
      "PROPN\n",
      "ADP\n",
      "PROPN\n",
      "ADP\n",
      "PROPN\n",
      "X\n",
      "Warriors-Suns ORG\n",
      "TNT ORG\n",
      "NBA ORG\n",
      "Charles Barkley PERSON\n",
      "Kenny Smith PERSON\n",
      "Ernie Johnson PERSON\n",
      "NBA ORG\n",
      "TNT ORG\n",
      "TNT ORG\n",
      "NBA ORG\n",
      "TNT ORG\n",
      "TNT ORG\n",
      "Instagram ORG\n"
     ]
    }
   ],
   "source": [
    "tokens = set()\n",
    "for token in docb:\n",
    "    if token.pos_ not in ['SYM', 'PUNCT', 'DET']:\n",
    "        print(token.pos_)\n",
    "        tokens.add(token.text)\n",
    "\n",
    "for ent in docb.ents:\n",
    "    print(ent.text, ent.label_)"
   ]
  },
  {
   "cell_type": "code",
   "execution_count": null,
   "metadata": {},
   "outputs": [
    {
     "name": "stdout",
     "output_type": "stream",
     "text": [
      "Warriors-Suns ORG\n",
      "TNT ORG\n",
      "NBA ORG\n",
      "Charles Barkley PERSON\n",
      "Kenny Smith PERSON\n",
      "Ernie Johnson PERSON\n",
      "NBA ORG\n",
      "TNT ORG\n",
      "TNT ORG\n",
      "NBA ORG\n",
      "TNT ORG\n",
      "TNT ORG\n",
      "Instagram ORG\n"
     ]
    }
   ],
   "source": [
    "for ent in docb.ents:\n",
    "    print(ent.text, ent.label_)"
   ]
  },
  {
   "cell_type": "code",
   "execution_count": null,
   "metadata": {},
   "outputs": [],
   "source": [
    "def clean_text(text):\n",
    "    \"\"\" \n",
    "    Purpose:\n",
    "        to clean text input into function by removing duplicate words, punctuations, and other things\n",
    "    ---\n",
    "    Parameters:\n",
    "        text: a string\n",
    "    ---\n",
    "    Returns:\n",
    "        tokens: a set of words found in the input text\n",
    "    \"\"\"\n",
    "\n",
    "    nlp = spacy.load(\"en_core_web_sm\")\n",
    "    doc = nlp(text)\n",
    "    tokens = set()\n",
    "    \n",
    "    for token in doc:\n",
    "        if token.pos_ not in ['SYM', 'PUNCT', 'DET']:\n",
    "            tokens.add(token.text)\n",
    "\n",
    "    for ent in doc.ents:\n",
    "        tokens.add(ent.text)\n",
    "\n",
    "    return tokens\n",
    "    \n",
    "    "
   ]
  },
  {
   "cell_type": "code",
   "execution_count": null,
   "metadata": {},
   "outputs": [],
   "source": [
    "df['cleaned_tags'] =  df['description'].apply(lambda x: clean_text(x))"
   ]
  },
  {
   "cell_type": "code",
   "execution_count": null,
   "metadata": {},
   "outputs": [],
   "source": [
    "df['cleaned_desc'] = df['description'].apply(lambda x: clean_text(x))"
   ]
  },
  {
   "cell_type": "markdown",
   "metadata": {},
   "source": [
    "## Think about combining the countries top 25 lists and control for duplicates. \n",
    "* This way we can classify what videos have been a top 25 video \n"
   ]
  },
  {
   "cell_type": "markdown",
   "metadata": {},
   "source": [
    "## We can target placing videos in/out of the top 25 \n"
   ]
  },
  {
   "cell_type": "code",
   "execution_count": null,
   "metadata": {},
   "outputs": [],
   "source": [
    "#create rank and top 25 categories"
   ]
  },
  {
   "cell_type": "code",
   "execution_count": null,
   "metadata": {},
   "outputs": [],
   "source": [
    "df['rank'] = df.index + 1"
   ]
  },
  {
   "cell_type": "code",
   "execution_count": null,
   "metadata": {},
   "outputs": [],
   "source": [
    "df['top_25'] = np.where(df['rank'] < 26, 1, 0)"
   ]
  },
  {
   "cell_type": "code",
   "execution_count": null,
   "metadata": {},
   "outputs": [
    {
     "data": {
      "text/plain": [
       "0      1\n",
       "1      1\n",
       "2      1\n",
       "3      1\n",
       "4      1\n",
       "      ..\n",
       "195    0\n",
       "196    0\n",
       "197    0\n",
       "198    0\n",
       "199    0\n",
       "Name: top_25, Length: 200, dtype: int64"
      ]
     },
     "execution_count": 32,
     "metadata": {},
     "output_type": "execute_result"
    }
   ],
   "source": [
    "df.top_25"
   ]
  },
  {
   "cell_type": "markdown",
   "metadata": {},
   "source": [
    "## Convert Duration"
   ]
  },
  {
   "cell_type": "code",
   "execution_count": null,
   "metadata": {},
   "outputs": [
    {
     "data": {
      "text/plain": [
       "0      PT3M45S\n",
       "1      PT10M1S\n",
       "2      PT9M42S\n",
       "3     PT10M40S\n",
       "4      PT9M29S\n",
       "5       PT7M5S\n",
       "6      PT1M32S\n",
       "7      PT5M54S\n",
       "8        PT26S\n",
       "9      PT3M47S\n",
       "10    PT16M34S\n",
       "11      PT2M2S\n",
       "12     PT1M15S\n",
       "13     PT1M50S\n",
       "14     PT3M39S\n",
       "15     PT3M37S\n",
       "16     PT4M25S\n",
       "17       PT38S\n",
       "18     PT2M50S\n",
       "19     PT2M20S\n",
       "Name: duration, dtype: object"
      ]
     },
     "execution_count": 33,
     "metadata": {},
     "output_type": "execute_result"
    }
   ],
   "source": [
    "df.duration.head(20)"
   ]
  },
  {
   "cell_type": "code",
   "execution_count": null,
   "metadata": {},
   "outputs": [],
   "source": [
    "testy = 'PT3M45S'"
   ]
  },
  {
   "cell_type": "code",
   "execution_count": null,
   "metadata": {},
   "outputs": [
    {
     "data": {
      "text/plain": [
       "True"
      ]
     },
     "execution_count": 35,
     "metadata": {},
     "output_type": "execute_result"
    }
   ],
   "source": [
    "testy.__contains__('M')"
   ]
  },
  {
   "cell_type": "code",
   "execution_count": null,
   "metadata": {},
   "outputs": [],
   "source": [
    "def clean_duration(duration):\n",
    "\n",
    "    if 'S' not in duration:\n",
    "        duration += '00S'\n",
    "\n",
    "    if duration.__contains__('M'):\n",
    "        duration = int(duration.split('M')[0].split('T')[1]) * 60 + int(duration.split('M')[1][:-1])\n",
    "    else:\n",
    "        duration = int(duration[-3:-1])\n",
    "\n",
    "    return duration"
   ]
  },
  {
   "cell_type": "code",
   "execution_count": null,
   "metadata": {},
   "outputs": [],
   "source": [
    "df['duration'] = df['duration'].apply(lambda x:clean_duration(x))"
   ]
  },
  {
   "cell_type": "code",
   "execution_count": null,
   "metadata": {},
   "outputs": [
    {
     "data": {
      "text/plain": [
       "0       225\n",
       "1       601\n",
       "2       582\n",
       "3       640\n",
       "4       569\n",
       "       ... \n",
       "195    2462\n",
       "196     506\n",
       "197     228\n",
       "198    1954\n",
       "199     185\n",
       "Name: duration, Length: 200, dtype: int64"
      ]
     },
     "execution_count": 38,
     "metadata": {},
     "output_type": "execute_result"
    }
   ],
   "source": [
    "df['duration']"
   ]
  },
  {
   "cell_type": "code",
   "execution_count": null,
   "metadata": {},
   "outputs": [
    {
     "name": "stdout",
     "output_type": "stream",
     "text": [
      "<class 'pandas.core.frame.DataFrame'>\n",
      "RangeIndex: 200 entries, 0 to 199\n",
      "Data columns (total 20 columns):\n",
      " #   Column         Non-Null Count  Dtype              \n",
      "---  ------         --------------  -----              \n",
      " 0   video_id       200 non-null    object             \n",
      " 1   title          200 non-null    object             \n",
      " 2   publishedAt    200 non-null    datetime64[ns, UTC]\n",
      " 3   channelTitle   200 non-null    object             \n",
      " 4   categoryId     200 non-null    object             \n",
      " 5   trending_date  200 non-null    datetime64[ns, UTC]\n",
      " 6   tags           200 non-null    object             \n",
      " 7   view_count     200 non-null    int64              \n",
      " 8   likes          200 non-null    int64              \n",
      " 9   comment_count  199 non-null    float64            \n",
      " 10  description    200 non-null    object             \n",
      " 11  duration       200 non-null    int64              \n",
      " 12  age            200 non-null    timedelta64[ns]    \n",
      " 13  engagement     199 non-null    float64            \n",
      " 14  sponsored      200 non-null    int64              \n",
      " 15  num_of_tags    200 non-null    int64              \n",
      " 16  cleaned_tags   200 non-null    object             \n",
      " 17  cleaned_desc   200 non-null    object             \n",
      " 18  rank           200 non-null    int64              \n",
      " 19  top_25         200 non-null    int64              \n",
      "dtypes: datetime64[ns, UTC](2), float64(2), int64(7), object(8), timedelta64[ns](1)\n",
      "memory usage: 31.4+ KB\n"
     ]
    }
   ],
   "source": [
    "df.info()"
   ]
  },
  {
   "cell_type": "markdown",
   "metadata": {},
   "source": [
    "# Exploration"
   ]
  },
  {
   "cell_type": "code",
   "execution_count": null,
   "metadata": {},
   "outputs": [
    {
     "data": {
      "text/plain": [
       "<AxesSubplot:>"
      ]
     },
     "execution_count": 43,
     "metadata": {},
     "output_type": "execute_result"
    },
    {
     "data": {
      "image/png": "[encoded data removed]",
      "text/plain": [
       "<Figure size 640x480 with 1 Axes>"
      ]
     },
     "metadata": {},
     "output_type": "display_data"
    }
   ],
   "source": [
    "df.engagement.plot.box()"
   ]
  },
  {
   "cell_type": "code",
   "execution_count": null,
   "metadata": {},
   "outputs": [
    {
     "data": {
      "text/plain": [
       "<AxesSubplot:>"
      ]
     },
     "execution_count": 46,
     "metadata": {},
     "output_type": "execute_result"
    },
    {
     "data": {
      "image/png": "[encoded data removed]",
      "text/plain": [
       "<Figure size 640x480 with 1 Axes>"
      ]
     },
     "metadata": {},
     "output_type": "display_data"
    }
   ],
   "source": [
    "df[df.top_25 == 1].engagement.plot.box()"
   ]
  },
  {
   "cell_type": "code",
   "execution_count": null,
   "metadata": {},
   "outputs": [
    {
     "data": {
      "text/plain": [
       "<AxesSubplot:>"
      ]
     },
     "execution_count": 47,
     "metadata": {},
     "output_type": "execute_result"
    },
    {
     "data": {
      "image/png": "[encoded data removed]",
      "text/plain": [
       "<Figure size 640x480 with 1 Axes>"
      ]
     },
     "metadata": {},
     "output_type": "display_data"
    }
   ],
   "source": [
    "df[df.top_25 != 1].engagement.plot.box()"
   ]
  },
  {
   "cell_type": "markdown",
   "metadata": {},
   "source": [
    "## Takeaways\n",
    "* engagement higher with top 25 videos"
   ]
  },
  {
   "cell_type": "code",
   "execution_count": 4,
   "metadata": {},
   "outputs": [
    {
     "data": {
      "text/html": [
       "<div>\n",
       "<style scoped>\n",
       "    .dataframe tbody tr th:only-of-type {\n",
       "        vertical-align: middle;\n",
       "    }\n",
       "\n",
       "    .dataframe tbody tr th {\n",
       "        vertical-align: top;\n",
       "    }\n",
       "\n",
       "    .dataframe thead th {\n",
       "        text-align: right;\n",
       "    }\n",
       "</style>\n",
       "<table border=\"1\" class=\"dataframe\">\n",
       "  <thead>\n",
       "    <tr style=\"text-align: right;\">\n",
       "      <th></th>\n",
       "      <th>video_id</th>\n",
       "      <th>title</th>\n",
       "      <th>publishedAt</th>\n",
       "      <th>channelTitle</th>\n",
       "      <th>categoryId</th>\n",
       "      <th>trending_date</th>\n",
       "      <th>tags</th>\n",
       "      <th>view_count</th>\n",
       "      <th>likes</th>\n",
       "      <th>comment_count</th>\n",
       "      <th>...</th>\n",
       "      <th>engagement</th>\n",
       "      <th>sponsored</th>\n",
       "      <th>num_of_tags</th>\n",
       "      <th>word_bank</th>\n",
       "      <th>cleaned_tags</th>\n",
       "      <th>cleaned_desc</th>\n",
       "      <th>title_in_description</th>\n",
       "      <th>title_in_tags</th>\n",
       "      <th>pct_tags_in_description</th>\n",
       "      <th>channelId</th>\n",
       "    </tr>\n",
       "  </thead>\n",
       "  <tbody>\n",
       "    <tr>\n",
       "      <th>0</th>\n",
       "      <td>sWwHWK7OYJ8</td>\n",
       "      <td>[ENG][아형✪하이라이트] (여자)아이들 완전체 떴다↗ 멋짐 폭발♥ 5인 5색 토...</td>\n",
       "      <td>2022-10-29 13:26:44+00:00</td>\n",
       "      <td>아는형님 Knowingbros</td>\n",
       "      <td>Entertainment</td>\n",
       "      <td>2022-11-02 00:00:00+00:00</td>\n",
       "      <td>아는 형님 형님 형님 학교 미연 민니 소연 우기 슈화 아이들 여자아이들 강호동 이수...</td>\n",
       "      <td>1098919</td>\n",
       "      <td>19090</td>\n",
       "      <td>861</td>\n",
       "      <td>...</td>\n",
       "      <td>0.020506</td>\n",
       "      <td>0</td>\n",
       "      <td>67</td>\n",
       "      <td>[[, 아형, ✪, 하이라이트, 여자)아이들, 완전체, 떴다, ↗, 멋짐, 폭발, ...</td>\n",
       "      <td>{슈화, 김희철, 미모서열, 공주병, 김영철, 아는, 우기, 사랑, Nxde직캠 N...</td>\n",
       "      <td>{토요일, 아형, 5인, 저녁, ✪, 토크 모음.zip#아는형님, 공홈에서, 형님〉...</td>\n",
       "      <td>0</td>\n",
       "      <td>0</td>\n",
       "      <td>0.013889</td>\n",
       "      <td>NaN</td>\n",
       "    </tr>\n",
       "    <tr>\n",
       "      <th>1</th>\n",
       "      <td>1_VsbIFIh8U</td>\n",
       "      <td>10 Things Jin (진) of BTS (방탄소년단) Can't Live Wi...</td>\n",
       "      <td>2022-10-31 16:00:16+00:00</td>\n",
       "      <td>GQ</td>\n",
       "      <td>Entertainment</td>\n",
       "      <td>2022-11-02 00:00:00+00:00</td>\n",
       "      <td>(방탄소년단) (방탄소년단) gq 10 essentials 10 essentials...</td>\n",
       "      <td>1670293</td>\n",
       "      <td>231953</td>\n",
       "      <td>6345</td>\n",
       "      <td>...</td>\n",
       "      <td>0.154065</td>\n",
       "      <td>0</td>\n",
       "      <td>35</td>\n",
       "      <td>[There, are, few, things, Jin, 진, of, BTS, ca,...</td>\n",
       "      <td>{진, menswear, want, magazine, interview, stuff...</td>\n",
       "      <td>{진, providing, modern, and, single, Good, Thom...</td>\n",
       "      <td>0</td>\n",
       "      <td>0</td>\n",
       "      <td>0.371429</td>\n",
       "      <td>NaN</td>\n",
       "    </tr>\n",
       "    <tr>\n",
       "      <th>2</th>\n",
       "      <td>SFVzIrEYQKU</td>\n",
       "      <td>[#편스토랑] 박수홍 신혼집 대공개❤ 애정 가득한 인테리어에 깨소금 냄새!!|KBS...</td>\n",
       "      <td>2022-10-29 09:30:05+00:00</td>\n",
       "      <td>KBS 한국방송</td>\n",
       "      <td>Entertainment</td>\n",
       "      <td>2022-11-02 00:00:00+00:00</td>\n",
       "      <td>KBS 한국방송공사 mylovekbs 예고 티저 김나영 붐 나영 수홍 박수홍엄마 유...</td>\n",
       "      <td>841292</td>\n",
       "      <td>12902</td>\n",
       "      <td>1378</td>\n",
       "      <td>...</td>\n",
       "      <td>0.021888</td>\n",
       "      <td>0</td>\n",
       "      <td>26</td>\n",
       "      <td>[박수홍, 신혼집, 대공개, ❤, 애정, 가득한, 인테리어에, 깨소금, 냄새!!0:...</td>\n",
       "      <td>{찬원축가, 이찬원, 대접요리, 이찬원직캠, 박수홍엄마, 김나영, 유재석, 만드는방...</td>\n",
       "      <td>{가득한 인테리어에 깨소금 냄새!!0:56 편스토랑 출연을 결심하게 된, 이찬원, ...</td>\n",
       "      <td>0</td>\n",
       "      <td>0</td>\n",
       "      <td>0.111111</td>\n",
       "      <td>NaN</td>\n",
       "    </tr>\n",
       "    <tr>\n",
       "      <th>3</th>\n",
       "      <td>c6ASQOwKkhk</td>\n",
       "      <td>진 (Jin) 'The Astronaut' Official MV</td>\n",
       "      <td>2022-10-28 04:00:01+00:00</td>\n",
       "      <td>HYBE LABELS</td>\n",
       "      <td>Music</td>\n",
       "      <td>2022-11-02 00:00:00+00:00</td>\n",
       "      <td>HYBE HYBE LABELS 하이브 하이브레이블즈</td>\n",
       "      <td>30998614</td>\n",
       "      <td>4340713</td>\n",
       "      <td>501383</td>\n",
       "      <td>...</td>\n",
       "      <td>0.204727</td>\n",
       "      <td>0</td>\n",
       "      <td>4</td>\n",
       "      <td>[진, Jin, Astronaut, ', Official, MVCredits,  ,...</td>\n",
       "      <td>{HYBE, 하이브, LABELS, HYBE HYBE, 하이브레이블즈}</td>\n",
       "      <td>{Mu, NieblasSet, Nwachukwu1st, BuckleyFeatured...</td>\n",
       "      <td>1</td>\n",
       "      <td>0</td>\n",
       "      <td>0.000000</td>\n",
       "      <td>NaN</td>\n",
       "    </tr>\n",
       "    <tr>\n",
       "      <th>4</th>\n",
       "      <td>CYn8OlO7cbg</td>\n",
       "      <td>솔의눈 슬러시가 최약체인 키친마이야르 시즌3 신메뉴 제작기</td>\n",
       "      <td>2022-10-31 11:15:01+00:00</td>\n",
       "      <td>승우아빠</td>\n",
       "      <td>Entertainment</td>\n",
       "      <td>2022-11-02 00:00:00+00:00</td>\n",
       "      <td>승우아빠 키친마이야르 시즌3메뉴 신메뉴 키친마이야르 신메뉴 솔의눈 솔의눈 슬러시 키...</td>\n",
       "      <td>343269</td>\n",
       "      <td>5389</td>\n",
       "      <td>581</td>\n",
       "      <td>...</td>\n",
       "      <td>0.022469</td>\n",
       "      <td>0</td>\n",
       "      <td>11</td>\n",
       "      <td>[승우아빠, 키친마이야르, #, 시즌3오늘은, 키친마이야르, 시즌3의, 신, 메뉴,...</td>\n",
       "      <td>{내꺼내먹, 승우아빠, 신메뉴, 시즌3메뉴, 슬러시, 키친마이야르, 솔의눈}</td>\n",
       "      <td>{입니다정식메뉴, 리뷰는, 생방송, 문의, 키친마이야르, 택배수령주소, 🎁, 승우아...</td>\n",
       "      <td>0</td>\n",
       "      <td>0</td>\n",
       "      <td>0.285714</td>\n",
       "      <td>NaN</td>\n",
       "    </tr>\n",
       "    <tr>\n",
       "      <th>...</th>\n",
       "      <td>...</td>\n",
       "      <td>...</td>\n",
       "      <td>...</td>\n",
       "      <td>...</td>\n",
       "      <td>...</td>\n",
       "      <td>...</td>\n",
       "      <td>...</td>\n",
       "      <td>...</td>\n",
       "      <td>...</td>\n",
       "      <td>...</td>\n",
       "      <td>...</td>\n",
       "      <td>...</td>\n",
       "      <td>...</td>\n",
       "      <td>...</td>\n",
       "      <td>...</td>\n",
       "      <td>...</td>\n",
       "      <td>...</td>\n",
       "      <td>...</td>\n",
       "      <td>...</td>\n",
       "      <td>...</td>\n",
       "      <td>...</td>\n",
       "    </tr>\n",
       "    <tr>\n",
       "      <th>155</th>\n",
       "      <td>8Itwp2_LMr0</td>\n",
       "      <td>Cash | Like, Share &amp; Subscribe Team-Santosh So...</td>\n",
       "      <td>2022-10-29 18:00:03+00:00</td>\n",
       "      <td>etvteluguindia</td>\n",
       "      <td>Entertainment</td>\n",
       "      <td>2022-11-02 00:00:00+00:00</td>\n",
       "      <td>cash latest promo latest promo cash promo late...</td>\n",
       "      <td>929198</td>\n",
       "      <td>13829</td>\n",
       "      <td>193</td>\n",
       "      <td>...</td>\n",
       "      <td>0.015714</td>\n",
       "      <td>0</td>\n",
       "      <td>20</td>\n",
       "      <td>[cash, telugushow, #, etvwin, sumakanakala, sa...</td>\n",
       "      <td>{Santosh Sobhan Faria Abdullah, program, Abdul...</td>\n",
       "      <td>{► Pin, http://etv.co.in, Telugu(Youtube, Visi...</td>\n",
       "      <td>0</td>\n",
       "      <td>0</td>\n",
       "      <td>0.714286</td>\n",
       "      <td>NaN</td>\n",
       "    </tr>\n",
       "    <tr>\n",
       "      <th>156</th>\n",
       "      <td>-65G3J2Ylo4</td>\n",
       "      <td>Crazy couples తో...?  || Mahishivan || Tamada ...</td>\n",
       "      <td>2022-10-29 05:30:00+00:00</td>\n",
       "      <td>Mahishivan</td>\n",
       "      <td>Entertainment</td>\n",
       "      <td>2022-11-02 00:00:00+00:00</td>\n",
       "      <td>Mahishivan dyson dyson airwrap Tamada Media Ma...</td>\n",
       "      <td>459905</td>\n",
       "      <td>15560</td>\n",
       "      <td>371</td>\n",
       "      <td>...</td>\n",
       "      <td>0.037060</td>\n",
       "      <td>0</td>\n",
       "      <td>28</td>\n",
       "      <td>[Indulge, in, Vilvah, ’s, collection, of, orga...</td>\n",
       "      <td>{Maheshwari, couples, vlogs, dyson, Actress, s...</td>\n",
       "      <td>{and, Get, hair, Us, more, n't, Teluguactress,...</td>\n",
       "      <td>0</td>\n",
       "      <td>0</td>\n",
       "      <td>0.000000</td>\n",
       "      <td>NaN</td>\n",
       "    </tr>\n",
       "    <tr>\n",
       "      <th>157</th>\n",
       "      <td>NyHW-zcU77Q</td>\n",
       "      <td>ഒരു കലിപ്പൻ കാന്താരി അപാരതPLUS2 KAADHALI | AME...</td>\n",
       "      <td>2022-10-28 11:30:06+00:00</td>\n",
       "      <td>Sha media</td>\n",
       "      <td>Entertainment</td>\n",
       "      <td>2022-11-02 00:00:00+00:00</td>\n",
       "      <td>ameer ameersha new Shortfilimmalayalam Malayal...</td>\n",
       "      <td>197112</td>\n",
       "      <td>15182</td>\n",
       "      <td>280</td>\n",
       "      <td>...</td>\n",
       "      <td>0.082704</td>\n",
       "      <td>0</td>\n",
       "      <td>8</td>\n",
       "      <td>[Download, India, 's, 1, audio, book, platform...</td>\n",
       "      <td>{Shortfilimmalayalam Malayalam Shortfilm Trend...</td>\n",
       "      <td>{Vyshak, and, Alan, SHA200EPISODE, that, off, ...</td>\n",
       "      <td>0</td>\n",
       "      <td>0</td>\n",
       "      <td>0.000000</td>\n",
       "      <td>NaN</td>\n",
       "    </tr>\n",
       "    <tr>\n",
       "      <th>158</th>\n",
       "      <td>jpGofgAkQjI</td>\n",
       "      <td>rarest HONDA'S SUPERBIKE with handbrake 😱😜</td>\n",
       "      <td>2022-10-30 05:30:07+00:00</td>\n",
       "      <td>JS Films</td>\n",
       "      <td>People_Blogs</td>\n",
       "      <td>2022-11-02 00:00:00+00:00</td>\n",
       "      <td>JS Films Vlogger youtuber jaysn jasminder sing...</td>\n",
       "      <td>395480</td>\n",
       "      <td>24540</td>\n",
       "      <td>394</td>\n",
       "      <td>...</td>\n",
       "      <td>0.066036</td>\n",
       "      <td>0</td>\n",
       "      <td>24</td>\n",
       "      <td>[Follow, on, Instagram, https://www.instagram....</td>\n",
       "      <td>{hinglish, hayabusa, Vlogger, content, vlogs, ...</td>\n",
       "      <td>{TRUCK, https://www.youtube.com/c/JaysnNation,...</td>\n",
       "      <td>0</td>\n",
       "      <td>0</td>\n",
       "      <td>0.083333</td>\n",
       "      <td>NaN</td>\n",
       "    </tr>\n",
       "    <tr>\n",
       "      <th>159</th>\n",
       "      <td>dJC14nQ79jU</td>\n",
       "      <td>IND v PAK | Melbourne T20 World Cup</td>\n",
       "      <td>2022-10-26 06:28:37+00:00</td>\n",
       "      <td>Flying Beast</td>\n",
       "      <td>People_Blogs</td>\n",
       "      <td>2022-11-02 00:00:00+00:00</td>\n",
       "      <td>vlogs vlog indian vlogger flying beast tech re...</td>\n",
       "      <td>5853663</td>\n",
       "      <td>322144</td>\n",
       "      <td>14547</td>\n",
       "      <td>...</td>\n",
       "      <td>0.064973</td>\n",
       "      <td>0</td>\n",
       "      <td>30</td>\n",
       "      <td>[Vlog, #, 261Gaurav, 's, Instagram, https://ww...</td>\n",
       "      <td>{beast, chicklu, flyingbeast, rathee, moo, wor...</td>\n",
       "      <td>{gymming, still, and, Gearmy, https://amzn.to/...</td>\n",
       "      <td>0</td>\n",
       "      <td>0</td>\n",
       "      <td>0.103448</td>\n",
       "      <td>NaN</td>\n",
       "    </tr>\n",
       "  </tbody>\n",
       "</table>\n",
       "<p>9536 rows × 30 columns</p>\n",
       "</div>"
      ],
      "text/plain": [
       "        video_id                                              title  \\\n",
       "0    sWwHWK7OYJ8  [ENG][아형✪하이라이트] (여자)아이들 완전체 떴다↗ 멋짐 폭발♥ 5인 5색 토...   \n",
       "1    1_VsbIFIh8U  10 Things Jin (진) of BTS (방탄소년단) Can't Live Wi...   \n",
       "2    SFVzIrEYQKU  [#편스토랑] 박수홍 신혼집 대공개❤ 애정 가득한 인테리어에 깨소금 냄새!!|KBS...   \n",
       "3    c6ASQOwKkhk                진 (Jin) 'The Astronaut' Official MV   \n",
       "4    CYn8OlO7cbg                   솔의눈 슬러시가 최약체인 키친마이야르 시즌3 신메뉴 제작기   \n",
       "..           ...                                                ...   \n",
       "155  8Itwp2_LMr0  Cash | Like, Share & Subscribe Team-Santosh So...   \n",
       "156  -65G3J2Ylo4  Crazy couples తో...?  || Mahishivan || Tamada ...   \n",
       "157  NyHW-zcU77Q  ഒരു കലിപ്പൻ കാന്താരി അപാരതPLUS2 KAADHALI | AME...   \n",
       "158  jpGofgAkQjI         rarest HONDA'S SUPERBIKE with handbrake 😱😜   \n",
       "159  dJC14nQ79jU                IND v PAK | Melbourne T20 World Cup   \n",
       "\n",
       "                  publishedAt      channelTitle     categoryId  \\\n",
       "0   2022-10-29 13:26:44+00:00  아는형님 Knowingbros  Entertainment   \n",
       "1   2022-10-31 16:00:16+00:00                GQ  Entertainment   \n",
       "2   2022-10-29 09:30:05+00:00          KBS 한국방송  Entertainment   \n",
       "3   2022-10-28 04:00:01+00:00       HYBE LABELS          Music   \n",
       "4   2022-10-31 11:15:01+00:00              승우아빠  Entertainment   \n",
       "..                        ...               ...            ...   \n",
       "155 2022-10-29 18:00:03+00:00    etvteluguindia  Entertainment   \n",
       "156 2022-10-29 05:30:00+00:00        Mahishivan  Entertainment   \n",
       "157 2022-10-28 11:30:06+00:00         Sha media  Entertainment   \n",
       "158 2022-10-30 05:30:07+00:00          JS Films   People_Blogs   \n",
       "159 2022-10-26 06:28:37+00:00      Flying Beast   People_Blogs   \n",
       "\n",
       "                trending_date  \\\n",
       "0   2022-11-02 00:00:00+00:00   \n",
       "1   2022-11-02 00:00:00+00:00   \n",
       "2   2022-11-02 00:00:00+00:00   \n",
       "3   2022-11-02 00:00:00+00:00   \n",
       "4   2022-11-02 00:00:00+00:00   \n",
       "..                        ...   \n",
       "155 2022-11-02 00:00:00+00:00   \n",
       "156 2022-11-02 00:00:00+00:00   \n",
       "157 2022-11-02 00:00:00+00:00   \n",
       "158 2022-11-02 00:00:00+00:00   \n",
       "159 2022-11-02 00:00:00+00:00   \n",
       "\n",
       "                                                  tags  view_count    likes  \\\n",
       "0    아는 형님 형님 형님 학교 미연 민니 소연 우기 슈화 아이들 여자아이들 강호동 이수...     1098919    19090   \n",
       "1    (방탄소년단) (방탄소년단) gq 10 essentials 10 essentials...     1670293   231953   \n",
       "2    KBS 한국방송공사 mylovekbs 예고 티저 김나영 붐 나영 수홍 박수홍엄마 유...      841292    12902   \n",
       "3                         HYBE HYBE LABELS 하이브 하이브레이블즈    30998614  4340713   \n",
       "4    승우아빠 키친마이야르 시즌3메뉴 신메뉴 키친마이야르 신메뉴 솔의눈 솔의눈 슬러시 키...      343269     5389   \n",
       "..                                                 ...         ...      ...   \n",
       "155  cash latest promo latest promo cash promo late...      929198    13829   \n",
       "156  Mahishivan dyson dyson airwrap Tamada Media Ma...      459905    15560   \n",
       "157  ameer ameersha new Shortfilimmalayalam Malayal...      197112    15182   \n",
       "158  JS Films Vlogger youtuber jaysn jasminder sing...      395480    24540   \n",
       "159  vlogs vlog indian vlogger flying beast tech re...     5853663   322144   \n",
       "\n",
       "     comment_count  ... engagement  sponsored  num_of_tags  \\\n",
       "0              861  ...   0.020506          0           67   \n",
       "1             6345  ...   0.154065          0           35   \n",
       "2             1378  ...   0.021888          0           26   \n",
       "3           501383  ...   0.204727          0            4   \n",
       "4              581  ...   0.022469          0           11   \n",
       "..             ...  ...        ...        ...          ...   \n",
       "155            193  ...   0.015714          0           20   \n",
       "156            371  ...   0.037060          0           28   \n",
       "157            280  ...   0.082704          0            8   \n",
       "158            394  ...   0.066036          0           24   \n",
       "159          14547  ...   0.064973          0           30   \n",
       "\n",
       "                                             word_bank  \\\n",
       "0    [[, 아형, ✪, 하이라이트, 여자)아이들, 완전체, 떴다, ↗, 멋짐, 폭발, ...   \n",
       "1    [There, are, few, things, Jin, 진, of, BTS, ca,...   \n",
       "2    [박수홍, 신혼집, 대공개, ❤, 애정, 가득한, 인테리어에, 깨소금, 냄새!!0:...   \n",
       "3    [진, Jin, Astronaut, ', Official, MVCredits,  ,...   \n",
       "4    [승우아빠, 키친마이야르, #, 시즌3오늘은, 키친마이야르, 시즌3의, 신, 메뉴,...   \n",
       "..                                                 ...   \n",
       "155  [cash, telugushow, #, etvwin, sumakanakala, sa...   \n",
       "156  [Indulge, in, Vilvah, ’s, collection, of, orga...   \n",
       "157  [Download, India, 's, 1, audio, book, platform...   \n",
       "158  [Follow, on, Instagram, https://www.instagram....   \n",
       "159  [Vlog, #, 261Gaurav, 's, Instagram, https://ww...   \n",
       "\n",
       "                                          cleaned_tags  \\\n",
       "0    {슈화, 김희철, 미모서열, 공주병, 김영철, 아는, 우기, 사랑, Nxde직캠 N...   \n",
       "1    {진, menswear, want, magazine, interview, stuff...   \n",
       "2    {찬원축가, 이찬원, 대접요리, 이찬원직캠, 박수홍엄마, 김나영, 유재석, 만드는방...   \n",
       "3              {HYBE, 하이브, LABELS, HYBE HYBE, 하이브레이블즈}   \n",
       "4           {내꺼내먹, 승우아빠, 신메뉴, 시즌3메뉴, 슬러시, 키친마이야르, 솔의눈}   \n",
       "..                                                 ...   \n",
       "155  {Santosh Sobhan Faria Abdullah, program, Abdul...   \n",
       "156  {Maheshwari, couples, vlogs, dyson, Actress, s...   \n",
       "157  {Shortfilimmalayalam Malayalam Shortfilm Trend...   \n",
       "158  {hinglish, hayabusa, Vlogger, content, vlogs, ...   \n",
       "159  {beast, chicklu, flyingbeast, rathee, moo, wor...   \n",
       "\n",
       "                                          cleaned_desc title_in_description  \\\n",
       "0    {토요일, 아형, 5인, 저녁, ✪, 토크 모음.zip#아는형님, 공홈에서, 형님〉...                    0   \n",
       "1    {진, providing, modern, and, single, Good, Thom...                    0   \n",
       "2    {가득한 인테리어에 깨소금 냄새!!0:56 편스토랑 출연을 결심하게 된, 이찬원, ...                    0   \n",
       "3    {Mu, NieblasSet, Nwachukwu1st, BuckleyFeatured...                    1   \n",
       "4    {입니다정식메뉴, 리뷰는, 생방송, 문의, 키친마이야르, 택배수령주소, 🎁, 승우아...                    0   \n",
       "..                                                 ...                  ...   \n",
       "155  {► Pin, http://etv.co.in, Telugu(Youtube, Visi...                    0   \n",
       "156  {and, Get, hair, Us, more, n't, Teluguactress,...                    0   \n",
       "157  {Vyshak, and, Alan, SHA200EPISODE, that, off, ...                    0   \n",
       "158  {TRUCK, https://www.youtube.com/c/JaysnNation,...                    0   \n",
       "159  {gymming, still, and, Gearmy, https://amzn.to/...                    0   \n",
       "\n",
       "     title_in_tags  pct_tags_in_description channelId  \n",
       "0                0                 0.013889       NaN  \n",
       "1                0                 0.371429       NaN  \n",
       "2                0                 0.111111       NaN  \n",
       "3                0                 0.000000       NaN  \n",
       "4                0                 0.285714       NaN  \n",
       "..             ...                      ...       ...  \n",
       "155              0                 0.714286       NaN  \n",
       "156              0                 0.000000       NaN  \n",
       "157              0                 0.000000       NaN  \n",
       "158              0                 0.083333       NaN  \n",
       "159              0                 0.103448       NaN  \n",
       "\n",
       "[9536 rows x 30 columns]"
      ]
     },
     "execution_count": 4,
     "metadata": {},
     "output_type": "execute_result"
    }
   ],
   "source": [
    "import pandas as pd\n",
    "df = pd.read_pickle('prepared.pkl')\n",
    "df[\"channelId\"] = np.nan\n",
    "df"
   ]
  },
  {
   "cell_type": "code",
   "execution_count": null,
   "metadata": {},
   "outputs": [
    {
     "name": "stdout",
     "output_type": "stream",
     "text": [
      "<class 'pandas.core.frame.DataFrame'>\n",
      "Int64Index: 9536 entries, 0 to 159\n",
      "Data columns (total 29 columns):\n",
      " #   Column                   Non-Null Count  Dtype              \n",
      "---  ------                   --------------  -----              \n",
      " 0   video_id                 9536 non-null   object             \n",
      " 1   title                    9536 non-null   object             \n",
      " 2   publishedAt              9536 non-null   datetime64[ns, UTC]\n",
      " 3   channelTitle             9536 non-null   object             \n",
      " 4   categoryId               9536 non-null   object             \n",
      " 5   trending_date            9536 non-null   datetime64[ns, UTC]\n",
      " 6   tags                     9536 non-null   object             \n",
      " 7   view_count               9536 non-null   int64              \n",
      " 8   likes                    9536 non-null   int64              \n",
      " 9   comment_count            9536 non-null   int64              \n",
      " 10  thumbnail_link           9536 non-null   object             \n",
      " 11  comments_disabled        9536 non-null   bool               \n",
      " 12  ratings_disabled         9536 non-null   bool               \n",
      " 13  description              9536 non-null   object             \n",
      " 14  duration                 9536 non-null   int64              \n",
      " 15  captions                 9536 non-null   bool               \n",
      " 16  region                   9536 non-null   object             \n",
      " 17  rank                     9536 non-null   int64              \n",
      " 18  top_25                   9536 non-null   int64              \n",
      " 19  age                      9536 non-null   timedelta64[ns]    \n",
      " 20  engagement               9536 non-null   float64            \n",
      " 21  sponsored                9536 non-null   int64              \n",
      " 22  num_of_tags              9536 non-null   int64              \n",
      " 23  word_bank                9536 non-null   object             \n",
      " 24  cleaned_tags             9536 non-null   object             \n",
      " 25  cleaned_desc             9536 non-null   object             \n",
      " 26  title_in_description     9536 non-null   int64              \n",
      " 27  title_in_tags            9536 non-null   int64              \n",
      " 28  pct_tags_in_description  9536 non-null   float64            \n",
      "dtypes: bool(3), datetime64[ns, UTC](2), float64(2), int64(10), object(11), timedelta64[ns](1)\n",
      "memory usage: 2.0+ MB\n"
     ]
    }
   ],
   "source": [
    "df.info()"
   ]
  },
  {
   "cell_type": "code",
   "execution_count": null,
   "metadata": {},
   "outputs": [
    {
     "data": {
      "text/html": [
       "<div>\n",
       "<style scoped>\n",
       "    .dataframe tbody tr th:only-of-type {\n",
       "        vertical-align: middle;\n",
       "    }\n",
       "\n",
       "    .dataframe tbody tr th {\n",
       "        vertical-align: top;\n",
       "    }\n",
       "\n",
       "    .dataframe thead th {\n",
       "        text-align: right;\n",
       "    }\n",
       "</style>\n",
       "<table border=\"1\" class=\"dataframe\">\n",
       "  <thead>\n",
       "    <tr style=\"text-align: right;\">\n",
       "      <th></th>\n",
       "      <th>0</th>\n",
       "    </tr>\n",
       "  </thead>\n",
       "  <tbody>\n",
       "    <tr>\n",
       "      <th>0</th>\n",
       "      <td>sWwHWK7OYJ8</td>\n",
       "    </tr>\n",
       "    <tr>\n",
       "      <th>1</th>\n",
       "      <td>1_VsbIFIh8U</td>\n",
       "    </tr>\n",
       "    <tr>\n",
       "      <th>2</th>\n",
       "      <td>SFVzIrEYQKU</td>\n",
       "    </tr>\n",
       "    <tr>\n",
       "      <th>3</th>\n",
       "      <td>c6ASQOwKkhk</td>\n",
       "    </tr>\n",
       "    <tr>\n",
       "      <th>4</th>\n",
       "      <td>CYn8OlO7cbg</td>\n",
       "    </tr>\n",
       "    <tr>\n",
       "      <th>...</th>\n",
       "      <td>...</td>\n",
       "    </tr>\n",
       "    <tr>\n",
       "      <th>9531</th>\n",
       "      <td>8Itwp2_LMr0</td>\n",
       "    </tr>\n",
       "    <tr>\n",
       "      <th>9532</th>\n",
       "      <td>-65G3J2Ylo4</td>\n",
       "    </tr>\n",
       "    <tr>\n",
       "      <th>9533</th>\n",
       "      <td>NyHW-zcU77Q</td>\n",
       "    </tr>\n",
       "    <tr>\n",
       "      <th>9534</th>\n",
       "      <td>jpGofgAkQjI</td>\n",
       "    </tr>\n",
       "    <tr>\n",
       "      <th>9535</th>\n",
       "      <td>dJC14nQ79jU</td>\n",
       "    </tr>\n",
       "  </tbody>\n",
       "</table>\n",
       "<p>9536 rows × 1 columns</p>\n",
       "</div>"
      ],
      "text/plain": [
       "                0\n",
       "0     sWwHWK7OYJ8\n",
       "1     1_VsbIFIh8U\n",
       "2     SFVzIrEYQKU\n",
       "3     c6ASQOwKkhk\n",
       "4     CYn8OlO7cbg\n",
       "...           ...\n",
       "9531  8Itwp2_LMr0\n",
       "9532  -65G3J2Ylo4\n",
       "9533  NyHW-zcU77Q\n",
       "9534  jpGofgAkQjI\n",
       "9535  dJC14nQ79jU\n",
       "\n",
       "[9536 rows x 1 columns]"
      ]
     },
     "execution_count": 29,
     "metadata": {},
     "output_type": "execute_result"
    }
   ],
   "source": [
    "vid"
   ]
  },
  {
   "cell_type": "code",
   "execution_count": null,
   "metadata": {},
   "outputs": [],
   "source": [
    "df.video_id.to_csv('video_ids.txt',index=False)"
   ]
  },
  {
   "cell_type": "code",
   "execution_count": null,
   "metadata": {},
   "outputs": [
    {
     "data": {
      "text/plain": [
       "array(['아는형님 Knowingbros', 'GQ', 'KBS 한국방송', 'HYBE LABELS', '승우아빠',\n",
       "       'tvN SPORTS', '올리버쌤', 'BANGTANTV', 'sogyo table 소교식탁TV', 'LCK',\n",
       "       'CLAB', '차박차박 Chabak', '에스오디 SOD', 'NB couple엔비커플', 'NCT',\n",
       "       'EBSCulture (EBS 교양)', 'KFATV_LIVE', '썸머썸머Summer in New York',\n",
       "       '도장TV', '워크맨-Workman', '장민호', '한혜진 Han Hye Jin', '이국주', 'Hoy',\n",
       "       'BERTH-OH', 'De Todo Un Mucho', 'Marca Claro', 'xTurbo',\n",
       "       'Joey Drew Studios', 'Luisito Comunica', 'Clash of Clans',\n",
       "       'EA SPORTS FIFA', 'Quavo Huncho', 'Dtoke Free', 'TV Ana Emilia',\n",
       "       'Conoce a Arnold', 'ElMalillaTv', 'Rica Famosa Latina',\n",
       "       'Sonic the Hedgehog', 'Genshin Impact', 'Rivers', 'Pancracio',\n",
       "       'MaireWink', 'Fortnite', 'Alejo Igoa', 'La Vanguardia',\n",
       "       'Bronzo Español', 'Jinseop Coreano', 'Mcfly et Carlito', 'SpaceX',\n",
       "       'Alpha Betas', 'Entertainment Tonight', 'Hailey Rhode Bieber',\n",
       "       'FOX 2 St. Louis', 'RealLifeLore', 'Safiya Nygaard',\n",
       "       'JxmyHighroller', 'IGN', 'SteveDangle', 'Deestroying',\n",
       "       'Dead by Daylight', 'Rolling Stone', 'Brown Studios', 'Norman',\n",
       "       'Aminematue', 'CalebCity', 'YRF', 'Elvish yadav',\n",
       "       'Dipika Ki Duniya', 'Slayy Point', 'Saregama Hum Bhojpuri',\n",
       "       'Techno Gamerz', 'Sangeetha Vinoth', 'Abhi and Niyu', 'Sun TV',\n",
       "       'aha videoIN', 'Number 1 Records', 'Netflix India',\n",
       "       'Dreamz Unlimited', 'GRAY WOLF', 'Infinitum Theatre',\n",
       "       'Village life with Om and Family', 'MR. INDIAN HACKER',\n",
       "       'Wanderers Hub', 'My Village Show', 'Mashura Basheer',\n",
       "       'KaanPhod Music', 'Kalamkaar', 'Rimorav Vlogs', 'Артемий Лебедев',\n",
       "       'MrLololoshka (Роман Фильченков)',\n",
       "       'Дима Масленников (Pognali Show)', 'A4', 'Hajime', 'Utopia Show',\n",
       "       'Скажи Гордеевой', 'Utopia Live', 'Чувствуй наши Shorts',\n",
       "       'ИЛЬДАР АВТО-ПОДБОР', 'Family Box', 'Нелис', 'Lady Diana',\n",
       "       'ФЕЙГИН LIVE', 'windy31', 'Milliy TV', 'МАРМАЖ', 'Film',\n",
       "       'ABRACADABRA TV', 'Gazgolder', 'Веля', 'Ummon guruhi',\n",
       "       'МАШИНАТОРЫ', 'kussia', 'Джел', 'Bastian', 'rbb', 'Arazhul',\n",
       "       'Isabeau', 'DAVE', 'Knossi', 'A.B.K', 'KELLY //missesvlog',\n",
       "       'Broski', 'BeautxVlogs', 'Hochzeit auf den ersten Blick',\n",
       "       'tomatolix', 'Grünwald Freitagscomedy', 'Paul Unterleitner',\n",
       "       'BR24', 'DER SPIEGEL', 'Alicia Joe', 'ApoRed', 'Julia Beautx',\n",
       "       'Marcneto', 'Jindaouis', 'Philipp Kaess', '침착맨',\n",
       "       'EBSDocumentary (EBS 다큐)', '원신', '오분순삭', 'UPSub없섭',\n",
       "       '집밥 korean home cooking', '안될과학 Unrealscience', '안녕하세미', 'MBCkpop',\n",
       "       '주부나라', '심방골주부Korean Food Recipes', 'Kodak Black', 'WWE on USA',\n",
       "       'Motorsports on NBC', 'Rugby League World Cup 2021',\n",
       "       'Motionless In White', 'Matt Stonie', 'MMAWeekly.com',\n",
       "       'CBS Sports HQ', 'Ghost', 'The Grumps', 'Magic: The Gathering',\n",
       "       'Polyphia', 'James Hoffmann', 'shane', 'LegalEagle',\n",
       "       'Walt Disney Studios', 'Ryan Reynolds', 'World of Warcraft',\n",
       "       'REWI GAMING', 'AeroNewsGermany', 'Podpah', 'Desimpedidos',\n",
       "       'CNN Brasil', 'Ligonz', 'Paulistão', 'Enaldinho', 'Problems',\n",
       "       'HUNTERS MAROMBA', 'Márcia Fernandes', 'Celso Portiolli',\n",
       "       'Paola Carosella', 'FLA TV', 'Iron Master', 'BielSwift', 'Dlet',\n",
       "       'FutParódias', 'CNN Brasil Business', 'Naru', 'NowUnitedVEVO',\n",
       "       'Jornal da Record', 'KIKO BONESI', 'Rao TV', 'ロードシルク', 'にこちゃん放送局',\n",
       "       'おろちんゆー', 'TVアニメ『東京リベンジャーズ』チャンネル', 'ELLEGARDEN_OFFICIAL',\n",
       "       '奈羅花 - Naraka -', '壱百満天原サロメ / Hyakumantenbara Salome', '森中花咲',\n",
       "       'Travis Japan', 'はじめまして松尾です', '貴ちゃんねるず', 'JRA公式チャンネル',\n",
       "       '東映アニメーションミュージアムチャンネル', '有吉の壁【公式】壁チャンネル', '椎名唯華 / Shiina Yuika',\n",
       "       'けなそゆ', '極楽とんぼ山本圭壱 けいちょんチャンネル', 'はじめしゃちょー（hajime）',\n",
       "       'GameKnack【QuizKnockゲームチャンネル】', 'KYODO NEWS', 'べりたんで検索お願いします',\n",
       "       'ブラーボりょうのボンサバドゥ!チャンネル', 'Mel Channel 夜空メルチャンネル', '古川優香',\n",
       "       'M-1グランプリ', 'GOTAGA', 'menace Santana', 'LE GRAND JD', 'JOYCA',\n",
       "       'Etienne LGF', 'Sohran', 'SQUEEZIE', 'Inoxtag', 'HugoDécrypte',\n",
       "       'Michou', 'Adem&Bilal', 'Océane', 'INA Actu',\n",
       "       'ATE CHUET TOPGUN2SPEAKER', 'Multicort',\n",
       "       'permaculture agroécologie etc...', 'KELYAN', 'Souf - Topic',\n",
       "       'Valouzz 2.0', 'Mastu', 'Yes Theory', 'Not Just Bikes', 'NASCAR',\n",
       "       'Bon Appétit', 'Stand-up Maths', 'NBA', 'ChrisMD', 'BT Sport',\n",
       "       'MongoTV', 'lilsimsie', 'True Geordie', 'Freddy', 'FOX 5 New York',\n",
       "       'TheBeatlesVEVO', 'Creative Thinks', 'Aashirvad Cinemas',\n",
       "       'The RawKnee Games', 'VILLAGE PATAS విలేజ్ పటాస్',\n",
       "       'Sourav Joshi Vlogs', 'Vinayak Mali', 'T-Series Bhakti Sagar',\n",
       "       'Triggered Insaan', 'HUM TV', 'Hungry Birds Inside',\n",
       "       'Zee Music Company', 'Vithika Sheru', 'HAR PAL GEO',\n",
       "       'DAN JR VLOGS', 'Saba Ibrahim', 'Sony AATH', 'Импровизация',\n",
       "       'КЛИККЛАК', 'Дима Гордей', 'KiKiDo', 'ЯЯНА', 'Mening Yurtim - MY5',\n",
       "       'Вкусная минутка', 'FixEye', 'Слава Комиссаренко', 'Marmok',\n",
       "       'Fútbol Con Huevos', 'Liry Onni', '¿Quién es la Máscara?',\n",
       "       'JiniChannel', 'Katia Vlogs', 'ESPN Fans', 'SHOWTUBERS TV',\n",
       "       'elxokas', 'Franco Escamilla', 'Syndicate', 'MoreSidemen',\n",
       "       'Mat Armstrong MK2', 'Sunny Malton', 'jacksepticeye',\n",
       "       'Romell Henry', 'The Guardian',\n",
       "       \"I'm A Celebrity... Get Me Out Of Here!\", 'Noel Gallagher',\n",
       "       'Chunkz', 'Beta Squad', 'Prime Video Sport Deutschland',\n",
       "       'World Wide Wohnzimmer', 'Peter Beer',\n",
       "       'DAZN UEFA Champions League', 'BrotatoGang',\n",
       "       'Fritz Meinecke - Live', 'Nahim Sky', 'Lula', 'MyNews',\n",
       "       'Domingo Espetacular', 'Band Jornalismo', 'SBT Sports',\n",
       "       'FLAZOEIRO', 'Natan por Aí', 'Jazzghost', 'Rede Fla',\n",
       "       'Câmara dos Deputados', 'ESPN Brasil', 'EAE CLA', 'Дюшес Team',\n",
       "       'TheSorryGirls', 'Это не Диалоги О Рыбалке', 'TIE Ru',\n",
       "       'あめんぼぷらす【日常コメディ】', '啓之輔.けいチャンネル', '京口紘人 Hiroto Kyoguchi【WBA世界王者】',\n",
       "       'JFATV', '渡嘉敷勝男&竹原慎二&畑山隆則 ぶっちゃけチャンネル', '樋口武大', '辻ちゃんネル',\n",
       "       'テレビ東京スポーツ', 'まあたそ', '【元サッカー日本代表 城彰二】JOチャンネル', 'ABEMA 格闘CH【公式】',\n",
       "       'ガレヨコ『GARAGE YOKOHATA』', 'サッポロ一番 公式', '原神-Genshin-公式', 'kemio',\n",
       "       '松井大輔 / Daisuke Matsui ', 'アスリートアカデミア【岡崎郁 公式チャンネル】',\n",
       "       'ジャニーズJr.チャンネル', '北海道ニュースUHB', 'SOUF', 'Inoxtag 2.0', 'Hassan',\n",
       "       'Savun', 'Le Bazar de Laupok', 'Franjo', 'ShadobassMc', 'Gurky',\n",
       "       'Deathy', 'RMC Sport', 'beIN SPORTS France', 'Tokyo no Jo',\n",
       "       'France Rugby', 'Tina ASMR', 'SALLY ( Crazy Sally )',\n",
       "       'Viktoria Tschernenko', 'Yoga With Adriene'], dtype=object)"
      ]
     },
     "execution_count": 23,
     "metadata": {},
     "output_type": "execute_result"
    }
   ],
   "source": []
  },
  {
   "cell_type": "code",
   "execution_count": null,
   "metadata": {},
   "outputs": [],
   "source": [
    "one_df = df.copy()"
   ]
  },
  {
   "cell_type": "code",
   "execution_count": null,
   "metadata": {},
   "outputs": [],
   "source": [
    "one_df = one_df.drop_duplicates('channelTitle')"
   ]
  },
  {
   "cell_type": "code",
   "execution_count": null,
   "metadata": {},
   "outputs": [],
   "source": [
    "one_df.video_id.to_csv('video_ids.txt',index=False)"
   ]
  },
  {
   "cell_type": "code",
   "execution_count": null,
   "metadata": {},
   "outputs": [],
   "source": [
    "import os\n",
    "import glob\n",
    "import pandas as pd\n",
    "#set working directory\n",
    "os.chdir(\"/Users/vincentbanuelos/codeup-data-science/top_200/output\")\n",
    "\n",
    "#find all csv files in the folder\n",
    "#use glob pattern matching -> extension = 'csv'\n",
    "#save result in list -> all_filenames\n",
    "extension = 'csv'\n",
    "all_filenames = [i for i in glob.glob('*.{}'.format(extension))]\n",
    "#print(all_filenames)\n",
    "\n",
    "#combine all files in the list\n",
    "combined_csv = pd.concat([pd.read_csv(f) for f in all_filenames ])\n",
    "#export to csv\n",
    "combined_csv.to_csv( \"combined_csv.csv\", index=False, encoding='utf-8-sig')"
   ]
  },
  {
   "cell_type": "code",
   "execution_count": 15,
   "metadata": {},
   "outputs": [],
   "source": [
    "import os\n",
    "import glob\n",
    "import pandas as pd\n",
    "#set working directory\n",
    "os.chdir(\"/Users/vincentbanuelos/codeup-data-science/top_200/channeloutput\")\n",
    "\n",
    "#find all csv files in the folder\n",
    "#use glob pattern matching -> extension = 'csv'\n",
    "#save result in list -> all_filenames\n",
    "extension = 'csv'\n",
    "all_filenames = [i for i in glob.glob('*.{}'.format(extension))]\n",
    "#print(all_filenames)\n",
    "\n",
    "#combine all files in the list\n",
    "combined_csv = pd.concat([pd.read_csv(f) for f in all_filenames ])\n",
    "#export to csv\n",
    "combined_csv.to_csv( \"combined_channel.csv\", index=False, encoding='utf-8-sig')"
   ]
  },
  {
   "cell_type": "code",
   "execution_count": null,
   "metadata": {},
   "outputs": [],
   "source": []
  }
 ],
 "metadata": {
  "kernelspec": {
   "display_name": "Python 3.9.12 ('base')",
   "language": "python",
   "name": "python3"
  },
  "language_info": {
   "codemirror_mode": {
    "name": "ipython",
    "version": 3
   },
   "file_extension": ".py",
   "mimetype": "text/x-python",
   "name": "python",
   "nbconvert_exporter": "python",
   "pygments_lexer": "ipython3",
   "version": "3.9.12"
  },
  "orig_nbformat": 4,
  "vscode": {
   "interpreter": {
    "hash": "38cca0c38332a56087b24af0bc80247f4fced29cb4f7f437d91dc159adec9c4e"
   }
  }
 },
 "nbformat": 4,
 "nbformat_minor": 2
}
