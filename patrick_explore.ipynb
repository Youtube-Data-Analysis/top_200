{
 "cells": [
  {
   "cell_type": "code",
   "execution_count": 1,
   "metadata": {},
   "outputs": [],
   "source": [
    "import pandas as pd\n",
    "import numpy as np\n",
    "import time\n",
    "\n",
    "import seaborn as sns\n",
    "import matplotlib.pyplot as plt\n",
    "\n",
    "from wordcloud import WordCloud\n",
    "from bs4 import BeautifulSoup\n",
    "from wordcloud import WordCloud"
   ]
  },
  {
   "cell_type": "markdown",
   "metadata": {},
   "source": [
    "# Acquire"
   ]
  },
  {
   "cell_type": "code",
   "execution_count": 2,
   "metadata": {},
   "outputs": [],
   "source": [
    "#reading the list of videos contained in the csv file\n",
    "#df = pd.read_csv('vidz.csv')\n",
    "df = pd.read_pickle('prepared.pkl')\n",
    "#df.head()"
   ]
  },
  {
   "cell_type": "code",
   "execution_count": 3,
   "metadata": {},
   "outputs": [],
   "source": [
    "#reading the list of country videos contained in the csv files\n",
    "ca = pd.read_csv('22.31.10_CA_videos.csv')\n",
    "de = pd.read_csv('22.31.10_DE_videos.csv')\n",
    "fr = pd.read_csv('22.31.10_FR_videos.csv')\n",
    "gb = pd.read_csv('22.31.10_GB_videos.csv')\n",
    "ind = pd.read_csv('22.31.10_IN_videos.csv')\n",
    "jp = pd.read_csv('22.31.10_JP_videos.csv')\n",
    "kr = pd.read_csv('22.31.10_KR_videos.csv')\n",
    "mx = pd.read_csv('22.31.10_MX_videos.csv')\n",
    "ru = pd.read_csv('22.31.10_RU_videos.csv')\n",
    "us=pd.read_csv('youtube_us.csv')"
   ]
  },
  {
   "cell_type": "code",
   "execution_count": 4,
   "metadata": {},
   "outputs": [],
   "source": [
    "df = pd.concat([ca, de, fr, gb, ind, jp, kr, mx, ru, us])"
   ]
  },
  {
   "cell_type": "code",
   "execution_count": 5,
   "metadata": {},
   "outputs": [],
   "source": [
    "df['rank'] = df.index + 1"
   ]
  },
  {
   "cell_type": "code",
   "execution_count": 6,
   "metadata": {},
   "outputs": [],
   "source": [
    "#drop columns with redundant information\n",
    "#df = df.drop(columns=['comments_disabled', 'ratings_disabled' ,'thumbnail_link'])"
   ]
  },
  {
   "cell_type": "code",
   "execution_count": 7,
   "metadata": {},
   "outputs": [],
   "source": [
    "df.categoryId = df.categoryId.astype('object')"
   ]
  },
  {
   "cell_type": "code",
   "execution_count": 8,
   "metadata": {
    "scrolled": true
   },
   "outputs": [
    {
     "name": "stdout",
     "output_type": "stream",
     "text": [
      "<class 'pandas.core.frame.DataFrame'>\n",
      "Int64Index: 1662 entries, 0 to 178\n",
      "Data columns (total 17 columns):\n",
      " #   Column             Non-Null Count  Dtype \n",
      "---  ------             --------------  ----- \n",
      " 0   video_id           1662 non-null   object\n",
      " 1   title              1662 non-null   object\n",
      " 2   publishedAt        1662 non-null   object\n",
      " 3   channelTitle       1662 non-null   object\n",
      " 4   categoryId         1662 non-null   object\n",
      " 5   trending_date      1662 non-null   object\n",
      " 6   tags               1662 non-null   object\n",
      " 7   view_count         1662 non-null   object\n",
      " 8   likes              1662 non-null   object\n",
      " 9   comment_count      1662 non-null   object\n",
      " 10  thumbnail_link     1662 non-null   object\n",
      " 11  comments_disabled  1662 non-null   object\n",
      " 12  ratings_disabled   1662 non-null   object\n",
      " 13  description        1634 non-null   object\n",
      " 14  duration           1662 non-null   object\n",
      " 15  captions           1662 non-null   object\n",
      " 16  rank               1662 non-null   int64 \n",
      "dtypes: int64(1), object(16)\n",
      "memory usage: 233.7+ KB\n"
     ]
    }
   ],
   "source": [
    "# \".info()\" shows the types of data in each column\n",
    "df.info()"
   ]
  },
  {
   "cell_type": "code",
   "execution_count": 9,
   "metadata": {},
   "outputs": [
    {
     "data": {
      "text/plain": [
       "video_id              0\n",
       "title                 0\n",
       "publishedAt           0\n",
       "channelTitle          0\n",
       "categoryId            0\n",
       "trending_date         0\n",
       "tags                  0\n",
       "view_count            0\n",
       "likes                 0\n",
       "comment_count         0\n",
       "thumbnail_link        0\n",
       "comments_disabled     0\n",
       "ratings_disabled      0\n",
       "description          28\n",
       "duration              0\n",
       "captions              0\n",
       "rank                  0\n",
       "dtype: int64"
      ]
     },
     "execution_count": 9,
     "metadata": {},
     "output_type": "execute_result"
    }
   ],
   "source": [
    "df.isnull().sum()"
   ]
  },
  {
   "cell_type": "code",
   "execution_count": 10,
   "metadata": {},
   "outputs": [
    {
     "data": {
      "text/html": [
       "<div>\n",
       "<style scoped>\n",
       "    .dataframe tbody tr th:only-of-type {\n",
       "        vertical-align: middle;\n",
       "    }\n",
       "\n",
       "    .dataframe tbody tr th {\n",
       "        vertical-align: top;\n",
       "    }\n",
       "\n",
       "    .dataframe thead th {\n",
       "        text-align: right;\n",
       "    }\n",
       "</style>\n",
       "<table border=\"1\" class=\"dataframe\">\n",
       "  <thead>\n",
       "    <tr style=\"text-align: right;\">\n",
       "      <th></th>\n",
       "      <th>rank</th>\n",
       "    </tr>\n",
       "  </thead>\n",
       "  <tbody>\n",
       "    <tr>\n",
       "      <th>count</th>\n",
       "      <td>1662.000000</td>\n",
       "    </tr>\n",
       "    <tr>\n",
       "      <th>mean</th>\n",
       "      <td>95.424789</td>\n",
       "    </tr>\n",
       "    <tr>\n",
       "      <th>std</th>\n",
       "      <td>56.551480</td>\n",
       "    </tr>\n",
       "    <tr>\n",
       "      <th>min</th>\n",
       "      <td>1.000000</td>\n",
       "    </tr>\n",
       "    <tr>\n",
       "      <th>25%</th>\n",
       "      <td>47.000000</td>\n",
       "    </tr>\n",
       "    <tr>\n",
       "      <th>50%</th>\n",
       "      <td>93.000000</td>\n",
       "    </tr>\n",
       "    <tr>\n",
       "      <th>75%</th>\n",
       "      <td>144.000000</td>\n",
       "    </tr>\n",
       "    <tr>\n",
       "      <th>max</th>\n",
       "      <td>200.000000</td>\n",
       "    </tr>\n",
       "  </tbody>\n",
       "</table>\n",
       "</div>"
      ],
      "text/plain": [
       "              rank\n",
       "count  1662.000000\n",
       "mean     95.424789\n",
       "std      56.551480\n",
       "min       1.000000\n",
       "25%      47.000000\n",
       "50%      93.000000\n",
       "75%     144.000000\n",
       "max     200.000000"
      ]
     },
     "execution_count": 10,
     "metadata": {},
     "output_type": "execute_result"
    }
   ],
   "source": [
    "# \".describe()\" shows the basic statistical description for each \n",
    "#column that is calculable\n",
    "df.describe()"
   ]
  },
  {
   "cell_type": "code",
   "execution_count": 11,
   "metadata": {},
   "outputs": [
    {
     "data": {
      "text/plain": [
       "Index(['video_id', 'title', 'publishedAt', 'channelTitle', 'categoryId',\n",
       "       'trending_date', 'tags', 'view_count', 'likes', 'comment_count',\n",
       "       'thumbnail_link', 'comments_disabled', 'ratings_disabled',\n",
       "       'description', 'duration', 'captions', 'rank'],\n",
       "      dtype='object')"
      ]
     },
     "execution_count": 11,
     "metadata": {},
     "output_type": "execute_result"
    }
   ],
   "source": [
    "df.columns"
   ]
  },
  {
   "cell_type": "code",
   "execution_count": 12,
   "metadata": {},
   "outputs": [
    {
     "data": {
      "text/plain": [
       "video_id             object\n",
       "title                object\n",
       "publishedAt          object\n",
       "channelTitle         object\n",
       "categoryId           object\n",
       "trending_date        object\n",
       "tags                 object\n",
       "view_count           object\n",
       "likes                object\n",
       "comment_count        object\n",
       "thumbnail_link       object\n",
       "comments_disabled    object\n",
       "ratings_disabled     object\n",
       "description          object\n",
       "duration             object\n",
       "captions             object\n",
       "rank                  int64\n",
       "dtype: object"
      ]
     },
     "execution_count": 12,
     "metadata": {},
     "output_type": "execute_result"
    }
   ],
   "source": [
    "#check data type\n",
    "df.dtypes"
   ]
  },
  {
   "cell_type": "code",
   "execution_count": 13,
   "metadata": {},
   "outputs": [
    {
     "data": {
      "text/html": [
       "<div>\n",
       "<style scoped>\n",
       "    .dataframe tbody tr th:only-of-type {\n",
       "        vertical-align: middle;\n",
       "    }\n",
       "\n",
       "    .dataframe tbody tr th {\n",
       "        vertical-align: top;\n",
       "    }\n",
       "\n",
       "    .dataframe thead th {\n",
       "        text-align: right;\n",
       "    }\n",
       "</style>\n",
       "<table border=\"1\" class=\"dataframe\">\n",
       "  <thead>\n",
       "    <tr style=\"text-align: right;\">\n",
       "      <th></th>\n",
       "      <th>video_id</th>\n",
       "      <th>title</th>\n",
       "      <th>publishedAt</th>\n",
       "      <th>channelTitle</th>\n",
       "      <th>categoryId</th>\n",
       "      <th>trending_date</th>\n",
       "      <th>tags</th>\n",
       "      <th>view_count</th>\n",
       "      <th>likes</th>\n",
       "      <th>comment_count</th>\n",
       "      <th>thumbnail_link</th>\n",
       "      <th>comments_disabled</th>\n",
       "      <th>ratings_disabled</th>\n",
       "      <th>description</th>\n",
       "      <th>duration</th>\n",
       "      <th>captions</th>\n",
       "      <th>rank</th>\n",
       "    </tr>\n",
       "  </thead>\n",
       "  <tbody>\n",
       "    <tr>\n",
       "      <th>0</th>\n",
       "      <td>Qa3anjyAMgc</td>\n",
       "      <td>Jake Paul vs Anderson Silva HIGHLIGHTS</td>\n",
       "      <td>2022-10-30T21:31:19Z</td>\n",
       "      <td>MMAWeekly.com</td>\n",
       "      <td>17</td>\n",
       "      <td>22.31.10</td>\n",
       "      <td>MMA|mixed martial arts|MMAWeekly.com|MMAWeekly...</td>\n",
       "      <td>360616</td>\n",
       "      <td>2984</td>\n",
       "      <td>1052</td>\n",
       "      <td>https://i.ytimg.com/vi/Qa3anjyAMgc/default.jpg</td>\n",
       "      <td>False</td>\n",
       "      <td>False</td>\n",
       "      <td>See the highlights from Jake Paul vs Anderson ...</td>\n",
       "      <td>PT4M5S</td>\n",
       "      <td>False</td>\n",
       "      <td>1</td>\n",
       "    </tr>\n",
       "    <tr>\n",
       "      <th>1</th>\n",
       "      <td>d2Dw-PuNZSE</td>\n",
       "      <td>Dark Secrets of the World’s Most Isolated Island</td>\n",
       "      <td>2022-10-30T17:00:21Z</td>\n",
       "      <td>Yes Theory</td>\n",
       "      <td>24</td>\n",
       "      <td>22.31.10</td>\n",
       "      <td>yestheory|seek discomfort|yes theory strangers...</td>\n",
       "      <td>1179634</td>\n",
       "      <td>53966</td>\n",
       "      <td>3319</td>\n",
       "      <td>https://i.ytimg.com/vi/d2Dw-PuNZSE/default.jpg</td>\n",
       "      <td>False</td>\n",
       "      <td>False</td>\n",
       "      <td>Start your free trial with Shopify at this lin...</td>\n",
       "      <td>PT19M41S</td>\n",
       "      <td>False</td>\n",
       "      <td>2</td>\n",
       "    </tr>\n",
       "    <tr>\n",
       "      <th>2</th>\n",
       "      <td>nUDTWLfrUsg</td>\n",
       "      <td>LFR16 - Game 10 - OVER - TOR 3, ANA 4 (OT)</td>\n",
       "      <td>2022-10-31T06:10:01Z</td>\n",
       "      <td>SteveDangle</td>\n",
       "      <td>17</td>\n",
       "      <td>22.31.10</td>\n",
       "      <td>Hockey|NHL|Steve Dangle|Toronto Maple Leafs|Ma...</td>\n",
       "      <td>93314</td>\n",
       "      <td>7342</td>\n",
       "      <td>1959</td>\n",
       "      <td>https://i.ytimg.com/vi/nUDTWLfrUsg/default.jpg</td>\n",
       "      <td>False</td>\n",
       "      <td>False</td>\n",
       "      <td>Steve Dangle recaps and analyzes Game 10 of th...</td>\n",
       "      <td>PT18M54S</td>\n",
       "      <td>True</td>\n",
       "      <td>3</td>\n",
       "    </tr>\n",
       "    <tr>\n",
       "      <th>3</th>\n",
       "      <td>L2DGv2bmsqo</td>\n",
       "      <td>Dawn of the Phyrexian Invasion - Official Cine...</td>\n",
       "      <td>2022-10-30T17:59:03Z</td>\n",
       "      <td>Magic: The Gathering</td>\n",
       "      <td>20</td>\n",
       "      <td>22.31.10</td>\n",
       "      <td>magic|mtg|wizards|wotc|planeswalkers|tcg|tradi...</td>\n",
       "      <td>9662904</td>\n",
       "      <td>9150</td>\n",
       "      <td>1022</td>\n",
       "      <td>https://i.ytimg.com/vi/L2DGv2bmsqo/default.jpg</td>\n",
       "      <td>False</td>\n",
       "      <td>False</td>\n",
       "      <td>Phyrexians have taken root in Dominaria as a s...</td>\n",
       "      <td>PT3M24S</td>\n",
       "      <td>True</td>\n",
       "      <td>4</td>\n",
       "    </tr>\n",
       "    <tr>\n",
       "      <th>4</th>\n",
       "      <td>MIHPNoRJ1p0</td>\n",
       "      <td>Scoring 1 AMAZING Goal From 1-40 Yards</td>\n",
       "      <td>2022-10-30T21:30:06Z</td>\n",
       "      <td>ChrisMD</td>\n",
       "      <td>24</td>\n",
       "      <td>22.31.10</td>\n",
       "      <td>[none]</td>\n",
       "      <td>1268775</td>\n",
       "      <td>86805</td>\n",
       "      <td>1229</td>\n",
       "      <td>https://i.ytimg.com/vi/MIHPNoRJ1p0/default.jpg</td>\n",
       "      <td>False</td>\n",
       "      <td>False</td>\n",
       "      <td>Wowie!Save money whilst shopping online by dow...</td>\n",
       "      <td>PT21M36S</td>\n",
       "      <td>False</td>\n",
       "      <td>5</td>\n",
       "    </tr>\n",
       "  </tbody>\n",
       "</table>\n",
       "</div>"
      ],
      "text/plain": [
       "      video_id                                              title  \\\n",
       "0  Qa3anjyAMgc             Jake Paul vs Anderson Silva HIGHLIGHTS   \n",
       "1  d2Dw-PuNZSE   Dark Secrets of the World’s Most Isolated Island   \n",
       "2  nUDTWLfrUsg         LFR16 - Game 10 - OVER - TOR 3, ANA 4 (OT)   \n",
       "3  L2DGv2bmsqo  Dawn of the Phyrexian Invasion - Official Cine...   \n",
       "4  MIHPNoRJ1p0             Scoring 1 AMAZING Goal From 1-40 Yards   \n",
       "\n",
       "            publishedAt          channelTitle categoryId trending_date  \\\n",
       "0  2022-10-30T21:31:19Z         MMAWeekly.com         17      22.31.10   \n",
       "1  2022-10-30T17:00:21Z            Yes Theory         24      22.31.10   \n",
       "2  2022-10-31T06:10:01Z           SteveDangle         17      22.31.10   \n",
       "3  2022-10-30T17:59:03Z  Magic: The Gathering         20      22.31.10   \n",
       "4  2022-10-30T21:30:06Z               ChrisMD         24      22.31.10   \n",
       "\n",
       "                                                tags view_count  likes  \\\n",
       "0  MMA|mixed martial arts|MMAWeekly.com|MMAWeekly...     360616   2984   \n",
       "1  yestheory|seek discomfort|yes theory strangers...    1179634  53966   \n",
       "2  Hockey|NHL|Steve Dangle|Toronto Maple Leafs|Ma...      93314   7342   \n",
       "3  magic|mtg|wizards|wotc|planeswalkers|tcg|tradi...    9662904   9150   \n",
       "4                                             [none]    1268775  86805   \n",
       "\n",
       "  comment_count                                  thumbnail_link  \\\n",
       "0          1052  https://i.ytimg.com/vi/Qa3anjyAMgc/default.jpg   \n",
       "1          3319  https://i.ytimg.com/vi/d2Dw-PuNZSE/default.jpg   \n",
       "2          1959  https://i.ytimg.com/vi/nUDTWLfrUsg/default.jpg   \n",
       "3          1022  https://i.ytimg.com/vi/L2DGv2bmsqo/default.jpg   \n",
       "4          1229  https://i.ytimg.com/vi/MIHPNoRJ1p0/default.jpg   \n",
       "\n",
       "  comments_disabled ratings_disabled  \\\n",
       "0             False            False   \n",
       "1             False            False   \n",
       "2             False            False   \n",
       "3             False            False   \n",
       "4             False            False   \n",
       "\n",
       "                                         description  duration captions  rank  \n",
       "0  See the highlights from Jake Paul vs Anderson ...    PT4M5S    False     1  \n",
       "1  Start your free trial with Shopify at this lin...  PT19M41S    False     2  \n",
       "2  Steve Dangle recaps and analyzes Game 10 of th...  PT18M54S     True     3  \n",
       "3  Phyrexians have taken root in Dominaria as a s...   PT3M24S     True     4  \n",
       "4  Wowie!Save money whilst shopping online by dow...  PT21M36S    False     5  "
      ]
     },
     "execution_count": 13,
     "metadata": {},
     "output_type": "execute_result"
    }
   ],
   "source": [
    "#check \n",
    "# \".head\" after the data name shows 5 rows of the uploaded dataset\n",
    "df.head()"
   ]
  },
  {
   "cell_type": "markdown",
   "metadata": {},
   "source": [
    "## Prepare"
   ]
  },
  {
   "cell_type": "markdown",
   "metadata": {},
   "source": [
    "## Convert to datetime --> ppublised at, trending date, duration (timedelta)"
   ]
  },
  {
   "cell_type": "code",
   "execution_count": 14,
   "metadata": {},
   "outputs": [
    {
     "data": {
      "text/plain": [
       "0     2022-10-30 21:31:19+00:00\n",
       "1     2022-10-30 17:00:21+00:00\n",
       "2     2022-10-31 06:10:01+00:00\n",
       "3     2022-10-30 17:59:03+00:00\n",
       "4     2022-10-30 21:30:06+00:00\n",
       "                 ...           \n",
       "174   2022-10-27 17:18:52+00:00\n",
       "175   2022-10-28 12:00:28+00:00\n",
       "176   2022-10-28 13:42:32+00:00\n",
       "177   2022-10-29 15:00:14+00:00\n",
       "178   2022-10-29 16:59:25+00:00\n",
       "Name: publishedAt, Length: 1662, dtype: datetime64[ns, UTC]"
      ]
     },
     "execution_count": 14,
     "metadata": {},
     "output_type": "execute_result"
    }
   ],
   "source": [
    "#convert publishedAT to datetime column\n",
    "df.publishedAt = pd.to_datetime(df.publishedAt, utc=True)\n",
    "df.publishedAt"
   ]
  },
  {
   "cell_type": "code",
   "execution_count": 15,
   "metadata": {},
   "outputs": [],
   "source": [
    "#set date to next day in order to capture videos released at different times in different time zones\n",
    "df.trending_date = '22.28.10'"
   ]
  },
  {
   "cell_type": "code",
   "execution_count": 16,
   "metadata": {},
   "outputs": [
    {
     "data": {
      "text/plain": [
       "0     2022-10-28 00:00:00+00:00\n",
       "1     2022-10-28 00:00:00+00:00\n",
       "2     2022-10-28 00:00:00+00:00\n",
       "3     2022-10-28 00:00:00+00:00\n",
       "4     2022-10-28 00:00:00+00:00\n",
       "                 ...           \n",
       "174   2022-10-28 00:00:00+00:00\n",
       "175   2022-10-28 00:00:00+00:00\n",
       "176   2022-10-28 00:00:00+00:00\n",
       "177   2022-10-28 00:00:00+00:00\n",
       "178   2022-10-28 00:00:00+00:00\n",
       "Name: trending_date, Length: 1662, dtype: datetime64[ns, UTC]"
      ]
     },
     "execution_count": 16,
     "metadata": {},
     "output_type": "execute_result"
    }
   ],
   "source": [
    "#convert trending to datetime column\n",
    "df.trending_date = pd.to_datetime(df.trending_date, format='%y.%d.%m', utc=True)\n",
    "df.trending_date"
   ]
  },
  {
   "cell_type": "code",
   "execution_count": 17,
   "metadata": {},
   "outputs": [],
   "source": [
    "#import tzinfo inorder to strip time zone information from published at. \n",
    "#this makes it a \"naive\" datetime object. may want to change this approach\n",
    "# from datetime import tzinfo\n",
    "\n",
    "# df.loc[1,'publishedAt'].replace(tzinfo=None)\n",
    "#strips the timezone from each row\n",
    "# for n in range(0,200):\n",
    "#     df.loc[n,'publishedAt']= df.loc[n,'publishedAt'].replace(tzinfo=None)\n",
    "# df.loc[10, ['publishedAt']]"
   ]
  },
  {
   "cell_type": "code",
   "execution_count": 18,
   "metadata": {},
   "outputs": [],
   "source": [
    "#create age column. may want to give timezone info to trending date instead of removing it from pblishedAt\n",
    "df['age']=(df.trending_date - df.publishedAt)"
   ]
  },
  {
   "cell_type": "code",
   "execution_count": 19,
   "metadata": {},
   "outputs": [
    {
     "data": {
      "text/plain": [
       "13   -4 days +11:59:20\n",
       "52   -4 days +12:59:28\n",
       "31   -4 days +12:59:35\n",
       "17   -4 days +12:59:44\n",
       "13   -4 days +12:59:51\n",
       "49   -4 days +12:59:58\n",
       "10   -4 days +13:14:05\n",
       "3    -4 days +13:39:53\n",
       "22   -4 days +13:59:24\n",
       "7    -4 days +14:17:13\n",
       "Name: age, dtype: timedelta64[ns]"
      ]
     },
     "execution_count": 19,
     "metadata": {},
     "output_type": "execute_result"
    }
   ],
   "source": [
    "df.age.sort_values().head(10)"
   ]
  },
  {
   "cell_type": "markdown",
   "metadata": {},
   "source": [
    "## View:Like ratio that can score the video | view:comment ratio\n",
    "\n",
    "Have them all as a weighted ratio\n",
    "\n",
    "df['engagement'] = (df.likes + df.comment_count * 4 )/df.view_count"
   ]
  },
  {
   "cell_type": "code",
   "execution_count": 20,
   "metadata": {},
   "outputs": [],
   "source": [
    "#creates engagement metric. not sure how to do weightd columns really\n",
    "#df['engagement'] = (df.view_count - df.likes) + (df.likes * 2) + (df.comment_count * 4) \n",
    "df['engagement'] = (df.likes + df.comment_count * 4 )/df.view_count"
   ]
  },
  {
   "cell_type": "code",
   "execution_count": 21,
   "metadata": {},
   "outputs": [
    {
     "data": {
      "text/plain": [
       "0      0.019944\n",
       "1      0.057002\n",
       "2      0.162655\n",
       "3       0.00137\n",
       "4      0.072291\n",
       "         ...   \n",
       "174    0.119709\n",
       "175    0.049777\n",
       "176    0.007918\n",
       "177    0.029547\n",
       "178    0.068201\n",
       "Name: engagement, Length: 1662, dtype: object"
      ]
     },
     "execution_count": 21,
     "metadata": {},
     "output_type": "execute_result"
    }
   ],
   "source": [
    "df.engagement"
   ]
  },
  {
   "cell_type": "code",
   "execution_count": 22,
   "metadata": {},
   "outputs": [],
   "source": [
    "#countes number of tags given to video BEFORE stripping out extraneous things\n",
    "df['num_of_tags'] = df.tags.str.split('|').str.len()"
   ]
  },
  {
   "cell_type": "code",
   "execution_count": 23,
   "metadata": {},
   "outputs": [
    {
     "name": "stderr",
     "output_type": "stream",
     "text": [
      "/var/folders/yy/vlb31b750w74n1jkdd8391tw0000gn/T/ipykernel_86511/1604276903.py:2: FutureWarning: The default value of regex will change from True to False in a future version. In addition, single character regular expressions will *not* be treated as literal strings when regex=True.\n",
      "  df.tags = df.tags.str.replace('|',\" \")\n"
     ]
    }
   ],
   "source": [
    "#gets rid of separator\n",
    "df.tags = df.tags.str.replace('|',\" \")"
   ]
  },
  {
   "cell_type": "code",
   "execution_count": 24,
   "metadata": {},
   "outputs": [],
   "source": [
    "#Imports spacy\n",
    "import spacy"
   ]
  },
  {
   "cell_type": "code",
   "execution_count": 25,
   "metadata": {},
   "outputs": [],
   "source": [
    "#creates the nlp object that is going to do the heavy lifting\n",
    "nlp = spacy.load(\"en_core_web_sm\")"
   ]
  },
  {
   "cell_type": "code",
   "execution_count": 26,
   "metadata": {},
   "outputs": [],
   "source": [
    "#uses the nlp object to convert the input text into a doc\n",
    "#doc = nlp(df.loc[0].tags)"
   ]
  },
  {
   "cell_type": "code",
   "execution_count": 27,
   "metadata": {},
   "outputs": [],
   "source": [
    "#goes through tokens (words) in each doc\n",
    "#for token in doc:\n",
    "    # Get the token text, part-of-speech tag and dependency label\n",
    "#    token_text = token.text\n",
    "#    token_pos = token.pos_\n",
    "#    token_dep = token.dep_\n",
    "    # This is for formatting only\n",
    "#    print(f\"{token_text:<12}{token_pos:<10}{token_dep:<10}\")\n",
    "\n",
    "# Iterate over the predicted entities\n",
    "#for ent in doc.ents:\n",
    "    # Print the entity text and its label\n",
    "#    print(ent.text, ent.label_)"
   ]
  },
  {
   "cell_type": "code",
   "execution_count": 28,
   "metadata": {},
   "outputs": [],
   "source": [
    "#creates set of unique words in doc \n",
    "#tokens = set()\n",
    "#for token in doc:\n",
    "#    tokens.add(token.text)\n",
    "#print(tokens)"
   ]
  },
  {
   "cell_type": "markdown",
   "metadata": {},
   "source": [
    "## Think about combining the countries top 25 lists and control for duplicates. \n",
    "* This way we can classify what videos have been a top 25 video \n"
   ]
  },
  {
   "cell_type": "markdown",
   "metadata": {},
   "source": [
    "## We can target placing videos in/out of the top 25 \n"
   ]
  },
  {
   "cell_type": "code",
   "execution_count": 29,
   "metadata": {},
   "outputs": [],
   "source": [
    "#create rank and top 25 categories"
   ]
  },
  {
   "cell_type": "code",
   "execution_count": 30,
   "metadata": {},
   "outputs": [],
   "source": [
    "df['rank'] = df.index + 1"
   ]
  },
  {
   "cell_type": "code",
   "execution_count": 31,
   "metadata": {},
   "outputs": [],
   "source": [
    "df['top_25'] = np.where(df['rank'] < 26, 1, 0)"
   ]
  },
  {
   "cell_type": "code",
   "execution_count": 32,
   "metadata": {},
   "outputs": [
    {
     "data": {
      "text/plain": [
       "0      1\n",
       "1      1\n",
       "2      1\n",
       "3      1\n",
       "4      1\n",
       "      ..\n",
       "174    0\n",
       "175    0\n",
       "176    0\n",
       "177    0\n",
       "178    0\n",
       "Name: top_25, Length: 1662, dtype: int64"
      ]
     },
     "execution_count": 32,
     "metadata": {},
     "output_type": "execute_result"
    }
   ],
   "source": [
    "df.top_25"
   ]
  },
  {
   "cell_type": "markdown",
   "metadata": {},
   "source": [
    "## Convert Duration"
   ]
  },
  {
   "cell_type": "code",
   "execution_count": 33,
   "metadata": {},
   "outputs": [
    {
     "data": {
      "text/plain": [
       "0         PT4M5S\n",
       "1       PT19M41S\n",
       "2       PT18M54S\n",
       "3        PT3M24S\n",
       "4       PT21M36S\n",
       "5       PT34M31S\n",
       "6        PT3M52S\n",
       "7       PT19M58S\n",
       "8        PT3M19S\n",
       "9         PT4M7S\n",
       "10      PT23M21S\n",
       "11      PT16M42S\n",
       "12      PT37M29S\n",
       "13      PT21M30S\n",
       "14      PT38M21S\n",
       "15       PT2M56S\n",
       "16       PT38M9S\n",
       "17      PT26M28S\n",
       "18    PT11H5M38S\n",
       "19      PT19M19S\n",
       "Name: duration, dtype: object"
      ]
     },
     "execution_count": 33,
     "metadata": {},
     "output_type": "execute_result"
    }
   ],
   "source": [
    "df.duration.head(20)"
   ]
  },
  {
   "cell_type": "code",
   "execution_count": 34,
   "metadata": {},
   "outputs": [],
   "source": [
    "testy = 'PT3M45S'"
   ]
  },
  {
   "cell_type": "code",
   "execution_count": 35,
   "metadata": {},
   "outputs": [
    {
     "data": {
      "text/plain": [
       "True"
      ]
     },
     "execution_count": 35,
     "metadata": {},
     "output_type": "execute_result"
    }
   ],
   "source": [
    "testy.__contains__('M')"
   ]
  },
  {
   "cell_type": "code",
   "execution_count": 36,
   "metadata": {},
   "outputs": [],
   "source": [
    "def clean_duration(duration):\n",
    "    print(duration)\n",
    "    if ('S' not in duration) & ('M' not in duration):\n",
    "        duration += '00M00S'\n",
    "    elif 'M' not in duration:\n",
    "        duration = list(duration)\n",
    "        duration.insert(-3, '00M')\n",
    "        duration = ''.join(duration)\n",
    "    elif 'S' not in duration:\n",
    "        duration += '00S'\n",
    "    \n",
    "    if 'H' in duration:\n",
    "        duration = int(testy.split('H')[0].split('T')[1]) * 3600 + int(duration.split('H')[1].split('M')[0]) * 60 + int(duration.split('M')[1][:-1])\n",
    "    elif duration.__contains__('M'):\n",
    "        duration = int(duration.split('M')[0].split('T')[1]) * 60 + int(duration.split('M')[1][:-1])\n",
    "    else:\n",
    "        duration = int(duration[-3:-1])\n",
    "\n",
    "    return duration"
   ]
  },
  {
   "cell_type": "code",
   "execution_count": 37,
   "metadata": {},
   "outputs": [],
   "source": [
    "#df['duration'] = df['duration'].apply(lambda x:clean_duration(x))"
   ]
  },
  {
   "cell_type": "code",
   "execution_count": 38,
   "metadata": {},
   "outputs": [],
   "source": [
    "#making categorid into actual category titles\n",
    "#all categoryId optain from youtube website\n",
    "df.categoryId = df.categoryId.map({1: 'Film_Animation', 2: 'Autos_Vehicles',10:'Music',15: 'Pets_Animals'\n",
    "                                   ,17:'Sports',18:'Short_Movies',19:'Travel_Events',20:'Gaming',21:'Videoblogging',\n",
    "                                   22:'People_Blogs',23:'Comedy',24:'Entertainment',25:'News_Politics',\n",
    "                                   26:'Howto_Style',27: 'Education',28: 'Science_Technology', \n",
    "                                   29:'Nonprofits_Activism',30:'Movies',31:'Anime/Animation',32:'Action/Adventure',\n",
    "                                   33:'Classics',34:'Comedy',35:'Documentary',36:'Drama',37:'Family',38:'Foreign',\n",
    "                                   39:'Horror',40: 'Sci-Fi/Fantasy', 41: 'Thriller', 42:'Shorts',43:'Shows',44:'Trailers'})"
   ]
  },
  {
   "cell_type": "code",
   "execution_count": 39,
   "metadata": {},
   "outputs": [
    {
     "data": {
      "text/plain": [
       "0          PT4M5S\n",
       "1        PT19M41S\n",
       "2        PT18M54S\n",
       "3         PT3M24S\n",
       "4        PT21M36S\n",
       "          ...    \n",
       "174       PT16M6S\n",
       "175      PT29M58S\n",
       "176      PT12M18S\n",
       "177         PT59S\n",
       "178    PT2H37M51S\n",
       "Name: duration, Length: 1662, dtype: object"
      ]
     },
     "execution_count": 39,
     "metadata": {},
     "output_type": "execute_result"
    }
   ],
   "source": [
    "df['duration']"
   ]
  },
  {
   "cell_type": "code",
   "execution_count": 40,
   "metadata": {},
   "outputs": [
    {
     "data": {
      "text/html": [
       "<div>\n",
       "<style scoped>\n",
       "    .dataframe tbody tr th:only-of-type {\n",
       "        vertical-align: middle;\n",
       "    }\n",
       "\n",
       "    .dataframe tbody tr th {\n",
       "        vertical-align: top;\n",
       "    }\n",
       "\n",
       "    .dataframe thead th {\n",
       "        text-align: right;\n",
       "    }\n",
       "</style>\n",
       "<table border=\"1\" class=\"dataframe\">\n",
       "  <thead>\n",
       "    <tr style=\"text-align: right;\">\n",
       "      <th></th>\n",
       "      <th>video_id</th>\n",
       "      <th>title</th>\n",
       "      <th>publishedAt</th>\n",
       "      <th>channelTitle</th>\n",
       "      <th>categoryId</th>\n",
       "      <th>trending_date</th>\n",
       "      <th>tags</th>\n",
       "      <th>view_count</th>\n",
       "      <th>likes</th>\n",
       "      <th>comment_count</th>\n",
       "      <th>...</th>\n",
       "      <th>comments_disabled</th>\n",
       "      <th>ratings_disabled</th>\n",
       "      <th>description</th>\n",
       "      <th>duration</th>\n",
       "      <th>captions</th>\n",
       "      <th>rank</th>\n",
       "      <th>age</th>\n",
       "      <th>engagement</th>\n",
       "      <th>num_of_tags</th>\n",
       "      <th>top_25</th>\n",
       "    </tr>\n",
       "  </thead>\n",
       "  <tbody>\n",
       "    <tr>\n",
       "      <th>0</th>\n",
       "      <td>Qa3anjyAMgc</td>\n",
       "      <td>Jake Paul vs Anderson Silva HIGHLIGHTS</td>\n",
       "      <td>2022-10-30 21:31:19+00:00</td>\n",
       "      <td>MMAWeekly.com</td>\n",
       "      <td>Sports</td>\n",
       "      <td>2022-10-28 00:00:00+00:00</td>\n",
       "      <td>MMA mixed martial arts MMAWeekly.com MMAWeekly...</td>\n",
       "      <td>360616</td>\n",
       "      <td>2984</td>\n",
       "      <td>1052</td>\n",
       "      <td>...</td>\n",
       "      <td>False</td>\n",
       "      <td>False</td>\n",
       "      <td>See the highlights from Jake Paul vs Anderson ...</td>\n",
       "      <td>PT4M5S</td>\n",
       "      <td>False</td>\n",
       "      <td>1</td>\n",
       "      <td>-3 days +02:28:41</td>\n",
       "      <td>0.019944</td>\n",
       "      <td>17</td>\n",
       "      <td>1</td>\n",
       "    </tr>\n",
       "    <tr>\n",
       "      <th>1</th>\n",
       "      <td>d2Dw-PuNZSE</td>\n",
       "      <td>Dark Secrets of the World’s Most Isolated Island</td>\n",
       "      <td>2022-10-30 17:00:21+00:00</td>\n",
       "      <td>Yes Theory</td>\n",
       "      <td>Entertainment</td>\n",
       "      <td>2022-10-28 00:00:00+00:00</td>\n",
       "      <td>yestheory seek discomfort yes theory strangers...</td>\n",
       "      <td>1179634</td>\n",
       "      <td>53966</td>\n",
       "      <td>3319</td>\n",
       "      <td>...</td>\n",
       "      <td>False</td>\n",
       "      <td>False</td>\n",
       "      <td>Start your free trial with Shopify at this lin...</td>\n",
       "      <td>PT19M41S</td>\n",
       "      <td>False</td>\n",
       "      <td>2</td>\n",
       "      <td>-3 days +06:59:39</td>\n",
       "      <td>0.057002</td>\n",
       "      <td>7</td>\n",
       "      <td>1</td>\n",
       "    </tr>\n",
       "    <tr>\n",
       "      <th>2</th>\n",
       "      <td>nUDTWLfrUsg</td>\n",
       "      <td>LFR16 - Game 10 - OVER - TOR 3, ANA 4 (OT)</td>\n",
       "      <td>2022-10-31 06:10:01+00:00</td>\n",
       "      <td>SteveDangle</td>\n",
       "      <td>Sports</td>\n",
       "      <td>2022-10-28 00:00:00+00:00</td>\n",
       "      <td>Hockey NHL Steve Dangle Toronto Maple Leafs Ma...</td>\n",
       "      <td>93314</td>\n",
       "      <td>7342</td>\n",
       "      <td>1959</td>\n",
       "      <td>...</td>\n",
       "      <td>False</td>\n",
       "      <td>False</td>\n",
       "      <td>Steve Dangle recaps and analyzes Game 10 of th...</td>\n",
       "      <td>PT18M54S</td>\n",
       "      <td>True</td>\n",
       "      <td>3</td>\n",
       "      <td>-4 days +17:49:59</td>\n",
       "      <td>0.162655</td>\n",
       "      <td>26</td>\n",
       "      <td>1</td>\n",
       "    </tr>\n",
       "    <tr>\n",
       "      <th>3</th>\n",
       "      <td>L2DGv2bmsqo</td>\n",
       "      <td>Dawn of the Phyrexian Invasion - Official Cine...</td>\n",
       "      <td>2022-10-30 17:59:03+00:00</td>\n",
       "      <td>Magic: The Gathering</td>\n",
       "      <td>Gaming</td>\n",
       "      <td>2022-10-28 00:00:00+00:00</td>\n",
       "      <td>magic mtg wizards wotc planeswalkers tcg tradi...</td>\n",
       "      <td>9662904</td>\n",
       "      <td>9150</td>\n",
       "      <td>1022</td>\n",
       "      <td>...</td>\n",
       "      <td>False</td>\n",
       "      <td>False</td>\n",
       "      <td>Phyrexians have taken root in Dominaria as a s...</td>\n",
       "      <td>PT3M24S</td>\n",
       "      <td>True</td>\n",
       "      <td>4</td>\n",
       "      <td>-3 days +06:00:57</td>\n",
       "      <td>0.00137</td>\n",
       "      <td>13</td>\n",
       "      <td>1</td>\n",
       "    </tr>\n",
       "    <tr>\n",
       "      <th>4</th>\n",
       "      <td>MIHPNoRJ1p0</td>\n",
       "      <td>Scoring 1 AMAZING Goal From 1-40 Yards</td>\n",
       "      <td>2022-10-30 21:30:06+00:00</td>\n",
       "      <td>ChrisMD</td>\n",
       "      <td>Entertainment</td>\n",
       "      <td>2022-10-28 00:00:00+00:00</td>\n",
       "      <td>[none]</td>\n",
       "      <td>1268775</td>\n",
       "      <td>86805</td>\n",
       "      <td>1229</td>\n",
       "      <td>...</td>\n",
       "      <td>False</td>\n",
       "      <td>False</td>\n",
       "      <td>Wowie!Save money whilst shopping online by dow...</td>\n",
       "      <td>PT21M36S</td>\n",
       "      <td>False</td>\n",
       "      <td>5</td>\n",
       "      <td>-3 days +02:29:54</td>\n",
       "      <td>0.072291</td>\n",
       "      <td>1</td>\n",
       "      <td>1</td>\n",
       "    </tr>\n",
       "  </tbody>\n",
       "</table>\n",
       "<p>5 rows × 21 columns</p>\n",
       "</div>"
      ],
      "text/plain": [
       "      video_id                                              title  \\\n",
       "0  Qa3anjyAMgc             Jake Paul vs Anderson Silva HIGHLIGHTS   \n",
       "1  d2Dw-PuNZSE   Dark Secrets of the World’s Most Isolated Island   \n",
       "2  nUDTWLfrUsg         LFR16 - Game 10 - OVER - TOR 3, ANA 4 (OT)   \n",
       "3  L2DGv2bmsqo  Dawn of the Phyrexian Invasion - Official Cine...   \n",
       "4  MIHPNoRJ1p0             Scoring 1 AMAZING Goal From 1-40 Yards   \n",
       "\n",
       "                publishedAt          channelTitle     categoryId  \\\n",
       "0 2022-10-30 21:31:19+00:00         MMAWeekly.com         Sports   \n",
       "1 2022-10-30 17:00:21+00:00            Yes Theory  Entertainment   \n",
       "2 2022-10-31 06:10:01+00:00           SteveDangle         Sports   \n",
       "3 2022-10-30 17:59:03+00:00  Magic: The Gathering         Gaming   \n",
       "4 2022-10-30 21:30:06+00:00               ChrisMD  Entertainment   \n",
       "\n",
       "              trending_date  \\\n",
       "0 2022-10-28 00:00:00+00:00   \n",
       "1 2022-10-28 00:00:00+00:00   \n",
       "2 2022-10-28 00:00:00+00:00   \n",
       "3 2022-10-28 00:00:00+00:00   \n",
       "4 2022-10-28 00:00:00+00:00   \n",
       "\n",
       "                                                tags view_count  likes  \\\n",
       "0  MMA mixed martial arts MMAWeekly.com MMAWeekly...     360616   2984   \n",
       "1  yestheory seek discomfort yes theory strangers...    1179634  53966   \n",
       "2  Hockey NHL Steve Dangle Toronto Maple Leafs Ma...      93314   7342   \n",
       "3  magic mtg wizards wotc planeswalkers tcg tradi...    9662904   9150   \n",
       "4                                             [none]    1268775  86805   \n",
       "\n",
       "  comment_count  ... comments_disabled ratings_disabled  \\\n",
       "0          1052  ...             False            False   \n",
       "1          3319  ...             False            False   \n",
       "2          1959  ...             False            False   \n",
       "3          1022  ...             False            False   \n",
       "4          1229  ...             False            False   \n",
       "\n",
       "                                         description  duration captions rank  \\\n",
       "0  See the highlights from Jake Paul vs Anderson ...    PT4M5S    False    1   \n",
       "1  Start your free trial with Shopify at this lin...  PT19M41S    False    2   \n",
       "2  Steve Dangle recaps and analyzes Game 10 of th...  PT18M54S     True    3   \n",
       "3  Phyrexians have taken root in Dominaria as a s...   PT3M24S     True    4   \n",
       "4  Wowie!Save money whilst shopping online by dow...  PT21M36S    False    5   \n",
       "\n",
       "                age engagement num_of_tags  top_25  \n",
       "0 -3 days +02:28:41   0.019944          17       1  \n",
       "1 -3 days +06:59:39   0.057002           7       1  \n",
       "2 -4 days +17:49:59   0.162655          26       1  \n",
       "3 -3 days +06:00:57    0.00137          13       1  \n",
       "4 -3 days +02:29:54   0.072291           1       1  \n",
       "\n",
       "[5 rows x 21 columns]"
      ]
     },
     "execution_count": 40,
     "metadata": {},
     "output_type": "execute_result"
    }
   ],
   "source": [
    "df.head()"
   ]
  },
  {
   "cell_type": "code",
   "execution_count": 41,
   "metadata": {},
   "outputs": [
    {
     "name": "stdout",
     "output_type": "stream",
     "text": [
      "<class 'pandas.core.frame.DataFrame'>\n",
      "Int64Index: 1662 entries, 0 to 178\n",
      "Data columns (total 21 columns):\n",
      " #   Column             Non-Null Count  Dtype              \n",
      "---  ------             --------------  -----              \n",
      " 0   video_id           1662 non-null   object             \n",
      " 1   title              1662 non-null   object             \n",
      " 2   publishedAt        1662 non-null   datetime64[ns, UTC]\n",
      " 3   channelTitle       1662 non-null   object             \n",
      " 4   categoryId         1662 non-null   object             \n",
      " 5   trending_date      1662 non-null   datetime64[ns, UTC]\n",
      " 6   tags               1662 non-null   object             \n",
      " 7   view_count         1662 non-null   object             \n",
      " 8   likes              1662 non-null   object             \n",
      " 9   comment_count      1662 non-null   object             \n",
      " 10  thumbnail_link     1662 non-null   object             \n",
      " 11  comments_disabled  1662 non-null   object             \n",
      " 12  ratings_disabled   1662 non-null   object             \n",
      " 13  description        1634 non-null   object             \n",
      " 14  duration           1662 non-null   object             \n",
      " 15  captions           1662 non-null   object             \n",
      " 16  rank               1662 non-null   int64              \n",
      " 17  age                1662 non-null   timedelta64[ns]    \n",
      " 18  engagement         1662 non-null   object             \n",
      " 19  num_of_tags        1662 non-null   int64              \n",
      " 20  top_25             1662 non-null   int64              \n",
      "dtypes: datetime64[ns, UTC](2), int64(3), object(15), timedelta64[ns](1)\n",
      "memory usage: 285.7+ KB\n"
     ]
    }
   ],
   "source": [
    "df.info()"
   ]
  },
  {
   "cell_type": "code",
   "execution_count": 42,
   "metadata": {},
   "outputs": [
    {
     "data": {
      "text/plain": [
       "video_id              0\n",
       "title                 0\n",
       "publishedAt           0\n",
       "channelTitle          0\n",
       "categoryId            0\n",
       "trending_date         0\n",
       "tags                  0\n",
       "view_count            0\n",
       "likes                 0\n",
       "comment_count         0\n",
       "thumbnail_link        0\n",
       "comments_disabled     0\n",
       "ratings_disabled      0\n",
       "description          28\n",
       "duration              0\n",
       "captions              0\n",
       "rank                  0\n",
       "age                   0\n",
       "engagement            0\n",
       "num_of_tags           0\n",
       "top_25                0\n",
       "dtype: int64"
      ]
     },
     "execution_count": 42,
     "metadata": {},
     "output_type": "execute_result"
    }
   ],
   "source": [
    "df.isna().sum()"
   ]
  },
  {
   "cell_type": "code",
   "execution_count": 43,
   "metadata": {},
   "outputs": [],
   "source": [
    "#Remove NA Values\n",
    "df.dropna(inplace = True)"
   ]
  },
  {
   "cell_type": "code",
   "execution_count": 44,
   "metadata": {},
   "outputs": [
    {
     "data": {
      "text/plain": [
       "video_id             0\n",
       "title                0\n",
       "publishedAt          0\n",
       "channelTitle         0\n",
       "categoryId           0\n",
       "trending_date        0\n",
       "tags                 0\n",
       "view_count           0\n",
       "likes                0\n",
       "comment_count        0\n",
       "thumbnail_link       0\n",
       "comments_disabled    0\n",
       "ratings_disabled     0\n",
       "description          0\n",
       "duration             0\n",
       "captions             0\n",
       "rank                 0\n",
       "age                  0\n",
       "engagement           0\n",
       "num_of_tags          0\n",
       "top_25               0\n",
       "dtype: int64"
      ]
     },
     "execution_count": 44,
     "metadata": {},
     "output_type": "execute_result"
    }
   ],
   "source": [
    "df.isna().sum()"
   ]
  },
  {
   "cell_type": "markdown",
   "metadata": {},
   "source": [
    "# Exploration"
   ]
  },
  {
   "cell_type": "code",
   "execution_count": 45,
   "metadata": {},
   "outputs": [],
   "source": [
    "def prepare_youtube(df):\n",
    "    df.categoryId = df.categoryId.astype('object')\n",
    "    df.publishedAt = pd.to_datetime(df.publishedAt, utc=True)\n",
    "    df.trending_date = pd.to_datetime(df.trending_date, format='%y.%d.%m', utc=True)\n",
    "    df.trending_date = '22.31.10'\n",
    "    df['age']=(df.trending_date - df.publishedAt)\n",
    "    df['engagement'] = (df.likes + df.comment_count * 4 )/df.view_count\n",
    "    df['sponsored'] = np.where(df.description.str.contains('sponsor'), 1, 0)\n",
    "    df['duration'] = df['duration'].apply(lambda x:clean_duration(x))\n",
    "    #making categorid into actual category titles\n",
    "    #all categoryId optain from youtube website\n",
    "    df.categoryId = df.categoryId.map({1: 'Film_Animation', 2: 'Autos_Vehicles',10:'Music',15: 'Pets_Animals'\n",
    "                                       ,17:'Sports',18:'Short_Movies',19:'Travel_Events',20:'Gaming',21:'Videoblogging',\n",
    "                                       22:'People_Blogs',23:'Comedy',24:'Entertainment',25:'News_Politics',\n",
    "                                       26:'Howto_Style',27: 'Education',28: 'Science_Technology', \n",
    "                                       29:'Nonprofits_Activism',30:'Movies',31:'Anime/Animation',32:'Action/Adventure',\n",
    "                                       33:'Classics',34:'Comedy',35:'Documentary',36:'Drama',37:'Family',38:'Foreign',\n",
    "                                       39:'Horror',40: 'Sci-Fi/Fantasy', 41: 'Thriller', 42:'Shorts',43:'Shows',44:'Trailers'})\n",
    "    return df"
   ]
  },
  {
   "cell_type": "code",
   "execution_count": 46,
   "metadata": {},
   "outputs": [
    {
     "data": {
      "image/png": "[encoded data removed]",
      "text/plain": [
       "<Figure size 432x288 with 1 Axes>"
      ]
     },
     "metadata": {
      "needs_background": "light"
     },
     "output_type": "display_data"
    }
   ],
   "source": [
    "#This sets the box plot by the axes and dataframe :\n",
    "sns.boxplot(x=\"categoryId\", y=\"view_count\", data= df, showfliers=False) .set(title=\"img. 1 Categories by Views\") \n",
    "plt.xlabel(\"YouTube Video Categories\")                 \n",
    "plt.ylabel(\"Amount of Views\")\n",
    "plt.xticks(rotation= 90)\n",
    "plt.show()"
   ]
  },
  {
   "cell_type": "code",
   "execution_count": 47,
   "metadata": {},
   "outputs": [
    {
     "data": {
      "image/png": "[encoded data removed]",
      "text/plain": [
       "<Figure size 432x288 with 1 Axes>"
      ]
     },
     "metadata": {
      "needs_background": "light"
     },
     "output_type": "display_data"
    }
   ],
   "source": [
    "#Create a box plot showing the amount of likes for each category of videos\n",
    "sns.boxplot(x=\"categoryId\", y=\"likes\", data= df, showfliers=False, color=\"blue\") .set(title=\"img 2. Categories by Likes\") \n",
    "plt.xlabel(\"YouTube Video Categories\")              \n",
    "plt.ylabel(\"Amount of Likes\")\n",
    "plt.xticks(rotation= 90)\n",
    "plt.show()"
   ]
  },
  {
   "cell_type": "code",
   "execution_count": 48,
   "metadata": {},
   "outputs": [
    {
     "data": {
      "image/png": "[encoded data removed]",
      "text/plain": [
       "<Figure size 432x288 with 1 Axes>"
      ]
     },
     "metadata": {
      "needs_background": "light"
     },
     "output_type": "display_data"
    }
   ],
   "source": [
    "#Create a box plot showing the amount of dislikes for each category of videos\n",
    "sns.boxplot(x=\"categoryId\", y=\"engagement\", data= df, showfliers=False, color=\"blue\") .set(title=\"img 3. Categories by Engagement\") \n",
    "plt.xlabel(\"YouTube Video Categories\")                \n",
    "plt.ylabel(\"Amount of Engagement\")\n",
    "plt.xticks(rotation= 90)\n",
    "plt.show()"
   ]
  },
  {
   "cell_type": "code",
   "execution_count": 49,
   "metadata": {},
   "outputs": [],
   "source": [
    "#sns.lineplot( data= yt, x=\"category_name\", y=\"trending_date\",hue=\"categoryId\").set(title=\"Youtube Videos Categories\") #THis sets the histogram by the axes and dataframe\n",
    "#sns.lineplot(data= df, x=\"trending_date\", y=\"view_count\",hue=\"categoryId\").set(title=\" img 4. Youtube Videos Categories Trending date\")\n",
    "#plt.xlabel(\"Trending Date\")                 \n",
    "#plt.ylabel(\"Views\")\n",
    "#plt.show()"
   ]
  },
  {
   "cell_type": "code",
   "execution_count": 50,
   "metadata": {},
   "outputs": [],
   "source": [
    "#Create a box plot showing the amount of sponsored for each category of videos\n",
    "#sns.boxplot(x=\"categoryId\", y=\"sponsored\", data= df, showfliers=False, color=\"blue\") .set(title=\"img 5. Categories by Sponsored\") \n",
    "#plt.xlabel(\"YouTube Video Categories\")                \n",
    "#plt.ylabel(\"Amount of Sponsored\")\n",
    "#plt.xticks(rotation= 90)\n",
    "#plt.show()"
   ]
  },
  {
   "cell_type": "code",
   "execution_count": 51,
   "metadata": {},
   "outputs": [
    {
     "data": {
      "image/png": "[encoded data removed]",
      "text/plain": [
       "<Figure size 432x288 with 1 Axes>"
      ]
     },
     "metadata": {
      "needs_background": "light"
     },
     "output_type": "display_data"
    }
   ],
   "source": [
    "#Create a box plot showing the amount of sponsored for each category of videos\n",
    "sns.boxplot(x=\"categoryId\", y=\"rank\", data= df, showfliers=False, color=\"blue\") .set(title=\"img 6. Categories by Rank\") \n",
    "plt.xlabel(\"YouTube Video Categories\")                \n",
    "plt.ylabel(\"Amount of Rank\")\n",
    "plt.xticks(rotation= 90)\n",
    "plt.show()"
   ]
  },
  {
   "cell_type": "code",
   "execution_count": 52,
   "metadata": {},
   "outputs": [],
   "source": [
    "#Create a box plot showing the amount of sponsored for each category of videos\n",
    "#sns.boxplot(x=\"categoryId\", y=\"duration\", data= df, showfliers=False, color=\"blue\") .set(title=\"img 7. Categories by Duration\") \n",
    "#plt.xlabel(\"YouTube Video Categories\")                \n",
    "#plt.ylabel(\"Amount of Duration\")\n",
    "#plt.xticks(rotation= 90)\n",
    "#plt.show()"
   ]
  },
  {
   "cell_type": "code",
   "execution_count": 53,
   "metadata": {},
   "outputs": [],
   "source": [
    "import numpy as np\n",
    "import pandas as pd\n",
    "import matplotlib.pyplot as plt\n",
    "import plotly.express as px\n",
    "import plotly.graph_objects as go\n",
    "#from textblob import TextBlob\n",
    "from plotly.offline import iplot\n",
    "#import emoji\n",
    "import re\n",
    "from wordcloud import WordCloud,STOPWORDS\n",
    "import seaborn as sns"
   ]
  },
  {
   "cell_type": "code",
   "execution_count": 54,
   "metadata": {},
   "outputs": [
    {
     "data": {
      "text/html": [
       "<div>\n",
       "<style scoped>\n",
       "    .dataframe tbody tr th:only-of-type {\n",
       "        vertical-align: middle;\n",
       "    }\n",
       "\n",
       "    .dataframe tbody tr th {\n",
       "        vertical-align: top;\n",
       "    }\n",
       "\n",
       "    .dataframe thead th {\n",
       "        text-align: right;\n",
       "    }\n",
       "</style>\n",
       "<table border=\"1\" class=\"dataframe\">\n",
       "  <thead>\n",
       "    <tr style=\"text-align: right;\">\n",
       "      <th></th>\n",
       "      <th>video_id</th>\n",
       "      <th>title</th>\n",
       "      <th>publishedAt</th>\n",
       "      <th>channelTitle</th>\n",
       "      <th>categoryId</th>\n",
       "      <th>trending_date</th>\n",
       "      <th>tags</th>\n",
       "      <th>view_count</th>\n",
       "      <th>likes</th>\n",
       "      <th>comment_count</th>\n",
       "      <th>...</th>\n",
       "      <th>ratings_disabled</th>\n",
       "      <th>description</th>\n",
       "      <th>duration</th>\n",
       "      <th>captions</th>\n",
       "      <th>rank</th>\n",
       "      <th>age</th>\n",
       "      <th>engagement</th>\n",
       "      <th>num_of_tags</th>\n",
       "      <th>top_25</th>\n",
       "      <th>polarity</th>\n",
       "    </tr>\n",
       "  </thead>\n",
       "  <tbody>\n",
       "    <tr>\n",
       "      <th>0</th>\n",
       "      <td>Qa3anjyAMgc</td>\n",
       "      <td>Jake Paul vs Anderson Silva HIGHLIGHTS</td>\n",
       "      <td>2022-10-30 21:31:19+00:00</td>\n",
       "      <td>MMAWeekly.com</td>\n",
       "      <td>Sports</td>\n",
       "      <td>2022-10-28 00:00:00+00:00</td>\n",
       "      <td>MMA mixed martial arts MMAWeekly.com MMAWeekly...</td>\n",
       "      <td>360616</td>\n",
       "      <td>2984</td>\n",
       "      <td>1052</td>\n",
       "      <td>...</td>\n",
       "      <td>False</td>\n",
       "      <td>See the highlights from Jake Paul vs Anderson ...</td>\n",
       "      <td>PT4M5S</td>\n",
       "      <td>False</td>\n",
       "      <td>1</td>\n",
       "      <td>-3 days +02:28:41</td>\n",
       "      <td>0.019944</td>\n",
       "      <td>17</td>\n",
       "      <td>1</td>\n",
       "      <td>0</td>\n",
       "    </tr>\n",
       "    <tr>\n",
       "      <th>1</th>\n",
       "      <td>d2Dw-PuNZSE</td>\n",
       "      <td>Dark Secrets of the World’s Most Isolated Island</td>\n",
       "      <td>2022-10-30 17:00:21+00:00</td>\n",
       "      <td>Yes Theory</td>\n",
       "      <td>Entertainment</td>\n",
       "      <td>2022-10-28 00:00:00+00:00</td>\n",
       "      <td>yestheory seek discomfort yes theory strangers...</td>\n",
       "      <td>1179634</td>\n",
       "      <td>53966</td>\n",
       "      <td>3319</td>\n",
       "      <td>...</td>\n",
       "      <td>False</td>\n",
       "      <td>Start your free trial with Shopify at this lin...</td>\n",
       "      <td>PT19M41S</td>\n",
       "      <td>False</td>\n",
       "      <td>2</td>\n",
       "      <td>-3 days +06:59:39</td>\n",
       "      <td>0.057002</td>\n",
       "      <td>7</td>\n",
       "      <td>1</td>\n",
       "      <td>0</td>\n",
       "    </tr>\n",
       "    <tr>\n",
       "      <th>2</th>\n",
       "      <td>nUDTWLfrUsg</td>\n",
       "      <td>LFR16 - Game 10 - OVER - TOR 3, ANA 4 (OT)</td>\n",
       "      <td>2022-10-31 06:10:01+00:00</td>\n",
       "      <td>SteveDangle</td>\n",
       "      <td>Sports</td>\n",
       "      <td>2022-10-28 00:00:00+00:00</td>\n",
       "      <td>Hockey NHL Steve Dangle Toronto Maple Leafs Ma...</td>\n",
       "      <td>93314</td>\n",
       "      <td>7342</td>\n",
       "      <td>1959</td>\n",
       "      <td>...</td>\n",
       "      <td>False</td>\n",
       "      <td>Steve Dangle recaps and analyzes Game 10 of th...</td>\n",
       "      <td>PT18M54S</td>\n",
       "      <td>True</td>\n",
       "      <td>3</td>\n",
       "      <td>-4 days +17:49:59</td>\n",
       "      <td>0.162655</td>\n",
       "      <td>26</td>\n",
       "      <td>1</td>\n",
       "      <td>0</td>\n",
       "    </tr>\n",
       "    <tr>\n",
       "      <th>3</th>\n",
       "      <td>L2DGv2bmsqo</td>\n",
       "      <td>Dawn of the Phyrexian Invasion - Official Cine...</td>\n",
       "      <td>2022-10-30 17:59:03+00:00</td>\n",
       "      <td>Magic: The Gathering</td>\n",
       "      <td>Gaming</td>\n",
       "      <td>2022-10-28 00:00:00+00:00</td>\n",
       "      <td>magic mtg wizards wotc planeswalkers tcg tradi...</td>\n",
       "      <td>9662904</td>\n",
       "      <td>9150</td>\n",
       "      <td>1022</td>\n",
       "      <td>...</td>\n",
       "      <td>False</td>\n",
       "      <td>Phyrexians have taken root in Dominaria as a s...</td>\n",
       "      <td>PT3M24S</td>\n",
       "      <td>True</td>\n",
       "      <td>4</td>\n",
       "      <td>-3 days +06:00:57</td>\n",
       "      <td>0.00137</td>\n",
       "      <td>13</td>\n",
       "      <td>1</td>\n",
       "      <td>0</td>\n",
       "    </tr>\n",
       "    <tr>\n",
       "      <th>4</th>\n",
       "      <td>MIHPNoRJ1p0</td>\n",
       "      <td>Scoring 1 AMAZING Goal From 1-40 Yards</td>\n",
       "      <td>2022-10-30 21:30:06+00:00</td>\n",
       "      <td>ChrisMD</td>\n",
       "      <td>Entertainment</td>\n",
       "      <td>2022-10-28 00:00:00+00:00</td>\n",
       "      <td>[none]</td>\n",
       "      <td>1268775</td>\n",
       "      <td>86805</td>\n",
       "      <td>1229</td>\n",
       "      <td>...</td>\n",
       "      <td>False</td>\n",
       "      <td>Wowie!Save money whilst shopping online by dow...</td>\n",
       "      <td>PT21M36S</td>\n",
       "      <td>False</td>\n",
       "      <td>5</td>\n",
       "      <td>-3 days +02:29:54</td>\n",
       "      <td>0.072291</td>\n",
       "      <td>1</td>\n",
       "      <td>1</td>\n",
       "      <td>0</td>\n",
       "    </tr>\n",
       "    <tr>\n",
       "      <th>5</th>\n",
       "      <td>HlkORTHy8DU</td>\n",
       "      <td>Big Changes Coming (channel update)</td>\n",
       "      <td>2022-10-30 15:00:08+00:00</td>\n",
       "      <td>Eamon &amp; Bec</td>\n",
       "      <td>Travel_Events</td>\n",
       "      <td>2022-10-28 00:00:00+00:00</td>\n",
       "      <td>van life living in a van vanlife eamon and bec...</td>\n",
       "      <td>407182</td>\n",
       "      <td>25492</td>\n",
       "      <td>7843</td>\n",
       "      <td>...</td>\n",
       "      <td>False</td>\n",
       "      <td>Shop our limited edition Breast Cancer Awarene...</td>\n",
       "      <td>PT34M31S</td>\n",
       "      <td>False</td>\n",
       "      <td>6</td>\n",
       "      <td>-3 days +08:59:52</td>\n",
       "      <td>0.139653</td>\n",
       "      <td>15</td>\n",
       "      <td>1</td>\n",
       "      <td>0</td>\n",
       "    </tr>\n",
       "    <tr>\n",
       "      <th>6</th>\n",
       "      <td>sOY9p5gFa5Q</td>\n",
       "      <td>Ross Chastain's video game move to advance to ...</td>\n",
       "      <td>2022-10-30 21:52:01+00:00</td>\n",
       "      <td>NASCAR</td>\n",
       "      <td>Sports</td>\n",
       "      <td>2022-10-28 00:00:00+00:00</td>\n",
       "      <td>[none]</td>\n",
       "      <td>420846</td>\n",
       "      <td>6745</td>\n",
       "      <td>1246</td>\n",
       "      <td>...</td>\n",
       "      <td>False</td>\n",
       "      <td>Watch Ross Chastain's video-game-style move to...</td>\n",
       "      <td>PT3M52S</td>\n",
       "      <td>False</td>\n",
       "      <td>7</td>\n",
       "      <td>-3 days +02:07:59</td>\n",
       "      <td>0.02787</td>\n",
       "      <td>1</td>\n",
       "      <td>1</td>\n",
       "      <td>0</td>\n",
       "    </tr>\n",
       "    <tr>\n",
       "      <th>7</th>\n",
       "      <td>7j1lMs7fcIQ</td>\n",
       "      <td>Everything About Irrigation Pivots (Farmers ar...</td>\n",
       "      <td>2022-10-30 21:39:23+00:00</td>\n",
       "      <td>SmarterEveryDay</td>\n",
       "      <td>Science_Technology</td>\n",
       "      <td>2022-10-28 00:00:00+00:00</td>\n",
       "      <td>Smarter Every Day Science Physics Destin Sandl...</td>\n",
       "      <td>509217</td>\n",
       "      <td>36606</td>\n",
       "      <td>2221</td>\n",
       "      <td>...</td>\n",
       "      <td>False</td>\n",
       "      <td>I want to send you stickers via Patreon: https...</td>\n",
       "      <td>PT19M58S</td>\n",
       "      <td>False</td>\n",
       "      <td>8</td>\n",
       "      <td>-3 days +02:20:37</td>\n",
       "      <td>0.089333</td>\n",
       "      <td>41</td>\n",
       "      <td>1</td>\n",
       "      <td>0</td>\n",
       "    </tr>\n",
       "    <tr>\n",
       "      <th>8</th>\n",
       "      <td>fCMa_F8E7-g</td>\n",
       "      <td>Jake Paul After Beating Anderson Silva: I Want...</td>\n",
       "      <td>2022-10-30 05:35:43+00:00</td>\n",
       "      <td>SHOWTIME Sports</td>\n",
       "      <td>Sports</td>\n",
       "      <td>2022-10-28 00:00:00+00:00</td>\n",
       "      <td>showtime shosports sports Floyd Mayweather Log...</td>\n",
       "      <td>692325</td>\n",
       "      <td>11658</td>\n",
       "      <td>4828</td>\n",
       "      <td>...</td>\n",
       "      <td>False</td>\n",
       "      <td>After beating Anderson Silva on SHOWTIME PPV, ...</td>\n",
       "      <td>PT3M19S</td>\n",
       "      <td>False</td>\n",
       "      <td>9</td>\n",
       "      <td>-3 days +18:24:17</td>\n",
       "      <td>0.044733</td>\n",
       "      <td>30</td>\n",
       "      <td>1</td>\n",
       "      <td>0</td>\n",
       "    </tr>\n",
       "    <tr>\n",
       "      <th>9</th>\n",
       "      <td>nLygs0-RpWk</td>\n",
       "      <td>Young Magician AMAZES the Judges and Crowd | A...</td>\n",
       "      <td>2022-10-30 09:27:26+00:00</td>\n",
       "      <td>Australia's Got Talent</td>\n",
       "      <td>Entertainment</td>\n",
       "      <td>2022-10-28 00:00:00+00:00</td>\n",
       "      <td>australias got talent agt australia's got tale...</td>\n",
       "      <td>166537</td>\n",
       "      <td>0</td>\n",
       "      <td>76</td>\n",
       "      <td>...</td>\n",
       "      <td>True</td>\n",
       "      <td>Magic Macy auditions for #AGT 2022! Find #AGTo...</td>\n",
       "      <td>PT4M7S</td>\n",
       "      <td>False</td>\n",
       "      <td>10</td>\n",
       "      <td>-3 days +14:32:34</td>\n",
       "      <td>0.001825</td>\n",
       "      <td>12</td>\n",
       "      <td>1</td>\n",
       "      <td>0</td>\n",
       "    </tr>\n",
       "  </tbody>\n",
       "</table>\n",
       "<p>10 rows × 22 columns</p>\n",
       "</div>"
      ],
      "text/plain": [
       "      video_id                                              title  \\\n",
       "0  Qa3anjyAMgc             Jake Paul vs Anderson Silva HIGHLIGHTS   \n",
       "1  d2Dw-PuNZSE   Dark Secrets of the World’s Most Isolated Island   \n",
       "2  nUDTWLfrUsg         LFR16 - Game 10 - OVER - TOR 3, ANA 4 (OT)   \n",
       "3  L2DGv2bmsqo  Dawn of the Phyrexian Invasion - Official Cine...   \n",
       "4  MIHPNoRJ1p0             Scoring 1 AMAZING Goal From 1-40 Yards   \n",
       "5  HlkORTHy8DU                Big Changes Coming (channel update)   \n",
       "6  sOY9p5gFa5Q  Ross Chastain's video game move to advance to ...   \n",
       "7  7j1lMs7fcIQ  Everything About Irrigation Pivots (Farmers ar...   \n",
       "8  fCMa_F8E7-g  Jake Paul After Beating Anderson Silva: I Want...   \n",
       "9  nLygs0-RpWk  Young Magician AMAZES the Judges and Crowd | A...   \n",
       "\n",
       "                publishedAt            channelTitle          categoryId  \\\n",
       "0 2022-10-30 21:31:19+00:00           MMAWeekly.com              Sports   \n",
       "1 2022-10-30 17:00:21+00:00              Yes Theory       Entertainment   \n",
       "2 2022-10-31 06:10:01+00:00             SteveDangle              Sports   \n",
       "3 2022-10-30 17:59:03+00:00    Magic: The Gathering              Gaming   \n",
       "4 2022-10-30 21:30:06+00:00                 ChrisMD       Entertainment   \n",
       "5 2022-10-30 15:00:08+00:00             Eamon & Bec       Travel_Events   \n",
       "6 2022-10-30 21:52:01+00:00                  NASCAR              Sports   \n",
       "7 2022-10-30 21:39:23+00:00         SmarterEveryDay  Science_Technology   \n",
       "8 2022-10-30 05:35:43+00:00         SHOWTIME Sports              Sports   \n",
       "9 2022-10-30 09:27:26+00:00  Australia's Got Talent       Entertainment   \n",
       "\n",
       "              trending_date  \\\n",
       "0 2022-10-28 00:00:00+00:00   \n",
       "1 2022-10-28 00:00:00+00:00   \n",
       "2 2022-10-28 00:00:00+00:00   \n",
       "3 2022-10-28 00:00:00+00:00   \n",
       "4 2022-10-28 00:00:00+00:00   \n",
       "5 2022-10-28 00:00:00+00:00   \n",
       "6 2022-10-28 00:00:00+00:00   \n",
       "7 2022-10-28 00:00:00+00:00   \n",
       "8 2022-10-28 00:00:00+00:00   \n",
       "9 2022-10-28 00:00:00+00:00   \n",
       "\n",
       "                                                tags view_count  likes  \\\n",
       "0  MMA mixed martial arts MMAWeekly.com MMAWeekly...     360616   2984   \n",
       "1  yestheory seek discomfort yes theory strangers...    1179634  53966   \n",
       "2  Hockey NHL Steve Dangle Toronto Maple Leafs Ma...      93314   7342   \n",
       "3  magic mtg wizards wotc planeswalkers tcg tradi...    9662904   9150   \n",
       "4                                             [none]    1268775  86805   \n",
       "5  van life living in a van vanlife eamon and bec...     407182  25492   \n",
       "6                                             [none]     420846   6745   \n",
       "7  Smarter Every Day Science Physics Destin Sandl...     509217  36606   \n",
       "8  showtime shosports sports Floyd Mayweather Log...     692325  11658   \n",
       "9  australias got talent agt australia's got tale...     166537      0   \n",
       "\n",
       "  comment_count  ... ratings_disabled  \\\n",
       "0          1052  ...            False   \n",
       "1          3319  ...            False   \n",
       "2          1959  ...            False   \n",
       "3          1022  ...            False   \n",
       "4          1229  ...            False   \n",
       "5          7843  ...            False   \n",
       "6          1246  ...            False   \n",
       "7          2221  ...            False   \n",
       "8          4828  ...            False   \n",
       "9            76  ...             True   \n",
       "\n",
       "                                         description  duration captions rank  \\\n",
       "0  See the highlights from Jake Paul vs Anderson ...    PT4M5S    False    1   \n",
       "1  Start your free trial with Shopify at this lin...  PT19M41S    False    2   \n",
       "2  Steve Dangle recaps and analyzes Game 10 of th...  PT18M54S     True    3   \n",
       "3  Phyrexians have taken root in Dominaria as a s...   PT3M24S     True    4   \n",
       "4  Wowie!Save money whilst shopping online by dow...  PT21M36S    False    5   \n",
       "5  Shop our limited edition Breast Cancer Awarene...  PT34M31S    False    6   \n",
       "6  Watch Ross Chastain's video-game-style move to...   PT3M52S    False    7   \n",
       "7  I want to send you stickers via Patreon: https...  PT19M58S    False    8   \n",
       "8  After beating Anderson Silva on SHOWTIME PPV, ...   PT3M19S    False    9   \n",
       "9  Magic Macy auditions for #AGT 2022! Find #AGTo...    PT4M7S    False   10   \n",
       "\n",
       "                age  engagement num_of_tags top_25  polarity  \n",
       "0 -3 days +02:28:41    0.019944          17      1         0  \n",
       "1 -3 days +06:59:39    0.057002           7      1         0  \n",
       "2 -4 days +17:49:59    0.162655          26      1         0  \n",
       "3 -3 days +06:00:57     0.00137          13      1         0  \n",
       "4 -3 days +02:29:54    0.072291           1      1         0  \n",
       "5 -3 days +08:59:52    0.139653          15      1         0  \n",
       "6 -3 days +02:07:59     0.02787           1      1         0  \n",
       "7 -3 days +02:20:37    0.089333          41      1         0  \n",
       "8 -3 days +18:24:17    0.044733          30      1         0  \n",
       "9 -3 days +14:32:34    0.001825          12      1         0  \n",
       "\n",
       "[10 rows x 22 columns]"
      ]
     },
     "execution_count": 54,
     "metadata": {},
     "output_type": "execute_result"
    }
   ],
   "source": [
    "polarity=[]\n",
    "\n",
    "for com in df['comment_count']:\n",
    "    try:\n",
    "        polarity.append(TextBlob(com).sentiment.polarity)\n",
    "    except:\n",
    "        polarity.append(0)\n",
    "        \n",
    "df['polarity'] = polarity\n",
    "df.head(10)"
   ]
  },
  {
   "cell_type": "code",
   "execution_count": 55,
   "metadata": {},
   "outputs": [],
   "source": [
    "import matplotlib.pyplot as plt\n",
    "import seaborn as sns\n",
    "import re\n",
    "import unicodedata\n",
    "import pandas as pd\n",
    "import nltk\n",
    "from nltk.corpus import stopwords"
   ]
  },
  {
   "cell_type": "code",
   "execution_count": 56,
   "metadata": {},
   "outputs": [],
   "source": [
    "def basic_clean(article0):\n",
    "    #lower cases\n",
    "    if isinstance(article0, float):\n",
    "        article = str(article0).lower()\n",
    "    else:\n",
    "        article = article0.lower()\n",
    "    ## decodes to change to \"normal\" characters after encoding to ascii from a unicode normalize\n",
    "    article = unicodedata.normalize(\"NFKD\",article).encode(\"ascii\",\"ignore\").decode(\"utf-8\")\n",
    "    # removes anything not lowercase, number, single quote, or a space\n",
    "    article = re.sub(r'[^a-z0-9\\'\\s]','',article)\n",
    "    return article"
   ]
  },
  {
   "cell_type": "code",
   "execution_count": 57,
   "metadata": {},
   "outputs": [],
   "source": [
    "def tokenize(article0):\n",
    "    #create the tokenizer\n",
    "    tokenize = nltk.tokenize.ToktokTokenizer()\n",
    "    #use the tokenizer\n",
    "    article = tokenize.tokenize(article0,return_str=True)\n",
    "    return article\n"
   ]
  },
  {
   "cell_type": "code",
   "execution_count": 58,
   "metadata": {},
   "outputs": [],
   "source": [
    "def stem(article):\n",
    "    #create porter stemmer\n",
    "    ps = nltk.porter.PorterStemmer()\n",
    "    stems = [ps.stem(word) for word in article.split()]\n",
    "    #join words back together\n",
    "    article_stemmed = \" \".join(stems)\n",
    "    return article_stemmed"
   ]
  },
  {
   "cell_type": "code",
   "execution_count": 59,
   "metadata": {},
   "outputs": [],
   "source": [
    "def lemmatize(article):\n",
    "    #create the lemmatizer\n",
    "    wnl = nltk.stem.WordNetLemmatizer()\n",
    "    #use lemmatizer\n",
    "    lemmatized = [wnl.lemmatize(word) for word in article.split()]\n",
    "    #join words back together\n",
    "    article_lemmatized = \" \".join(lemmatized)\n",
    "    return article_lemmatized"
   ]
  },
  {
   "cell_type": "code",
   "execution_count": 60,
   "metadata": {},
   "outputs": [],
   "source": [
    "def remove_stopwords(article_processed,words_to_add=[],words_to_remove=[]):\n",
    "    #save stopword \n",
    "    stopwords_list = stopwords.words(\"english\")\n",
    "    #modify stopword list\n",
    "    [stopwords_list.append(word) for word in words_to_add]\n",
    "    [stopwords_list.remove(word) for word in words_to_remove]\n",
    "    #remove using stopword list\n",
    "    words = article_processed.split()\n",
    "    filtered_words = [w for w in words if w not in stopwords_list]\n",
    "    #join words back together\n",
    "    article_without_stopwords = \" \".join(filtered_words)\n",
    "    return article_without_stopwords\n"
   ]
  },
  {
   "cell_type": "code",
   "execution_count": 61,
   "metadata": {},
   "outputs": [],
   "source": [
    "# cleaning the data for world cloud\n",
    "df = df[df.description.isna()==False]\n",
    "df[\"clean\"] = [remove_stopwords(tokenize(basic_clean(each))) for each in df.description]\n",
    "df[\"stemmed\"] = df.clean.apply(stem)\n",
    "df[\"lemmatized\"] = df.clean.apply(lemmatize)"
   ]
  },
  {
   "cell_type": "code",
   "execution_count": 62,
   "metadata": {},
   "outputs": [
    {
     "data": {
      "text/html": [
       "<div>\n",
       "<style scoped>\n",
       "    .dataframe tbody tr th:only-of-type {\n",
       "        vertical-align: middle;\n",
       "    }\n",
       "\n",
       "    .dataframe tbody tr th {\n",
       "        vertical-align: top;\n",
       "    }\n",
       "\n",
       "    .dataframe thead th {\n",
       "        text-align: right;\n",
       "    }\n",
       "</style>\n",
       "<table border=\"1\" class=\"dataframe\">\n",
       "  <thead>\n",
       "    <tr style=\"text-align: right;\">\n",
       "      <th></th>\n",
       "      <th>video_id</th>\n",
       "      <th>title</th>\n",
       "      <th>publishedAt</th>\n",
       "      <th>channelTitle</th>\n",
       "      <th>categoryId</th>\n",
       "      <th>trending_date</th>\n",
       "      <th>tags</th>\n",
       "      <th>view_count</th>\n",
       "      <th>likes</th>\n",
       "      <th>comment_count</th>\n",
       "      <th>...</th>\n",
       "      <th>captions</th>\n",
       "      <th>rank</th>\n",
       "      <th>age</th>\n",
       "      <th>engagement</th>\n",
       "      <th>num_of_tags</th>\n",
       "      <th>top_25</th>\n",
       "      <th>polarity</th>\n",
       "      <th>clean</th>\n",
       "      <th>stemmed</th>\n",
       "      <th>lemmatized</th>\n",
       "    </tr>\n",
       "  </thead>\n",
       "  <tbody>\n",
       "    <tr>\n",
       "      <th>0</th>\n",
       "      <td>Qa3anjyAMgc</td>\n",
       "      <td>Jake Paul vs Anderson Silva HIGHLIGHTS</td>\n",
       "      <td>2022-10-30 21:31:19+00:00</td>\n",
       "      <td>MMAWeekly.com</td>\n",
       "      <td>Sports</td>\n",
       "      <td>2022-10-28 00:00:00+00:00</td>\n",
       "      <td>MMA mixed martial arts MMAWeekly.com MMAWeekly...</td>\n",
       "      <td>360616</td>\n",
       "      <td>2984</td>\n",
       "      <td>1052</td>\n",
       "      <td>...</td>\n",
       "      <td>False</td>\n",
       "      <td>1</td>\n",
       "      <td>-3 days +02:28:41</td>\n",
       "      <td>0.019944</td>\n",
       "      <td>17</td>\n",
       "      <td>1</td>\n",
       "      <td>0</td>\n",
       "      <td>see highlights jake paul vs anderson silva hig...</td>\n",
       "      <td>see highlight jake paul vs anderson silva high...</td>\n",
       "      <td>see highlight jake paul v anderson silva highl...</td>\n",
       "    </tr>\n",
       "    <tr>\n",
       "      <th>1</th>\n",
       "      <td>d2Dw-PuNZSE</td>\n",
       "      <td>Dark Secrets of the World’s Most Isolated Island</td>\n",
       "      <td>2022-10-30 17:00:21+00:00</td>\n",
       "      <td>Yes Theory</td>\n",
       "      <td>Entertainment</td>\n",
       "      <td>2022-10-28 00:00:00+00:00</td>\n",
       "      <td>yestheory seek discomfort yes theory strangers...</td>\n",
       "      <td>1179634</td>\n",
       "      <td>53966</td>\n",
       "      <td>3319</td>\n",
       "      <td>...</td>\n",
       "      <td>False</td>\n",
       "      <td>2</td>\n",
       "      <td>-3 days +06:59:39</td>\n",
       "      <td>0.057002</td>\n",
       "      <td>7</td>\n",
       "      <td>1</td>\n",
       "      <td>0</td>\n",
       "      <td>start free trial shopify link httpshopifycomye...</td>\n",
       "      <td>start free trial shopifi link httpshopifycomye...</td>\n",
       "      <td>start free trial shopify link httpshopifycomye...</td>\n",
       "    </tr>\n",
       "    <tr>\n",
       "      <th>2</th>\n",
       "      <td>nUDTWLfrUsg</td>\n",
       "      <td>LFR16 - Game 10 - OVER - TOR 3, ANA 4 (OT)</td>\n",
       "      <td>2022-10-31 06:10:01+00:00</td>\n",
       "      <td>SteveDangle</td>\n",
       "      <td>Sports</td>\n",
       "      <td>2022-10-28 00:00:00+00:00</td>\n",
       "      <td>Hockey NHL Steve Dangle Toronto Maple Leafs Ma...</td>\n",
       "      <td>93314</td>\n",
       "      <td>7342</td>\n",
       "      <td>1959</td>\n",
       "      <td>...</td>\n",
       "      <td>True</td>\n",
       "      <td>3</td>\n",
       "      <td>-4 days +17:49:59</td>\n",
       "      <td>0.162655</td>\n",
       "      <td>26</td>\n",
       "      <td>1</td>\n",
       "      <td>0</td>\n",
       "      <td>steve dangle recaps analyzes game 10 toronto m...</td>\n",
       "      <td>steve dangl recap analyz game 10 toronto mapl ...</td>\n",
       "      <td>steve dangle recap analyzes game 10 toronto ma...</td>\n",
       "    </tr>\n",
       "    <tr>\n",
       "      <th>3</th>\n",
       "      <td>L2DGv2bmsqo</td>\n",
       "      <td>Dawn of the Phyrexian Invasion - Official Cine...</td>\n",
       "      <td>2022-10-30 17:59:03+00:00</td>\n",
       "      <td>Magic: The Gathering</td>\n",
       "      <td>Gaming</td>\n",
       "      <td>2022-10-28 00:00:00+00:00</td>\n",
       "      <td>magic mtg wizards wotc planeswalkers tcg tradi...</td>\n",
       "      <td>9662904</td>\n",
       "      <td>9150</td>\n",
       "      <td>1022</td>\n",
       "      <td>...</td>\n",
       "      <td>True</td>\n",
       "      <td>4</td>\n",
       "      <td>-3 days +06:00:57</td>\n",
       "      <td>0.00137</td>\n",
       "      <td>13</td>\n",
       "      <td>1</td>\n",
       "      <td>0</td>\n",
       "      <td>phyrexians taken root dominaria shocking sleep...</td>\n",
       "      <td>phyrexian taken root dominaria shock sleeper a...</td>\n",
       "      <td>phyrexians taken root dominaria shocking sleep...</td>\n",
       "    </tr>\n",
       "    <tr>\n",
       "      <th>4</th>\n",
       "      <td>MIHPNoRJ1p0</td>\n",
       "      <td>Scoring 1 AMAZING Goal From 1-40 Yards</td>\n",
       "      <td>2022-10-30 21:30:06+00:00</td>\n",
       "      <td>ChrisMD</td>\n",
       "      <td>Entertainment</td>\n",
       "      <td>2022-10-28 00:00:00+00:00</td>\n",
       "      <td>[none]</td>\n",
       "      <td>1268775</td>\n",
       "      <td>86805</td>\n",
       "      <td>1229</td>\n",
       "      <td>...</td>\n",
       "      <td>False</td>\n",
       "      <td>5</td>\n",
       "      <td>-3 days +02:29:54</td>\n",
       "      <td>0.072291</td>\n",
       "      <td>1</td>\n",
       "      <td>1</td>\n",
       "      <td>0</td>\n",
       "      <td>wowiesave money whilst shopping online downloa...</td>\n",
       "      <td>wowiesav money whilst shop onlin download pouc...</td>\n",
       "      <td>wowiesave money whilst shopping online downloa...</td>\n",
       "    </tr>\n",
       "  </tbody>\n",
       "</table>\n",
       "<p>5 rows × 25 columns</p>\n",
       "</div>"
      ],
      "text/plain": [
       "      video_id                                              title  \\\n",
       "0  Qa3anjyAMgc             Jake Paul vs Anderson Silva HIGHLIGHTS   \n",
       "1  d2Dw-PuNZSE   Dark Secrets of the World’s Most Isolated Island   \n",
       "2  nUDTWLfrUsg         LFR16 - Game 10 - OVER - TOR 3, ANA 4 (OT)   \n",
       "3  L2DGv2bmsqo  Dawn of the Phyrexian Invasion - Official Cine...   \n",
       "4  MIHPNoRJ1p0             Scoring 1 AMAZING Goal From 1-40 Yards   \n",
       "\n",
       "                publishedAt          channelTitle     categoryId  \\\n",
       "0 2022-10-30 21:31:19+00:00         MMAWeekly.com         Sports   \n",
       "1 2022-10-30 17:00:21+00:00            Yes Theory  Entertainment   \n",
       "2 2022-10-31 06:10:01+00:00           SteveDangle         Sports   \n",
       "3 2022-10-30 17:59:03+00:00  Magic: The Gathering         Gaming   \n",
       "4 2022-10-30 21:30:06+00:00               ChrisMD  Entertainment   \n",
       "\n",
       "              trending_date  \\\n",
       "0 2022-10-28 00:00:00+00:00   \n",
       "1 2022-10-28 00:00:00+00:00   \n",
       "2 2022-10-28 00:00:00+00:00   \n",
       "3 2022-10-28 00:00:00+00:00   \n",
       "4 2022-10-28 00:00:00+00:00   \n",
       "\n",
       "                                                tags view_count  likes  \\\n",
       "0  MMA mixed martial arts MMAWeekly.com MMAWeekly...     360616   2984   \n",
       "1  yestheory seek discomfort yes theory strangers...    1179634  53966   \n",
       "2  Hockey NHL Steve Dangle Toronto Maple Leafs Ma...      93314   7342   \n",
       "3  magic mtg wizards wotc planeswalkers tcg tradi...    9662904   9150   \n",
       "4                                             [none]    1268775  86805   \n",
       "\n",
       "  comment_count  ... captions rank               age engagement num_of_tags  \\\n",
       "0          1052  ...    False    1 -3 days +02:28:41   0.019944          17   \n",
       "1          3319  ...    False    2 -3 days +06:59:39   0.057002           7   \n",
       "2          1959  ...     True    3 -4 days +17:49:59   0.162655          26   \n",
       "3          1022  ...     True    4 -3 days +06:00:57    0.00137          13   \n",
       "4          1229  ...    False    5 -3 days +02:29:54   0.072291           1   \n",
       "\n",
       "  top_25  polarity                                              clean  \\\n",
       "0      1         0  see highlights jake paul vs anderson silva hig...   \n",
       "1      1         0  start free trial shopify link httpshopifycomye...   \n",
       "2      1         0  steve dangle recaps analyzes game 10 toronto m...   \n",
       "3      1         0  phyrexians taken root dominaria shocking sleep...   \n",
       "4      1         0  wowiesave money whilst shopping online downloa...   \n",
       "\n",
       "                                             stemmed  \\\n",
       "0  see highlight jake paul vs anderson silva high...   \n",
       "1  start free trial shopifi link httpshopifycomye...   \n",
       "2  steve dangl recap analyz game 10 toronto mapl ...   \n",
       "3  phyrexian taken root dominaria shock sleeper a...   \n",
       "4  wowiesav money whilst shop onlin download pouc...   \n",
       "\n",
       "                                          lemmatized  \n",
       "0  see highlight jake paul v anderson silva highl...  \n",
       "1  start free trial shopify link httpshopifycomye...  \n",
       "2  steve dangle recap analyzes game 10 toronto ma...  \n",
       "3  phyrexians taken root dominaria shocking sleep...  \n",
       "4  wowiesave money whilst shopping online downloa...  \n",
       "\n",
       "[5 rows x 25 columns]"
      ]
     },
     "execution_count": 62,
     "metadata": {},
     "output_type": "execute_result"
    }
   ],
   "source": [
    "df.head()"
   ]
  },
  {
   "cell_type": "markdown",
   "metadata": {},
   "source": [
    "## Bigrams"
   ]
  },
  {
   "cell_type": "code",
   "execution_count": 63,
   "metadata": {},
   "outputs": [
    {
     "data": {
      "image/png": "[encoded data removed]",
      "text/plain": [
       "<Figure size 432x288 with 1 Axes>"
      ]
     },
     "metadata": {
      "needs_background": "light"
     },
     "output_type": "display_data"
    }
   ],
   "source": [
    "Gaming = ' '.join(df[df.categoryId == 'Gaming'].lemmatized).split()\n",
    "top_20_ham_bigrams = (pd.Series(nltk.ngrams(Gaming, 2))\n",
    "                      .value_counts()\n",
    "                      .head(25))\n",
    "top_20_ham_bigrams.sort_values(ascending = True).plot.barh(), \n",
    "plt.title('25 Most frequently occuring gaming bigrams')\n",
    "plt.ylabel('Bigram')\n",
    "plt.xlabel('# Occurances')\n",
    "\n",
    "    # make the labels pretty\n",
    "ticks, _ = plt.yticks()\n",
    "labels = top_20_ham_bigrams.reset_index()['index'].apply(lambda t: t[0] + ' ' + t[1])\n",
    "_ = plt.yticks(ticks, labels)"
   ]
  },
  {
   "cell_type": "code",
   "execution_count": 64,
   "metadata": {},
   "outputs": [
    {
     "data": {
      "image/png": "[encoded data removed]",
      "text/plain": [
       "<Figure size 432x288 with 1 Axes>"
      ]
     },
     "metadata": {
      "needs_background": "light"
     },
     "output_type": "display_data"
    }
   ],
   "source": [
    "Ruby = ' '.join(df[df.categoryId == 'Entertainment'].lemmatized).split()\n",
    "top_20_ham_bigrams = (pd.Series(nltk.ngrams(Ruby, 2))\n",
    "                      .value_counts()\n",
    "                      .head(25))\n",
    "top_20_ham_bigrams.sort_values(ascending = True).plot.barh(),\n",
    "\n",
    "plt.title('25 Most frequently occuring Entertainment bigrams')\n",
    "plt.ylabel('Bigram')\n",
    "plt.xlabel('# Occurances')\n",
    "\n",
    "    # make the labels pretty\n",
    "ticks, _ = plt.yticks()\n",
    "labels = top_20_ham_bigrams.reset_index()['index'].apply(lambda t: t[0] + ' ' + t[1])\n",
    "_ = plt.yticks(ticks, labels)"
   ]
  },
  {
   "cell_type": "markdown",
   "metadata": {},
   "source": [
    "## Wordcloud"
   ]
  },
  {
   "cell_type": "code",
   "execution_count": 65,
   "metadata": {},
   "outputs": [
    {
     "data": {
      "image/png": "[encoded data removed]",
      "text/plain": [
       "<Figure size 432x288 with 5 Axes>"
      ]
     },
     "metadata": {
      "needs_background": "light"
     },
     "output_type": "display_data"
    }
   ],
   "source": [
    "# We can supply our own values to be used to determine how big the words (or\n",
    "# phrases) should be through the `generate_from_frequencies` method. The\n",
    "# supplied values must be in the form of a dictionary where the keys are the\n",
    "# words (phrases), and the values are numbers that correspond to the sizes.\n",
    "#\n",
    "# We'll convert our series to a dictionary, and convert the tuples that make up\n",
    "# the index into a single string that holds each phrase.\n",
    "\n",
    "data = {k[0] + ' ' + k[1]: v for k, v in top_20_ham_bigrams.to_dict().items()}\n",
    "img = WordCloud(background_color='white', width=800, height=400).generate_from_frequencies(data)\n",
    "\n",
    "axs = [plt.axes([0, 0, 1, 1]), plt.axes([0, 1, 1, 1]), plt.axes([0, 2, 1, 1])\n",
    "      , plt.axes([0, 3, 1, 1]), plt.axes([0, 4, 1, 1])]\n",
    "\n",
    "axs[4].imshow(img)\n",
    "\n",
    "for ax in axs: ax.axis('off')\n",
    "plt.show()"
   ]
  },
  {
   "cell_type": "code",
   "execution_count": 66,
   "metadata": {},
   "outputs": [
    {
     "data": {
      "text/plain": [
       "0       360616.0\n",
       "1      1179634.0\n",
       "2        93314.0\n",
       "3      9662904.0\n",
       "4      1268775.0\n",
       "         ...    \n",
       "174    1816749.0\n",
       "175    9514619.0\n",
       "176     962812.0\n",
       "177    1578577.0\n",
       "178      90717.0\n",
       "Name: view_count, Length: 1634, dtype: float64"
      ]
     },
     "execution_count": 66,
     "metadata": {},
     "output_type": "execute_result"
    }
   ],
   "source": [
    "df.view_count = df.view_count.astype(float)\n",
    "df.view_count"
   ]
  },
  {
   "cell_type": "code",
   "execution_count": 67,
   "metadata": {},
   "outputs": [
    {
     "data": {
      "text/plain": [
       "<AxesSubplot:ylabel='Frequency'>"
      ]
     },
     "execution_count": 67,
     "metadata": {},
     "output_type": "execute_result"
    },
    {
     "data": {
      "image/png": "[encoded data removed]",
      "text/plain": [
       "<Figure size 432x288 with 1 Axes>"
      ]
     },
     "metadata": {
      "needs_background": "light"
     },
     "output_type": "display_data"
    }
   ],
   "source": [
    "df.view_count.plot.hist()"
   ]
  },
  {
   "cell_type": "markdown",
   "metadata": {},
   "source": [
    "## Modeling"
   ]
  },
  {
   "cell_type": "code",
   "execution_count": 111,
   "metadata": {},
   "outputs": [],
   "source": [
    "\n",
    "# Modeling Imports\n",
    "from sklearn.preprocessing import MinMaxScaler\n",
    "from sklearn.model_selection import train_test_split\n",
    "from sklearn.linear_model import LinearRegression, LassoLars, TweedieRegressor\n",
    "from sklearn.metrics import mean_squared_error, r2_score, explained_variance_score\n",
    "from sklearn.feature_selection import f_regression \n",
    "from sklearn.metrics import mean_squared_error\n",
    "from sklearn.preprocessing import PolynomialFeatures\n",
    "from sklearn.feature_selection import SelectKBest, f_regression, RFE\n",
    "import sklearn.preprocessing\n",
    "import statsmodels.api as sm\n",
    "from sklearn.cluster import DBSCAN\n",
    "from sklearn.feature_extraction.text import TfidfVectorizer\n",
    "from sklearn.linear_model import LogisticRegression\n",
    "from sklearn.metrics import classification_report, accuracy_score\n",
    "\n",
    "# NLP Imports\n",
    "import unicodedata\n",
    "import re\n",
    "import json\n",
    "import requests\n",
    "from bs4 import BeautifulSoup\n",
    "import nltk\n",
    "from nltk.tokenize.toktok import ToktokTokenizer\n",
    "from nltk.corpus import stopwords\n",
    "\n",
    "# To get rid of those blocks of red warnings\n",
    "import warnings\n",
    "warnings.filterwarnings(\"ignore\")\n"
   ]
  },
  {
   "cell_type": "code",
   "execution_count": 112,
   "metadata": {},
   "outputs": [
    {
     "data": {
      "text/plain": [
       "0      see highlight jake paul v anderson silva highl...\n",
       "1      start free trial shopify link httpshopifycomye...\n",
       "2      steve dangle recap analyzes game 10 toronto ma...\n",
       "3      phyrexians taken root dominaria shocking sleep...\n",
       "4      wowiesave money whilst shopping online downloa...\n",
       "                             ...                        \n",
       "174    httpsyoutubetgmilzlkh4s httpsedisonfamilyvsema...\n",
       "175    4 httpsa4shopru telegram httpstmea4omg instagr...\n",
       "176    really happened blue sad story roblox rainbow ...\n",
       "177                           intense via woodyandkleiny\n",
       "178    httpsrrpru httpswwwdonationalertscomrkovalevsk...\n",
       "Name: lemmatized, Length: 1634, dtype: object"
      ]
     },
     "execution_count": 112,
     "metadata": {},
     "output_type": "execute_result"
    }
   ],
   "source": [
    "df.lemmatized"
   ]
  },
  {
   "cell_type": "code",
   "execution_count": 113,
   "metadata": {},
   "outputs": [
    {
     "data": {
      "text/plain": [
       "<1634x36553 sparse matrix of type '<class 'numpy.float64'>'\n",
       "\twith 91736 stored elements in Compressed Sparse Row format>"
      ]
     },
     "execution_count": 113,
     "metadata": {},
     "output_type": "execute_result"
    }
   ],
   "source": [
    "tfidf = TfidfVectorizer()\n",
    "tfidfs = tfidf.fit_transform(df.lemmatized)\n",
    "tfidfs"
   ]
  },
  {
   "cell_type": "code",
   "execution_count": 114,
   "metadata": {},
   "outputs": [
    {
     "data": {
      "text/html": [
       "<div>\n",
       "<style scoped>\n",
       "    .dataframe tbody tr th:only-of-type {\n",
       "        vertical-align: middle;\n",
       "    }\n",
       "\n",
       "    .dataframe tbody tr th {\n",
       "        vertical-align: top;\n",
       "    }\n",
       "\n",
       "    .dataframe thead th {\n",
       "        text-align: right;\n",
       "    }\n",
       "</style>\n",
       "<table border=\"1\" class=\"dataframe\">\n",
       "  <thead>\n",
       "    <tr style=\"text-align: right;\">\n",
       "      <th></th>\n",
       "      <th>00</th>\n",
       "      <th>000</th>\n",
       "      <th>0000</th>\n",
       "      <th>000000</th>\n",
       "      <th>000013</th>\n",
       "      <th>000014</th>\n",
       "      <th>000015</th>\n",
       "      <th>000034</th>\n",
       "      <th>000035</th>\n",
       "      <th>000055</th>\n",
       "      <th>...</th>\n",
       "      <th>zwiebel</th>\n",
       "      <th>zwiebel12</th>\n",
       "      <th>zwiebelsalz</th>\n",
       "      <th>zwischen</th>\n",
       "      <th>zwischendurch</th>\n",
       "      <th>zwischenmenschliche</th>\n",
       "      <th>zwischenzeit</th>\n",
       "      <th>zyada</th>\n",
       "      <th>zyzx</th>\n",
       "      <th>zzzzziiiizzzzzme</th>\n",
       "    </tr>\n",
       "  </thead>\n",
       "  <tbody>\n",
       "    <tr>\n",
       "      <th>0</th>\n",
       "      <td>0.0</td>\n",
       "      <td>0.0</td>\n",
       "      <td>0.0</td>\n",
       "      <td>0.0</td>\n",
       "      <td>0.0</td>\n",
       "      <td>0.0</td>\n",
       "      <td>0.0</td>\n",
       "      <td>0.0</td>\n",
       "      <td>0.0</td>\n",
       "      <td>0.0</td>\n",
       "      <td>...</td>\n",
       "      <td>0.0</td>\n",
       "      <td>0.0</td>\n",
       "      <td>0.0</td>\n",
       "      <td>0.0</td>\n",
       "      <td>0.0</td>\n",
       "      <td>0.0</td>\n",
       "      <td>0.0</td>\n",
       "      <td>0.0</td>\n",
       "      <td>0.0</td>\n",
       "      <td>0.0</td>\n",
       "    </tr>\n",
       "    <tr>\n",
       "      <th>1</th>\n",
       "      <td>0.0</td>\n",
       "      <td>0.0</td>\n",
       "      <td>0.0</td>\n",
       "      <td>0.0</td>\n",
       "      <td>0.0</td>\n",
       "      <td>0.0</td>\n",
       "      <td>0.0</td>\n",
       "      <td>0.0</td>\n",
       "      <td>0.0</td>\n",
       "      <td>0.0</td>\n",
       "      <td>...</td>\n",
       "      <td>0.0</td>\n",
       "      <td>0.0</td>\n",
       "      <td>0.0</td>\n",
       "      <td>0.0</td>\n",
       "      <td>0.0</td>\n",
       "      <td>0.0</td>\n",
       "      <td>0.0</td>\n",
       "      <td>0.0</td>\n",
       "      <td>0.0</td>\n",
       "      <td>0.0</td>\n",
       "    </tr>\n",
       "    <tr>\n",
       "      <th>2</th>\n",
       "      <td>0.0</td>\n",
       "      <td>0.0</td>\n",
       "      <td>0.0</td>\n",
       "      <td>0.0</td>\n",
       "      <td>0.0</td>\n",
       "      <td>0.0</td>\n",
       "      <td>0.0</td>\n",
       "      <td>0.0</td>\n",
       "      <td>0.0</td>\n",
       "      <td>0.0</td>\n",
       "      <td>...</td>\n",
       "      <td>0.0</td>\n",
       "      <td>0.0</td>\n",
       "      <td>0.0</td>\n",
       "      <td>0.0</td>\n",
       "      <td>0.0</td>\n",
       "      <td>0.0</td>\n",
       "      <td>0.0</td>\n",
       "      <td>0.0</td>\n",
       "      <td>0.0</td>\n",
       "      <td>0.0</td>\n",
       "    </tr>\n",
       "    <tr>\n",
       "      <th>3</th>\n",
       "      <td>0.0</td>\n",
       "      <td>0.0</td>\n",
       "      <td>0.0</td>\n",
       "      <td>0.0</td>\n",
       "      <td>0.0</td>\n",
       "      <td>0.0</td>\n",
       "      <td>0.0</td>\n",
       "      <td>0.0</td>\n",
       "      <td>0.0</td>\n",
       "      <td>0.0</td>\n",
       "      <td>...</td>\n",
       "      <td>0.0</td>\n",
       "      <td>0.0</td>\n",
       "      <td>0.0</td>\n",
       "      <td>0.0</td>\n",
       "      <td>0.0</td>\n",
       "      <td>0.0</td>\n",
       "      <td>0.0</td>\n",
       "      <td>0.0</td>\n",
       "      <td>0.0</td>\n",
       "      <td>0.0</td>\n",
       "    </tr>\n",
       "    <tr>\n",
       "      <th>4</th>\n",
       "      <td>0.0</td>\n",
       "      <td>0.0</td>\n",
       "      <td>0.0</td>\n",
       "      <td>0.0</td>\n",
       "      <td>0.0</td>\n",
       "      <td>0.0</td>\n",
       "      <td>0.0</td>\n",
       "      <td>0.0</td>\n",
       "      <td>0.0</td>\n",
       "      <td>0.0</td>\n",
       "      <td>...</td>\n",
       "      <td>0.0</td>\n",
       "      <td>0.0</td>\n",
       "      <td>0.0</td>\n",
       "      <td>0.0</td>\n",
       "      <td>0.0</td>\n",
       "      <td>0.0</td>\n",
       "      <td>0.0</td>\n",
       "      <td>0.0</td>\n",
       "      <td>0.0</td>\n",
       "      <td>0.0</td>\n",
       "    </tr>\n",
       "    <tr>\n",
       "      <th>...</th>\n",
       "      <td>...</td>\n",
       "      <td>...</td>\n",
       "      <td>...</td>\n",
       "      <td>...</td>\n",
       "      <td>...</td>\n",
       "      <td>...</td>\n",
       "      <td>...</td>\n",
       "      <td>...</td>\n",
       "      <td>...</td>\n",
       "      <td>...</td>\n",
       "      <td>...</td>\n",
       "      <td>...</td>\n",
       "      <td>...</td>\n",
       "      <td>...</td>\n",
       "      <td>...</td>\n",
       "      <td>...</td>\n",
       "      <td>...</td>\n",
       "      <td>...</td>\n",
       "      <td>...</td>\n",
       "      <td>...</td>\n",
       "      <td>...</td>\n",
       "    </tr>\n",
       "    <tr>\n",
       "      <th>1629</th>\n",
       "      <td>0.0</td>\n",
       "      <td>0.0</td>\n",
       "      <td>0.0</td>\n",
       "      <td>0.0</td>\n",
       "      <td>0.0</td>\n",
       "      <td>0.0</td>\n",
       "      <td>0.0</td>\n",
       "      <td>0.0</td>\n",
       "      <td>0.0</td>\n",
       "      <td>0.0</td>\n",
       "      <td>...</td>\n",
       "      <td>0.0</td>\n",
       "      <td>0.0</td>\n",
       "      <td>0.0</td>\n",
       "      <td>0.0</td>\n",
       "      <td>0.0</td>\n",
       "      <td>0.0</td>\n",
       "      <td>0.0</td>\n",
       "      <td>0.0</td>\n",
       "      <td>0.0</td>\n",
       "      <td>0.0</td>\n",
       "    </tr>\n",
       "    <tr>\n",
       "      <th>1630</th>\n",
       "      <td>0.0</td>\n",
       "      <td>0.0</td>\n",
       "      <td>0.0</td>\n",
       "      <td>0.0</td>\n",
       "      <td>0.0</td>\n",
       "      <td>0.0</td>\n",
       "      <td>0.0</td>\n",
       "      <td>0.0</td>\n",
       "      <td>0.0</td>\n",
       "      <td>0.0</td>\n",
       "      <td>...</td>\n",
       "      <td>0.0</td>\n",
       "      <td>0.0</td>\n",
       "      <td>0.0</td>\n",
       "      <td>0.0</td>\n",
       "      <td>0.0</td>\n",
       "      <td>0.0</td>\n",
       "      <td>0.0</td>\n",
       "      <td>0.0</td>\n",
       "      <td>0.0</td>\n",
       "      <td>0.0</td>\n",
       "    </tr>\n",
       "    <tr>\n",
       "      <th>1631</th>\n",
       "      <td>0.0</td>\n",
       "      <td>0.0</td>\n",
       "      <td>0.0</td>\n",
       "      <td>0.0</td>\n",
       "      <td>0.0</td>\n",
       "      <td>0.0</td>\n",
       "      <td>0.0</td>\n",
       "      <td>0.0</td>\n",
       "      <td>0.0</td>\n",
       "      <td>0.0</td>\n",
       "      <td>...</td>\n",
       "      <td>0.0</td>\n",
       "      <td>0.0</td>\n",
       "      <td>0.0</td>\n",
       "      <td>0.0</td>\n",
       "      <td>0.0</td>\n",
       "      <td>0.0</td>\n",
       "      <td>0.0</td>\n",
       "      <td>0.0</td>\n",
       "      <td>0.0</td>\n",
       "      <td>0.0</td>\n",
       "    </tr>\n",
       "    <tr>\n",
       "      <th>1632</th>\n",
       "      <td>0.0</td>\n",
       "      <td>0.0</td>\n",
       "      <td>0.0</td>\n",
       "      <td>0.0</td>\n",
       "      <td>0.0</td>\n",
       "      <td>0.0</td>\n",
       "      <td>0.0</td>\n",
       "      <td>0.0</td>\n",
       "      <td>0.0</td>\n",
       "      <td>0.0</td>\n",
       "      <td>...</td>\n",
       "      <td>0.0</td>\n",
       "      <td>0.0</td>\n",
       "      <td>0.0</td>\n",
       "      <td>0.0</td>\n",
       "      <td>0.0</td>\n",
       "      <td>0.0</td>\n",
       "      <td>0.0</td>\n",
       "      <td>0.0</td>\n",
       "      <td>0.0</td>\n",
       "      <td>0.0</td>\n",
       "    </tr>\n",
       "    <tr>\n",
       "      <th>1633</th>\n",
       "      <td>0.0</td>\n",
       "      <td>0.0</td>\n",
       "      <td>0.0</td>\n",
       "      <td>0.0</td>\n",
       "      <td>0.0</td>\n",
       "      <td>0.0</td>\n",
       "      <td>0.0</td>\n",
       "      <td>0.0</td>\n",
       "      <td>0.0</td>\n",
       "      <td>0.0</td>\n",
       "      <td>...</td>\n",
       "      <td>0.0</td>\n",
       "      <td>0.0</td>\n",
       "      <td>0.0</td>\n",
       "      <td>0.0</td>\n",
       "      <td>0.0</td>\n",
       "      <td>0.0</td>\n",
       "      <td>0.0</td>\n",
       "      <td>0.0</td>\n",
       "      <td>0.0</td>\n",
       "      <td>0.0</td>\n",
       "    </tr>\n",
       "  </tbody>\n",
       "</table>\n",
       "<p>1634 rows × 36553 columns</p>\n",
       "</div>"
      ],
      "text/plain": [
       "       00  000  0000  000000  000013  000014  000015  000034  000035  000055  \\\n",
       "0     0.0  0.0   0.0     0.0     0.0     0.0     0.0     0.0     0.0     0.0   \n",
       "1     0.0  0.0   0.0     0.0     0.0     0.0     0.0     0.0     0.0     0.0   \n",
       "2     0.0  0.0   0.0     0.0     0.0     0.0     0.0     0.0     0.0     0.0   \n",
       "3     0.0  0.0   0.0     0.0     0.0     0.0     0.0     0.0     0.0     0.0   \n",
       "4     0.0  0.0   0.0     0.0     0.0     0.0     0.0     0.0     0.0     0.0   \n",
       "...   ...  ...   ...     ...     ...     ...     ...     ...     ...     ...   \n",
       "1629  0.0  0.0   0.0     0.0     0.0     0.0     0.0     0.0     0.0     0.0   \n",
       "1630  0.0  0.0   0.0     0.0     0.0     0.0     0.0     0.0     0.0     0.0   \n",
       "1631  0.0  0.0   0.0     0.0     0.0     0.0     0.0     0.0     0.0     0.0   \n",
       "1632  0.0  0.0   0.0     0.0     0.0     0.0     0.0     0.0     0.0     0.0   \n",
       "1633  0.0  0.0   0.0     0.0     0.0     0.0     0.0     0.0     0.0     0.0   \n",
       "\n",
       "      ...  zwiebel  zwiebel12  zwiebelsalz  zwischen  zwischendurch  \\\n",
       "0     ...      0.0        0.0          0.0       0.0            0.0   \n",
       "1     ...      0.0        0.0          0.0       0.0            0.0   \n",
       "2     ...      0.0        0.0          0.0       0.0            0.0   \n",
       "3     ...      0.0        0.0          0.0       0.0            0.0   \n",
       "4     ...      0.0        0.0          0.0       0.0            0.0   \n",
       "...   ...      ...        ...          ...       ...            ...   \n",
       "1629  ...      0.0        0.0          0.0       0.0            0.0   \n",
       "1630  ...      0.0        0.0          0.0       0.0            0.0   \n",
       "1631  ...      0.0        0.0          0.0       0.0            0.0   \n",
       "1632  ...      0.0        0.0          0.0       0.0            0.0   \n",
       "1633  ...      0.0        0.0          0.0       0.0            0.0   \n",
       "\n",
       "      zwischenmenschliche  zwischenzeit  zyada  zyzx  zzzzziiiizzzzzme  \n",
       "0                     0.0           0.0    0.0   0.0               0.0  \n",
       "1                     0.0           0.0    0.0   0.0               0.0  \n",
       "2                     0.0           0.0    0.0   0.0               0.0  \n",
       "3                     0.0           0.0    0.0   0.0               0.0  \n",
       "4                     0.0           0.0    0.0   0.0               0.0  \n",
       "...                   ...           ...    ...   ...               ...  \n",
       "1629                  0.0           0.0    0.0   0.0               0.0  \n",
       "1630                  0.0           0.0    0.0   0.0               0.0  \n",
       "1631                  0.0           0.0    0.0   0.0               0.0  \n",
       "1632                  0.0           0.0    0.0   0.0               0.0  \n",
       "1633                  0.0           0.0    0.0   0.0               0.0  \n",
       "\n",
       "[1634 rows x 36553 columns]"
      ]
     },
     "execution_count": 114,
     "metadata": {},
     "output_type": "execute_result"
    }
   ],
   "source": [
    "pd.DataFrame(tfidfs.todense(), columns=tfidf.get_feature_names())"
   ]
  },
  {
   "cell_type": "code",
   "execution_count": 115,
   "metadata": {},
   "outputs": [
    {
     "data": {
      "text/plain": [
       "0"
      ]
     },
     "execution_count": 115,
     "metadata": {},
     "output_type": "execute_result"
    }
   ],
   "source": [
    "df.lemmatized.str.contains('zxingcppzxingcpphttpsgithubcomzxingcppzxingcpp').sum()"
   ]
  },
  {
   "cell_type": "code",
   "execution_count": 116,
   "metadata": {},
   "outputs": [],
   "source": [
    "tfidf = TfidfVectorizer()\n",
    "X = tfidf.fit_transform(df.lemmatized)\n",
    "y = df.top_25\n",
    "\n",
    "X_train_val, X_test, y_train_val, y_test = train_test_split(X, y, stratify=y, test_size=.2, random_state=123)\n",
    "\n",
    "X_train, X_validate, y_train, y_validate = train_test_split(X_train_val, y_train_val, stratify=y_train_val, test_size=.25, random_state=123)\n",
    "\n",
    "train = pd.DataFrame(dict(actual=y_train))\n",
    "validate = pd.DataFrame(dict(actual=y_validate))\n",
    "\n",
    "lm = LogisticRegression().fit(X_train, y_train)\n",
    "\n",
    "train['predicted_lm'] = lm.predict(X_train)\n",
    "validate['predicted_lm'] = lm.predict(X_validate)"
   ]
  },
  {
   "cell_type": "code",
   "execution_count": 117,
   "metadata": {},
   "outputs": [
    {
     "data": {
      "text/plain": [
       "(327, 36553)"
      ]
     },
     "execution_count": 117,
     "metadata": {},
     "output_type": "execute_result"
    }
   ],
   "source": [
    "X_test.shape"
   ]
  },
  {
   "cell_type": "code",
   "execution_count": 118,
   "metadata": {},
   "outputs": [
    {
     "data": {
      "text/plain": [
       "(327, 36553)"
      ]
     },
     "execution_count": 118,
     "metadata": {},
     "output_type": "execute_result"
    }
   ],
   "source": [
    "X_validate.shape"
   ]
  },
  {
   "cell_type": "code",
   "execution_count": 119,
   "metadata": {},
   "outputs": [
    {
     "data": {
      "text/plain": [
       "(980, 36553)"
      ]
     },
     "execution_count": 119,
     "metadata": {},
     "output_type": "execute_result"
    }
   ],
   "source": [
    "X_train.shape"
   ]
  },
  {
   "cell_type": "code",
   "execution_count": null,
   "metadata": {},
   "outputs": [],
   "source": []
  },
  {
   "cell_type": "code",
   "execution_count": 120,
   "metadata": {},
   "outputs": [
    {
     "name": "stdout",
     "output_type": "stream",
     "text": [
      "Accuracy: 86.43%\n",
      "---\n",
      "actual          0    1\n",
      "predicted_lm          \n",
      "0             847  133\n",
      "---\n",
      "              precision    recall  f1-score   support\n",
      "\n",
      "           0       0.86      1.00      0.93       847\n",
      "           1       0.00      0.00      0.00       133\n",
      "\n",
      "    accuracy                           0.86       980\n",
      "   macro avg       0.43      0.50      0.46       980\n",
      "weighted avg       0.75      0.86      0.80       980\n",
      "\n"
     ]
    }
   ],
   "source": [
    "print('Accuracy: {:.2%}'.format(accuracy_score(train.actual, train.predicted_lm)))\n",
    "print('---')\n",
    "\n",
    "print(pd.crosstab(train.predicted_lm, train.actual))\n",
    "print('---')\n",
    "print(classification_report(train.actual, train.predicted_lm))"
   ]
  },
  {
   "cell_type": "code",
   "execution_count": 121,
   "metadata": {},
   "outputs": [
    {
     "name": "stdout",
     "output_type": "stream",
     "text": [
      "Accuracy: 86.54%\n",
      "---\n",
      "actual          0   1\n",
      "predicted_lm         \n",
      "0             283  44\n",
      "---\n",
      "              precision    recall  f1-score   support\n",
      "\n",
      "           0       0.87      1.00      0.93       283\n",
      "           1       0.00      0.00      0.00        44\n",
      "\n",
      "    accuracy                           0.87       327\n",
      "   macro avg       0.43      0.50      0.46       327\n",
      "weighted avg       0.75      0.87      0.80       327\n",
      "\n"
     ]
    }
   ],
   "source": [
    "print('Accuracy: {:.2%}'.format(accuracy_score(validate.actual, validate.predicted_lm)))\n",
    "print('---')\n",
    "\n",
    "print(pd.crosstab(validate.predicted_lm, validate.actual))\n",
    "print('---')\n",
    "print(classification_report(validate.actual, validate.predicted_lm))"
   ]
  },
  {
   "cell_type": "code",
   "execution_count": 122,
   "metadata": {},
   "outputs": [
    {
     "data": {
      "text/plain": [
       "MultinomialNB()"
      ]
     },
     "execution_count": 122,
     "metadata": {},
     "output_type": "execute_result"
    }
   ],
   "source": [
    "from sklearn.naive_bayes import MultinomialNB\n",
    "MNBclf = MultinomialNB()\n",
    "MNBclf.fit(X_train, y_train)"
   ]
  },
  {
   "cell_type": "code",
   "execution_count": 123,
   "metadata": {},
   "outputs": [],
   "source": [
    "train = pd.DataFrame(dict(actual=y_train))\n",
    "validate = pd.DataFrame(dict(actual=y_validate))\n",
    "\n",
    "MNBclf = MultinomialNB()\n",
    "MNBclf.fit(X_train, y_train)\n",
    "\n",
    "train['predicted_MNBclf'] = MNBclf.predict(X_train)\n",
    "validate['predicted_MNBclf'] = MNBclf.predict(X_validate)"
   ]
  },
  {
   "cell_type": "code",
   "execution_count": 124,
   "metadata": {},
   "outputs": [
    {
     "name": "stdout",
     "output_type": "stream",
     "text": [
      "Accuracy: 86.43%\n",
      "---\n",
      "actual              0    1\n",
      "predicted_MNBclf          \n",
      "0                 847  133\n",
      "---\n",
      "              precision    recall  f1-score   support\n",
      "\n",
      "           0       0.86      1.00      0.93       847\n",
      "           1       0.00      0.00      0.00       133\n",
      "\n",
      "    accuracy                           0.86       980\n",
      "   macro avg       0.43      0.50      0.46       980\n",
      "weighted avg       0.75      0.86      0.80       980\n",
      "\n"
     ]
    }
   ],
   "source": [
    "print('Accuracy: {:.2%}'.format(accuracy_score(train.actual, train.predicted_MNBclf)))\n",
    "print('---')\n",
    "\n",
    "print(pd.crosstab(train.predicted_MNBclf, train.actual))\n",
    "print('---')\n",
    "print(classification_report(train.actual, train.predicted_MNBclf))"
   ]
  },
  {
   "cell_type": "code",
   "execution_count": 125,
   "metadata": {},
   "outputs": [
    {
     "name": "stdout",
     "output_type": "stream",
     "text": [
      "Accuracy: 86.54%\n",
      "---\n",
      "actual              0   1\n",
      "predicted_MNBclf         \n",
      "0                 283  44\n",
      "---\n",
      "              precision    recall  f1-score   support\n",
      "\n",
      "           0       0.87      1.00      0.93       283\n",
      "           1       0.00      0.00      0.00        44\n",
      "\n",
      "    accuracy                           0.87       327\n",
      "   macro avg       0.43      0.50      0.46       327\n",
      "weighted avg       0.75      0.87      0.80       327\n",
      "\n"
     ]
    }
   ],
   "source": [
    "print('Accuracy: {:.2%}'.format(accuracy_score(validate.actual, validate.predicted_MNBclf)))\n",
    "print('---')\n",
    "\n",
    "print(pd.crosstab(validate.predicted_MNBclf, validate.actual))\n",
    "print('---')\n",
    "print(classification_report(validate.actual, validate.predicted_MNBclf))"
   ]
  },
  {
   "cell_type": "code",
   "execution_count": 126,
   "metadata": {},
   "outputs": [
    {
     "data": {
      "text/html": [
       "<div>\n",
       "<style scoped>\n",
       "    .dataframe tbody tr th:only-of-type {\n",
       "        vertical-align: middle;\n",
       "    }\n",
       "\n",
       "    .dataframe tbody tr th {\n",
       "        vertical-align: top;\n",
       "    }\n",
       "\n",
       "    .dataframe thead th {\n",
       "        text-align: right;\n",
       "    }\n",
       "</style>\n",
       "<table border=\"1\" class=\"dataframe\">\n",
       "  <thead>\n",
       "    <tr style=\"text-align: right;\">\n",
       "      <th></th>\n",
       "      <th>00</th>\n",
       "      <th>000</th>\n",
       "      <th>0000</th>\n",
       "      <th>000000</th>\n",
       "      <th>000013</th>\n",
       "      <th>000014</th>\n",
       "      <th>000015</th>\n",
       "      <th>000034</th>\n",
       "      <th>000035</th>\n",
       "      <th>000055</th>\n",
       "      <th>...</th>\n",
       "      <th>zwiebel</th>\n",
       "      <th>zwiebel12</th>\n",
       "      <th>zwiebelsalz</th>\n",
       "      <th>zwischen</th>\n",
       "      <th>zwischendurch</th>\n",
       "      <th>zwischenmenschliche</th>\n",
       "      <th>zwischenzeit</th>\n",
       "      <th>zyada</th>\n",
       "      <th>zyzx</th>\n",
       "      <th>zzzzziiiizzzzzme</th>\n",
       "    </tr>\n",
       "  </thead>\n",
       "  <tbody>\n",
       "    <tr>\n",
       "      <th>0</th>\n",
       "      <td>0</td>\n",
       "      <td>0</td>\n",
       "      <td>0</td>\n",
       "      <td>0</td>\n",
       "      <td>0</td>\n",
       "      <td>0</td>\n",
       "      <td>0</td>\n",
       "      <td>0</td>\n",
       "      <td>0</td>\n",
       "      <td>0</td>\n",
       "      <td>...</td>\n",
       "      <td>0</td>\n",
       "      <td>0</td>\n",
       "      <td>0</td>\n",
       "      <td>0</td>\n",
       "      <td>0</td>\n",
       "      <td>0</td>\n",
       "      <td>0</td>\n",
       "      <td>0</td>\n",
       "      <td>0</td>\n",
       "      <td>0</td>\n",
       "    </tr>\n",
       "    <tr>\n",
       "      <th>1</th>\n",
       "      <td>0</td>\n",
       "      <td>0</td>\n",
       "      <td>0</td>\n",
       "      <td>0</td>\n",
       "      <td>0</td>\n",
       "      <td>0</td>\n",
       "      <td>0</td>\n",
       "      <td>0</td>\n",
       "      <td>0</td>\n",
       "      <td>0</td>\n",
       "      <td>...</td>\n",
       "      <td>0</td>\n",
       "      <td>0</td>\n",
       "      <td>0</td>\n",
       "      <td>0</td>\n",
       "      <td>0</td>\n",
       "      <td>0</td>\n",
       "      <td>0</td>\n",
       "      <td>0</td>\n",
       "      <td>0</td>\n",
       "      <td>0</td>\n",
       "    </tr>\n",
       "    <tr>\n",
       "      <th>2</th>\n",
       "      <td>0</td>\n",
       "      <td>0</td>\n",
       "      <td>0</td>\n",
       "      <td>0</td>\n",
       "      <td>0</td>\n",
       "      <td>0</td>\n",
       "      <td>0</td>\n",
       "      <td>0</td>\n",
       "      <td>0</td>\n",
       "      <td>0</td>\n",
       "      <td>...</td>\n",
       "      <td>0</td>\n",
       "      <td>0</td>\n",
       "      <td>0</td>\n",
       "      <td>0</td>\n",
       "      <td>0</td>\n",
       "      <td>0</td>\n",
       "      <td>0</td>\n",
       "      <td>0</td>\n",
       "      <td>0</td>\n",
       "      <td>0</td>\n",
       "    </tr>\n",
       "    <tr>\n",
       "      <th>3</th>\n",
       "      <td>0</td>\n",
       "      <td>0</td>\n",
       "      <td>0</td>\n",
       "      <td>0</td>\n",
       "      <td>0</td>\n",
       "      <td>0</td>\n",
       "      <td>0</td>\n",
       "      <td>0</td>\n",
       "      <td>0</td>\n",
       "      <td>0</td>\n",
       "      <td>...</td>\n",
       "      <td>0</td>\n",
       "      <td>0</td>\n",
       "      <td>0</td>\n",
       "      <td>0</td>\n",
       "      <td>0</td>\n",
       "      <td>0</td>\n",
       "      <td>0</td>\n",
       "      <td>0</td>\n",
       "      <td>0</td>\n",
       "      <td>0</td>\n",
       "    </tr>\n",
       "    <tr>\n",
       "      <th>4</th>\n",
       "      <td>0</td>\n",
       "      <td>0</td>\n",
       "      <td>0</td>\n",
       "      <td>0</td>\n",
       "      <td>0</td>\n",
       "      <td>0</td>\n",
       "      <td>0</td>\n",
       "      <td>0</td>\n",
       "      <td>0</td>\n",
       "      <td>0</td>\n",
       "      <td>...</td>\n",
       "      <td>0</td>\n",
       "      <td>0</td>\n",
       "      <td>0</td>\n",
       "      <td>0</td>\n",
       "      <td>0</td>\n",
       "      <td>0</td>\n",
       "      <td>0</td>\n",
       "      <td>0</td>\n",
       "      <td>0</td>\n",
       "      <td>0</td>\n",
       "    </tr>\n",
       "  </tbody>\n",
       "</table>\n",
       "<p>5 rows × 36553 columns</p>\n",
       "</div>"
      ],
      "text/plain": [
       "   00  000  0000  000000  000013  000014  000015  000034  000035  000055  ...  \\\n",
       "0   0    0     0       0       0       0       0       0       0       0  ...   \n",
       "1   0    0     0       0       0       0       0       0       0       0  ...   \n",
       "2   0    0     0       0       0       0       0       0       0       0  ...   \n",
       "3   0    0     0       0       0       0       0       0       0       0  ...   \n",
       "4   0    0     0       0       0       0       0       0       0       0  ...   \n",
       "\n",
       "   zwiebel  zwiebel12  zwiebelsalz  zwischen  zwischendurch  \\\n",
       "0        0          0            0         0              0   \n",
       "1        0          0            0         0              0   \n",
       "2        0          0            0         0              0   \n",
       "3        0          0            0         0              0   \n",
       "4        0          0            0         0              0   \n",
       "\n",
       "   zwischenmenschliche  zwischenzeit  zyada  zyzx  zzzzziiiizzzzzme  \n",
       "0                    0             0      0     0                 0  \n",
       "1                    0             0      0     0                 0  \n",
       "2                    0             0      0     0                 0  \n",
       "3                    0             0      0     0                 0  \n",
       "4                    0             0      0     0                 0  \n",
       "\n",
       "[5 rows x 36553 columns]"
      ]
     },
     "execution_count": 126,
     "metadata": {},
     "output_type": "execute_result"
    }
   ],
   "source": [
    "from sklearn.feature_extraction.text import CountVectorizer\n",
    "vectorizer = CountVectorizer()\n",
    "X = vectorizer.fit_transform(df.lemmatized)\n",
    "df_bow_sklearn = pd.DataFrame(X.toarray(),columns=vectorizer.get_feature_names())\n",
    "df_bow_sklearn.head()"
   ]
  },
  {
   "cell_type": "code",
   "execution_count": 127,
   "metadata": {},
   "outputs": [],
   "source": [
    "X_train_val, X_test, y_train_val, y_test = train_test_split(X, y, stratify=y, test_size=.2, random_state=123)\n",
    "\n",
    "X_train, X_validate, y_train, y_validate = train_test_split(X_train_val, y_train_val, stratify=y_train_val, test_size=.25, random_state=123)\n",
    "\n",
    "train = pd.DataFrame(dict(actual=y_train))\n",
    "validate = pd.DataFrame(dict(actual=y_validate))\n",
    "\n",
    "lm = LogisticRegression().fit(X_train, y_train)\n",
    "\n",
    "train['predicted_lm'] = lm.predict(X_train)\n",
    "validate['predicted_lm'] = lm.predict(X_validate)"
   ]
  },
  {
   "cell_type": "code",
   "execution_count": 128,
   "metadata": {},
   "outputs": [
    {
     "name": "stdout",
     "output_type": "stream",
     "text": [
      "Accuracy: 97.96%\n",
      "---\n",
      "actual          0    1\n",
      "predicted_lm          \n",
      "0             847   20\n",
      "1               0  113\n",
      "---\n",
      "              precision    recall  f1-score   support\n",
      "\n",
      "           0       0.98      1.00      0.99       847\n",
      "           1       1.00      0.85      0.92       133\n",
      "\n",
      "    accuracy                           0.98       980\n",
      "   macro avg       0.99      0.92      0.95       980\n",
      "weighted avg       0.98      0.98      0.98       980\n",
      "\n"
     ]
    }
   ],
   "source": [
    "print('Accuracy: {:.2%}'.format(accuracy_score(train.actual, train.predicted_lm)))\n",
    "print('---')\n",
    "\n",
    "print(pd.crosstab(train.predicted_lm, train.actual))\n",
    "print('---')\n",
    "print(classification_report(train.actual, train.predicted_lm))"
   ]
  },
  {
   "cell_type": "code",
   "execution_count": 129,
   "metadata": {},
   "outputs": [
    {
     "name": "stdout",
     "output_type": "stream",
     "text": [
      "Accuracy: 84.10%\n",
      "---\n",
      "actual          0   1\n",
      "predicted_lm         \n",
      "0             272  41\n",
      "1              11   3\n",
      "---\n",
      "              precision    recall  f1-score   support\n",
      "\n",
      "           0       0.87      0.96      0.91       283\n",
      "           1       0.21      0.07      0.10        44\n",
      "\n",
      "    accuracy                           0.84       327\n",
      "   macro avg       0.54      0.51      0.51       327\n",
      "weighted avg       0.78      0.84      0.80       327\n",
      "\n"
     ]
    }
   ],
   "source": [
    "print('Accuracy: {:.2%}'.format(accuracy_score(validate.actual, validate.predicted_lm)))\n",
    "print('---')\n",
    "\n",
    "print(pd.crosstab(validate.predicted_lm, validate.actual))\n",
    "print('---')\n",
    "print(classification_report(validate.actual, validate.predicted_lm))"
   ]
  },
  {
   "cell_type": "code",
   "execution_count": 130,
   "metadata": {},
   "outputs": [
    {
     "data": {
      "text/html": [
       "<div>\n",
       "<style scoped>\n",
       "    .dataframe tbody tr th:only-of-type {\n",
       "        vertical-align: middle;\n",
       "    }\n",
       "\n",
       "    .dataframe tbody tr th {\n",
       "        vertical-align: top;\n",
       "    }\n",
       "\n",
       "    .dataframe thead th {\n",
       "        text-align: right;\n",
       "    }\n",
       "</style>\n",
       "<table border=\"1\" class=\"dataframe\">\n",
       "  <thead>\n",
       "    <tr style=\"text-align: right;\">\n",
       "      <th></th>\n",
       "      <th>00</th>\n",
       "      <th>00 1028321</th>\n",
       "      <th>00 16</th>\n",
       "      <th>00 wenige</th>\n",
       "      <th>000</th>\n",
       "      <th>000 0135</th>\n",
       "      <th>000 042</th>\n",
       "      <th>000 053</th>\n",
       "      <th>000 108</th>\n",
       "      <th>000 125</th>\n",
       "      <th>...</th>\n",
       "      <th>zwischenmenschliche</th>\n",
       "      <th>zwischenmenschliche konflikte</th>\n",
       "      <th>zwischenzeit</th>\n",
       "      <th>zwischenzeit fur</th>\n",
       "      <th>zyada</th>\n",
       "      <th>zyada der</th>\n",
       "      <th>zyzx</th>\n",
       "      <th>zyzx httpswwwtwitchtvzyzxbluto2u2</th>\n",
       "      <th>zzzzziiiizzzzzme</th>\n",
       "      <th>zzzzziiiizzzzzme suivre</th>\n",
       "    </tr>\n",
       "  </thead>\n",
       "  <tbody>\n",
       "    <tr>\n",
       "      <th>0</th>\n",
       "      <td>0</td>\n",
       "      <td>0</td>\n",
       "      <td>0</td>\n",
       "      <td>0</td>\n",
       "      <td>0</td>\n",
       "      <td>0</td>\n",
       "      <td>0</td>\n",
       "      <td>0</td>\n",
       "      <td>0</td>\n",
       "      <td>0</td>\n",
       "      <td>...</td>\n",
       "      <td>0</td>\n",
       "      <td>0</td>\n",
       "      <td>0</td>\n",
       "      <td>0</td>\n",
       "      <td>0</td>\n",
       "      <td>0</td>\n",
       "      <td>0</td>\n",
       "      <td>0</td>\n",
       "      <td>0</td>\n",
       "      <td>0</td>\n",
       "    </tr>\n",
       "    <tr>\n",
       "      <th>1</th>\n",
       "      <td>0</td>\n",
       "      <td>0</td>\n",
       "      <td>0</td>\n",
       "      <td>0</td>\n",
       "      <td>0</td>\n",
       "      <td>0</td>\n",
       "      <td>0</td>\n",
       "      <td>0</td>\n",
       "      <td>0</td>\n",
       "      <td>0</td>\n",
       "      <td>...</td>\n",
       "      <td>0</td>\n",
       "      <td>0</td>\n",
       "      <td>0</td>\n",
       "      <td>0</td>\n",
       "      <td>0</td>\n",
       "      <td>0</td>\n",
       "      <td>0</td>\n",
       "      <td>0</td>\n",
       "      <td>0</td>\n",
       "      <td>0</td>\n",
       "    </tr>\n",
       "    <tr>\n",
       "      <th>2</th>\n",
       "      <td>0</td>\n",
       "      <td>0</td>\n",
       "      <td>0</td>\n",
       "      <td>0</td>\n",
       "      <td>0</td>\n",
       "      <td>0</td>\n",
       "      <td>0</td>\n",
       "      <td>0</td>\n",
       "      <td>0</td>\n",
       "      <td>0</td>\n",
       "      <td>...</td>\n",
       "      <td>0</td>\n",
       "      <td>0</td>\n",
       "      <td>0</td>\n",
       "      <td>0</td>\n",
       "      <td>0</td>\n",
       "      <td>0</td>\n",
       "      <td>0</td>\n",
       "      <td>0</td>\n",
       "      <td>0</td>\n",
       "      <td>0</td>\n",
       "    </tr>\n",
       "    <tr>\n",
       "      <th>3</th>\n",
       "      <td>0</td>\n",
       "      <td>0</td>\n",
       "      <td>0</td>\n",
       "      <td>0</td>\n",
       "      <td>0</td>\n",
       "      <td>0</td>\n",
       "      <td>0</td>\n",
       "      <td>0</td>\n",
       "      <td>0</td>\n",
       "      <td>0</td>\n",
       "      <td>...</td>\n",
       "      <td>0</td>\n",
       "      <td>0</td>\n",
       "      <td>0</td>\n",
       "      <td>0</td>\n",
       "      <td>0</td>\n",
       "      <td>0</td>\n",
       "      <td>0</td>\n",
       "      <td>0</td>\n",
       "      <td>0</td>\n",
       "      <td>0</td>\n",
       "    </tr>\n",
       "    <tr>\n",
       "      <th>4</th>\n",
       "      <td>0</td>\n",
       "      <td>0</td>\n",
       "      <td>0</td>\n",
       "      <td>0</td>\n",
       "      <td>0</td>\n",
       "      <td>0</td>\n",
       "      <td>0</td>\n",
       "      <td>0</td>\n",
       "      <td>0</td>\n",
       "      <td>0</td>\n",
       "      <td>...</td>\n",
       "      <td>0</td>\n",
       "      <td>0</td>\n",
       "      <td>0</td>\n",
       "      <td>0</td>\n",
       "      <td>0</td>\n",
       "      <td>0</td>\n",
       "      <td>0</td>\n",
       "      <td>0</td>\n",
       "      <td>0</td>\n",
       "      <td>0</td>\n",
       "    </tr>\n",
       "  </tbody>\n",
       "</table>\n",
       "<p>5 rows × 111059 columns</p>\n",
       "</div>"
      ],
      "text/plain": [
       "   00  00 1028321  00 16  00 wenige  000  000 0135  000 042  000 053  000 108  \\\n",
       "0   0           0      0          0    0         0        0        0        0   \n",
       "1   0           0      0          0    0         0        0        0        0   \n",
       "2   0           0      0          0    0         0        0        0        0   \n",
       "3   0           0      0          0    0         0        0        0        0   \n",
       "4   0           0      0          0    0         0        0        0        0   \n",
       "\n",
       "   000 125  ...  zwischenmenschliche  zwischenmenschliche konflikte  \\\n",
       "0        0  ...                    0                              0   \n",
       "1        0  ...                    0                              0   \n",
       "2        0  ...                    0                              0   \n",
       "3        0  ...                    0                              0   \n",
       "4        0  ...                    0                              0   \n",
       "\n",
       "   zwischenzeit  zwischenzeit fur  zyada  zyada der  zyzx  \\\n",
       "0             0                 0      0          0     0   \n",
       "1             0                 0      0          0     0   \n",
       "2             0                 0      0          0     0   \n",
       "3             0                 0      0          0     0   \n",
       "4             0                 0      0          0     0   \n",
       "\n",
       "   zyzx httpswwwtwitchtvzyzxbluto2u2  zzzzziiiizzzzzme  \\\n",
       "0                                  0                 0   \n",
       "1                                  0                 0   \n",
       "2                                  0                 0   \n",
       "3                                  0                 0   \n",
       "4                                  0                 0   \n",
       "\n",
       "   zzzzziiiizzzzzme suivre  \n",
       "0                        0  \n",
       "1                        0  \n",
       "2                        0  \n",
       "3                        0  \n",
       "4                        0  \n",
       "\n",
       "[5 rows x 111059 columns]"
      ]
     },
     "execution_count": 130,
     "metadata": {},
     "output_type": "execute_result"
    }
   ],
   "source": [
    "vectorizer = CountVectorizer(ngram_range=(1, 2))\n",
    "X = vectorizer.fit_transform(df.lemmatized)\n",
    "df_bow_sklearn = pd.DataFrame(X.toarray(),columns=vectorizer.get_feature_names())\n",
    "df_bow_sklearn.head()"
   ]
  },
  {
   "cell_type": "code",
   "execution_count": 131,
   "metadata": {},
   "outputs": [],
   "source": [
    "X_train_val, X_test, y_train_val, y_test = train_test_split(X, y, stratify=y, test_size=.2, random_state=123)\n",
    "\n",
    "X_train, X_validate, y_train, y_validate = train_test_split(X_train_val, y_train_val, stratify=y_train_val, test_size=.25, random_state=123)\n",
    "\n",
    "train = pd.DataFrame(dict(actual=y_train))\n",
    "validate = pd.DataFrame(dict(actual=y_validate))\n",
    "\n",
    "lm = LogisticRegression().fit(X_train, y_train)\n",
    "\n",
    "train['predicted_lm'] = lm.predict(X_train)\n",
    "validate['predicted_lm'] = lm.predict(X_validate)"
   ]
  },
  {
   "cell_type": "code",
   "execution_count": 132,
   "metadata": {},
   "outputs": [
    {
     "name": "stdout",
     "output_type": "stream",
     "text": [
      "Accuracy: 98.37%\n",
      "---\n",
      "actual          0    1\n",
      "predicted_lm          \n",
      "0             847   16\n",
      "1               0  117\n",
      "---\n",
      "              precision    recall  f1-score   support\n",
      "\n",
      "           0       0.98      1.00      0.99       847\n",
      "           1       1.00      0.88      0.94       133\n",
      "\n",
      "    accuracy                           0.98       980\n",
      "   macro avg       0.99      0.94      0.96       980\n",
      "weighted avg       0.98      0.98      0.98       980\n",
      "\n"
     ]
    }
   ],
   "source": [
    "print('Accuracy: {:.2%}'.format(accuracy_score(train.actual, train.predicted_lm)))\n",
    "print('---')\n",
    "\n",
    "print(pd.crosstab(train.predicted_lm, train.actual))\n",
    "print('---')\n",
    "print(classification_report(train.actual, train.predicted_lm))"
   ]
  },
  {
   "cell_type": "code",
   "execution_count": 135,
   "metadata": {},
   "outputs": [
    {
     "name": "stdout",
     "output_type": "stream",
     "text": [
      "Accuracy: 84.71%\n",
      "---\n",
      "actual          0   1\n",
      "predicted_lm         \n",
      "0             274  41\n",
      "1               9   3\n",
      "---\n",
      "              precision    recall  f1-score   support\n",
      "\n",
      "           0       0.87      0.97      0.92       283\n",
      "           1       0.25      0.07      0.11        44\n",
      "\n",
      "    accuracy                           0.85       327\n",
      "   macro avg       0.56      0.52      0.51       327\n",
      "weighted avg       0.79      0.85      0.81       327\n",
      "\n"
     ]
    }
   ],
   "source": [
    "print('Accuracy: {:.2%}'.format(accuracy_score(validate.actual, validate.predicted_lm)))\n",
    "print('---')\n",
    "\n",
    "print(pd.crosstab(validate.predicted_lm, validate.actual))\n",
    "print('---')\n",
    "print(classification_report(validate.actual, validate.predicted_lm))"
   ]
  },
  {
   "cell_type": "code",
   "execution_count": null,
   "metadata": {},
   "outputs": [],
   "source": []
  },
  {
   "cell_type": "code",
   "execution_count": null,
   "metadata": {},
   "outputs": [],
   "source": []
  },
  {
   "cell_type": "markdown",
   "metadata": {},
   "source": [
    "## Sketchy work"
   ]
  },
  {
   "cell_type": "code",
   "execution_count": 91,
   "metadata": {},
   "outputs": [],
   "source": [
    "#model imports\n",
    "\n",
    "from math import sqrt\n",
    "from scipy import stats\n",
    "from scipy.stats import pearsonr, spearmanr\n",
    "from statsmodels.formula.api import ols\n",
    "from sklearn.metrics import mean_squared_error, explained_variance_score\n",
    "from sklearn.linear_model import LinearRegression\n",
    "from sklearn.feature_selection import RFE, SelectKBest, f_regression\n",
    "from sklearn.preprocessing import StandardScaler\n",
    "from sklearn.model_selection import train_test_split\n",
    "from sklearn.neighbors import KNeighborsClassifier\n",
    "from sklearn.preprocessing import MinMaxScaler, StandardScaler, RobustScaler, QuantileTransformer\n",
    "\n",
    "# from linear_model: LinearRegression (OLS), LassoLars, TweedieRegressor (Generalized Linear Model)\n",
    "from sklearn.linear_model import LinearRegression, LassoLars, TweedieRegressor\n"
   ]
  },
  {
   "cell_type": "code",
   "execution_count": 92,
   "metadata": {},
   "outputs": [],
   "source": [
    "# this function is splitting data to train, validate, and test to avoid data leakage\n",
    "def split_data(df):\n",
    "    '''\n",
    "    This function performs split on zillow data, stratify assesed value.\n",
    "    Returns train, validate, and test dfs.\n",
    "    '''\n",
    "    train_validate, test = train_test_split(df, test_size=.2, random_state=123) \n",
    "                                            \n",
    "    train, validate = train_test_split(train_validate, test_size=.3, random_state=123) \n",
    "                                    \n",
    "    return train, validate, test"
   ]
  },
  {
   "cell_type": "code",
   "execution_count": 93,
   "metadata": {},
   "outputs": [
    {
     "data": {
      "text/plain": [
       "((97, 25), (229, 25), (1308, 25))"
      ]
     },
     "execution_count": 93,
     "metadata": {},
     "output_type": "execute_result"
    }
   ],
   "source": [
    "#Split data\n",
    "train_validate, test = train_test_split(df, train_size = 0.2, random_state=123)\n",
    "train, validate = train_test_split(train_validate, train_size = 0.3, random_state=123)\n",
    "train.shape, validate.shape, test.shape"
   ]
  },
  {
   "cell_type": "markdown",
   "metadata": {},
   "source": [
    "# Modeling & Evaluate\n",
    "## Scaling"
   ]
  },
  {
   "cell_type": "code",
   "execution_count": 94,
   "metadata": {},
   "outputs": [],
   "source": [
    "import sklearn.preprocessing"
   ]
  },
  {
   "cell_type": "code",
   "execution_count": 95,
   "metadata": {},
   "outputs": [],
   "source": [
    "#Write function to scale data for zillow data\n",
    "def scale_data(train, validate, test, features_to_scale):\n",
    "    \"\"\"Scales the 3 data splits using MinMax Scaler. \n",
    "    Takes in train, validate, and test data splits as well as a list of the features to scale. \n",
    "    Returns dataframe with scaled counterparts on as columns\"\"\"\n",
    "    \n",
    "    \n",
    "    # Make the thing to train data only\n",
    "    scaler = sklearn.preprocessing.MinMaxScaler()\n",
    "    scaler.fit(train[features_to_scale])\n",
    "    \n",
    "    # Fit the thing with new column names with _scaled added on\n",
    "    scaled_columns = [col+\"_scaled\" for col in features_to_scale]\n",
    "    \n",
    "    # Transform the separate datasets using the scaler learned from train\n",
    "    scaled_train = scaler.transform(train[features_to_scale])\n",
    "    scaled_validate = scaler.transform(validate[features_to_scale])\n",
    "    scaled_test = scaler.transform(test[features_to_scale])\n",
    "    \n",
    "    # Apply the scaled data to the original unscaled data\n",
    "    train_scaled = pd.concat([train, pd.DataFrame(scaled_train,index=train.index, columns = scaled_columns)],axis=1)\n",
    "    validate_scaled = pd.concat([validate, pd.DataFrame(scaled_validate,index=validate.index, columns = scaled_columns)],axis=1)\n",
    "    test_scaled = pd.concat([test, pd.DataFrame(scaled_test,index=test.index, columns = scaled_columns)],axis=1)\n",
    "\n",
    "    return train_scaled, validate_scaled, test_scaled"
   ]
  },
  {
   "cell_type": "code",
   "execution_count": 96,
   "metadata": {},
   "outputs": [
    {
     "data": {
      "text/plain": [
       "Index(['video_id', 'title', 'publishedAt', 'channelTitle', 'categoryId',\n",
       "       'trending_date', 'tags', 'view_count', 'likes', 'comment_count',\n",
       "       'thumbnail_link', 'comments_disabled', 'ratings_disabled',\n",
       "       'description', 'duration', 'captions', 'rank', 'age', 'engagement',\n",
       "       'num_of_tags', 'top_25', 'polarity', 'clean', 'stemmed', 'lemmatized'],\n",
       "      dtype='object')"
      ]
     },
     "execution_count": 96,
     "metadata": {},
     "output_type": "execute_result"
    }
   ],
   "source": [
    "df.columns"
   ]
  },
  {
   "cell_type": "code",
   "execution_count": 97,
   "metadata": {},
   "outputs": [],
   "source": [
    "#features to scale\n",
    "#features_to_scale = [\"\"]"
   ]
  },
  {
   "cell_type": "code",
   "execution_count": 98,
   "metadata": {},
   "outputs": [],
   "source": [
    "#scalled features to train, validate & test\n",
    "#train_scaled, validate_scaled, test_scaled = scale_data(train, validate, test, features_to_scale)"
   ]
  }
 ],
 "metadata": {
  "kernelspec": {
   "display_name": "Python 3 (ipykernel)",
   "language": "python",
   "name": "python3"
  },
  "language_info": {
   "codemirror_mode": {
    "name": "ipython",
    "version": 3
   },
   "file_extension": ".py",
   "mimetype": "text/x-python",
   "name": "python",
   "nbconvert_exporter": "python",
   "pygments_lexer": "ipython3",
   "version": "3.9.12"
  },
  "vscode": {
   "interpreter": {
    "hash": "38cca0c38332a56087b24af0bc80247f4fced29cb4f7f437d91dc159adec9c4e"
   }
  }
 },
 "nbformat": 4,
 "nbformat_minor": 2
}
