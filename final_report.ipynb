{
 "cells": [
  {
   "cell_type": "markdown",
   "metadata": {},
   "source": [
    "# Introduction"
   ]
  },
  {
   "cell_type": "markdown",
   "metadata": {},
   "source": [
    "* Hello, our names are Cristian, Patrick, Shorter, and Vincent"
   ]
  },
  {
   "cell_type": "markdown",
   "metadata": {},
   "source": [
    "## Project Objective \n",
    "* This project runs through the entire Data Science Pipeline and culminates with classification modelling techniques based upon Natural Langauge Processing outcomes.\n",
    "* Pproject constructs a ML model to predict a github repository coding language based on just the project README file. "
   ]
  },
  {
   "cell_type": "markdown",
   "metadata": {},
   "source": [
    "## Executive Summary\n"
   ]
  },
  {
   "cell_type": "markdown",
   "metadata": {},
   "source": [
    "* \n",
    "* \n"
   ]
  },
  {
   "cell_type": "markdown",
   "metadata": {},
   "source": [
    "# Import Section"
   ]
  },
  {
   "cell_type": "code",
   "execution_count": 1,
   "metadata": {},
   "outputs": [],
   "source": [
    "import pandas as pd\n",
    "import model\n",
    "import wrangle\n",
    "import nltk\n",
    "\n",
    "from importlib import reload\n",
    "reload(model)\n",
    "\n",
    "import warnings\n",
    "warnings.filterwarnings(\"ignore\")"
   ]
  },
  {
   "cell_type": "markdown",
   "metadata": {},
   "source": [
    "# Wrangle (Acquire and Prep)  \n",
    "* By far most difficult and laborious portion of project. \n",
    "* Had to contend with empty, non-English, and often sparse READMEs\n",
    "\n",
    "### Nulls/Missing Values\n",
    "* Simple drop of null values as they most often indicated an empty README\n",
    "---\n",
    "### Feature Engineering \n",
    "* Engineered `word_count` in order to facilitate analysis around column length and unique word density\n",
    "* Engineered `language_bigrams` in order to capture most used word duos\n",
    "---   \n",
    "### Flattening\n",
    "* Had to make decisions in order to remove optionality from language column due to sample size \n",
    "- Went from around 17 languages down to 7 by creating an `other` category for the less popular langauges\n",
    "* Decisons here driven mostly by desire to have enough observations for effective analysis \n",
    "---\n"
   ]
  },
  {
   "cell_type": "markdown",
   "metadata": {},
   "source": [
    "## Exploration Questions \n",
    "* Includes visualizations and statistical tests\n",
    "* Primarily focused on "
   ]
  },
  {
   "cell_type": "code",
   "execution_count": 2,
   "metadata": {},
   "outputs": [],
   "source": [
    "#calling prepare/acquire functions from module to acquire and split data subsets\n"
   ]
  },
  {
   "cell_type": "markdown",
   "metadata": {},
   "source": [
    "### Spotlight - \n",
    "* **Question:** \n",
    "* **Answer:** \n",
    "\n",
    "#### Statistical Hypothesis\n",
    ">* ${H_0}$:  \n",
    ">* ${H_a}$:  \n",
    ">* ${\\alpha}$: .05  \n",
    ">* Result: **Test code below**"
   ]
  },
  {
   "cell_type": "markdown",
   "metadata": {},
   "source": [
    "### Spotlight - \n",
    "* **Question:** \n",
    "* **Answer:** \n",
    "\n",
    "#### Statistical Hypothesis\n",
    ">* ${H_0}$:  \n",
    ">* ${H_a}$:  \n",
    ">* ${\\alpha}$: .05  \n",
    ">* Result: **Test code below**"
   ]
  },
  {
   "cell_type": "markdown",
   "metadata": {},
   "source": [
    "### Spotlight - \n",
    "* **Question:** \n",
    "* **Answer:** \n",
    "\n",
    "#### Statistical Hypothesis\n",
    ">* ${H_0}$:  \n",
    ">* ${H_a}$:  \n",
    ">* ${\\alpha}$: .05  \n",
    ">* Result: **Test code below**"
   ]
  },
  {
   "cell_type": "markdown",
   "metadata": {},
   "source": [
    "### Spotlight - \n",
    "* **Question:** \n",
    "* **Answer:** \n",
    "\n",
    "#### Statistical Hypothesis\n",
    ">* ${H_0}$:  \n",
    ">* ${H_a}$:  \n",
    ">* ${\\alpha}$: .05  \n",
    ">* Result: **Test code below**"
   ]
  },
  {
   "cell_type": "markdown",
   "metadata": {},
   "source": [
    "## Exploration Summary\n",
    "* "
   ]
  },
  {
   "cell_type": "markdown",
   "metadata": {},
   "source": []
  },
  {
   "cell_type": "markdown",
   "metadata": {},
   "source": [
    "# Modeling\n",
    "- \n",
    "-\n",
    "-\n",
    "-\n",
    "-\n",
    "--- \n"
   ]
  },
  {
   "cell_type": "markdown",
   "metadata": {},
   "source": [
    "## Features for Modeling\n",
    "-\n",
    "-\n",
    "-\n",
    "-\n",
    "-\n",
    " "
   ]
  },
  {
   "cell_type": "markdown",
   "metadata": {},
   "source": [
    "## Top Models"
   ]
  },
  {
   "cell_type": "markdown",
   "metadata": {},
   "source": [
    "\n",
    "* Exposed Top 5 models from train section to the Validation subset of data\n",
    "* Models had to perform \n",
    "* \n",
    "* Model performace on Validate subset:\n",
    "\n",
    "Model\t| Accuracy(Score)   |Type                       |Features Used                           |Parameters             |\n",
    "|---    | ---               |---                        |   -----                                |---                    |\n",
    "|RF_6   |\t0.91950         |Random Forest              |word_count, lemmatized, language_bigrams|Depth: 7, Leaves: 3\n",
    "|RF_0   |\t0.91950         |Random Forest              |word_count, lemmatized, language_bigrams|Depth: 5, Leaves: 3\n",
    "|DTC_1  |   0.91950         |Decision Tree Classifier   |word_count, lemmatized, language_bigrams|Depth: 6\n",
    "|DTC_0  |\t0.89066\t        |Decision Tree Classifier\t|word_count, lemmatized, language_bigrams|Depth: 5\n",
    "|KNN_4  |\t0.56322\t        |K-Nearest Neighbors\t    |word_count, lemmatized, language_bigrams|K-Neighbors: 4"
   ]
  },
  {
   "cell_type": "markdown",
   "metadata": {},
   "source": [
    "---\n",
    "## Test\n",
    "* Top Model Performance on Test set:  \n",
    "\n",
    "|    | Model    |   Accuracy(Score) | Type                     | Features Used                                    | Parameters   |\n",
    "|---:|:---------|------------------:|:-------------------------|:-------------------------------------------------|:-------------|\n",
    "|  0 | Baseline |          0.402299 | Basic Baseline           | Baseline Prediction                              | n/a          |\n",
    "|  1 | DTC_0    |          0.7778   | Decision Tree Classifier | ['word_count', 'lemmatized', 'language_bigrams'] | Depth: 5     |\n",
    "\n",
    "---"
   ]
  },
  {
   "cell_type": "markdown",
   "metadata": {},
   "source": [
    "# Conclusion\n",
    "## Summary of Key Findings\n",
    "* \n",
    "* \n",
    "* \n",
    "* \n",
    "---\n",
    "## Suggestions and Next Steps\n",
    "* \n",
    "* \n",
    "* \n",
    "* \n",
    "* \n",
    "\n"
   ]
  }
 ],
 "metadata": {
  "kernelspec": {
   "display_name": "Python 3.9.12 ('base')",
   "language": "python",
   "name": "python3"
  },
  "language_info": {
   "codemirror_mode": {
    "name": "ipython",
    "version": 3
   },
   "file_extension": ".py",
   "mimetype": "text/x-python",
   "name": "python",
   "nbconvert_exporter": "python",
   "pygments_lexer": "ipython3",
   "version": "3.9.12"
  },
  "orig_nbformat": 4,
  "vscode": {
   "interpreter": {
    "hash": "38cca0c38332a56087b24af0bc80247f4fced29cb4f7f437d91dc159adec9c4e"
   }
  }
 },
 "nbformat": 4,
 "nbformat_minor": 2
}
